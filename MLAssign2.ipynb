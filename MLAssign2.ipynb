{
  "nbformat": 4,
  "nbformat_minor": 0,
  "metadata": {
    "colab": {
      "provenance": []
    },
    "kernelspec": {
      "name": "python3",
      "display_name": "Python 3"
    },
    "language_info": {
      "name": "python"
    },
    "accelerator": "GPU",
    "gpuClass": "standard"
  },
  "cells": [
    {
      "cell_type": "code",
      "source": [
        "!wget https://www.csee.umbc.edu/courses/graduate/678/spring23/materials/mnist_rowmajor.jsonl.gz"
      ],
      "metadata": {
        "colab": {
          "base_uri": "https://localhost:8080/"
        },
        "id": "hezFrjS7XAc0",
        "outputId": "fa4c6299-78ee-4309-c168-463566241b0d"
      },
      "execution_count": null,
      "outputs": [
        {
          "output_type": "stream",
          "name": "stdout",
          "text": [
            "--2023-03-10 01:03:37--  https://www.csee.umbc.edu/courses/graduate/678/spring23/materials/mnist_rowmajor.jsonl.gz\n",
            "Resolving www.csee.umbc.edu (www.csee.umbc.edu)... 23.185.0.4, 2620:12a:8001::4, 2620:12a:8000::4\n",
            "Connecting to www.csee.umbc.edu (www.csee.umbc.edu)|23.185.0.4|:443... connected.\n",
            "HTTP request sent, awaiting response... 302 Found\n",
            "Location: https://redirect.cs.umbc.edu/courses/graduate/678/spring23/materials/mnist_rowmajor.jsonl.gz [following]\n",
            "--2023-03-10 01:03:38--  https://redirect.cs.umbc.edu/courses/graduate/678/spring23/materials/mnist_rowmajor.jsonl.gz\n",
            "Resolving redirect.cs.umbc.edu (redirect.cs.umbc.edu)... 130.85.36.80\n",
            "Connecting to redirect.cs.umbc.edu (redirect.cs.umbc.edu)|130.85.36.80|:443... connected.\n",
            "HTTP request sent, awaiting response... 200 OK\n",
            "Length: 27428927 (26M) [application/x-gzip]\n",
            "Saving to: ‘mnist_rowmajor.jsonl.gz’\n",
            "\n",
            "mnist_rowmajor.json 100%[===================>]  26.16M  9.69MB/s    in 2.7s    \n",
            "\n",
            "2023-03-10 01:03:42 (9.69 MB/s) - ‘mnist_rowmajor.jsonl.gz’ saved [27428927/27428927]\n",
            "\n"
          ]
        }
      ]
    },
    {
      "cell_type": "code",
      "execution_count": null,
      "metadata": {
        "id": "YFtT6d2VW7hn"
      },
      "outputs": [],
      "source": [
        "import pandas as pd\n",
        "import json,gzip\n",
        "with gzip.open('mnist_rowmajor.jsonl.gz','rb') as fp:\n",
        "  data=[json.loads(line) for line in fp]"
      ]
    },
    {
      "cell_type": "code",
      "source": [
        "print(len(data))\n",
        "print(data[0])\n",
        "df = pd.DataFrame(data)\n",
        "print(df.shape)\n",
        "print(df['image'][0])"
      ],
      "metadata": {
        "colab": {
          "base_uri": "https://localhost:8080/"
        },
        "id": "ESCNYm7AXLCV",
        "outputId": "69e0ba2e-662d-4a1e-c2dd-aa2ba7205b6c"
      },
      "execution_count": null,
      "outputs": [
        {
          "output_type": "stream",
          "name": "stdout",
          "text": [
            "70000\n",
            "{'image': [0.0, 0.0, 0.0, 0.0, 0.0, 0.0, 0.0, 0.0, 0.0, 0.0, 0.0, 0.0, 0.0, 0.0, 0.0, 0.0, 0.0, 0.0, 0.0, 0.0, 0.0, 0.0, 0.0, 0.0, 0.0, 0.0, 0.0, 0.0, 0.0, 0.0, 0.0, 0.0, 0.0, 0.0, 0.0, 0.0, 0.0, 0.0, 0.0, 0.0, 0.0, 0.0, 0.0, 0.0, 0.0, 0.0, 0.0, 0.0, 0.0, 0.0, 0.0, 0.0, 0.0, 0.0, 0.0, 0.0, 0.0, 0.0, 0.0, 0.0, 0.0, 0.0, 0.0, 0.0, 0.0, 0.0, 0.0, 0.0, 0.0, 0.0, 0.0, 0.0, 0.0, 0.0, 0.0, 0.0, 0.0, 0.0, 0.0, 0.0, 0.0, 0.0, 0.0, 0.0, 0.0, 0.0, 0.0, 0.0, 0.0, 0.0, 0.0, 0.0, 0.0, 0.0, 0.0, 0.0, 0.0, 0.0, 0.0, 0.0, 0.0, 0.0, 0.0, 0.0, 0.0, 0.0, 0.0, 0.0, 0.0, 0.0, 0.0, 0.0, 0.0, 0.0, 0.0, 0.0, 0.0, 0.0, 0.0, 0.0, 0.0, 0.0, 0.0, 0.8117647171020508, 0.8156862854957581, 0.07058823853731155, 0.0, 0.0, 0.0, 0.0, 0.0, 0.0, 0.0, 0.0, 0.0, 0.0, 0.0, 0.0, 0.0, 0.0, 0.0, 0.0, 0.0, 0.0, 0.0, 0.0, 0.0, 0.0, 0.0, 0.0, 0.0, 0.8078431487083435, 0.9921568632125854, 0.5647059082984924, 0.0, 0.0, 0.0, 0.0, 0.0, 0.0, 0.0, 0.0, 0.0, 0.0, 0.0, 0.0, 0.0, 0.0, 0.0, 0.0, 0.0, 0.0, 0.0, 0.0, 0.0, 0.0, 0.0, 0.0, 0.0, 0.8078431487083435, 0.9921568632125854, 0.8313725590705872, 0.027450980618596077, 0.0, 0.0, 0.0, 0.0, 0.0, 0.0, 0.0, 0.0, 0.0, 0.0, 0.0, 0.0, 0.0, 0.0, 0.0, 0.0, 0.0, 0.0, 0.0, 0.0, 0.0, 0.0, 0.0, 0.0, 0.8078431487083435, 0.9921568632125854, 0.9921568632125854, 0.04313725605607033, 0.0, 0.0, 0.0, 0.0, 0.0, 0.0, 0.0, 0.0, 0.0, 0.0, 0.0, 0.0, 0.0, 0.0, 0.0, 0.0, 0.0, 0.0, 0.0, 0.0, 0.0, 0.0, 0.0, 0.0, 0.8078431487083435, 0.9921568632125854, 0.9921568632125854, 0.04313725605607033, 0.0, 0.0, 0.0, 0.0, 0.0, 0.0, 0.0, 0.0, 0.0, 0.0, 0.0, 0.0, 0.0, 0.0, 0.0, 0.0, 0.0, 0.0, 0.0, 0.0, 0.0, 0.0, 0.0, 0.0, 0.8078431487083435, 0.9921568632125854, 0.9921568632125854, 0.40784314274787903, 0.0, 0.0, 0.0, 0.0, 0.0, 0.0, 0.0, 0.0, 0.0, 0.0, 0.0, 0.0, 0.0, 0.0, 0.0, 0.0, 0.0, 0.0, 0.0, 0.0, 0.0, 0.0, 0.0, 0.0, 0.8078431487083435, 0.9921568632125854, 0.9921568632125854, 0.5176470875740051, 0.0, 0.0, 0.0, 0.0, 0.0, 0.0, 0.0, 0.0, 0.0, 0.0, 0.0, 0.0, 0.0, 0.0, 0.0, 0.0, 0.0, 0.0, 0.0, 0.0, 0.0, 0.0, 0.0, 0.0, 0.8078431487083435, 0.9921568632125854, 0.9921568632125854, 0.9254902005195618, 0.0, 0.0, 0.0, 0.0, 0.0, 0.0, 0.0, 0.0, 0.0, 0.0, 0.0, 0.0, 0.0, 0.0, 0.0, 0.0, 0.0, 0.0, 0.0, 0.0, 0.0, 0.0, 0.0, 0.0, 0.4627451002597809, 0.9333333373069763, 0.9921568632125854, 0.9921568632125854, 0.2078431397676468, 0.0, 0.0, 0.0, 0.0, 0.0, 0.0, 0.0, 0.0, 0.0, 0.0, 0.0, 0.0, 0.0, 0.0, 0.0, 0.0, 0.0, 0.0, 0.0, 0.0, 0.0, 0.0, 0.0, 0.0, 0.8549019694328308, 0.9921568632125854, 0.9921568632125854, 0.47843137383461, 0.0, 0.0, 0.0, 0.0, 0.0, 0.0, 0.0, 0.0, 0.0, 0.0, 0.0, 0.0, 0.0, 0.0, 0.0, 0.0, 0.0, 0.0, 0.0, 0.0, 0.0, 0.0, 0.0, 0.0, 0.6078431606292725, 0.9960784316062927, 0.9960784316062927, 0.7254902124404907, 0.0, 0.0, 0.0, 0.0, 0.0, 0.0, 0.0, 0.0, 0.0, 0.0, 0.0, 0.0, 0.0, 0.0, 0.0, 0.0, 0.0, 0.0, 0.0, 0.0, 0.0, 0.0, 0.0, 0.0, 0.3450980484485626, 0.9843137264251709, 0.9921568632125854, 0.9490196108818054, 0.0, 0.0, 0.0, 0.0, 0.0, 0.0, 0.0, 0.0, 0.0, 0.0, 0.0, 0.0, 0.0, 0.0, 0.0, 0.0, 0.0, 0.0, 0.0, 0.0, 0.0, 0.0, 0.0, 0.0, 0.0, 0.9019607901573181, 0.9921568632125854, 0.9490196108818054, 0.0, 0.0, 0.0, 0.0, 0.0, 0.0, 0.0, 0.0, 0.0, 0.0, 0.0, 0.0, 0.0, 0.0, 0.0, 0.0, 0.0, 0.0, 0.0, 0.0, 0.0, 0.0, 0.0, 0.0, 0.0, 0.9019607901573181, 0.9921568632125854, 0.9607843160629272, 0.08235294371843338, 0.0, 0.0, 0.0, 0.0, 0.0, 0.0, 0.0, 0.0, 0.0, 0.0, 0.0, 0.0, 0.0, 0.0, 0.0, 0.0, 0.0, 0.0, 0.0, 0.0, 0.0, 0.0, 0.0, 0.0, 0.9019607901573181, 0.9921568632125854, 0.9960784316062927, 0.5372549295425415, 0.0, 0.0, 0.0, 0.0, 0.0, 0.0, 0.0, 0.0, 0.0, 0.0, 0.0, 0.0, 0.0, 0.0, 0.0, 0.0, 0.0, 0.0, 0.0, 0.0, 0.0, 0.0, 0.0, 0.0, 0.9019607901573181, 0.9921568632125854, 0.9960784316062927, 0.8980392217636108, 0.0, 0.0, 0.0, 0.0, 0.0, 0.0, 0.0, 0.0, 0.0, 0.0, 0.0, 0.0, 0.0, 0.0, 0.0, 0.0, 0.0, 0.0, 0.0, 0.0, 0.0, 0.0, 0.0, 0.0, 0.5137255191802979, 0.9921568632125854, 0.9960784316062927, 0.9764705896377563, 0.5098039507865906, 0.11372549086809158, 0.0, 0.0, 0.0, 0.0, 0.0, 0.0, 0.0, 0.0, 0.0, 0.0, 0.0, 0.0, 0.0, 0.0, 0.0, 0.0, 0.0, 0.0, 0.0, 0.0, 0.0, 0.0, 0.062745101749897, 0.95686274766922, 0.9960784316062927, 0.9921568632125854, 0.9372549057006836, 0.20392157137393951, 0.0, 0.0, 0.0, 0.0, 0.0, 0.0, 0.0, 0.0, 0.0, 0.0, 0.0, 0.0, 0.0, 0.0, 0.0, 0.0, 0.0, 0.0, 0.0, 0.0, 0.0, 0.0, 0.0, 0.7450980544090271, 0.9960784316062927, 0.9921568632125854, 0.8509804010391235, 0.0, 0.0, 0.0, 0.0, 0.0, 0.0, 0.0, 0.0, 0.0, 0.0, 0.0, 0.0, 0.0, 0.0, 0.0, 0.0, 0.0, 0.0, 0.0, 0.0, 0.0, 0.0, 0.0, 0.0, 0.250980406999588, 0.7686274647712708, 0.9490196108818054, 0.21960784494876862, 0.0, 0.0, 0.0, 0.0, 0.0, 0.0, 0.0, 0.0, 0.0, 0.0, 0.0, 0.0, 0.0, 0.0, 0.0, 0.0, 0.0, 0.0, 0.0, 0.0, 0.0, 0.0, 0.0, 0.0, 0.0, 0.0, 0.0, 0.0, 0.0, 0.0, 0.0, 0.0, 0.0, 0.0, 0.0, 0.0, 0.0, 0.0, 0.0, 0.0, 0.0, 0.0, 0.0, 0.0, 0.0, 0.0, 0.0, 0.0, 0.0, 0.0, 0.0, 0.0, 0.0, 0.0, 0.0, 0.0, 0.0, 0.0, 0.0, 0.0, 0.0, 0.0, 0.0, 0.0, 0.0, 0.0, 0.0, 0.0, 0.0, 0.0, 0.0, 0.0, 0.0, 0.0, 0.0, 0.0, 0.0, 0.0, 0.0, 0.0, 0.0, 0.0, 0.0, 0.0, 0.0, 0.0, 0.0, 0.0, 0.0, 0.0, 0.0, 0.0, 0.0, 0.0, 0.0, 0.0, 0.0, 0.0, 0.0, 0.0, 0.0, 0.0, 0.0, 0.0, 0.0, 0.0, 0.0, 0.0, 0.0, 0.0, 0.0, 0.0, 0.0, 0.0, 0.0, 0.0, 0.0, 0.0, 0.0, 0.0, 0.0, 0.0], 'split': 'train', 'label': 1}\n",
            "(70000, 3)\n",
            "[0.0, 0.0, 0.0, 0.0, 0.0, 0.0, 0.0, 0.0, 0.0, 0.0, 0.0, 0.0, 0.0, 0.0, 0.0, 0.0, 0.0, 0.0, 0.0, 0.0, 0.0, 0.0, 0.0, 0.0, 0.0, 0.0, 0.0, 0.0, 0.0, 0.0, 0.0, 0.0, 0.0, 0.0, 0.0, 0.0, 0.0, 0.0, 0.0, 0.0, 0.0, 0.0, 0.0, 0.0, 0.0, 0.0, 0.0, 0.0, 0.0, 0.0, 0.0, 0.0, 0.0, 0.0, 0.0, 0.0, 0.0, 0.0, 0.0, 0.0, 0.0, 0.0, 0.0, 0.0, 0.0, 0.0, 0.0, 0.0, 0.0, 0.0, 0.0, 0.0, 0.0, 0.0, 0.0, 0.0, 0.0, 0.0, 0.0, 0.0, 0.0, 0.0, 0.0, 0.0, 0.0, 0.0, 0.0, 0.0, 0.0, 0.0, 0.0, 0.0, 0.0, 0.0, 0.0, 0.0, 0.0, 0.0, 0.0, 0.0, 0.0, 0.0, 0.0, 0.0, 0.0, 0.0, 0.0, 0.0, 0.0, 0.0, 0.0, 0.0, 0.0, 0.0, 0.0, 0.0, 0.0, 0.0, 0.0, 0.0, 0.0, 0.0, 0.0, 0.8117647171020508, 0.8156862854957581, 0.07058823853731155, 0.0, 0.0, 0.0, 0.0, 0.0, 0.0, 0.0, 0.0, 0.0, 0.0, 0.0, 0.0, 0.0, 0.0, 0.0, 0.0, 0.0, 0.0, 0.0, 0.0, 0.0, 0.0, 0.0, 0.0, 0.0, 0.8078431487083435, 0.9921568632125854, 0.5647059082984924, 0.0, 0.0, 0.0, 0.0, 0.0, 0.0, 0.0, 0.0, 0.0, 0.0, 0.0, 0.0, 0.0, 0.0, 0.0, 0.0, 0.0, 0.0, 0.0, 0.0, 0.0, 0.0, 0.0, 0.0, 0.0, 0.8078431487083435, 0.9921568632125854, 0.8313725590705872, 0.027450980618596077, 0.0, 0.0, 0.0, 0.0, 0.0, 0.0, 0.0, 0.0, 0.0, 0.0, 0.0, 0.0, 0.0, 0.0, 0.0, 0.0, 0.0, 0.0, 0.0, 0.0, 0.0, 0.0, 0.0, 0.0, 0.8078431487083435, 0.9921568632125854, 0.9921568632125854, 0.04313725605607033, 0.0, 0.0, 0.0, 0.0, 0.0, 0.0, 0.0, 0.0, 0.0, 0.0, 0.0, 0.0, 0.0, 0.0, 0.0, 0.0, 0.0, 0.0, 0.0, 0.0, 0.0, 0.0, 0.0, 0.0, 0.8078431487083435, 0.9921568632125854, 0.9921568632125854, 0.04313725605607033, 0.0, 0.0, 0.0, 0.0, 0.0, 0.0, 0.0, 0.0, 0.0, 0.0, 0.0, 0.0, 0.0, 0.0, 0.0, 0.0, 0.0, 0.0, 0.0, 0.0, 0.0, 0.0, 0.0, 0.0, 0.8078431487083435, 0.9921568632125854, 0.9921568632125854, 0.40784314274787903, 0.0, 0.0, 0.0, 0.0, 0.0, 0.0, 0.0, 0.0, 0.0, 0.0, 0.0, 0.0, 0.0, 0.0, 0.0, 0.0, 0.0, 0.0, 0.0, 0.0, 0.0, 0.0, 0.0, 0.0, 0.8078431487083435, 0.9921568632125854, 0.9921568632125854, 0.5176470875740051, 0.0, 0.0, 0.0, 0.0, 0.0, 0.0, 0.0, 0.0, 0.0, 0.0, 0.0, 0.0, 0.0, 0.0, 0.0, 0.0, 0.0, 0.0, 0.0, 0.0, 0.0, 0.0, 0.0, 0.0, 0.8078431487083435, 0.9921568632125854, 0.9921568632125854, 0.9254902005195618, 0.0, 0.0, 0.0, 0.0, 0.0, 0.0, 0.0, 0.0, 0.0, 0.0, 0.0, 0.0, 0.0, 0.0, 0.0, 0.0, 0.0, 0.0, 0.0, 0.0, 0.0, 0.0, 0.0, 0.0, 0.4627451002597809, 0.9333333373069763, 0.9921568632125854, 0.9921568632125854, 0.2078431397676468, 0.0, 0.0, 0.0, 0.0, 0.0, 0.0, 0.0, 0.0, 0.0, 0.0, 0.0, 0.0, 0.0, 0.0, 0.0, 0.0, 0.0, 0.0, 0.0, 0.0, 0.0, 0.0, 0.0, 0.0, 0.8549019694328308, 0.9921568632125854, 0.9921568632125854, 0.47843137383461, 0.0, 0.0, 0.0, 0.0, 0.0, 0.0, 0.0, 0.0, 0.0, 0.0, 0.0, 0.0, 0.0, 0.0, 0.0, 0.0, 0.0, 0.0, 0.0, 0.0, 0.0, 0.0, 0.0, 0.0, 0.6078431606292725, 0.9960784316062927, 0.9960784316062927, 0.7254902124404907, 0.0, 0.0, 0.0, 0.0, 0.0, 0.0, 0.0, 0.0, 0.0, 0.0, 0.0, 0.0, 0.0, 0.0, 0.0, 0.0, 0.0, 0.0, 0.0, 0.0, 0.0, 0.0, 0.0, 0.0, 0.3450980484485626, 0.9843137264251709, 0.9921568632125854, 0.9490196108818054, 0.0, 0.0, 0.0, 0.0, 0.0, 0.0, 0.0, 0.0, 0.0, 0.0, 0.0, 0.0, 0.0, 0.0, 0.0, 0.0, 0.0, 0.0, 0.0, 0.0, 0.0, 0.0, 0.0, 0.0, 0.0, 0.9019607901573181, 0.9921568632125854, 0.9490196108818054, 0.0, 0.0, 0.0, 0.0, 0.0, 0.0, 0.0, 0.0, 0.0, 0.0, 0.0, 0.0, 0.0, 0.0, 0.0, 0.0, 0.0, 0.0, 0.0, 0.0, 0.0, 0.0, 0.0, 0.0, 0.0, 0.9019607901573181, 0.9921568632125854, 0.9607843160629272, 0.08235294371843338, 0.0, 0.0, 0.0, 0.0, 0.0, 0.0, 0.0, 0.0, 0.0, 0.0, 0.0, 0.0, 0.0, 0.0, 0.0, 0.0, 0.0, 0.0, 0.0, 0.0, 0.0, 0.0, 0.0, 0.0, 0.9019607901573181, 0.9921568632125854, 0.9960784316062927, 0.5372549295425415, 0.0, 0.0, 0.0, 0.0, 0.0, 0.0, 0.0, 0.0, 0.0, 0.0, 0.0, 0.0, 0.0, 0.0, 0.0, 0.0, 0.0, 0.0, 0.0, 0.0, 0.0, 0.0, 0.0, 0.0, 0.9019607901573181, 0.9921568632125854, 0.9960784316062927, 0.8980392217636108, 0.0, 0.0, 0.0, 0.0, 0.0, 0.0, 0.0, 0.0, 0.0, 0.0, 0.0, 0.0, 0.0, 0.0, 0.0, 0.0, 0.0, 0.0, 0.0, 0.0, 0.0, 0.0, 0.0, 0.0, 0.5137255191802979, 0.9921568632125854, 0.9960784316062927, 0.9764705896377563, 0.5098039507865906, 0.11372549086809158, 0.0, 0.0, 0.0, 0.0, 0.0, 0.0, 0.0, 0.0, 0.0, 0.0, 0.0, 0.0, 0.0, 0.0, 0.0, 0.0, 0.0, 0.0, 0.0, 0.0, 0.0, 0.0, 0.062745101749897, 0.95686274766922, 0.9960784316062927, 0.9921568632125854, 0.9372549057006836, 0.20392157137393951, 0.0, 0.0, 0.0, 0.0, 0.0, 0.0, 0.0, 0.0, 0.0, 0.0, 0.0, 0.0, 0.0, 0.0, 0.0, 0.0, 0.0, 0.0, 0.0, 0.0, 0.0, 0.0, 0.0, 0.7450980544090271, 0.9960784316062927, 0.9921568632125854, 0.8509804010391235, 0.0, 0.0, 0.0, 0.0, 0.0, 0.0, 0.0, 0.0, 0.0, 0.0, 0.0, 0.0, 0.0, 0.0, 0.0, 0.0, 0.0, 0.0, 0.0, 0.0, 0.0, 0.0, 0.0, 0.0, 0.250980406999588, 0.7686274647712708, 0.9490196108818054, 0.21960784494876862, 0.0, 0.0, 0.0, 0.0, 0.0, 0.0, 0.0, 0.0, 0.0, 0.0, 0.0, 0.0, 0.0, 0.0, 0.0, 0.0, 0.0, 0.0, 0.0, 0.0, 0.0, 0.0, 0.0, 0.0, 0.0, 0.0, 0.0, 0.0, 0.0, 0.0, 0.0, 0.0, 0.0, 0.0, 0.0, 0.0, 0.0, 0.0, 0.0, 0.0, 0.0, 0.0, 0.0, 0.0, 0.0, 0.0, 0.0, 0.0, 0.0, 0.0, 0.0, 0.0, 0.0, 0.0, 0.0, 0.0, 0.0, 0.0, 0.0, 0.0, 0.0, 0.0, 0.0, 0.0, 0.0, 0.0, 0.0, 0.0, 0.0, 0.0, 0.0, 0.0, 0.0, 0.0, 0.0, 0.0, 0.0, 0.0, 0.0, 0.0, 0.0, 0.0, 0.0, 0.0, 0.0, 0.0, 0.0, 0.0, 0.0, 0.0, 0.0, 0.0, 0.0, 0.0, 0.0, 0.0, 0.0, 0.0, 0.0, 0.0, 0.0, 0.0, 0.0, 0.0, 0.0, 0.0, 0.0, 0.0, 0.0, 0.0, 0.0, 0.0, 0.0, 0.0, 0.0, 0.0, 0.0, 0.0, 0.0, 0.0, 0.0, 0.0]\n"
          ]
        }
      ]
    },
    {
      "cell_type": "code",
      "source": [
        "\n",
        "x=df['image'].tolist()\n",
        "y=df['label'].tolist()\n",
        "print(x)\n",
        "print(len(x))\n",
        "print(len(y))\n",
        "#print(x.shape)\n",
        "#print(y.shape)\n",
        "type(x)\n",
        "type(y)"
      ],
      "metadata": {
        "colab": {
          "base_uri": "https://localhost:8080/"
        },
        "id": "Vi7EsofdY765",
        "outputId": "a3f5473b-5259-4722-e5d5-783a1110eaf5"
      },
      "execution_count": null,
      "outputs": [
        {
          "output_type": "stream",
          "name": "stderr",
          "text": [
            "IOPub data rate exceeded.\n",
            "The notebook server will temporarily stop sending output\n",
            "to the client in order to avoid crashing it.\n",
            "To change this limit, set the config variable\n",
            "`--NotebookApp.iopub_data_rate_limit`.\n",
            "\n",
            "Current values:\n",
            "NotebookApp.iopub_data_rate_limit=1000000.0 (bytes/sec)\n",
            "NotebookApp.rate_limit_window=3.0 (secs)\n",
            "\n"
          ]
        },
        {
          "output_type": "execute_result",
          "data": {
            "text/plain": [
              "list"
            ]
          },
          "metadata": {},
          "execution_count": 4
        }
      ]
    },
    {
      "cell_type": "code",
      "source": [
        "import numpy as np\n",
        "x_data=np.array(x)\n",
        "y_data=np.array(y)"
      ],
      "metadata": {
        "id": "fqanrkZNhDnm"
      },
      "execution_count": null,
      "outputs": []
    },
    {
      "cell_type": "code",
      "source": [
        "print(x_data.shape)"
      ],
      "metadata": {
        "colab": {
          "base_uri": "https://localhost:8080/"
        },
        "id": "ML6-UeH1hKW1",
        "outputId": "e3819710-e527-42d2-8ac5-4306effc9470"
      },
      "execution_count": null,
      "outputs": [
        {
          "output_type": "stream",
          "name": "stdout",
          "text": [
            "(70000, 784)\n"
          ]
        }
      ]
    },
    {
      "cell_type": "code",
      "source": [
        "int_train=x_data[:50000]\n",
        "int_dev=x_data[50000:60000]\n",
        "x_test=x_data[60000:]\n",
        "y_test=y_data[60000:]\n",
        "int_train_y=y_data[:50000]\n",
        "int_dev_y=y_data[50000:60000]"
      ],
      "metadata": {
        "id": "goV6RIO8h_if"
      },
      "execution_count": null,
      "outputs": []
    },
    {
      "cell_type": "code",
      "source": [
        "print(int_train.shape)\n",
        "print(int_train_y.shape)\n",
        "\n",
        "print(int_dev.shape)\n",
        "print(int_dev_y.shape)\n",
        "\n",
        "print(y_test.shape)\n",
        "print(y_test[0])\n",
        "\n",
        "print(np.argmax(y_test[0]))"
      ],
      "metadata": {
        "colab": {
          "base_uri": "https://localhost:8080/"
        },
        "id": "LPzrP8nEjYve",
        "outputId": "784b1724-8d39-4942-dbfa-72c0af4b2342"
      },
      "execution_count": null,
      "outputs": [
        {
          "output_type": "stream",
          "name": "stdout",
          "text": [
            "(50000, 784)\n",
            "(50000,)\n",
            "(10000, 784)\n",
            "(10000,)\n",
            "(10000,)\n",
            "8\n",
            "0\n"
          ]
        }
      ]
    },
    {
      "cell_type": "code",
      "source": [
        "from sklearn.dummy import DummyClassifier\n",
        "sgd=DummyClassifier(  strategy='most_frequent',random_state=42)\n",
        "sgd.fit(int_train,int_train_y)\n",
        "sgd.predict(x_test)\n",
        "eval = sgd.score(x_test, y_test)\n",
        "print(eval)"
      ],
      "metadata": {
        "colab": {
          "base_uri": "https://localhost:8080/"
        },
        "id": "AGBfQW1MkO45",
        "outputId": "d8409073-4587-4d48-9564-7d77bee39d73"
      },
      "execution_count": null,
      "outputs": [
        {
          "output_type": "stream",
          "name": "stdout",
          "text": [
            "0.1135\n"
          ]
        }
      ]
    },
    {
      "cell_type": "code",
      "source": [
        "#sgd.predict(int_dev)\n",
        "eval = sgd.score(int_dev, y_test)\n",
        "print(eval)"
      ],
      "metadata": {
        "colab": {
          "base_uri": "https://localhost:8080/"
        },
        "id": "rPXtOnnWkxWo",
        "outputId": "1fff4a77-19f8-4a42-b4e8-b5b4190f7082"
      },
      "execution_count": null,
      "outputs": [
        {
          "output_type": "stream",
          "name": "stdout",
          "text": [
            "0.1135\n"
          ]
        }
      ]
    },
    {
      "cell_type": "code",
      "source": [
        "'''import numpy as np\n",
        "x_data=x.to_numpy()\n",
        "print(x_data[0])\n",
        "print(type(x_data[0]))\n",
        "print(x_data.shape)\n",
        "print(len(x_data[0]))\n",
        "type(x_data)'''"
      ],
      "metadata": {
        "colab": {
          "base_uri": "https://localhost:8080/",
          "height": 53
        },
        "id": "A1vE15qoZZxF",
        "outputId": "38d338c3-b80e-4d68-d49f-a5631fb6a827"
      },
      "execution_count": null,
      "outputs": [
        {
          "output_type": "execute_result",
          "data": {
            "text/plain": [
              "'import numpy as np\\nx_data=x.to_numpy()\\nprint(x_data[0])\\nprint(type(x_data[0]))\\nprint(x_data.shape)\\nprint(len(x_data[0]))\\ntype(x_data)'"
            ],
            "application/vnd.google.colaboratory.intrinsic+json": {
              "type": "string"
            }
          },
          "metadata": {},
          "execution_count": 13
        }
      ]
    },
    {
      "cell_type": "code",
      "source": [
        "'''print(x_data[0][0])\n",
        "ar = np.array([])\n",
        "l=[]\n",
        "#arr = np.empty((70, 4), dtype=object)\n",
        "for i in range(x.shape[0]):\n",
        "  \n",
        "  l.append(x_data[i])\n",
        "  #for j in range(len(x_data[i])):\n",
        "  #  l.append(x_data[i][j])\n",
        "  #arr[i] = l\n",
        "print(l)\n",
        "#ar.append(x_data[i])\n",
        "'''\n"
      ],
      "metadata": {
        "colab": {
          "base_uri": "https://localhost:8080/",
          "height": 70
        },
        "id": "UEWX3Dhfbu6w",
        "outputId": "f14de325-eef5-476a-9b50-e4a5e23d22e7"
      },
      "execution_count": null,
      "outputs": [
        {
          "output_type": "execute_result",
          "data": {
            "text/plain": [
              "'print(x_data[0][0])\\nar = np.array([])\\nl=[]\\n#arr = np.empty((70, 4), dtype=object)\\nfor i in range(x.shape[0]):\\n  \\n  l.append(x_data[i])\\n  #for j in range(len(x_data[i])):\\n  #  l.append(x_data[i][j])\\n  #arr[i] = l\\nprint(l)\\n#ar.append(x_data[i])\\n'"
            ],
            "application/vnd.google.colaboratory.intrinsic+json": {
              "type": "string"
            }
          },
          "metadata": {},
          "execution_count": 14
        }
      ]
    },
    {
      "cell_type": "code",
      "source": [
        "weights_x = np.zeros((10,784))\n",
        "#print(weights_x[0])\n",
        "#print(weights_x)\n",
        "l=[0 for i in range(10)]\n",
        "#print(l)\n",
        "#weights_output_y = np.zeros((10,1))#np.array(l)\n",
        "#print(weights_output_y.size)\n",
        "print(weights_x.size)\n",
        "print(len(int_train))"
      ],
      "metadata": {
        "colab": {
          "base_uri": "https://localhost:8080/"
        },
        "id": "vFEOzK9yizFK",
        "outputId": "750ca39c-e71a-4f37-b89b-2ee35c5e43e8"
      },
      "execution_count": 59,
      "outputs": [
        {
          "output_type": "stream",
          "name": "stdout",
          "text": [
            "7840\n",
            "50000\n"
          ]
        }
      ]
    },
    {
      "cell_type": "code",
      "source": [
        "print(np.dot(np.zeros((1,784)),int_train[0]))\n",
        "print(int_train[0].size)\n",
        "print(np.zeros((1,784)).size)\n",
        "print('argmax',np.argmax(int_train[0]))\n",
        "print('argmax',np.argmax(int_train_y[1]))\n",
        "print(max(int_train[0]))"
      ],
      "metadata": {
        "colab": {
          "base_uri": "https://localhost:8080/"
        },
        "id": "D-13NXIOs9v1",
        "outputId": "0492ddcb-58aa-4250-8dcf-68e35594d756"
      },
      "execution_count": null,
      "outputs": [
        {
          "output_type": "stream",
          "name": "stdout",
          "text": [
            "[0.]\n",
            "784\n",
            "784\n",
            "argmax 405\n",
            "argmax 0\n",
            "0.9960784316062927\n"
          ]
        }
      ]
    },
    {
      "cell_type": "code",
      "source": [
        "some_element=int_train[0]\n",
        "#print(some_element)\n",
        "print(some_element.size)\n",
        "print(type(some_element))\n",
        "\n",
        "some_element=some_element.reshape(28,28)\n",
        "import matplotlib.pyplot as plt\n",
        "plt.imshow(some_element)"
      ],
      "metadata": {
        "colab": {
          "base_uri": "https://localhost:8080/",
          "height": 317
        },
        "id": "pc4SmQeme7dv",
        "outputId": "741f6ed9-4867-44c2-db25-dd0b59f57c63"
      },
      "execution_count": null,
      "outputs": [
        {
          "output_type": "stream",
          "name": "stdout",
          "text": [
            "784\n",
            "<class 'numpy.ndarray'>\n"
          ]
        },
        {
          "output_type": "execute_result",
          "data": {
            "text/plain": [
              "<matplotlib.image.AxesImage at 0x7fda80fed4c0>"
            ]
          },
          "metadata": {},
          "execution_count": 52
        },
        {
          "output_type": "display_data",
          "data": {
            "text/plain": [
              "<Figure size 432x288 with 1 Axes>"
            ],
            "image/png": "[encoded data removed]"
          },
          "metadata": {
            "needs_background": "light"
          }
        }
      ]
    },
    {
      "cell_type": "code",
      "source": [
        "class Perceptron:\n",
        "  global y_pred\n",
        "  global y_pred_test\n",
        "  global acc\n",
        "  def __init__(self):\n",
        "    y_pred=[]\n",
        "    y_pred_test=[]\n",
        "    acc=0\n",
        "  # training the model\n",
        "  def train(self,x_args,y_args):\n",
        "    global y_pred\n",
        "    y_pred=[]\n",
        "    self.acc=0\n",
        "  #global y_pred_test\n",
        "    #x data\n",
        "    for i in range(len(x_args)):\n",
        "      #y labels\n",
        "      weights_output_y=[]\n",
        "      for j in range(10):\n",
        "        #for each data dot product of all the labels\n",
        "        #y(10x1) = w(10x784) , x(784x1)\n",
        "        #calculation for every single label\n",
        "        weights_output_y.append(np.dot(weights_x[j],x_args[i]))\n",
        "      #print(weights_output_y)\n",
        "      arg_y_pred=np.argmax(weights_output_y)# returns scalar value\n",
        "      '''\n",
        "      index=0\n",
        "      maxx=-1\n",
        "      temp_l=[]\n",
        "      for i in range(10):\n",
        "        if(weights_output_y[i]>=maxx):\n",
        "          index=i\n",
        "          maxx=weights_output_y[i]\n",
        "      for i in range(10):\n",
        "        if(i==index):\n",
        "          temp_l.append(i)\n",
        "        else:\n",
        "          temp_l.append(0)\n",
        "      self.y_pred.append(temp_l)\n",
        "      '''\n",
        "      y_pred.append(arg_y_pred)\n",
        "      if(arg_y_pred!=y_args[i]):\n",
        "        #increase weights for target class and decrease for predicted class\n",
        "        #weights_x[i] = weights_x[i] + x_args[i]\n",
        "        for p in range(10):\n",
        "          '''\n",
        "          weights_x[i] = weights_x[i] + x_args[i]\n",
        "          weights_x[y_args[i]] = weights_x[y_args[i]] - x_args[i]\n",
        "          '''\n",
        "          if(p!=arg_y_pred):\n",
        "\n",
        "            weights_x[p]=weights_x[p]+x_args[i]\n",
        "          else:\n",
        "            weights_x[p]=weights_x[p]-x_args[i]\n",
        "      else:\n",
        "        self.acc=self.acc+1\n",
        "    #print(y_pred)\n",
        "    #print()\n",
        "    #print(weights_x[:4])\n",
        "    print('Acc1,',self.acc/len(y_args))\n",
        "    #print('Acc,',np.mean(y_pred == int_train_y))\n",
        "\n",
        "\n",
        "  def test(self,x_args):\n",
        "    global y_pred_test\n",
        "    self.acc=0\n",
        "    y_pred_test=[]\n",
        "    for i in range(len(x_args)):\n",
        "      #y labels\n",
        "      weights_output_y=[]\n",
        "      pred=[]\n",
        "      for j in range(10):\n",
        "        #for each data dot product of all the labels\n",
        "        #y(10x1) = w(10x784) , x(784x1)\n",
        "        #calculation for every single label\n",
        "        #weights_output_y=np.dot(x_args[i],weights_x[j])\n",
        "\n",
        "      #arg_y_pred=np.argmax(weights_output_y)# returns scalar value\n",
        "        weights_output_y=np.dot(weights_x[j],x_args[i])\n",
        "        pred.append(weights_output_y)\n",
        "      weights_output_y=pred\n",
        "      #print(weights_output_y)\n",
        "      X_min = np.min(weights_output_y)\n",
        "      X_max = np.max(weights_output_y)\n",
        "      #X_norm = (X - X_min) / (X_max - X_min) * 9 + 1\n",
        "      for k in range(10):\n",
        "        weights_output_y[k]=int(((weights_output_y[k]-X_min) / (X_max - X_min) )* 9 + 1 )\n",
        "      #print(weights_output_y)\n",
        "      #arg_y_pred=np.argmax(weights_output_y)# returns scalar value\n",
        "      \n",
        "      y_pred_test.append(max(weights_output_y))#[arg_y_pred])\n",
        "      '''\n",
        "      index=0\n",
        "      maxx=-1\n",
        "      temp_l=[]\n",
        "      for i in range(10):\n",
        "        if(weights_output_y[i]>=maxx):\n",
        "          index=i\n",
        "          maxx=weights_output_y[i]\n",
        "      for i in range(10):\n",
        "        if(i==index):\n",
        "          temp_l.append(i)\n",
        "        else:\n",
        "          temp_l.append(0)\n",
        "      #self.\n",
        "      y_pred_test.append(temp_l)\n",
        "      '''\n",
        "    #print(y_pred_test)\n",
        "    print('Acc,',np.mean(y_pred_test == int_dev_y),)\n",
        "  #def evaluate():\n",
        "    #print(np.mean(y_pred == y_newtest))\n"
      ],
      "metadata": {
        "id": "NSTw3ivum4in"
      },
      "execution_count": 127,
      "outputs": []
    },
    {
      "cell_type": "code",
      "source": [
        "p=Perceptron()\n",
        "print(len(int_train))\n",
        "#for i in range(100):\n",
        "\n",
        "p.train(int_train,int_train_y)\n",
        "#p.train(int_train,int_train_y)\n",
        "#p.train(int_train,int_train_y)"
      ],
      "metadata": {
        "colab": {
          "base_uri": "https://localhost:8080/"
        },
        "id": "llhnZs_Qa05d",
        "outputId": "f5efd752-cd20-48cf-bc4e-f2b5fb7096a8"
      },
      "execution_count": 128,
      "outputs": [
        {
          "output_type": "stream",
          "name": "stdout",
          "text": [
            "50000\n",
            "Acc1, 0.33778\n"
          ]
        }
      ]
    },
    {
      "cell_type": "code",
      "source": [
        "p.test(int_dev)"
      ],
      "metadata": {
        "colab": {
          "base_uri": "https://localhost:8080/"
        },
        "id": "hj7YJM3w5dvf",
        "outputId": "ecbb6c84-e3b0-4dbd-c19d-74c4d11a04d7"
      },
      "execution_count": 129,
      "outputs": [
        {
          "output_type": "stream",
          "name": "stdout",
          "text": [
            "Acc, 0.0\n"
          ]
        }
      ]
    },
    {
      "cell_type": "code",
      "source": [
        "p.train(int_dev,int_dev_y)"
      ],
      "metadata": {
        "colab": {
          "base_uri": "https://localhost:8080/"
        },
        "id": "EebVRBikm-lu",
        "outputId": "6d5ab767-0153-4521-f408-64af144b73e1"
      },
      "execution_count": 130,
      "outputs": [
        {
          "output_type": "stream",
          "name": "stdout",
          "text": [
            "Acc1, 0.3358\n"
          ]
        }
      ]
    },
    {
      "cell_type": "code",
      "source": [
        "from sklearn.linear_model import Perceptron\n",
        "\n",
        "clf = Perceptron()\n",
        "\n",
        "clf.fit(x_data[:60000], y_data[:60000])\n",
        "\n",
        "y_pred = clf.predict(x_test)\n",
        "\n",
        "accuracy = clf.score(x_test, y_test)\n",
        "print(\"Accuracy:\", accuracy)"
      ],
      "metadata": {
        "colab": {
          "base_uri": "https://localhost:8080/"
        },
        "id": "qZ0Avwx1uELs",
        "outputId": "140cca56-c56c-4c8c-ca2b-a94057589dea"
      },
      "execution_count": 107,
      "outputs": [
        {
          "output_type": "stream",
          "name": "stdout",
          "text": [
            "Accuracy: 0.851\n"
          ]
        }
      ]
    },
    {
      "cell_type": "code",
      "source": [
        "\n",
        "plt.imshow(x_data[10000].reshape(28,28))"
      ],
      "metadata": {
        "colab": {
          "base_uri": "https://localhost:8080/",
          "height": 282
        },
        "id": "LpnOJ_yuuisE",
        "outputId": "c4dcf2b1-f399-4c6e-ff2e-8f3fd71f9107"
      },
      "execution_count": 111,
      "outputs": [
        {
          "output_type": "execute_result",
          "data": {
            "text/plain": [
              "<matplotlib.image.AxesImage at 0x7fdb25a7a430>"
            ]
          },
          "metadata": {},
          "execution_count": 111
        },
        {
          "output_type": "display_data",
          "data": {
            "text/plain": [
              "<Figure size 432x288 with 1 Axes>"
            ],
            "image/png": "[encoded data removed]"
          },
          "metadata": {
            "needs_background": "light"
          }
        }
      ]
    },
    {
      "cell_type": "code",
      "source": [
        "from sklearn.dummy import DummyClassifier\n",
        "sgd=DummyClassifier(  strategy='most_frequent',random_state=42)\n",
        "sgd.fit(x_data[:60000], y_data[:60000])\n",
        "sgd.predict(x_test)\n",
        "eval = sgd.score(x_test, y_test)\n",
        "print(eval)"
      ],
      "metadata": {
        "colab": {
          "base_uri": "https://localhost:8080/"
        },
        "id": "k2SRDVZ2xKo4",
        "outputId": "2c22ee3a-6484-41af-aead-6a1ad305b021"
      },
      "execution_count": 131,
      "outputs": [
        {
          "output_type": "stream",
          "name": "stdout",
          "text": [
            "0.1135\n"
          ]
        }
      ]
    }
  ]
}