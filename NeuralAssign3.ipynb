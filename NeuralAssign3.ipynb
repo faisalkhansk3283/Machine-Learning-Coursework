{
  "nbformat": 4,
  "nbformat_minor": 0,
  "metadata": {
    "colab": {
      "provenance": []
    },
    "kernelspec": {
      "name": "python3",
      "display_name": "Python 3"
    },
    "language_info": {
      "name": "python"
    }
  },
  "cells": [
    {
      "cell_type": "markdown",
      "source": [
        "2.a,2.b,2.c"
      ],
      "metadata": {
        "id": "67Tf6IjJAEyz"
      }
    },
    {
      "cell_type": "code",
      "execution_count": 7,
      "metadata": {
        "id": "SLNDzm-GuweO"
      },
      "outputs": [],
      "source": [
        "import torch\n",
        "import torch.nn as nn\n",
        "import torch.optim as optim\n",
        "import numpy\n",
        "from sklearn.metrics import f1_score, precision_score, recall_score, precision_recall_curve\n",
        "import matplotlib.pyplot as plt"
      ]
    },
    {
      "cell_type": "code",
      "source": [
        "import json, gzip"
      ],
      "metadata": {
        "id": "Cp8B1tniu9HB"
      },
      "execution_count": 1,
      "outputs": []
    },
    {
      "cell_type": "code",
      "source": [
        "from google.colab import drive"
      ],
      "metadata": {
        "id": "E1eGD7NAvAVs"
      },
      "execution_count": 2,
      "outputs": []
    },
    {
      "cell_type": "code",
      "source": [
        "drive.mount('/content/drive')"
      ],
      "metadata": {
        "colab": {
          "base_uri": "https://localhost:8080/"
        },
        "id": "0M_vdpv3vDPg",
        "outputId": "8af338d8-8bd5-4919-8627-48dfcd990cdc"
      },
      "execution_count": 3,
      "outputs": [
        {
          "output_type": "stream",
          "name": "stdout",
          "text": [
            "Mounted at /content/drive\n"
          ]
        }
      ]
    },
    {
      "cell_type": "code",
      "source": [
        "input_file = '/content/drive/My Drive/mnist_rowmajor.jsonl.gz'\n",
        "data = []\n",
        "with gzip.open(input_file, 'rb') as fp:\n",
        "  for line in fp:\n",
        "    data.append(json.loads(line.strip()))"
      ],
      "metadata": {
        "id": "gn4EmOh6vKWj"
      },
      "execution_count": 4,
      "outputs": []
    },
    {
      "cell_type": "code",
      "source": [
        "test_data = [d for d in data if d['split'] == 'test']\n",
        "traindev_data = [d for d in data if d['split'] != 'test']\n",
        "train_data = traindev_data[0:50000]\n",
        "dev_data = traindev_data[50000:]\n",
        "from collections import Counter\n",
        "#print(len(dev_data))\n",
        "print(Counter([d['label'] for d in train_data]))\n",
        "print(Counter([d['label'] for d in dev_data]))"
      ],
      "metadata": {
        "colab": {
          "base_uri": "https://localhost:8080/"
        },
        "id": "Zzf7jyZhvSU0",
        "outputId": "ddda7f0b-2b8b-4aee-c0d4-67e372e7ef5d"
      },
      "execution_count": 5,
      "outputs": [
        {
          "output_type": "stream",
          "name": "stdout",
          "text": [
            "Counter({1: 5595, 7: 5201, 3: 5148, 2: 5012, 9: 4977, 0: 4920, 6: 4911, 8: 4864, 4: 4857, 5: 4515})\n",
            "Counter({1: 1147, 7: 1064, 6: 1007, 0: 1003, 8: 987, 4: 985, 3: 983, 9: 972, 2: 946, 5: 906})\n"
          ]
        }
      ]
    },
    {
      "cell_type": "code",
      "source": [
        "train_labels = torch.LongTensor([x['label'] for x in train_data])\n",
        "train_fts = torch.FloatTensor([x['image'] for x in train_data])\n",
        "dev_labels = torch.LongTensor([x['label'] for x in dev_data])\n",
        "dev_fts = torch.FloatTensor([x['image'] for x in dev_data])\n",
        "test_labels = torch.LongTensor([x['label'] for x in test_data])\n",
        "test_fts = torch.FloatTensor([x['image'] for x in test_data])\n",
        "num_labels = len(set(int(d) for d in train_labels))\n"
      ],
      "metadata": {
        "id": "IbhdDbaYvZwj"
      },
      "execution_count": 8,
      "outputs": []
    },
    {
      "cell_type": "code",
      "source": [
        "def train(model, data_features, data_labels, weight_adjuster,val_features, val_labels,\n",
        "          loss_fn = nn.CrossEntropyLoss(),\n",
        "          batch_size=100,\n",
        "          num_epochs=5,\n",
        "          epoch_callback=None):\n",
        "  #loss_fn=nn.BCELoss();\n",
        "  loss_values = []\n",
        "  val_loss_values = []\n",
        "  #data_labels = torch.nn.functional.one_hot(data_labels, num_classes=10).float()\n",
        "  for epoch in range(num_epochs):\n",
        "    print(\"Epoch %d\" % epoch)\n",
        "    epoch_loss = 0.0\n",
        "    batch_start = 0\n",
        "    batch_end = min(batch_size, data_features.shape[0])\n",
        "    num_batches = int(numpy.ceil(data_features.shape[0] / batch_size))\n",
        "    for batch_idx, batch in enumerate(range(num_batches)):\n",
        "      batch = data_features[batch_start:batch_end,:]\n",
        "      weight_adjuster.zero_grad()\n",
        "      #print(batch.shape,\":batch\")\n",
        "      logits = model(batch)\n",
        "\n",
        "      #print(\"logits\",logits.shape,\"logits[0]:\",logits[0].shape)\n",
        "      labels = data_labels[batch_start:batch_end]\n",
        "      #print(labels.float())\n",
        "      #labels = torch.nn.functional.one_hot(labels, num_classes=10).float()\n",
        "      #print(labels.shape)\n",
        "      #print(logits,\"LOGITS\")\n",
        "      #loss = loss_fn(input=logits[0],\n",
        "      #              target=labels)\n",
        "      loss = loss_fn(input=logits[0],#.float(),\n",
        "                    target=labels)\n",
        "      #print(\"labels.shape\")\n",
        "      loss.backward()\n",
        "      weight_adjuster.step()\n",
        "\n",
        "      epoch_loss += loss.item()\n",
        "\n",
        "      batch_start = batch_end\n",
        "      batch_end = batch_end+batch_size\n",
        "      batch_end = min(batch_end, data_features.shape[0])\n",
        "\n",
        "    if epoch_callback is not None:\n",
        "      epoch_callback()\n",
        "\n",
        "    epoch_loss /= num_batches # average the epoch loss over all batches\n",
        "    loss_values.append(epoch_loss)\n",
        "    print(\"Epoch loss: %f\" % epoch_loss)\n",
        "\n",
        "    with torch.no_grad():\n",
        "      val_logits = model(val_features)\n",
        "      val_loss = loss_fn(input=val_logits[0], target=val_labels)\n",
        "      val_loss_values.append(val_loss.item())\n",
        "      print(\"Val loss: %f\" % val_loss.item())\n",
        "\n",
        "  # plot the loss values\n",
        "  plt.plot(loss_values,label='train loss')\n",
        "  plt.plot(val_loss_values, label='Val loss')\n",
        "  plt.xlabel('Epoch')\n",
        "  plt.ylabel('Loss')\n",
        "  plt.title('Loss function')\n",
        "  plt.legend()\n",
        "  plt.show()"
      ],
      "metadata": {
        "id": "7J3JUYJQvgVp"
      },
      "execution_count": 9,
      "outputs": []
    },
    {
      "cell_type": "code",
      "source": [
        "class MyMLP(nn.Module):\n",
        "  def __init__(self, num_input_dims, num_neurons, num_classes, \n",
        "               act_fn=nn.Sigmoid):\n",
        "    \"\"\"\n",
        "    * num_input_dims: the size of each input\n",
        "    * num_neurons: a list, with an item per hidden layer. Each item is the number of neurons in that hidden layer.\n",
        "    * num_classes: the number of output classes\n",
        "    * act_fn: the activation function to apply after every layer. \n",
        "              For ease, this model assumes that the *same* function will\n",
        "              be applied after every layer.\n",
        "\n",
        "    Example: MyMLP(786, [], 10) defines a logistic regression model with 786 input features,\n",
        "    10 output classes, and no hidden layers.\n",
        "    \"\"\"\n",
        "    super(MyMLP, self).__init__()\n",
        "    ins = [num_input_dims]\n",
        "    print(ins)\n",
        "    outs = [num_classes]\n",
        "    print(outs)\n",
        "    for x in num_neurons:\n",
        "      ins.append(x)\n",
        "      outs.append(x)\n",
        "      print(ins)\n",
        "      print(outs)\n",
        "    outs.reverse()\n",
        "    print(outs,\"outs\")\n",
        "    for i,o in zip(ins, outs):\n",
        "      print(i,\":i\",\"o:\",o)\n",
        "    self.layers = nn.ModuleList([nn.Linear(in_features=i,\n",
        "                                           out_features=o,\n",
        "                                           bias=True) for i,o in zip(ins, outs)])\n",
        "    #print(self.layers,\"here\")\n",
        "    self.fns = nn.ModuleList([act_fn() for i in range(len(num_neurons))])\n",
        "    self.fns.append(nn.Softmax())\n",
        "\n",
        "  def forward(self, input_x):\n",
        "    ## remember: .forward is called via .__call__ ( layer(...) )\n",
        "    z = input_x\n",
        "    #print(z.shape,\":Z\")\n",
        "    #print(input_x.shape,\"input_x_forward\")#[50,784]\n",
        "    h = None\n",
        "    for layer, fn in zip(self.layers, self.fns):\n",
        "      h = layer(z)\n",
        "      z = fn(h)\n",
        "    probs = z\n",
        "    logits = h\n",
        "    return logits, probs\n",
        "    #return torch.sigmoid(logits), probs\n",
        "\n",
        "  def predict(self, X_features):\n",
        "    _, logits = self.__call__(X_features)\n",
        "    print(X_features.shape)\n",
        "    print(logits.shape)\n",
        "    return logits.argmax(dim=1)"
      ],
      "metadata": {
        "id": "yHKzMohuv6K8"
      },
      "execution_count": 10,
      "outputs": []
    },
    {
      "cell_type": "code",
      "source": [
        "print(MyMLP(64, [], 10))\n",
        "print(MyMLP(64, [50], 10))"
      ],
      "metadata": {
        "colab": {
          "base_uri": "https://localhost:8080/"
        },
        "id": "u3bUCDCYAysp",
        "outputId": "db3984e1-d5e9-4aaa-ba6f-bdcd7054cdcc"
      },
      "execution_count": 11,
      "outputs": [
        {
          "output_type": "stream",
          "name": "stdout",
          "text": [
            "[64]\n",
            "[10]\n",
            "[10] outs\n",
            "64 :i o: 10\n",
            "MyMLP(\n",
            "  (layers): ModuleList(\n",
            "    (0): Linear(in_features=64, out_features=10, bias=True)\n",
            "  )\n",
            "  (fns): ModuleList(\n",
            "    (0): Softmax(dim=None)\n",
            "  )\n",
            ")\n",
            "[64]\n",
            "[10]\n",
            "[64, 50]\n",
            "[10, 50]\n",
            "[50, 10] outs\n",
            "64 :i o: 50\n",
            "50 :i o: 10\n",
            "MyMLP(\n",
            "  (layers): ModuleList(\n",
            "    (0): Linear(in_features=64, out_features=50, bias=True)\n",
            "    (1): Linear(in_features=50, out_features=10, bias=True)\n",
            "  )\n",
            "  (fns): ModuleList(\n",
            "    (0): Sigmoid()\n",
            "    (1): Softmax(dim=None)\n",
            "  )\n",
            ")\n"
          ]
        }
      ]
    },
    {
      "cell_type": "code",
      "source": [
        "print(MyMLP(786, [], 10))\n",
        "print(MyMLP(786, [50], 10))"
      ],
      "metadata": {
        "colab": {
          "base_uri": "https://localhost:8080/"
        },
        "id": "E2Cmgt-Mv_XO",
        "outputId": "cfd55991-306a-4c11-e408-d8635fb29f23"
      },
      "execution_count": 12,
      "outputs": [
        {
          "output_type": "stream",
          "name": "stdout",
          "text": [
            "[786]\n",
            "[10]\n",
            "[10] outs\n",
            "786 :i o: 10\n",
            "MyMLP(\n",
            "  (layers): ModuleList(\n",
            "    (0): Linear(in_features=786, out_features=10, bias=True)\n",
            "  )\n",
            "  (fns): ModuleList(\n",
            "    (0): Softmax(dim=None)\n",
            "  )\n",
            ")\n",
            "[786]\n",
            "[10]\n",
            "[786, 50]\n",
            "[10, 50]\n",
            "[50, 10] outs\n",
            "786 :i o: 50\n",
            "50 :i o: 10\n",
            "MyMLP(\n",
            "  (layers): ModuleList(\n",
            "    (0): Linear(in_features=786, out_features=50, bias=True)\n",
            "    (1): Linear(in_features=50, out_features=10, bias=True)\n",
            "  )\n",
            "  (fns): ModuleList(\n",
            "    (0): Sigmoid()\n",
            "    (1): Softmax(dim=None)\n",
            "  )\n",
            ")\n"
          ]
        }
      ]
    },
    {
      "cell_type": "code",
      "source": [
        "def predict_callback(actual, input_fts, model):\n",
        "  \n",
        "  def aux():\n",
        "    f1 = f1_score(y_true=actual, y_pred=model.predict(input_fts), average='micro')\n",
        "    print(\"f1 score:\",f1)\n",
        "  return aux\n",
        "  \n"
      ],
      "metadata": {
        "id": "yPDUw0QjwP6J"
      },
      "execution_count": 13,
      "outputs": []
    },
    {
      "cell_type": "code",
      "source": [
        "model = MyMLP(num_input_dims=train_fts.shape[1], \n",
        "              num_neurons=[],\n",
        "              num_classes=num_labels)\n",
        "weight_adjuster = torch.optim.Adam(model.parameters(),lr=0.001)\n",
        "\n",
        "train(model, train_fts, train_labels, \n",
        "      weight_adjuster=weight_adjuster,\n",
        "      num_epochs=20, batch_size=70,val_features=dev_fts,val_labels=dev_labels,\n",
        "      epoch_callback=predict_callback(actual=dev_labels,\n",
        "                                      input_fts=dev_fts,\n",
        "                                      model=model))"
      ],
      "metadata": {
        "colab": {
          "base_uri": "https://localhost:8080/",
          "height": 1000
        },
        "id": "C_HH-wKYwRXc",
        "outputId": "661002ed-a767-40f5-fe20-cee11f61ffc9"
      },
      "execution_count": 14,
      "outputs": [
        {
          "output_type": "stream",
          "name": "stdout",
          "text": [
            "[784]\n",
            "[10]\n",
            "[10] outs\n",
            "784 :i o: 10\n",
            "Epoch 0\n"
          ]
        },
        {
          "output_type": "stream",
          "name": "stderr",
          "text": [
            "<ipython-input-10-e44211bf9fb2>:44: UserWarning: Implicit dimension choice for softmax has been deprecated. Change the call to include dim=X as an argument.\n",
            "  z = fn(h)\n"
          ]
        },
        {
          "output_type": "stream",
          "name": "stdout",
          "text": [
            "torch.Size([10000, 784])\n",
            "torch.Size([10000, 10])\n",
            "f1 score: 0.9054\n",
            "Epoch loss: 0.597267\n",
            "Val loss: 0.364126\n",
            "Epoch 1\n"
          ]
        },
        {
          "output_type": "stream",
          "name": "stderr",
          "text": [
            "<ipython-input-10-e44211bf9fb2>:44: UserWarning: Implicit dimension choice for softmax has been deprecated. Change the call to include dim=X as an argument.\n",
            "  z = fn(h)\n"
          ]
        },
        {
          "output_type": "stream",
          "name": "stdout",
          "text": [
            "torch.Size([10000, 784])\n",
            "torch.Size([10000, 10])\n",
            "f1 score: 0.9148\n",
            "Epoch loss: 0.341045\n",
            "Val loss: 0.313674\n",
            "Epoch 2\n"
          ]
        },
        {
          "output_type": "stream",
          "name": "stderr",
          "text": [
            "<ipython-input-10-e44211bf9fb2>:44: UserWarning: Implicit dimension choice for softmax has been deprecated. Change the call to include dim=X as an argument.\n",
            "  z = fn(h)\n"
          ]
        },
        {
          "output_type": "stream",
          "name": "stdout",
          "text": [
            "torch.Size([10000, 784])\n",
            "torch.Size([10000, 10])\n",
            "f1 score: 0.9186\n",
            "Epoch loss: 0.307201\n",
            "Val loss: 0.295451\n",
            "Epoch 3\n"
          ]
        },
        {
          "output_type": "stream",
          "name": "stderr",
          "text": [
            "<ipython-input-10-e44211bf9fb2>:44: UserWarning: Implicit dimension choice for softmax has been deprecated. Change the call to include dim=X as an argument.\n",
            "  z = fn(h)\n"
          ]
        },
        {
          "output_type": "stream",
          "name": "stdout",
          "text": [
            "torch.Size([10000, 784])\n",
            "torch.Size([10000, 10])\n",
            "f1 score: 0.9206\n",
            "Epoch loss: 0.291068\n",
            "Val loss: 0.286203\n",
            "Epoch 4\n"
          ]
        },
        {
          "output_type": "stream",
          "name": "stderr",
          "text": [
            "<ipython-input-10-e44211bf9fb2>:44: UserWarning: Implicit dimension choice for softmax has been deprecated. Change the call to include dim=X as an argument.\n",
            "  z = fn(h)\n"
          ]
        },
        {
          "output_type": "stream",
          "name": "stdout",
          "text": [
            "torch.Size([10000, 784])\n",
            "torch.Size([10000, 10])\n",
            "f1 score: 0.9216\n",
            "Epoch loss: 0.281168\n",
            "Val loss: 0.280694\n",
            "Epoch 5\n"
          ]
        },
        {
          "output_type": "stream",
          "name": "stderr",
          "text": [
            "<ipython-input-10-e44211bf9fb2>:44: UserWarning: Implicit dimension choice for softmax has been deprecated. Change the call to include dim=X as an argument.\n",
            "  z = fn(h)\n"
          ]
        },
        {
          "output_type": "stream",
          "name": "stdout",
          "text": [
            "torch.Size([10000, 784])\n",
            "torch.Size([10000, 10])\n",
            "f1 score: 0.9226\n",
            "Epoch loss: 0.274269\n",
            "Val loss: 0.277078\n",
            "Epoch 6\n"
          ]
        },
        {
          "output_type": "stream",
          "name": "stderr",
          "text": [
            "<ipython-input-10-e44211bf9fb2>:44: UserWarning: Implicit dimension choice for softmax has been deprecated. Change the call to include dim=X as an argument.\n",
            "  z = fn(h)\n"
          ]
        },
        {
          "output_type": "stream",
          "name": "stdout",
          "text": [
            "torch.Size([10000, 784])\n",
            "torch.Size([10000, 10])\n",
            "f1 score: 0.9236\n",
            "Epoch loss: 0.269073\n",
            "Val loss: 0.274553\n",
            "Epoch 7\n"
          ]
        },
        {
          "output_type": "stream",
          "name": "stderr",
          "text": [
            "<ipython-input-10-e44211bf9fb2>:44: UserWarning: Implicit dimension choice for softmax has been deprecated. Change the call to include dim=X as an argument.\n",
            "  z = fn(h)\n"
          ]
        },
        {
          "output_type": "stream",
          "name": "stdout",
          "text": [
            "torch.Size([10000, 784])\n",
            "torch.Size([10000, 10])\n",
            "f1 score: 0.9238\n",
            "Epoch loss: 0.264953\n",
            "Val loss: 0.272715\n",
            "Epoch 8\n"
          ]
        },
        {
          "output_type": "stream",
          "name": "stderr",
          "text": [
            "<ipython-input-10-e44211bf9fb2>:44: UserWarning: Implicit dimension choice for softmax has been deprecated. Change the call to include dim=X as an argument.\n",
            "  z = fn(h)\n"
          ]
        },
        {
          "output_type": "stream",
          "name": "stdout",
          "text": [
            "torch.Size([10000, 784])\n",
            "torch.Size([10000, 10])\n",
            "f1 score: 0.9249\n",
            "Epoch loss: 0.261567\n",
            "Val loss: 0.271342\n",
            "Epoch 9\n"
          ]
        },
        {
          "output_type": "stream",
          "name": "stderr",
          "text": [
            "<ipython-input-10-e44211bf9fb2>:44: UserWarning: Implicit dimension choice for softmax has been deprecated. Change the call to include dim=X as an argument.\n",
            "  z = fn(h)\n"
          ]
        },
        {
          "output_type": "stream",
          "name": "stdout",
          "text": [
            "torch.Size([10000, 784])\n",
            "torch.Size([10000, 10])\n",
            "f1 score: 0.9257\n",
            "Epoch loss: 0.258709\n",
            "Val loss: 0.270302\n",
            "Epoch 10\n"
          ]
        },
        {
          "output_type": "stream",
          "name": "stderr",
          "text": [
            "<ipython-input-10-e44211bf9fb2>:44: UserWarning: Implicit dimension choice for softmax has been deprecated. Change the call to include dim=X as an argument.\n",
            "  z = fn(h)\n"
          ]
        },
        {
          "output_type": "stream",
          "name": "stdout",
          "text": [
            "torch.Size([10000, 784])\n",
            "torch.Size([10000, 10])\n",
            "f1 score: 0.9261999999999999\n",
            "Epoch loss: 0.256249\n",
            "Val loss: 0.269509\n",
            "Epoch 11\n"
          ]
        },
        {
          "output_type": "stream",
          "name": "stderr",
          "text": [
            "<ipython-input-10-e44211bf9fb2>:44: UserWarning: Implicit dimension choice for softmax has been deprecated. Change the call to include dim=X as an argument.\n",
            "  z = fn(h)\n"
          ]
        },
        {
          "output_type": "stream",
          "name": "stdout",
          "text": [
            "torch.Size([10000, 784])\n",
            "torch.Size([10000, 10])\n",
            "f1 score: 0.9264\n",
            "Epoch loss: 0.254098\n",
            "Val loss: 0.268906\n",
            "Epoch 12\n"
          ]
        },
        {
          "output_type": "stream",
          "name": "stderr",
          "text": [
            "<ipython-input-10-e44211bf9fb2>:44: UserWarning: Implicit dimension choice for softmax has been deprecated. Change the call to include dim=X as an argument.\n",
            "  z = fn(h)\n"
          ]
        },
        {
          "output_type": "stream",
          "name": "stdout",
          "text": [
            "torch.Size([10000, 784])\n",
            "torch.Size([10000, 10])\n",
            "f1 score: 0.9265\n",
            "Epoch loss: 0.252193\n",
            "Val loss: 0.268451\n",
            "Epoch 13\n"
          ]
        },
        {
          "output_type": "stream",
          "name": "stderr",
          "text": [
            "<ipython-input-10-e44211bf9fb2>:44: UserWarning: Implicit dimension choice for softmax has been deprecated. Change the call to include dim=X as an argument.\n",
            "  z = fn(h)\n"
          ]
        },
        {
          "output_type": "stream",
          "name": "stdout",
          "text": [
            "torch.Size([10000, 784])\n",
            "torch.Size([10000, 10])\n",
            "f1 score: 0.9269\n",
            "Epoch loss: 0.250488\n",
            "Val loss: 0.268117\n",
            "Epoch 14\n"
          ]
        },
        {
          "output_type": "stream",
          "name": "stderr",
          "text": [
            "<ipython-input-10-e44211bf9fb2>:44: UserWarning: Implicit dimension choice for softmax has been deprecated. Change the call to include dim=X as an argument.\n",
            "  z = fn(h)\n"
          ]
        },
        {
          "output_type": "stream",
          "name": "stdout",
          "text": [
            "torch.Size([10000, 784])\n",
            "torch.Size([10000, 10])\n",
            "f1 score: 0.9271\n",
            "Epoch loss: 0.248948\n",
            "Val loss: 0.267879\n",
            "Epoch 15\n"
          ]
        },
        {
          "output_type": "stream",
          "name": "stderr",
          "text": [
            "<ipython-input-10-e44211bf9fb2>:44: UserWarning: Implicit dimension choice for softmax has been deprecated. Change the call to include dim=X as an argument.\n",
            "  z = fn(h)\n"
          ]
        },
        {
          "output_type": "stream",
          "name": "stdout",
          "text": [
            "torch.Size([10000, 784])\n",
            "torch.Size([10000, 10])\n",
            "f1 score: 0.9271\n",
            "Epoch loss: 0.247547\n",
            "Val loss: 0.267722\n",
            "Epoch 16\n"
          ]
        },
        {
          "output_type": "stream",
          "name": "stderr",
          "text": [
            "<ipython-input-10-e44211bf9fb2>:44: UserWarning: Implicit dimension choice for softmax has been deprecated. Change the call to include dim=X as an argument.\n",
            "  z = fn(h)\n"
          ]
        },
        {
          "output_type": "stream",
          "name": "stdout",
          "text": [
            "torch.Size([10000, 784])\n",
            "torch.Size([10000, 10])\n",
            "f1 score: 0.9271\n",
            "Epoch loss: 0.246264\n",
            "Val loss: 0.267633\n",
            "Epoch 17\n"
          ]
        },
        {
          "output_type": "stream",
          "name": "stderr",
          "text": [
            "<ipython-input-10-e44211bf9fb2>:44: UserWarning: Implicit dimension choice for softmax has been deprecated. Change the call to include dim=X as an argument.\n",
            "  z = fn(h)\n"
          ]
        },
        {
          "output_type": "stream",
          "name": "stdout",
          "text": [
            "torch.Size([10000, 784])\n",
            "torch.Size([10000, 10])\n",
            "f1 score: 0.9271999999999999\n",
            "Epoch loss: 0.245082\n",
            "Val loss: 0.267599\n",
            "Epoch 18\n"
          ]
        },
        {
          "output_type": "stream",
          "name": "stderr",
          "text": [
            "<ipython-input-10-e44211bf9fb2>:44: UserWarning: Implicit dimension choice for softmax has been deprecated. Change the call to include dim=X as an argument.\n",
            "  z = fn(h)\n"
          ]
        },
        {
          "output_type": "stream",
          "name": "stdout",
          "text": [
            "torch.Size([10000, 784])\n",
            "torch.Size([10000, 10])\n",
            "f1 score: 0.9271999999999999\n",
            "Epoch loss: 0.243988\n",
            "Val loss: 0.267613\n",
            "Epoch 19\n"
          ]
        },
        {
          "output_type": "stream",
          "name": "stderr",
          "text": [
            "<ipython-input-10-e44211bf9fb2>:44: UserWarning: Implicit dimension choice for softmax has been deprecated. Change the call to include dim=X as an argument.\n",
            "  z = fn(h)\n"
          ]
        },
        {
          "output_type": "stream",
          "name": "stdout",
          "text": [
            "torch.Size([10000, 784])\n",
            "torch.Size([10000, 10])\n",
            "f1 score: 0.9271999999999999\n",
            "Epoch loss: 0.242971\n",
            "Val loss: 0.267668\n"
          ]
        },
        {
          "output_type": "stream",
          "name": "stderr",
          "text": [
            "<ipython-input-10-e44211bf9fb2>:44: UserWarning: Implicit dimension choice for softmax has been deprecated. Change the call to include dim=X as an argument.\n",
            "  z = fn(h)\n"
          ]
        },
        {
          "output_type": "display_data",
          "data": {
            "text/plain": [
              "<Figure size 640x480 with 1 Axes>"
            ],
            "image/png": "[encoded data removed]"
          },
          "metadata": {}
        }
      ]
    },
    {
      "cell_type": "code",
      "source": [
        "x_pred=model.predict(test_fts)\n",
        "import numpy as np\n",
        "\n",
        "matches = [1 if a == b else 0 for a, b in zip(x_pred, test_labels)]\n",
        "total_matches = sum(matches)\n",
        "\n",
        "print(f\"Accuracy: {total_matches/10000:.4f}%\")"
      ],
      "metadata": {
        "colab": {
          "base_uri": "https://localhost:8080/"
        },
        "id": "kWiiXY-H0Tsc",
        "outputId": "d29f9080-4a76-4e20-f84e-14c3eafed543"
      },
      "execution_count": 15,
      "outputs": [
        {
          "output_type": "stream",
          "name": "stdout",
          "text": [
            "torch.Size([10000, 784])\n",
            "torch.Size([10000, 10])\n",
            "Accuracy: 0.9247%\n"
          ]
        },
        {
          "output_type": "stream",
          "name": "stderr",
          "text": [
            "<ipython-input-10-e44211bf9fb2>:44: UserWarning: Implicit dimension choice for softmax has been deprecated. Change the call to include dim=X as an argument.\n",
            "  z = fn(h)\n"
          ]
        }
      ]
    },
    {
      "cell_type": "code",
      "source": [
        "#will run longer     784->512->64\n",
        "class Autoencoder2(nn.Module):\n",
        "  def __init__(self, num_input_dims, num_hidden_dims,\n",
        "               act_fn=nn.Sigmoid):\n",
        "    super(Autoencoder2, self).__init__()\n",
        "    print(num_input_dims)\n",
        "\n",
        "    self.encoder = nn.Sequential(\n",
        "            nn.Linear(784, 512),\n",
        "            nn.ReLU(True),\n",
        "            nn.Linear(512, 64),\n",
        "            nn.Softmax()\n",
        "        )\n",
        "    self.decoder = nn.Sequential(\n",
        "            nn.Linear(64, 512),\n",
        "            nn.ReLU(True),\n",
        "            nn.Linear(512, 784),\n",
        "            #nn.ReLU(True)\n",
        "            nn.Softmax()\n",
        "        )\n",
        "\n",
        "  def forward(self, x):\n",
        "    #batch_size = x.size(0)\n",
        "    #x = x.view(batch_size, -1)\n",
        "    #x = x.view(-1, 784)\n",
        "    xx = self.encoder(x)\n",
        "    #print(xx.shape)\n",
        "    #x = x.view(-1, 64)\n",
        "    x = self.decoder(xx)\n",
        "    #print(x.shape)\n",
        "    return xx,x\n",
        "    #raise NotImplementedError(\"You must implement this.\")"
      ],
      "metadata": {
        "id": "XYRyJ8fWVZuZ"
      },
      "execution_count": 17,
      "outputs": []
    },
    {
      "cell_type": "code",
      "source": [
        "autoencoder2 = Autoencoder2(784,64) # intentionally not providing arguments: You fill in!\n",
        "autoencoder_adjuster2 = torch.optim.Adam(autoencoder2.parameters())\n",
        "with torch.no_grad():\n",
        "  autoencoder_train_fts = autoencoder2(train_fts)[0]\n",
        "  autoencoder_dev_fts = autoencoder2(dev_fts)[0]\n",
        "print(autoencoder_train_fts.shape)\n",
        "print(train_fts)"
      ],
      "metadata": {
        "colab": {
          "base_uri": "https://localhost:8080/"
        },
        "id": "KPiT_MJYXCml",
        "outputId": "c25dfbf1-c547-4058-b0b8-b273487a4128"
      },
      "execution_count": 18,
      "outputs": [
        {
          "output_type": "stream",
          "name": "stdout",
          "text": [
            "784\n"
          ]
        },
        {
          "output_type": "stream",
          "name": "stderr",
          "text": [
            "/usr/local/lib/python3.10/dist-packages/torch/nn/modules/container.py:217: UserWarning: Implicit dimension choice for softmax has been deprecated. Change the call to include dim=X as an argument.\n",
            "  input = module(input)\n"
          ]
        },
        {
          "output_type": "stream",
          "name": "stdout",
          "text": [
            "torch.Size([50000, 64])\n",
            "tensor([[0., 0., 0.,  ..., 0., 0., 0.],\n",
            "        [0., 0., 0.,  ..., 0., 0., 0.],\n",
            "        [0., 0., 0.,  ..., 0., 0., 0.],\n",
            "        ...,\n",
            "        [0., 0., 0.,  ..., 0., 0., 0.],\n",
            "        [0., 0., 0.,  ..., 0., 0., 0.],\n",
            "        [0., 0., 0.,  ..., 0., 0., 0.]])\n"
          ]
        }
      ]
    },
    {
      "cell_type": "code",
      "source": [
        "model3 = MyMLP(num_input_dims=autoencoder_train_fts.shape[1], \n",
        "               num_neurons=[],\n",
        "               num_classes=num_labels)\n",
        "weight_adjuster2 = torch.optim.Adam(model3.parameters())\n",
        "train(model3, autoencoder_train_fts, train_labels, \n",
        "      weight_adjuster=weight_adjuster2,val_features=autoencoder_dev_fts,val_labels=dev_labels,\n",
        "      num_epochs=150, batch_size=25,\n",
        "      epoch_callback=predict_callback(actual=dev_labels,\n",
        "                                      input_fts=autoencoder_dev_fts,\n",
        "                                      model=model3))"
      ],
      "metadata": {
        "colab": {
          "base_uri": "https://localhost:8080/",
          "height": 1000
        },
        "id": "T4Doyt19XnEy",
        "outputId": "b34732db-2091-4471-cf19-86902d488371"
      },
      "execution_count": 19,
      "outputs": [
        {
          "output_type": "stream",
          "name": "stdout",
          "text": [
            "[64]\n",
            "[10]\n",
            "[10] outs\n",
            "64 :i o: 10\n",
            "Epoch 0\n"
          ]
        },
        {
          "output_type": "stream",
          "name": "stderr",
          "text": [
            "<ipython-input-10-e44211bf9fb2>:44: UserWarning: Implicit dimension choice for softmax has been deprecated. Change the call to include dim=X as an argument.\n",
            "  z = fn(h)\n"
          ]
        },
        {
          "output_type": "stream",
          "name": "stdout",
          "text": [
            "torch.Size([10000, 64])\n",
            "torch.Size([10000, 10])\n",
            "f1 score: 0.1147\n",
            "Epoch loss: 2.300920\n",
            "Val loss: 2.299194\n",
            "Epoch 1\n"
          ]
        },
        {
          "output_type": "stream",
          "name": "stderr",
          "text": [
            "<ipython-input-10-e44211bf9fb2>:44: UserWarning: Implicit dimension choice for softmax has been deprecated. Change the call to include dim=X as an argument.\n",
            "  z = fn(h)\n"
          ]
        },
        {
          "output_type": "stream",
          "name": "stdout",
          "text": [
            "torch.Size([10000, 64])\n",
            "torch.Size([10000, 10])\n",
            "f1 score: 0.1147\n",
            "Epoch loss: 2.298667\n",
            "Val loss: 2.297263\n",
            "Epoch 2\n"
          ]
        },
        {
          "output_type": "stream",
          "name": "stderr",
          "text": [
            "<ipython-input-10-e44211bf9fb2>:44: UserWarning: Implicit dimension choice for softmax has been deprecated. Change the call to include dim=X as an argument.\n",
            "  z = fn(h)\n"
          ]
        },
        {
          "output_type": "stream",
          "name": "stdout",
          "text": [
            "torch.Size([10000, 64])\n",
            "torch.Size([10000, 10])\n",
            "f1 score: 0.1147\n",
            "Epoch loss: 2.296753\n",
            "Val loss: 2.295335\n",
            "Epoch 3\n"
          ]
        },
        {
          "output_type": "stream",
          "name": "stderr",
          "text": [
            "<ipython-input-10-e44211bf9fb2>:44: UserWarning: Implicit dimension choice for softmax has been deprecated. Change the call to include dim=X as an argument.\n",
            "  z = fn(h)\n"
          ]
        },
        {
          "output_type": "stream",
          "name": "stdout",
          "text": [
            "torch.Size([10000, 64])\n",
            "torch.Size([10000, 10])\n",
            "f1 score: 0.1147\n",
            "Epoch loss: 2.294841\n",
            "Val loss: 2.293409\n",
            "Epoch 4\n"
          ]
        },
        {
          "output_type": "stream",
          "name": "stderr",
          "text": [
            "<ipython-input-10-e44211bf9fb2>:44: UserWarning: Implicit dimension choice for softmax has been deprecated. Change the call to include dim=X as an argument.\n",
            "  z = fn(h)\n"
          ]
        },
        {
          "output_type": "stream",
          "name": "stdout",
          "text": [
            "torch.Size([10000, 64])\n",
            "torch.Size([10000, 10])\n",
            "f1 score: 0.1147\n",
            "Epoch loss: 2.292932\n",
            "Val loss: 2.291485\n",
            "Epoch 5\n"
          ]
        },
        {
          "output_type": "stream",
          "name": "stderr",
          "text": [
            "<ipython-input-10-e44211bf9fb2>:44: UserWarning: Implicit dimension choice for softmax has been deprecated. Change the call to include dim=X as an argument.\n",
            "  z = fn(h)\n"
          ]
        },
        {
          "output_type": "stream",
          "name": "stdout",
          "text": [
            "torch.Size([10000, 64])\n",
            "torch.Size([10000, 10])\n",
            "f1 score: 0.1147\n",
            "Epoch loss: 2.291025\n",
            "Val loss: 2.289564\n",
            "Epoch 6\n"
          ]
        },
        {
          "output_type": "stream",
          "name": "stderr",
          "text": [
            "<ipython-input-10-e44211bf9fb2>:44: UserWarning: Implicit dimension choice for softmax has been deprecated. Change the call to include dim=X as an argument.\n",
            "  z = fn(h)\n"
          ]
        },
        {
          "output_type": "stream",
          "name": "stdout",
          "text": [
            "torch.Size([10000, 64])\n",
            "torch.Size([10000, 10])\n",
            "f1 score: 0.1147\n",
            "Epoch loss: 2.289121\n",
            "Val loss: 2.287645\n",
            "Epoch 7\n"
          ]
        },
        {
          "output_type": "stream",
          "name": "stderr",
          "text": [
            "<ipython-input-10-e44211bf9fb2>:44: UserWarning: Implicit dimension choice for softmax has been deprecated. Change the call to include dim=X as an argument.\n",
            "  z = fn(h)\n"
          ]
        },
        {
          "output_type": "stream",
          "name": "stdout",
          "text": [
            "torch.Size([10000, 64])\n",
            "torch.Size([10000, 10])\n",
            "f1 score: 0.1147\n",
            "Epoch loss: 2.287219\n",
            "Val loss: 2.285729\n",
            "Epoch 8\n"
          ]
        },
        {
          "output_type": "stream",
          "name": "stderr",
          "text": [
            "<ipython-input-10-e44211bf9fb2>:44: UserWarning: Implicit dimension choice for softmax has been deprecated. Change the call to include dim=X as an argument.\n",
            "  z = fn(h)\n"
          ]
        },
        {
          "output_type": "stream",
          "name": "stdout",
          "text": [
            "torch.Size([10000, 64])\n",
            "torch.Size([10000, 10])\n",
            "f1 score: 0.1155\n",
            "Epoch loss: 2.285319\n",
            "Val loss: 2.283815\n",
            "Epoch 9\n"
          ]
        },
        {
          "output_type": "stream",
          "name": "stderr",
          "text": [
            "<ipython-input-10-e44211bf9fb2>:44: UserWarning: Implicit dimension choice for softmax has been deprecated. Change the call to include dim=X as an argument.\n",
            "  z = fn(h)\n"
          ]
        },
        {
          "output_type": "stream",
          "name": "stdout",
          "text": [
            "torch.Size([10000, 64])\n",
            "torch.Size([10000, 10])\n",
            "f1 score: 0.11760000000000001\n",
            "Epoch loss: 2.283421\n",
            "Val loss: 2.281903\n",
            "Epoch 10\n"
          ]
        },
        {
          "output_type": "stream",
          "name": "stderr",
          "text": [
            "<ipython-input-10-e44211bf9fb2>:44: UserWarning: Implicit dimension choice for softmax has been deprecated. Change the call to include dim=X as an argument.\n",
            "  z = fn(h)\n"
          ]
        },
        {
          "output_type": "stream",
          "name": "stdout",
          "text": [
            "torch.Size([10000, 64])\n",
            "torch.Size([10000, 10])\n",
            "f1 score: 0.1222\n",
            "Epoch loss: 2.281526\n",
            "Val loss: 2.279993\n",
            "Epoch 11\n"
          ]
        },
        {
          "output_type": "stream",
          "name": "stderr",
          "text": [
            "<ipython-input-10-e44211bf9fb2>:44: UserWarning: Implicit dimension choice for softmax has been deprecated. Change the call to include dim=X as an argument.\n",
            "  z = fn(h)\n"
          ]
        },
        {
          "output_type": "stream",
          "name": "stdout",
          "text": [
            "torch.Size([10000, 64])\n",
            "torch.Size([10000, 10])\n",
            "f1 score: 0.1274\n",
            "Epoch loss: 2.279633\n",
            "Val loss: 2.278086\n",
            "Epoch 12\n"
          ]
        },
        {
          "output_type": "stream",
          "name": "stderr",
          "text": [
            "<ipython-input-10-e44211bf9fb2>:44: UserWarning: Implicit dimension choice for softmax has been deprecated. Change the call to include dim=X as an argument.\n",
            "  z = fn(h)\n"
          ]
        },
        {
          "output_type": "stream",
          "name": "stdout",
          "text": [
            "torch.Size([10000, 64])\n",
            "torch.Size([10000, 10])\n",
            "f1 score: 0.1337\n",
            "Epoch loss: 2.277743\n",
            "Val loss: 2.276182\n",
            "Epoch 13\n"
          ]
        },
        {
          "output_type": "stream",
          "name": "stderr",
          "text": [
            "<ipython-input-10-e44211bf9fb2>:44: UserWarning: Implicit dimension choice for softmax has been deprecated. Change the call to include dim=X as an argument.\n",
            "  z = fn(h)\n"
          ]
        },
        {
          "output_type": "stream",
          "name": "stdout",
          "text": [
            "torch.Size([10000, 64])\n",
            "torch.Size([10000, 10])\n",
            "f1 score: 0.1412\n",
            "Epoch loss: 2.275855\n",
            "Val loss: 2.274280\n",
            "Epoch 14\n"
          ]
        },
        {
          "output_type": "stream",
          "name": "stderr",
          "text": [
            "<ipython-input-10-e44211bf9fb2>:44: UserWarning: Implicit dimension choice for softmax has been deprecated. Change the call to include dim=X as an argument.\n",
            "  z = fn(h)\n"
          ]
        },
        {
          "output_type": "stream",
          "name": "stdout",
          "text": [
            "torch.Size([10000, 64])\n",
            "torch.Size([10000, 10])\n",
            "f1 score: 0.1498\n",
            "Epoch loss: 2.273969\n",
            "Val loss: 2.272380\n",
            "Epoch 15\n"
          ]
        },
        {
          "output_type": "stream",
          "name": "stderr",
          "text": [
            "<ipython-input-10-e44211bf9fb2>:44: UserWarning: Implicit dimension choice for softmax has been deprecated. Change the call to include dim=X as an argument.\n",
            "  z = fn(h)\n"
          ]
        },
        {
          "output_type": "stream",
          "name": "stdout",
          "text": [
            "torch.Size([10000, 64])\n",
            "torch.Size([10000, 10])\n",
            "f1 score: 0.1604\n",
            "Epoch loss: 2.272086\n",
            "Val loss: 2.270482\n",
            "Epoch 16\n"
          ]
        },
        {
          "output_type": "stream",
          "name": "stderr",
          "text": [
            "<ipython-input-10-e44211bf9fb2>:44: UserWarning: Implicit dimension choice for softmax has been deprecated. Change the call to include dim=X as an argument.\n",
            "  z = fn(h)\n"
          ]
        },
        {
          "output_type": "stream",
          "name": "stdout",
          "text": [
            "torch.Size([10000, 64])\n",
            "torch.Size([10000, 10])\n",
            "f1 score: 0.1702\n",
            "Epoch loss: 2.270205\n",
            "Val loss: 2.268587\n",
            "Epoch 17\n"
          ]
        },
        {
          "output_type": "stream",
          "name": "stderr",
          "text": [
            "<ipython-input-10-e44211bf9fb2>:44: UserWarning: Implicit dimension choice for softmax has been deprecated. Change the call to include dim=X as an argument.\n",
            "  z = fn(h)\n"
          ]
        },
        {
          "output_type": "stream",
          "name": "stdout",
          "text": [
            "torch.Size([10000, 64])\n",
            "torch.Size([10000, 10])\n",
            "f1 score: 0.1815\n",
            "Epoch loss: 2.268326\n",
            "Val loss: 2.266694\n",
            "Epoch 18\n"
          ]
        },
        {
          "output_type": "stream",
          "name": "stderr",
          "text": [
            "<ipython-input-10-e44211bf9fb2>:44: UserWarning: Implicit dimension choice for softmax has been deprecated. Change the call to include dim=X as an argument.\n",
            "  z = fn(h)\n"
          ]
        },
        {
          "output_type": "stream",
          "name": "stdout",
          "text": [
            "torch.Size([10000, 64])\n",
            "torch.Size([10000, 10])\n",
            "f1 score: 0.1898\n",
            "Epoch loss: 2.266449\n",
            "Val loss: 2.264804\n",
            "Epoch 19\n"
          ]
        },
        {
          "output_type": "stream",
          "name": "stderr",
          "text": [
            "<ipython-input-10-e44211bf9fb2>:44: UserWarning: Implicit dimension choice for softmax has been deprecated. Change the call to include dim=X as an argument.\n",
            "  z = fn(h)\n"
          ]
        },
        {
          "output_type": "stream",
          "name": "stdout",
          "text": [
            "torch.Size([10000, 64])\n",
            "torch.Size([10000, 10])\n",
            "f1 score: 0.2004\n",
            "Epoch loss: 2.264575\n",
            "Val loss: 2.262916\n",
            "Epoch 20\n"
          ]
        },
        {
          "output_type": "stream",
          "name": "stderr",
          "text": [
            "<ipython-input-10-e44211bf9fb2>:44: UserWarning: Implicit dimension choice for softmax has been deprecated. Change the call to include dim=X as an argument.\n",
            "  z = fn(h)\n"
          ]
        },
        {
          "output_type": "stream",
          "name": "stdout",
          "text": [
            "torch.Size([10000, 64])\n",
            "torch.Size([10000, 10])\n",
            "f1 score: 0.2095\n",
            "Epoch loss: 2.262704\n",
            "Val loss: 2.261030\n",
            "Epoch 21\n"
          ]
        },
        {
          "output_type": "stream",
          "name": "stderr",
          "text": [
            "<ipython-input-10-e44211bf9fb2>:44: UserWarning: Implicit dimension choice for softmax has been deprecated. Change the call to include dim=X as an argument.\n",
            "  z = fn(h)\n"
          ]
        },
        {
          "output_type": "stream",
          "name": "stdout",
          "text": [
            "torch.Size([10000, 64])\n",
            "torch.Size([10000, 10])\n",
            "f1 score: 0.2194\n",
            "Epoch loss: 2.260834\n",
            "Val loss: 2.259147\n",
            "Epoch 22\n"
          ]
        },
        {
          "output_type": "stream",
          "name": "stderr",
          "text": [
            "<ipython-input-10-e44211bf9fb2>:44: UserWarning: Implicit dimension choice for softmax has been deprecated. Change the call to include dim=X as an argument.\n",
            "  z = fn(h)\n"
          ]
        },
        {
          "output_type": "stream",
          "name": "stdout",
          "text": [
            "torch.Size([10000, 64])\n",
            "torch.Size([10000, 10])\n",
            "f1 score: 0.2285\n",
            "Epoch loss: 2.258967\n",
            "Val loss: 2.257266\n",
            "Epoch 23\n"
          ]
        },
        {
          "output_type": "stream",
          "name": "stderr",
          "text": [
            "<ipython-input-10-e44211bf9fb2>:44: UserWarning: Implicit dimension choice for softmax has been deprecated. Change the call to include dim=X as an argument.\n",
            "  z = fn(h)\n"
          ]
        },
        {
          "output_type": "stream",
          "name": "stdout",
          "text": [
            "torch.Size([10000, 64])\n",
            "torch.Size([10000, 10])\n",
            "f1 score: 0.2365\n",
            "Epoch loss: 2.257103\n",
            "Val loss: 2.255387\n",
            "Epoch 24\n"
          ]
        },
        {
          "output_type": "stream",
          "name": "stderr",
          "text": [
            "<ipython-input-10-e44211bf9fb2>:44: UserWarning: Implicit dimension choice for softmax has been deprecated. Change the call to include dim=X as an argument.\n",
            "  z = fn(h)\n"
          ]
        },
        {
          "output_type": "stream",
          "name": "stdout",
          "text": [
            "torch.Size([10000, 64])\n",
            "torch.Size([10000, 10])\n",
            "f1 score: 0.2444\n",
            "Epoch loss: 2.255240\n",
            "Val loss: 2.253510\n",
            "Epoch 25\n"
          ]
        },
        {
          "output_type": "stream",
          "name": "stderr",
          "text": [
            "<ipython-input-10-e44211bf9fb2>:44: UserWarning: Implicit dimension choice for softmax has been deprecated. Change the call to include dim=X as an argument.\n",
            "  z = fn(h)\n"
          ]
        },
        {
          "output_type": "stream",
          "name": "stdout",
          "text": [
            "torch.Size([10000, 64])\n",
            "torch.Size([10000, 10])\n",
            "f1 score: 0.2532\n",
            "Epoch loss: 2.253380\n",
            "Val loss: 2.251637\n",
            "Epoch 26\n"
          ]
        },
        {
          "output_type": "stream",
          "name": "stderr",
          "text": [
            "<ipython-input-10-e44211bf9fb2>:44: UserWarning: Implicit dimension choice for softmax has been deprecated. Change the call to include dim=X as an argument.\n",
            "  z = fn(h)\n"
          ]
        },
        {
          "output_type": "stream",
          "name": "stdout",
          "text": [
            "torch.Size([10000, 64])\n",
            "torch.Size([10000, 10])\n",
            "f1 score: 0.2611\n",
            "Epoch loss: 2.251523\n",
            "Val loss: 2.249765\n",
            "Epoch 27\n"
          ]
        },
        {
          "output_type": "stream",
          "name": "stderr",
          "text": [
            "<ipython-input-10-e44211bf9fb2>:44: UserWarning: Implicit dimension choice for softmax has been deprecated. Change the call to include dim=X as an argument.\n",
            "  z = fn(h)\n"
          ]
        },
        {
          "output_type": "stream",
          "name": "stdout",
          "text": [
            "torch.Size([10000, 64])\n",
            "torch.Size([10000, 10])\n",
            "f1 score: 0.2684\n",
            "Epoch loss: 2.249667\n",
            "Val loss: 2.247896\n",
            "Epoch 28\n"
          ]
        },
        {
          "output_type": "stream",
          "name": "stderr",
          "text": [
            "<ipython-input-10-e44211bf9fb2>:44: UserWarning: Implicit dimension choice for softmax has been deprecated. Change the call to include dim=X as an argument.\n",
            "  z = fn(h)\n"
          ]
        },
        {
          "output_type": "stream",
          "name": "stdout",
          "text": [
            "torch.Size([10000, 64])\n",
            "torch.Size([10000, 10])\n",
            "f1 score: 0.2768\n",
            "Epoch loss: 2.247814\n",
            "Val loss: 2.246029\n",
            "Epoch 29\n"
          ]
        },
        {
          "output_type": "stream",
          "name": "stderr",
          "text": [
            "<ipython-input-10-e44211bf9fb2>:44: UserWarning: Implicit dimension choice for softmax has been deprecated. Change the call to include dim=X as an argument.\n",
            "  z = fn(h)\n"
          ]
        },
        {
          "output_type": "stream",
          "name": "stdout",
          "text": [
            "torch.Size([10000, 64])\n",
            "torch.Size([10000, 10])\n",
            "f1 score: 0.2855\n",
            "Epoch loss: 2.245964\n",
            "Val loss: 2.244164\n",
            "Epoch 30\n"
          ]
        },
        {
          "output_type": "stream",
          "name": "stderr",
          "text": [
            "<ipython-input-10-e44211bf9fb2>:44: UserWarning: Implicit dimension choice for softmax has been deprecated. Change the call to include dim=X as an argument.\n",
            "  z = fn(h)\n"
          ]
        },
        {
          "output_type": "stream",
          "name": "stdout",
          "text": [
            "torch.Size([10000, 64])\n",
            "torch.Size([10000, 10])\n",
            "f1 score: 0.2937\n",
            "Epoch loss: 2.244115\n",
            "Val loss: 2.242302\n",
            "Epoch 31\n"
          ]
        },
        {
          "output_type": "stream",
          "name": "stderr",
          "text": [
            "<ipython-input-10-e44211bf9fb2>:44: UserWarning: Implicit dimension choice for softmax has been deprecated. Change the call to include dim=X as an argument.\n",
            "  z = fn(h)\n"
          ]
        },
        {
          "output_type": "stream",
          "name": "stdout",
          "text": [
            "torch.Size([10000, 64])\n",
            "torch.Size([10000, 10])\n",
            "f1 score: 0.3013\n",
            "Epoch loss: 2.242269\n",
            "Val loss: 2.240442\n",
            "Epoch 32\n"
          ]
        },
        {
          "output_type": "stream",
          "name": "stderr",
          "text": [
            "<ipython-input-10-e44211bf9fb2>:44: UserWarning: Implicit dimension choice for softmax has been deprecated. Change the call to include dim=X as an argument.\n",
            "  z = fn(h)\n"
          ]
        },
        {
          "output_type": "stream",
          "name": "stdout",
          "text": [
            "torch.Size([10000, 64])\n",
            "torch.Size([10000, 10])\n",
            "f1 score: 0.3076\n",
            "Epoch loss: 2.240426\n",
            "Val loss: 2.238585\n",
            "Epoch 33\n"
          ]
        },
        {
          "output_type": "stream",
          "name": "stderr",
          "text": [
            "<ipython-input-10-e44211bf9fb2>:44: UserWarning: Implicit dimension choice for softmax has been deprecated. Change the call to include dim=X as an argument.\n",
            "  z = fn(h)\n"
          ]
        },
        {
          "output_type": "stream",
          "name": "stdout",
          "text": [
            "torch.Size([10000, 64])\n",
            "torch.Size([10000, 10])\n",
            "f1 score: 0.3142\n",
            "Epoch loss: 2.238584\n",
            "Val loss: 2.236729\n",
            "Epoch 34\n"
          ]
        },
        {
          "output_type": "stream",
          "name": "stderr",
          "text": [
            "<ipython-input-10-e44211bf9fb2>:44: UserWarning: Implicit dimension choice for softmax has been deprecated. Change the call to include dim=X as an argument.\n",
            "  z = fn(h)\n"
          ]
        },
        {
          "output_type": "stream",
          "name": "stdout",
          "text": [
            "torch.Size([10000, 64])\n",
            "torch.Size([10000, 10])\n",
            "f1 score: 0.3214\n",
            "Epoch loss: 2.236745\n",
            "Val loss: 2.234877\n",
            "Epoch 35\n"
          ]
        },
        {
          "output_type": "stream",
          "name": "stderr",
          "text": [
            "<ipython-input-10-e44211bf9fb2>:44: UserWarning: Implicit dimension choice for softmax has been deprecated. Change the call to include dim=X as an argument.\n",
            "  z = fn(h)\n"
          ]
        },
        {
          "output_type": "stream",
          "name": "stdout",
          "text": [
            "torch.Size([10000, 64])\n",
            "torch.Size([10000, 10])\n",
            "f1 score: 0.3287\n",
            "Epoch loss: 2.234908\n",
            "Val loss: 2.233026\n",
            "Epoch 36\n"
          ]
        },
        {
          "output_type": "stream",
          "name": "stderr",
          "text": [
            "<ipython-input-10-e44211bf9fb2>:44: UserWarning: Implicit dimension choice for softmax has been deprecated. Change the call to include dim=X as an argument.\n",
            "  z = fn(h)\n"
          ]
        },
        {
          "output_type": "stream",
          "name": "stdout",
          "text": [
            "torch.Size([10000, 64])\n",
            "torch.Size([10000, 10])\n",
            "f1 score: 0.3353\n",
            "Epoch loss: 2.233074\n",
            "Val loss: 2.231178\n",
            "Epoch 37\n"
          ]
        },
        {
          "output_type": "stream",
          "name": "stderr",
          "text": [
            "<ipython-input-10-e44211bf9fb2>:44: UserWarning: Implicit dimension choice for softmax has been deprecated. Change the call to include dim=X as an argument.\n",
            "  z = fn(h)\n"
          ]
        },
        {
          "output_type": "stream",
          "name": "stdout",
          "text": [
            "torch.Size([10000, 64])\n",
            "torch.Size([10000, 10])\n",
            "f1 score: 0.3425\n",
            "Epoch loss: 2.231242\n",
            "Val loss: 2.229333\n",
            "Epoch 38\n"
          ]
        },
        {
          "output_type": "stream",
          "name": "stderr",
          "text": [
            "<ipython-input-10-e44211bf9fb2>:44: UserWarning: Implicit dimension choice for softmax has been deprecated. Change the call to include dim=X as an argument.\n",
            "  z = fn(h)\n"
          ]
        },
        {
          "output_type": "stream",
          "name": "stdout",
          "text": [
            "torch.Size([10000, 64])\n",
            "torch.Size([10000, 10])\n",
            "f1 score: 0.3482\n",
            "Epoch loss: 2.229412\n",
            "Val loss: 2.227489\n",
            "Epoch 39\n"
          ]
        },
        {
          "output_type": "stream",
          "name": "stderr",
          "text": [
            "<ipython-input-10-e44211bf9fb2>:44: UserWarning: Implicit dimension choice for softmax has been deprecated. Change the call to include dim=X as an argument.\n",
            "  z = fn(h)\n"
          ]
        },
        {
          "output_type": "stream",
          "name": "stdout",
          "text": [
            "torch.Size([10000, 64])\n",
            "torch.Size([10000, 10])\n",
            "f1 score: 0.3552\n",
            "Epoch loss: 2.227585\n",
            "Val loss: 2.225648\n",
            "Epoch 40\n"
          ]
        },
        {
          "output_type": "stream",
          "name": "stderr",
          "text": [
            "<ipython-input-10-e44211bf9fb2>:44: UserWarning: Implicit dimension choice for softmax has been deprecated. Change the call to include dim=X as an argument.\n",
            "  z = fn(h)\n"
          ]
        },
        {
          "output_type": "stream",
          "name": "stdout",
          "text": [
            "torch.Size([10000, 64])\n",
            "torch.Size([10000, 10])\n",
            "f1 score: 0.3606\n",
            "Epoch loss: 2.225760\n",
            "Val loss: 2.223809\n",
            "Epoch 41\n"
          ]
        },
        {
          "output_type": "stream",
          "name": "stderr",
          "text": [
            "<ipython-input-10-e44211bf9fb2>:44: UserWarning: Implicit dimension choice for softmax has been deprecated. Change the call to include dim=X as an argument.\n",
            "  z = fn(h)\n"
          ]
        },
        {
          "output_type": "stream",
          "name": "stdout",
          "text": [
            "torch.Size([10000, 64])\n",
            "torch.Size([10000, 10])\n",
            "f1 score: 0.3661\n",
            "Epoch loss: 2.223937\n",
            "Val loss: 2.221973\n",
            "Epoch 42\n"
          ]
        },
        {
          "output_type": "stream",
          "name": "stderr",
          "text": [
            "<ipython-input-10-e44211bf9fb2>:44: UserWarning: Implicit dimension choice for softmax has been deprecated. Change the call to include dim=X as an argument.\n",
            "  z = fn(h)\n"
          ]
        },
        {
          "output_type": "stream",
          "name": "stdout",
          "text": [
            "torch.Size([10000, 64])\n",
            "torch.Size([10000, 10])\n",
            "f1 score: 0.3726\n",
            "Epoch loss: 2.222116\n",
            "Val loss: 2.220139\n",
            "Epoch 43\n"
          ]
        },
        {
          "output_type": "stream",
          "name": "stderr",
          "text": [
            "<ipython-input-10-e44211bf9fb2>:44: UserWarning: Implicit dimension choice for softmax has been deprecated. Change the call to include dim=X as an argument.\n",
            "  z = fn(h)\n"
          ]
        },
        {
          "output_type": "stream",
          "name": "stdout",
          "text": [
            "torch.Size([10000, 64])\n",
            "torch.Size([10000, 10])\n",
            "f1 score: 0.3785\n",
            "Epoch loss: 2.220298\n",
            "Val loss: 2.218307\n",
            "Epoch 44\n"
          ]
        },
        {
          "output_type": "stream",
          "name": "stderr",
          "text": [
            "<ipython-input-10-e44211bf9fb2>:44: UserWarning: Implicit dimension choice for softmax has been deprecated. Change the call to include dim=X as an argument.\n",
            "  z = fn(h)\n"
          ]
        },
        {
          "output_type": "stream",
          "name": "stdout",
          "text": [
            "torch.Size([10000, 64])\n",
            "torch.Size([10000, 10])\n",
            "f1 score: 0.3832999999999999\n",
            "Epoch loss: 2.218482\n",
            "Val loss: 2.216477\n",
            "Epoch 45\n"
          ]
        },
        {
          "output_type": "stream",
          "name": "stderr",
          "text": [
            "<ipython-input-10-e44211bf9fb2>:44: UserWarning: Implicit dimension choice for softmax has been deprecated. Change the call to include dim=X as an argument.\n",
            "  z = fn(h)\n"
          ]
        },
        {
          "output_type": "stream",
          "name": "stdout",
          "text": [
            "torch.Size([10000, 64])\n",
            "torch.Size([10000, 10])\n",
            "f1 score: 0.3887\n",
            "Epoch loss: 2.216669\n",
            "Val loss: 2.214650\n",
            "Epoch 46\n"
          ]
        },
        {
          "output_type": "stream",
          "name": "stderr",
          "text": [
            "<ipython-input-10-e44211bf9fb2>:44: UserWarning: Implicit dimension choice for softmax has been deprecated. Change the call to include dim=X as an argument.\n",
            "  z = fn(h)\n"
          ]
        },
        {
          "output_type": "stream",
          "name": "stdout",
          "text": [
            "torch.Size([10000, 64])\n",
            "torch.Size([10000, 10])\n",
            "f1 score: 0.3952\n",
            "Epoch loss: 2.214857\n",
            "Val loss: 2.212825\n",
            "Epoch 47\n"
          ]
        },
        {
          "output_type": "stream",
          "name": "stderr",
          "text": [
            "<ipython-input-10-e44211bf9fb2>:44: UserWarning: Implicit dimension choice for softmax has been deprecated. Change the call to include dim=X as an argument.\n",
            "  z = fn(h)\n"
          ]
        },
        {
          "output_type": "stream",
          "name": "stdout",
          "text": [
            "torch.Size([10000, 64])\n",
            "torch.Size([10000, 10])\n",
            "f1 score: 0.3994\n",
            "Epoch loss: 2.213048\n",
            "Val loss: 2.211003\n",
            "Epoch 48\n"
          ]
        },
        {
          "output_type": "stream",
          "name": "stderr",
          "text": [
            "<ipython-input-10-e44211bf9fb2>:44: UserWarning: Implicit dimension choice for softmax has been deprecated. Change the call to include dim=X as an argument.\n",
            "  z = fn(h)\n"
          ]
        },
        {
          "output_type": "stream",
          "name": "stdout",
          "text": [
            "torch.Size([10000, 64])\n",
            "torch.Size([10000, 10])\n",
            "f1 score: 0.405\n",
            "Epoch loss: 2.211242\n",
            "Val loss: 2.209183\n",
            "Epoch 49\n"
          ]
        },
        {
          "output_type": "stream",
          "name": "stderr",
          "text": [
            "<ipython-input-10-e44211bf9fb2>:44: UserWarning: Implicit dimension choice for softmax has been deprecated. Change the call to include dim=X as an argument.\n",
            "  z = fn(h)\n"
          ]
        },
        {
          "output_type": "stream",
          "name": "stdout",
          "text": [
            "torch.Size([10000, 64])\n",
            "torch.Size([10000, 10])\n",
            "f1 score: 0.411\n",
            "Epoch loss: 2.209437\n",
            "Val loss: 2.207365\n",
            "Epoch 50\n"
          ]
        },
        {
          "output_type": "stream",
          "name": "stderr",
          "text": [
            "<ipython-input-10-e44211bf9fb2>:44: UserWarning: Implicit dimension choice for softmax has been deprecated. Change the call to include dim=X as an argument.\n",
            "  z = fn(h)\n"
          ]
        },
        {
          "output_type": "stream",
          "name": "stdout",
          "text": [
            "torch.Size([10000, 64])\n",
            "torch.Size([10000, 10])\n",
            "f1 score: 0.4155\n",
            "Epoch loss: 2.207635\n",
            "Val loss: 2.205549\n",
            "Epoch 51\n"
          ]
        },
        {
          "output_type": "stream",
          "name": "stderr",
          "text": [
            "<ipython-input-10-e44211bf9fb2>:44: UserWarning: Implicit dimension choice for softmax has been deprecated. Change the call to include dim=X as an argument.\n",
            "  z = fn(h)\n"
          ]
        },
        {
          "output_type": "stream",
          "name": "stdout",
          "text": [
            "torch.Size([10000, 64])\n",
            "torch.Size([10000, 10])\n",
            "f1 score: 0.4208\n",
            "Epoch loss: 2.205836\n",
            "Val loss: 2.203736\n",
            "Epoch 52\n"
          ]
        },
        {
          "output_type": "stream",
          "name": "stderr",
          "text": [
            "<ipython-input-10-e44211bf9fb2>:44: UserWarning: Implicit dimension choice for softmax has been deprecated. Change the call to include dim=X as an argument.\n",
            "  z = fn(h)\n"
          ]
        },
        {
          "output_type": "stream",
          "name": "stdout",
          "text": [
            "torch.Size([10000, 64])\n",
            "torch.Size([10000, 10])\n",
            "f1 score: 0.4252\n",
            "Epoch loss: 2.204038\n",
            "Val loss: 2.201925\n",
            "Epoch 53\n"
          ]
        },
        {
          "output_type": "stream",
          "name": "stderr",
          "text": [
            "<ipython-input-10-e44211bf9fb2>:44: UserWarning: Implicit dimension choice for softmax has been deprecated. Change the call to include dim=X as an argument.\n",
            "  z = fn(h)\n"
          ]
        },
        {
          "output_type": "stream",
          "name": "stdout",
          "text": [
            "torch.Size([10000, 64])\n",
            "torch.Size([10000, 10])\n",
            "f1 score: 0.429\n",
            "Epoch loss: 2.202243\n",
            "Val loss: 2.200116\n",
            "Epoch 54\n"
          ]
        },
        {
          "output_type": "stream",
          "name": "stderr",
          "text": [
            "<ipython-input-10-e44211bf9fb2>:44: UserWarning: Implicit dimension choice for softmax has been deprecated. Change the call to include dim=X as an argument.\n",
            "  z = fn(h)\n"
          ]
        },
        {
          "output_type": "stream",
          "name": "stdout",
          "text": [
            "torch.Size([10000, 64])\n",
            "torch.Size([10000, 10])\n",
            "f1 score: 0.4331\n",
            "Epoch loss: 2.200450\n",
            "Val loss: 2.198310\n",
            "Epoch 55\n"
          ]
        },
        {
          "output_type": "stream",
          "name": "stderr",
          "text": [
            "<ipython-input-10-e44211bf9fb2>:44: UserWarning: Implicit dimension choice for softmax has been deprecated. Change the call to include dim=X as an argument.\n",
            "  z = fn(h)\n"
          ]
        },
        {
          "output_type": "stream",
          "name": "stdout",
          "text": [
            "torch.Size([10000, 64])\n",
            "torch.Size([10000, 10])\n",
            "f1 score: 0.4374\n",
            "Epoch loss: 2.198660\n",
            "Val loss: 2.196507\n",
            "Epoch 56\n"
          ]
        },
        {
          "output_type": "stream",
          "name": "stderr",
          "text": [
            "<ipython-input-10-e44211bf9fb2>:44: UserWarning: Implicit dimension choice for softmax has been deprecated. Change the call to include dim=X as an argument.\n",
            "  z = fn(h)\n"
          ]
        },
        {
          "output_type": "stream",
          "name": "stdout",
          "text": [
            "torch.Size([10000, 64])\n",
            "torch.Size([10000, 10])\n",
            "f1 score: 0.4415\n",
            "Epoch loss: 2.196872\n",
            "Val loss: 2.194705\n",
            "Epoch 57\n"
          ]
        },
        {
          "output_type": "stream",
          "name": "stderr",
          "text": [
            "<ipython-input-10-e44211bf9fb2>:44: UserWarning: Implicit dimension choice for softmax has been deprecated. Change the call to include dim=X as an argument.\n",
            "  z = fn(h)\n"
          ]
        },
        {
          "output_type": "stream",
          "name": "stdout",
          "text": [
            "torch.Size([10000, 64])\n",
            "torch.Size([10000, 10])\n",
            "f1 score: 0.4457\n",
            "Epoch loss: 2.195086\n",
            "Val loss: 2.192905\n",
            "Epoch 58\n"
          ]
        },
        {
          "output_type": "stream",
          "name": "stderr",
          "text": [
            "<ipython-input-10-e44211bf9fb2>:44: UserWarning: Implicit dimension choice for softmax has been deprecated. Change the call to include dim=X as an argument.\n",
            "  z = fn(h)\n"
          ]
        },
        {
          "output_type": "stream",
          "name": "stdout",
          "text": [
            "torch.Size([10000, 64])\n",
            "torch.Size([10000, 10])\n",
            "f1 score: 0.44810000000000005\n",
            "Epoch loss: 2.193302\n",
            "Val loss: 2.191109\n",
            "Epoch 59\n"
          ]
        },
        {
          "output_type": "stream",
          "name": "stderr",
          "text": [
            "<ipython-input-10-e44211bf9fb2>:44: UserWarning: Implicit dimension choice for softmax has been deprecated. Change the call to include dim=X as an argument.\n",
            "  z = fn(h)\n"
          ]
        },
        {
          "output_type": "stream",
          "name": "stdout",
          "text": [
            "torch.Size([10000, 64])\n",
            "torch.Size([10000, 10])\n",
            "f1 score: 0.4531\n",
            "Epoch loss: 2.191521\n",
            "Val loss: 2.189314\n",
            "Epoch 60\n"
          ]
        },
        {
          "output_type": "stream",
          "name": "stderr",
          "text": [
            "<ipython-input-10-e44211bf9fb2>:44: UserWarning: Implicit dimension choice for softmax has been deprecated. Change the call to include dim=X as an argument.\n",
            "  z = fn(h)\n"
          ]
        },
        {
          "output_type": "stream",
          "name": "stdout",
          "text": [
            "torch.Size([10000, 64])\n",
            "torch.Size([10000, 10])\n",
            "f1 score: 0.4566\n",
            "Epoch loss: 2.189742\n",
            "Val loss: 2.187522\n",
            "Epoch 61\n"
          ]
        },
        {
          "output_type": "stream",
          "name": "stderr",
          "text": [
            "<ipython-input-10-e44211bf9fb2>:44: UserWarning: Implicit dimension choice for softmax has been deprecated. Change the call to include dim=X as an argument.\n",
            "  z = fn(h)\n"
          ]
        },
        {
          "output_type": "stream",
          "name": "stdout",
          "text": [
            "torch.Size([10000, 64])\n",
            "torch.Size([10000, 10])\n",
            "f1 score: 0.4597\n",
            "Epoch loss: 2.187965\n",
            "Val loss: 2.185732\n",
            "Epoch 62\n"
          ]
        },
        {
          "output_type": "stream",
          "name": "stderr",
          "text": [
            "<ipython-input-10-e44211bf9fb2>:44: UserWarning: Implicit dimension choice for softmax has been deprecated. Change the call to include dim=X as an argument.\n",
            "  z = fn(h)\n"
          ]
        },
        {
          "output_type": "stream",
          "name": "stdout",
          "text": [
            "torch.Size([10000, 64])\n",
            "torch.Size([10000, 10])\n",
            "f1 score: 0.4633\n",
            "Epoch loss: 2.186190\n",
            "Val loss: 2.183944\n",
            "Epoch 63\n"
          ]
        },
        {
          "output_type": "stream",
          "name": "stderr",
          "text": [
            "<ipython-input-10-e44211bf9fb2>:44: UserWarning: Implicit dimension choice for softmax has been deprecated. Change the call to include dim=X as an argument.\n",
            "  z = fn(h)\n"
          ]
        },
        {
          "output_type": "stream",
          "name": "stdout",
          "text": [
            "torch.Size([10000, 64])\n",
            "torch.Size([10000, 10])\n",
            "f1 score: 0.4677\n",
            "Epoch loss: 2.184418\n",
            "Val loss: 2.182159\n",
            "Epoch 64\n"
          ]
        },
        {
          "output_type": "stream",
          "name": "stderr",
          "text": [
            "<ipython-input-10-e44211bf9fb2>:44: UserWarning: Implicit dimension choice for softmax has been deprecated. Change the call to include dim=X as an argument.\n",
            "  z = fn(h)\n"
          ]
        },
        {
          "output_type": "stream",
          "name": "stdout",
          "text": [
            "torch.Size([10000, 64])\n",
            "torch.Size([10000, 10])\n",
            "f1 score: 0.4712\n",
            "Epoch loss: 2.182648\n",
            "Val loss: 2.180376\n",
            "Epoch 65\n"
          ]
        },
        {
          "output_type": "stream",
          "name": "stderr",
          "text": [
            "<ipython-input-10-e44211bf9fb2>:44: UserWarning: Implicit dimension choice for softmax has been deprecated. Change the call to include dim=X as an argument.\n",
            "  z = fn(h)\n"
          ]
        },
        {
          "output_type": "stream",
          "name": "stdout",
          "text": [
            "torch.Size([10000, 64])\n",
            "torch.Size([10000, 10])\n",
            "f1 score: 0.4736\n",
            "Epoch loss: 2.180881\n",
            "Val loss: 2.178595\n",
            "Epoch 66\n"
          ]
        },
        {
          "output_type": "stream",
          "name": "stderr",
          "text": [
            "<ipython-input-10-e44211bf9fb2>:44: UserWarning: Implicit dimension choice for softmax has been deprecated. Change the call to include dim=X as an argument.\n",
            "  z = fn(h)\n"
          ]
        },
        {
          "output_type": "stream",
          "name": "stdout",
          "text": [
            "torch.Size([10000, 64])\n",
            "torch.Size([10000, 10])\n",
            "f1 score: 0.4769\n",
            "Epoch loss: 2.179115\n",
            "Val loss: 2.176816\n",
            "Epoch 67\n"
          ]
        },
        {
          "output_type": "stream",
          "name": "stderr",
          "text": [
            "<ipython-input-10-e44211bf9fb2>:44: UserWarning: Implicit dimension choice for softmax has been deprecated. Change the call to include dim=X as an argument.\n",
            "  z = fn(h)\n"
          ]
        },
        {
          "output_type": "stream",
          "name": "stdout",
          "text": [
            "torch.Size([10000, 64])\n",
            "torch.Size([10000, 10])\n",
            "f1 score: 0.4802\n",
            "Epoch loss: 2.177352\n",
            "Val loss: 2.175040\n",
            "Epoch 68\n"
          ]
        },
        {
          "output_type": "stream",
          "name": "stderr",
          "text": [
            "<ipython-input-10-e44211bf9fb2>:44: UserWarning: Implicit dimension choice for softmax has been deprecated. Change the call to include dim=X as an argument.\n",
            "  z = fn(h)\n"
          ]
        },
        {
          "output_type": "stream",
          "name": "stdout",
          "text": [
            "torch.Size([10000, 64])\n",
            "torch.Size([10000, 10])\n",
            "f1 score: 0.4829\n",
            "Epoch loss: 2.175592\n",
            "Val loss: 2.173266\n",
            "Epoch 69\n"
          ]
        },
        {
          "output_type": "stream",
          "name": "stderr",
          "text": [
            "<ipython-input-10-e44211bf9fb2>:44: UserWarning: Implicit dimension choice for softmax has been deprecated. Change the call to include dim=X as an argument.\n",
            "  z = fn(h)\n"
          ]
        },
        {
          "output_type": "stream",
          "name": "stdout",
          "text": [
            "torch.Size([10000, 64])\n",
            "torch.Size([10000, 10])\n",
            "f1 score: 0.4859\n",
            "Epoch loss: 2.173833\n",
            "Val loss: 2.171494\n",
            "Epoch 70\n"
          ]
        },
        {
          "output_type": "stream",
          "name": "stderr",
          "text": [
            "<ipython-input-10-e44211bf9fb2>:44: UserWarning: Implicit dimension choice for softmax has been deprecated. Change the call to include dim=X as an argument.\n",
            "  z = fn(h)\n"
          ]
        },
        {
          "output_type": "stream",
          "name": "stdout",
          "text": [
            "torch.Size([10000, 64])\n",
            "torch.Size([10000, 10])\n",
            "f1 score: 0.4884\n",
            "Epoch loss: 2.172077\n",
            "Val loss: 2.169725\n",
            "Epoch 71\n"
          ]
        },
        {
          "output_type": "stream",
          "name": "stderr",
          "text": [
            "<ipython-input-10-e44211bf9fb2>:44: UserWarning: Implicit dimension choice for softmax has been deprecated. Change the call to include dim=X as an argument.\n",
            "  z = fn(h)\n"
          ]
        },
        {
          "output_type": "stream",
          "name": "stdout",
          "text": [
            "torch.Size([10000, 64])\n",
            "torch.Size([10000, 10])\n",
            "f1 score: 0.4915\n",
            "Epoch loss: 2.170323\n",
            "Val loss: 2.167958\n",
            "Epoch 72\n"
          ]
        },
        {
          "output_type": "stream",
          "name": "stderr",
          "text": [
            "<ipython-input-10-e44211bf9fb2>:44: UserWarning: Implicit dimension choice for softmax has been deprecated. Change the call to include dim=X as an argument.\n",
            "  z = fn(h)\n"
          ]
        },
        {
          "output_type": "stream",
          "name": "stdout",
          "text": [
            "torch.Size([10000, 64])\n",
            "torch.Size([10000, 10])\n",
            "f1 score: 0.4938\n",
            "Epoch loss: 2.168571\n",
            "Val loss: 2.166193\n",
            "Epoch 73\n"
          ]
        },
        {
          "output_type": "stream",
          "name": "stderr",
          "text": [
            "<ipython-input-10-e44211bf9fb2>:44: UserWarning: Implicit dimension choice for softmax has been deprecated. Change the call to include dim=X as an argument.\n",
            "  z = fn(h)\n"
          ]
        },
        {
          "output_type": "stream",
          "name": "stdout",
          "text": [
            "torch.Size([10000, 64])\n",
            "torch.Size([10000, 10])\n",
            "f1 score: 0.4966\n",
            "Epoch loss: 2.166822\n",
            "Val loss: 2.164431\n",
            "Epoch 74\n"
          ]
        },
        {
          "output_type": "stream",
          "name": "stderr",
          "text": [
            "<ipython-input-10-e44211bf9fb2>:44: UserWarning: Implicit dimension choice for softmax has been deprecated. Change the call to include dim=X as an argument.\n",
            "  z = fn(h)\n"
          ]
        },
        {
          "output_type": "stream",
          "name": "stdout",
          "text": [
            "torch.Size([10000, 64])\n",
            "torch.Size([10000, 10])\n",
            "f1 score: 0.4994\n",
            "Epoch loss: 2.165075\n",
            "Val loss: 2.162671\n",
            "Epoch 75\n"
          ]
        },
        {
          "output_type": "stream",
          "name": "stderr",
          "text": [
            "<ipython-input-10-e44211bf9fb2>:44: UserWarning: Implicit dimension choice for softmax has been deprecated. Change the call to include dim=X as an argument.\n",
            "  z = fn(h)\n"
          ]
        },
        {
          "output_type": "stream",
          "name": "stdout",
          "text": [
            "torch.Size([10000, 64])\n",
            "torch.Size([10000, 10])\n",
            "f1 score: 0.5019\n",
            "Epoch loss: 2.163330\n",
            "Val loss: 2.160913\n",
            "Epoch 76\n"
          ]
        },
        {
          "output_type": "stream",
          "name": "stderr",
          "text": [
            "<ipython-input-10-e44211bf9fb2>:44: UserWarning: Implicit dimension choice for softmax has been deprecated. Change the call to include dim=X as an argument.\n",
            "  z = fn(h)\n"
          ]
        },
        {
          "output_type": "stream",
          "name": "stdout",
          "text": [
            "torch.Size([10000, 64])\n",
            "torch.Size([10000, 10])\n",
            "f1 score: 0.5043\n",
            "Epoch loss: 2.161587\n",
            "Val loss: 2.159157\n",
            "Epoch 77\n"
          ]
        },
        {
          "output_type": "stream",
          "name": "stderr",
          "text": [
            "<ipython-input-10-e44211bf9fb2>:44: UserWarning: Implicit dimension choice for softmax has been deprecated. Change the call to include dim=X as an argument.\n",
            "  z = fn(h)\n"
          ]
        },
        {
          "output_type": "stream",
          "name": "stdout",
          "text": [
            "torch.Size([10000, 64])\n",
            "torch.Size([10000, 10])\n",
            "f1 score: 0.5061\n",
            "Epoch loss: 2.159847\n",
            "Val loss: 2.157404\n",
            "Epoch 78\n"
          ]
        },
        {
          "output_type": "stream",
          "name": "stderr",
          "text": [
            "<ipython-input-10-e44211bf9fb2>:44: UserWarning: Implicit dimension choice for softmax has been deprecated. Change the call to include dim=X as an argument.\n",
            "  z = fn(h)\n"
          ]
        },
        {
          "output_type": "stream",
          "name": "stdout",
          "text": [
            "torch.Size([10000, 64])\n",
            "torch.Size([10000, 10])\n",
            "f1 score: 0.5091\n",
            "Epoch loss: 2.158109\n",
            "Val loss: 2.155653\n",
            "Epoch 79\n"
          ]
        },
        {
          "output_type": "stream",
          "name": "stderr",
          "text": [
            "<ipython-input-10-e44211bf9fb2>:44: UserWarning: Implicit dimension choice for softmax has been deprecated. Change the call to include dim=X as an argument.\n",
            "  z = fn(h)\n"
          ]
        },
        {
          "output_type": "stream",
          "name": "stdout",
          "text": [
            "torch.Size([10000, 64])\n",
            "torch.Size([10000, 10])\n",
            "f1 score: 0.511\n",
            "Epoch loss: 2.156373\n",
            "Val loss: 2.153904\n",
            "Epoch 80\n"
          ]
        },
        {
          "output_type": "stream",
          "name": "stderr",
          "text": [
            "<ipython-input-10-e44211bf9fb2>:44: UserWarning: Implicit dimension choice for softmax has been deprecated. Change the call to include dim=X as an argument.\n",
            "  z = fn(h)\n"
          ]
        },
        {
          "output_type": "stream",
          "name": "stdout",
          "text": [
            "torch.Size([10000, 64])\n",
            "torch.Size([10000, 10])\n",
            "f1 score: 0.5141\n",
            "Epoch loss: 2.154640\n",
            "Val loss: 2.152158\n",
            "Epoch 81\n"
          ]
        },
        {
          "output_type": "stream",
          "name": "stderr",
          "text": [
            "<ipython-input-10-e44211bf9fb2>:44: UserWarning: Implicit dimension choice for softmax has been deprecated. Change the call to include dim=X as an argument.\n",
            "  z = fn(h)\n"
          ]
        },
        {
          "output_type": "stream",
          "name": "stdout",
          "text": [
            "torch.Size([10000, 64])\n",
            "torch.Size([10000, 10])\n",
            "f1 score: 0.5167\n",
            "Epoch loss: 2.152908\n",
            "Val loss: 2.150414\n",
            "Epoch 82\n"
          ]
        },
        {
          "output_type": "stream",
          "name": "stderr",
          "text": [
            "<ipython-input-10-e44211bf9fb2>:44: UserWarning: Implicit dimension choice for softmax has been deprecated. Change the call to include dim=X as an argument.\n",
            "  z = fn(h)\n"
          ]
        },
        {
          "output_type": "stream",
          "name": "stdout",
          "text": [
            "torch.Size([10000, 64])\n",
            "torch.Size([10000, 10])\n",
            "f1 score: 0.5185\n",
            "Epoch loss: 2.151179\n",
            "Val loss: 2.148672\n",
            "Epoch 83\n"
          ]
        },
        {
          "output_type": "stream",
          "name": "stderr",
          "text": [
            "<ipython-input-10-e44211bf9fb2>:44: UserWarning: Implicit dimension choice for softmax has been deprecated. Change the call to include dim=X as an argument.\n",
            "  z = fn(h)\n"
          ]
        },
        {
          "output_type": "stream",
          "name": "stdout",
          "text": [
            "torch.Size([10000, 64])\n",
            "torch.Size([10000, 10])\n",
            "f1 score: 0.5193\n",
            "Epoch loss: 2.149453\n",
            "Val loss: 2.146932\n",
            "Epoch 84\n"
          ]
        },
        {
          "output_type": "stream",
          "name": "stderr",
          "text": [
            "<ipython-input-10-e44211bf9fb2>:44: UserWarning: Implicit dimension choice for softmax has been deprecated. Change the call to include dim=X as an argument.\n",
            "  z = fn(h)\n"
          ]
        },
        {
          "output_type": "stream",
          "name": "stdout",
          "text": [
            "torch.Size([10000, 64])\n",
            "torch.Size([10000, 10])\n",
            "f1 score: 0.5216\n",
            "Epoch loss: 2.147728\n",
            "Val loss: 2.145195\n",
            "Epoch 85\n"
          ]
        },
        {
          "output_type": "stream",
          "name": "stderr",
          "text": [
            "<ipython-input-10-e44211bf9fb2>:44: UserWarning: Implicit dimension choice for softmax has been deprecated. Change the call to include dim=X as an argument.\n",
            "  z = fn(h)\n"
          ]
        },
        {
          "output_type": "stream",
          "name": "stdout",
          "text": [
            "torch.Size([10000, 64])\n",
            "torch.Size([10000, 10])\n",
            "f1 score: 0.5242\n",
            "Epoch loss: 2.146006\n",
            "Val loss: 2.143460\n",
            "Epoch 86\n"
          ]
        },
        {
          "output_type": "stream",
          "name": "stderr",
          "text": [
            "<ipython-input-10-e44211bf9fb2>:44: UserWarning: Implicit dimension choice for softmax has been deprecated. Change the call to include dim=X as an argument.\n",
            "  z = fn(h)\n"
          ]
        },
        {
          "output_type": "stream",
          "name": "stdout",
          "text": [
            "torch.Size([10000, 64])\n",
            "torch.Size([10000, 10])\n",
            "f1 score: 0.5266\n",
            "Epoch loss: 2.144286\n",
            "Val loss: 2.141727\n",
            "Epoch 87\n"
          ]
        },
        {
          "output_type": "stream",
          "name": "stderr",
          "text": [
            "<ipython-input-10-e44211bf9fb2>:44: UserWarning: Implicit dimension choice for softmax has been deprecated. Change the call to include dim=X as an argument.\n",
            "  z = fn(h)\n"
          ]
        },
        {
          "output_type": "stream",
          "name": "stdout",
          "text": [
            "torch.Size([10000, 64])\n",
            "torch.Size([10000, 10])\n",
            "f1 score: 0.5286\n",
            "Epoch loss: 2.142568\n",
            "Val loss: 2.139997\n",
            "Epoch 88\n"
          ]
        },
        {
          "output_type": "stream",
          "name": "stderr",
          "text": [
            "<ipython-input-10-e44211bf9fb2>:44: UserWarning: Implicit dimension choice for softmax has been deprecated. Change the call to include dim=X as an argument.\n",
            "  z = fn(h)\n"
          ]
        },
        {
          "output_type": "stream",
          "name": "stdout",
          "text": [
            "torch.Size([10000, 64])\n",
            "torch.Size([10000, 10])\n",
            "f1 score: 0.5304\n",
            "Epoch loss: 2.140853\n",
            "Val loss: 2.138268\n",
            "Epoch 89\n"
          ]
        },
        {
          "output_type": "stream",
          "name": "stderr",
          "text": [
            "<ipython-input-10-e44211bf9fb2>:44: UserWarning: Implicit dimension choice for softmax has been deprecated. Change the call to include dim=X as an argument.\n",
            "  z = fn(h)\n"
          ]
        },
        {
          "output_type": "stream",
          "name": "stdout",
          "text": [
            "torch.Size([10000, 64])\n",
            "torch.Size([10000, 10])\n",
            "f1 score: 0.5325\n",
            "Epoch loss: 2.139140\n",
            "Val loss: 2.136543\n",
            "Epoch 90\n"
          ]
        },
        {
          "output_type": "stream",
          "name": "stderr",
          "text": [
            "<ipython-input-10-e44211bf9fb2>:44: UserWarning: Implicit dimension choice for softmax has been deprecated. Change the call to include dim=X as an argument.\n",
            "  z = fn(h)\n"
          ]
        },
        {
          "output_type": "stream",
          "name": "stdout",
          "text": [
            "torch.Size([10000, 64])\n",
            "torch.Size([10000, 10])\n",
            "f1 score: 0.5344\n",
            "Epoch loss: 2.137429\n",
            "Val loss: 2.134819\n",
            "Epoch 91\n"
          ]
        },
        {
          "output_type": "stream",
          "name": "stderr",
          "text": [
            "<ipython-input-10-e44211bf9fb2>:44: UserWarning: Implicit dimension choice for softmax has been deprecated. Change the call to include dim=X as an argument.\n",
            "  z = fn(h)\n"
          ]
        },
        {
          "output_type": "stream",
          "name": "stdout",
          "text": [
            "torch.Size([10000, 64])\n",
            "torch.Size([10000, 10])\n",
            "f1 score: 0.5356\n",
            "Epoch loss: 2.135720\n",
            "Val loss: 2.133097\n",
            "Epoch 92\n"
          ]
        },
        {
          "output_type": "stream",
          "name": "stderr",
          "text": [
            "<ipython-input-10-e44211bf9fb2>:44: UserWarning: Implicit dimension choice for softmax has been deprecated. Change the call to include dim=X as an argument.\n",
            "  z = fn(h)\n"
          ]
        },
        {
          "output_type": "stream",
          "name": "stdout",
          "text": [
            "torch.Size([10000, 64])\n",
            "torch.Size([10000, 10])\n",
            "f1 score: 0.5369\n",
            "Epoch loss: 2.134014\n",
            "Val loss: 2.131378\n",
            "Epoch 93\n"
          ]
        },
        {
          "output_type": "stream",
          "name": "stderr",
          "text": [
            "<ipython-input-10-e44211bf9fb2>:44: UserWarning: Implicit dimension choice for softmax has been deprecated. Change the call to include dim=X as an argument.\n",
            "  z = fn(h)\n"
          ]
        },
        {
          "output_type": "stream",
          "name": "stdout",
          "text": [
            "torch.Size([10000, 64])\n",
            "torch.Size([10000, 10])\n",
            "f1 score: 0.5393\n",
            "Epoch loss: 2.132309\n",
            "Val loss: 2.129662\n",
            "Epoch 94\n"
          ]
        },
        {
          "output_type": "stream",
          "name": "stderr",
          "text": [
            "<ipython-input-10-e44211bf9fb2>:44: UserWarning: Implicit dimension choice for softmax has been deprecated. Change the call to include dim=X as an argument.\n",
            "  z = fn(h)\n"
          ]
        },
        {
          "output_type": "stream",
          "name": "stdout",
          "text": [
            "torch.Size([10000, 64])\n",
            "torch.Size([10000, 10])\n",
            "f1 score: 0.5407\n",
            "Epoch loss: 2.130607\n",
            "Val loss: 2.127947\n",
            "Epoch 95\n"
          ]
        },
        {
          "output_type": "stream",
          "name": "stderr",
          "text": [
            "<ipython-input-10-e44211bf9fb2>:44: UserWarning: Implicit dimension choice for softmax has been deprecated. Change the call to include dim=X as an argument.\n",
            "  z = fn(h)\n"
          ]
        },
        {
          "output_type": "stream",
          "name": "stdout",
          "text": [
            "torch.Size([10000, 64])\n",
            "torch.Size([10000, 10])\n",
            "f1 score: 0.5415\n",
            "Epoch loss: 2.128908\n",
            "Val loss: 2.126235\n",
            "Epoch 96\n"
          ]
        },
        {
          "output_type": "stream",
          "name": "stderr",
          "text": [
            "<ipython-input-10-e44211bf9fb2>:44: UserWarning: Implicit dimension choice for softmax has been deprecated. Change the call to include dim=X as an argument.\n",
            "  z = fn(h)\n"
          ]
        },
        {
          "output_type": "stream",
          "name": "stdout",
          "text": [
            "torch.Size([10000, 64])\n",
            "torch.Size([10000, 10])\n",
            "f1 score: 0.5436\n",
            "Epoch loss: 2.127210\n",
            "Val loss: 2.124524\n",
            "Epoch 97\n"
          ]
        },
        {
          "output_type": "stream",
          "name": "stderr",
          "text": [
            "<ipython-input-10-e44211bf9fb2>:44: UserWarning: Implicit dimension choice for softmax has been deprecated. Change the call to include dim=X as an argument.\n",
            "  z = fn(h)\n"
          ]
        },
        {
          "output_type": "stream",
          "name": "stdout",
          "text": [
            "torch.Size([10000, 64])\n",
            "torch.Size([10000, 10])\n",
            "f1 score: 0.545\n",
            "Epoch loss: 2.125515\n",
            "Val loss: 2.122817\n",
            "Epoch 98\n"
          ]
        },
        {
          "output_type": "stream",
          "name": "stderr",
          "text": [
            "<ipython-input-10-e44211bf9fb2>:44: UserWarning: Implicit dimension choice for softmax has been deprecated. Change the call to include dim=X as an argument.\n",
            "  z = fn(h)\n"
          ]
        },
        {
          "output_type": "stream",
          "name": "stdout",
          "text": [
            "torch.Size([10000, 64])\n",
            "torch.Size([10000, 10])\n",
            "f1 score: 0.5458\n",
            "Epoch loss: 2.123822\n",
            "Val loss: 2.121111\n",
            "Epoch 99\n"
          ]
        },
        {
          "output_type": "stream",
          "name": "stderr",
          "text": [
            "<ipython-input-10-e44211bf9fb2>:44: UserWarning: Implicit dimension choice for softmax has been deprecated. Change the call to include dim=X as an argument.\n",
            "  z = fn(h)\n"
          ]
        },
        {
          "output_type": "stream",
          "name": "stdout",
          "text": [
            "torch.Size([10000, 64])\n",
            "torch.Size([10000, 10])\n",
            "f1 score: 0.5474\n",
            "Epoch loss: 2.122131\n",
            "Val loss: 2.119408\n",
            "Epoch 100\n"
          ]
        },
        {
          "output_type": "stream",
          "name": "stderr",
          "text": [
            "<ipython-input-10-e44211bf9fb2>:44: UserWarning: Implicit dimension choice for softmax has been deprecated. Change the call to include dim=X as an argument.\n",
            "  z = fn(h)\n"
          ]
        },
        {
          "output_type": "stream",
          "name": "stdout",
          "text": [
            "torch.Size([10000, 64])\n",
            "torch.Size([10000, 10])\n",
            "f1 score: 0.5485\n",
            "Epoch loss: 2.120443\n",
            "Val loss: 2.117707\n",
            "Epoch 101\n"
          ]
        },
        {
          "output_type": "stream",
          "name": "stderr",
          "text": [
            "<ipython-input-10-e44211bf9fb2>:44: UserWarning: Implicit dimension choice for softmax has been deprecated. Change the call to include dim=X as an argument.\n",
            "  z = fn(h)\n"
          ]
        },
        {
          "output_type": "stream",
          "name": "stdout",
          "text": [
            "torch.Size([10000, 64])\n",
            "torch.Size([10000, 10])\n",
            "f1 score: 0.5499\n",
            "Epoch loss: 2.118756\n",
            "Val loss: 2.116008\n",
            "Epoch 102\n"
          ]
        },
        {
          "output_type": "stream",
          "name": "stderr",
          "text": [
            "<ipython-input-10-e44211bf9fb2>:44: UserWarning: Implicit dimension choice for softmax has been deprecated. Change the call to include dim=X as an argument.\n",
            "  z = fn(h)\n"
          ]
        },
        {
          "output_type": "stream",
          "name": "stdout",
          "text": [
            "torch.Size([10000, 64])\n",
            "torch.Size([10000, 10])\n",
            "f1 score: 0.5514\n",
            "Epoch loss: 2.117072\n",
            "Val loss: 2.114311\n",
            "Epoch 103\n"
          ]
        },
        {
          "output_type": "stream",
          "name": "stderr",
          "text": [
            "<ipython-input-10-e44211bf9fb2>:44: UserWarning: Implicit dimension choice for softmax has been deprecated. Change the call to include dim=X as an argument.\n",
            "  z = fn(h)\n"
          ]
        },
        {
          "output_type": "stream",
          "name": "stdout",
          "text": [
            "torch.Size([10000, 64])\n",
            "torch.Size([10000, 10])\n",
            "f1 score: 0.5524\n",
            "Epoch loss: 2.115390\n",
            "Val loss: 2.112617\n",
            "Epoch 104\n"
          ]
        },
        {
          "output_type": "stream",
          "name": "stderr",
          "text": [
            "<ipython-input-10-e44211bf9fb2>:44: UserWarning: Implicit dimension choice for softmax has been deprecated. Change the call to include dim=X as an argument.\n",
            "  z = fn(h)\n"
          ]
        },
        {
          "output_type": "stream",
          "name": "stdout",
          "text": [
            "torch.Size([10000, 64])\n",
            "torch.Size([10000, 10])\n",
            "f1 score: 0.5536\n",
            "Epoch loss: 2.113711\n",
            "Val loss: 2.110925\n",
            "Epoch 105\n"
          ]
        },
        {
          "output_type": "stream",
          "name": "stderr",
          "text": [
            "<ipython-input-10-e44211bf9fb2>:44: UserWarning: Implicit dimension choice for softmax has been deprecated. Change the call to include dim=X as an argument.\n",
            "  z = fn(h)\n"
          ]
        },
        {
          "output_type": "stream",
          "name": "stdout",
          "text": [
            "torch.Size([10000, 64])\n",
            "torch.Size([10000, 10])\n",
            "f1 score: 0.5551\n",
            "Epoch loss: 2.112033\n",
            "Val loss: 2.109235\n",
            "Epoch 106\n"
          ]
        },
        {
          "output_type": "stream",
          "name": "stderr",
          "text": [
            "<ipython-input-10-e44211bf9fb2>:44: UserWarning: Implicit dimension choice for softmax has been deprecated. Change the call to include dim=X as an argument.\n",
            "  z = fn(h)\n"
          ]
        },
        {
          "output_type": "stream",
          "name": "stdout",
          "text": [
            "torch.Size([10000, 64])\n",
            "torch.Size([10000, 10])\n",
            "f1 score: 0.5561\n",
            "Epoch loss: 2.110358\n",
            "Val loss: 2.107548\n",
            "Epoch 107\n"
          ]
        },
        {
          "output_type": "stream",
          "name": "stderr",
          "text": [
            "<ipython-input-10-e44211bf9fb2>:44: UserWarning: Implicit dimension choice for softmax has been deprecated. Change the call to include dim=X as an argument.\n",
            "  z = fn(h)\n"
          ]
        },
        {
          "output_type": "stream",
          "name": "stdout",
          "text": [
            "torch.Size([10000, 64])\n",
            "torch.Size([10000, 10])\n",
            "f1 score: 0.5575\n",
            "Epoch loss: 2.108685\n",
            "Val loss: 2.105862\n",
            "Epoch 108\n"
          ]
        },
        {
          "output_type": "stream",
          "name": "stderr",
          "text": [
            "<ipython-input-10-e44211bf9fb2>:44: UserWarning: Implicit dimension choice for softmax has been deprecated. Change the call to include dim=X as an argument.\n",
            "  z = fn(h)\n"
          ]
        },
        {
          "output_type": "stream",
          "name": "stdout",
          "text": [
            "torch.Size([10000, 64])\n",
            "torch.Size([10000, 10])\n",
            "f1 score: 0.5591\n",
            "Epoch loss: 2.107015\n",
            "Val loss: 2.104179\n",
            "Epoch 109\n"
          ]
        },
        {
          "output_type": "stream",
          "name": "stderr",
          "text": [
            "<ipython-input-10-e44211bf9fb2>:44: UserWarning: Implicit dimension choice for softmax has been deprecated. Change the call to include dim=X as an argument.\n",
            "  z = fn(h)\n"
          ]
        },
        {
          "output_type": "stream",
          "name": "stdout",
          "text": [
            "torch.Size([10000, 64])\n",
            "torch.Size([10000, 10])\n",
            "f1 score: 0.5604\n",
            "Epoch loss: 2.105346\n",
            "Val loss: 2.102499\n",
            "Epoch 110\n"
          ]
        },
        {
          "output_type": "stream",
          "name": "stderr",
          "text": [
            "<ipython-input-10-e44211bf9fb2>:44: UserWarning: Implicit dimension choice for softmax has been deprecated. Change the call to include dim=X as an argument.\n",
            "  z = fn(h)\n"
          ]
        },
        {
          "output_type": "stream",
          "name": "stdout",
          "text": [
            "torch.Size([10000, 64])\n",
            "torch.Size([10000, 10])\n",
            "f1 score: 0.5617\n",
            "Epoch loss: 2.103680\n",
            "Val loss: 2.100820\n",
            "Epoch 111\n"
          ]
        },
        {
          "output_type": "stream",
          "name": "stderr",
          "text": [
            "<ipython-input-10-e44211bf9fb2>:44: UserWarning: Implicit dimension choice for softmax has been deprecated. Change the call to include dim=X as an argument.\n",
            "  z = fn(h)\n"
          ]
        },
        {
          "output_type": "stream",
          "name": "stdout",
          "text": [
            "torch.Size([10000, 64])\n",
            "torch.Size([10000, 10])\n",
            "f1 score: 0.5624\n",
            "Epoch loss: 2.102016\n",
            "Val loss: 2.099144\n",
            "Epoch 112\n"
          ]
        },
        {
          "output_type": "stream",
          "name": "stderr",
          "text": [
            "<ipython-input-10-e44211bf9fb2>:44: UserWarning: Implicit dimension choice for softmax has been deprecated. Change the call to include dim=X as an argument.\n",
            "  z = fn(h)\n"
          ]
        },
        {
          "output_type": "stream",
          "name": "stdout",
          "text": [
            "torch.Size([10000, 64])\n",
            "torch.Size([10000, 10])\n",
            "f1 score: 0.5641\n",
            "Epoch loss: 2.100354\n",
            "Val loss: 2.097469\n",
            "Epoch 113\n"
          ]
        },
        {
          "output_type": "stream",
          "name": "stderr",
          "text": [
            "<ipython-input-10-e44211bf9fb2>:44: UserWarning: Implicit dimension choice for softmax has been deprecated. Change the call to include dim=X as an argument.\n",
            "  z = fn(h)\n"
          ]
        },
        {
          "output_type": "stream",
          "name": "stdout",
          "text": [
            "torch.Size([10000, 64])\n",
            "torch.Size([10000, 10])\n",
            "f1 score: 0.5648\n",
            "Epoch loss: 2.098695\n",
            "Val loss: 2.095798\n",
            "Epoch 114\n"
          ]
        },
        {
          "output_type": "stream",
          "name": "stderr",
          "text": [
            "<ipython-input-10-e44211bf9fb2>:44: UserWarning: Implicit dimension choice for softmax has been deprecated. Change the call to include dim=X as an argument.\n",
            "  z = fn(h)\n"
          ]
        },
        {
          "output_type": "stream",
          "name": "stdout",
          "text": [
            "torch.Size([10000, 64])\n",
            "torch.Size([10000, 10])\n",
            "f1 score: 0.5659\n",
            "Epoch loss: 2.097037\n",
            "Val loss: 2.094128\n",
            "Epoch 115\n"
          ]
        },
        {
          "output_type": "stream",
          "name": "stderr",
          "text": [
            "<ipython-input-10-e44211bf9fb2>:44: UserWarning: Implicit dimension choice for softmax has been deprecated. Change the call to include dim=X as an argument.\n",
            "  z = fn(h)\n"
          ]
        },
        {
          "output_type": "stream",
          "name": "stdout",
          "text": [
            "torch.Size([10000, 64])\n",
            "torch.Size([10000, 10])\n",
            "f1 score: 0.567\n",
            "Epoch loss: 2.095382\n",
            "Val loss: 2.092461\n",
            "Epoch 116\n"
          ]
        },
        {
          "output_type": "stream",
          "name": "stderr",
          "text": [
            "<ipython-input-10-e44211bf9fb2>:44: UserWarning: Implicit dimension choice for softmax has been deprecated. Change the call to include dim=X as an argument.\n",
            "  z = fn(h)\n"
          ]
        },
        {
          "output_type": "stream",
          "name": "stdout",
          "text": [
            "torch.Size([10000, 64])\n",
            "torch.Size([10000, 10])\n",
            "f1 score: 0.5682\n",
            "Epoch loss: 2.093729\n",
            "Val loss: 2.090795\n",
            "Epoch 117\n"
          ]
        },
        {
          "output_type": "stream",
          "name": "stderr",
          "text": [
            "<ipython-input-10-e44211bf9fb2>:44: UserWarning: Implicit dimension choice for softmax has been deprecated. Change the call to include dim=X as an argument.\n",
            "  z = fn(h)\n"
          ]
        },
        {
          "output_type": "stream",
          "name": "stdout",
          "text": [
            "torch.Size([10000, 64])\n",
            "torch.Size([10000, 10])\n",
            "f1 score: 0.5692\n",
            "Epoch loss: 2.092078\n",
            "Val loss: 2.089132\n",
            "Epoch 118\n"
          ]
        },
        {
          "output_type": "stream",
          "name": "stderr",
          "text": [
            "<ipython-input-10-e44211bf9fb2>:44: UserWarning: Implicit dimension choice for softmax has been deprecated. Change the call to include dim=X as an argument.\n",
            "  z = fn(h)\n"
          ]
        },
        {
          "output_type": "stream",
          "name": "stdout",
          "text": [
            "torch.Size([10000, 64])\n",
            "torch.Size([10000, 10])\n",
            "f1 score: 0.5699\n",
            "Epoch loss: 2.090430\n",
            "Val loss: 2.087471\n",
            "Epoch 119\n"
          ]
        },
        {
          "output_type": "stream",
          "name": "stderr",
          "text": [
            "<ipython-input-10-e44211bf9fb2>:44: UserWarning: Implicit dimension choice for softmax has been deprecated. Change the call to include dim=X as an argument.\n",
            "  z = fn(h)\n"
          ]
        },
        {
          "output_type": "stream",
          "name": "stdout",
          "text": [
            "torch.Size([10000, 64])\n",
            "torch.Size([10000, 10])\n",
            "f1 score: 0.5709\n",
            "Epoch loss: 2.088783\n",
            "Val loss: 2.085813\n",
            "Epoch 120\n"
          ]
        },
        {
          "output_type": "stream",
          "name": "stderr",
          "text": [
            "<ipython-input-10-e44211bf9fb2>:44: UserWarning: Implicit dimension choice for softmax has been deprecated. Change the call to include dim=X as an argument.\n",
            "  z = fn(h)\n"
          ]
        },
        {
          "output_type": "stream",
          "name": "stdout",
          "text": [
            "torch.Size([10000, 64])\n",
            "torch.Size([10000, 10])\n",
            "f1 score: 0.572\n",
            "Epoch loss: 2.087139\n",
            "Val loss: 2.084157\n",
            "Epoch 121\n"
          ]
        },
        {
          "output_type": "stream",
          "name": "stderr",
          "text": [
            "<ipython-input-10-e44211bf9fb2>:44: UserWarning: Implicit dimension choice for softmax has been deprecated. Change the call to include dim=X as an argument.\n",
            "  z = fn(h)\n"
          ]
        },
        {
          "output_type": "stream",
          "name": "stdout",
          "text": [
            "torch.Size([10000, 64])\n",
            "torch.Size([10000, 10])\n",
            "f1 score: 0.5734\n",
            "Epoch loss: 2.085497\n",
            "Val loss: 2.082503\n",
            "Epoch 122\n"
          ]
        },
        {
          "output_type": "stream",
          "name": "stderr",
          "text": [
            "<ipython-input-10-e44211bf9fb2>:44: UserWarning: Implicit dimension choice for softmax has been deprecated. Change the call to include dim=X as an argument.\n",
            "  z = fn(h)\n"
          ]
        },
        {
          "output_type": "stream",
          "name": "stdout",
          "text": [
            "torch.Size([10000, 64])\n",
            "torch.Size([10000, 10])\n",
            "f1 score: 0.574\n",
            "Epoch loss: 2.083858\n",
            "Val loss: 2.080851\n",
            "Epoch 123\n"
          ]
        },
        {
          "output_type": "stream",
          "name": "stderr",
          "text": [
            "<ipython-input-10-e44211bf9fb2>:44: UserWarning: Implicit dimension choice for softmax has been deprecated. Change the call to include dim=X as an argument.\n",
            "  z = fn(h)\n"
          ]
        },
        {
          "output_type": "stream",
          "name": "stdout",
          "text": [
            "torch.Size([10000, 64])\n",
            "torch.Size([10000, 10])\n",
            "f1 score: 0.5751\n",
            "Epoch loss: 2.082220\n",
            "Val loss: 2.079201\n",
            "Epoch 124\n"
          ]
        },
        {
          "output_type": "stream",
          "name": "stderr",
          "text": [
            "<ipython-input-10-e44211bf9fb2>:44: UserWarning: Implicit dimension choice for softmax has been deprecated. Change the call to include dim=X as an argument.\n",
            "  z = fn(h)\n"
          ]
        },
        {
          "output_type": "stream",
          "name": "stdout",
          "text": [
            "torch.Size([10000, 64])\n",
            "torch.Size([10000, 10])\n",
            "f1 score: 0.5765\n",
            "Epoch loss: 2.080585\n",
            "Val loss: 2.077554\n",
            "Epoch 125\n"
          ]
        },
        {
          "output_type": "stream",
          "name": "stderr",
          "text": [
            "<ipython-input-10-e44211bf9fb2>:44: UserWarning: Implicit dimension choice for softmax has been deprecated. Change the call to include dim=X as an argument.\n",
            "  z = fn(h)\n"
          ]
        },
        {
          "output_type": "stream",
          "name": "stdout",
          "text": [
            "torch.Size([10000, 64])\n",
            "torch.Size([10000, 10])\n",
            "f1 score: 0.5777\n",
            "Epoch loss: 2.078952\n",
            "Val loss: 2.075909\n",
            "Epoch 126\n"
          ]
        },
        {
          "output_type": "stream",
          "name": "stderr",
          "text": [
            "<ipython-input-10-e44211bf9fb2>:44: UserWarning: Implicit dimension choice for softmax has been deprecated. Change the call to include dim=X as an argument.\n",
            "  z = fn(h)\n"
          ]
        },
        {
          "output_type": "stream",
          "name": "stdout",
          "text": [
            "torch.Size([10000, 64])\n",
            "torch.Size([10000, 10])\n",
            "f1 score: 0.5787\n",
            "Epoch loss: 2.077321\n",
            "Val loss: 2.074266\n",
            "Epoch 127\n"
          ]
        },
        {
          "output_type": "stream",
          "name": "stderr",
          "text": [
            "<ipython-input-10-e44211bf9fb2>:44: UserWarning: Implicit dimension choice for softmax has been deprecated. Change the call to include dim=X as an argument.\n",
            "  z = fn(h)\n"
          ]
        },
        {
          "output_type": "stream",
          "name": "stdout",
          "text": [
            "torch.Size([10000, 64])\n",
            "torch.Size([10000, 10])\n",
            "f1 score: 0.5795\n",
            "Epoch loss: 2.075692\n",
            "Val loss: 2.072625\n",
            "Epoch 128\n"
          ]
        },
        {
          "output_type": "stream",
          "name": "stderr",
          "text": [
            "<ipython-input-10-e44211bf9fb2>:44: UserWarning: Implicit dimension choice for softmax has been deprecated. Change the call to include dim=X as an argument.\n",
            "  z = fn(h)\n"
          ]
        },
        {
          "output_type": "stream",
          "name": "stdout",
          "text": [
            "torch.Size([10000, 64])\n",
            "torch.Size([10000, 10])\n",
            "f1 score: 0.5807\n",
            "Epoch loss: 2.074065\n",
            "Val loss: 2.070986\n",
            "Epoch 129\n"
          ]
        },
        {
          "output_type": "stream",
          "name": "stderr",
          "text": [
            "<ipython-input-10-e44211bf9fb2>:44: UserWarning: Implicit dimension choice for softmax has been deprecated. Change the call to include dim=X as an argument.\n",
            "  z = fn(h)\n"
          ]
        },
        {
          "output_type": "stream",
          "name": "stdout",
          "text": [
            "torch.Size([10000, 64])\n",
            "torch.Size([10000, 10])\n",
            "f1 score: 0.582\n",
            "Epoch loss: 2.072441\n",
            "Val loss: 2.069350\n",
            "Epoch 130\n"
          ]
        },
        {
          "output_type": "stream",
          "name": "stderr",
          "text": [
            "<ipython-input-10-e44211bf9fb2>:44: UserWarning: Implicit dimension choice for softmax has been deprecated. Change the call to include dim=X as an argument.\n",
            "  z = fn(h)\n"
          ]
        },
        {
          "output_type": "stream",
          "name": "stdout",
          "text": [
            "torch.Size([10000, 64])\n",
            "torch.Size([10000, 10])\n",
            "f1 score: 0.5828\n",
            "Epoch loss: 2.070819\n",
            "Val loss: 2.067716\n",
            "Epoch 131\n"
          ]
        },
        {
          "output_type": "stream",
          "name": "stderr",
          "text": [
            "<ipython-input-10-e44211bf9fb2>:44: UserWarning: Implicit dimension choice for softmax has been deprecated. Change the call to include dim=X as an argument.\n",
            "  z = fn(h)\n"
          ]
        },
        {
          "output_type": "stream",
          "name": "stdout",
          "text": [
            "torch.Size([10000, 64])\n",
            "torch.Size([10000, 10])\n",
            "f1 score: 0.584\n",
            "Epoch loss: 2.069199\n",
            "Val loss: 2.066084\n",
            "Epoch 132\n"
          ]
        },
        {
          "output_type": "stream",
          "name": "stderr",
          "text": [
            "<ipython-input-10-e44211bf9fb2>:44: UserWarning: Implicit dimension choice for softmax has been deprecated. Change the call to include dim=X as an argument.\n",
            "  z = fn(h)\n"
          ]
        },
        {
          "output_type": "stream",
          "name": "stdout",
          "text": [
            "torch.Size([10000, 64])\n",
            "torch.Size([10000, 10])\n",
            "f1 score: 0.5849\n",
            "Epoch loss: 2.067581\n",
            "Val loss: 2.064454\n",
            "Epoch 133\n"
          ]
        },
        {
          "output_type": "stream",
          "name": "stderr",
          "text": [
            "<ipython-input-10-e44211bf9fb2>:44: UserWarning: Implicit dimension choice for softmax has been deprecated. Change the call to include dim=X as an argument.\n",
            "  z = fn(h)\n"
          ]
        },
        {
          "output_type": "stream",
          "name": "stdout",
          "text": [
            "torch.Size([10000, 64])\n",
            "torch.Size([10000, 10])\n",
            "f1 score: 0.5855\n",
            "Epoch loss: 2.065966\n",
            "Val loss: 2.062827\n",
            "Epoch 134\n"
          ]
        },
        {
          "output_type": "stream",
          "name": "stderr",
          "text": [
            "<ipython-input-10-e44211bf9fb2>:44: UserWarning: Implicit dimension choice for softmax has been deprecated. Change the call to include dim=X as an argument.\n",
            "  z = fn(h)\n"
          ]
        },
        {
          "output_type": "stream",
          "name": "stdout",
          "text": [
            "torch.Size([10000, 64])\n",
            "torch.Size([10000, 10])\n",
            "f1 score: 0.5862\n",
            "Epoch loss: 2.064352\n",
            "Val loss: 2.061201\n",
            "Epoch 135\n"
          ]
        },
        {
          "output_type": "stream",
          "name": "stderr",
          "text": [
            "<ipython-input-10-e44211bf9fb2>:44: UserWarning: Implicit dimension choice for softmax has been deprecated. Change the call to include dim=X as an argument.\n",
            "  z = fn(h)\n"
          ]
        },
        {
          "output_type": "stream",
          "name": "stdout",
          "text": [
            "torch.Size([10000, 64])\n",
            "torch.Size([10000, 10])\n",
            "f1 score: 0.5872\n",
            "Epoch loss: 2.062741\n",
            "Val loss: 2.059578\n",
            "Epoch 136\n"
          ]
        },
        {
          "output_type": "stream",
          "name": "stderr",
          "text": [
            "<ipython-input-10-e44211bf9fb2>:44: UserWarning: Implicit dimension choice for softmax has been deprecated. Change the call to include dim=X as an argument.\n",
            "  z = fn(h)\n"
          ]
        },
        {
          "output_type": "stream",
          "name": "stdout",
          "text": [
            "torch.Size([10000, 64])\n",
            "torch.Size([10000, 10])\n",
            "f1 score: 0.5876\n",
            "Epoch loss: 2.061132\n",
            "Val loss: 2.057957\n",
            "Epoch 137\n"
          ]
        },
        {
          "output_type": "stream",
          "name": "stderr",
          "text": [
            "<ipython-input-10-e44211bf9fb2>:44: UserWarning: Implicit dimension choice for softmax has been deprecated. Change the call to include dim=X as an argument.\n",
            "  z = fn(h)\n"
          ]
        },
        {
          "output_type": "stream",
          "name": "stdout",
          "text": [
            "torch.Size([10000, 64])\n",
            "torch.Size([10000, 10])\n",
            "f1 score: 0.5886\n",
            "Epoch loss: 2.059525\n",
            "Val loss: 2.056338\n",
            "Epoch 138\n"
          ]
        },
        {
          "output_type": "stream",
          "name": "stderr",
          "text": [
            "<ipython-input-10-e44211bf9fb2>:44: UserWarning: Implicit dimension choice for softmax has been deprecated. Change the call to include dim=X as an argument.\n",
            "  z = fn(h)\n"
          ]
        },
        {
          "output_type": "stream",
          "name": "stdout",
          "text": [
            "torch.Size([10000, 64])\n",
            "torch.Size([10000, 10])\n",
            "f1 score: 0.5891\n",
            "Epoch loss: 2.057920\n",
            "Val loss: 2.054722\n",
            "Epoch 139\n"
          ]
        },
        {
          "output_type": "stream",
          "name": "stderr",
          "text": [
            "<ipython-input-10-e44211bf9fb2>:44: UserWarning: Implicit dimension choice for softmax has been deprecated. Change the call to include dim=X as an argument.\n",
            "  z = fn(h)\n"
          ]
        },
        {
          "output_type": "stream",
          "name": "stdout",
          "text": [
            "torch.Size([10000, 64])\n",
            "torch.Size([10000, 10])\n",
            "f1 score: 0.5901\n",
            "Epoch loss: 2.056318\n",
            "Val loss: 2.053108\n",
            "Epoch 140\n"
          ]
        },
        {
          "output_type": "stream",
          "name": "stderr",
          "text": [
            "<ipython-input-10-e44211bf9fb2>:44: UserWarning: Implicit dimension choice for softmax has been deprecated. Change the call to include dim=X as an argument.\n",
            "  z = fn(h)\n"
          ]
        },
        {
          "output_type": "stream",
          "name": "stdout",
          "text": [
            "torch.Size([10000, 64])\n",
            "torch.Size([10000, 10])\n",
            "f1 score: 0.5909\n",
            "Epoch loss: 2.054717\n",
            "Val loss: 2.051496\n",
            "Epoch 141\n"
          ]
        },
        {
          "output_type": "stream",
          "name": "stderr",
          "text": [
            "<ipython-input-10-e44211bf9fb2>:44: UserWarning: Implicit dimension choice for softmax has been deprecated. Change the call to include dim=X as an argument.\n",
            "  z = fn(h)\n"
          ]
        },
        {
          "output_type": "stream",
          "name": "stdout",
          "text": [
            "torch.Size([10000, 64])\n",
            "torch.Size([10000, 10])\n",
            "f1 score: 0.5913\n",
            "Epoch loss: 2.053119\n",
            "Val loss: 2.049886\n",
            "Epoch 142\n"
          ]
        },
        {
          "output_type": "stream",
          "name": "stderr",
          "text": [
            "<ipython-input-10-e44211bf9fb2>:44: UserWarning: Implicit dimension choice for softmax has been deprecated. Change the call to include dim=X as an argument.\n",
            "  z = fn(h)\n"
          ]
        },
        {
          "output_type": "stream",
          "name": "stdout",
          "text": [
            "torch.Size([10000, 64])\n",
            "torch.Size([10000, 10])\n",
            "f1 score: 0.5925\n",
            "Epoch loss: 2.051523\n",
            "Val loss: 2.048278\n",
            "Epoch 143\n"
          ]
        },
        {
          "output_type": "stream",
          "name": "stderr",
          "text": [
            "<ipython-input-10-e44211bf9fb2>:44: UserWarning: Implicit dimension choice for softmax has been deprecated. Change the call to include dim=X as an argument.\n",
            "  z = fn(h)\n"
          ]
        },
        {
          "output_type": "stream",
          "name": "stdout",
          "text": [
            "torch.Size([10000, 64])\n",
            "torch.Size([10000, 10])\n",
            "f1 score: 0.5932\n",
            "Epoch loss: 2.049929\n",
            "Val loss: 2.046672\n",
            "Epoch 144\n"
          ]
        },
        {
          "output_type": "stream",
          "name": "stderr",
          "text": [
            "<ipython-input-10-e44211bf9fb2>:44: UserWarning: Implicit dimension choice for softmax has been deprecated. Change the call to include dim=X as an argument.\n",
            "  z = fn(h)\n"
          ]
        },
        {
          "output_type": "stream",
          "name": "stdout",
          "text": [
            "torch.Size([10000, 64])\n",
            "torch.Size([10000, 10])\n",
            "f1 score: 0.5941\n",
            "Epoch loss: 2.048337\n",
            "Val loss: 2.045069\n",
            "Epoch 145\n"
          ]
        },
        {
          "output_type": "stream",
          "name": "stderr",
          "text": [
            "<ipython-input-10-e44211bf9fb2>:44: UserWarning: Implicit dimension choice for softmax has been deprecated. Change the call to include dim=X as an argument.\n",
            "  z = fn(h)\n"
          ]
        },
        {
          "output_type": "stream",
          "name": "stdout",
          "text": [
            "torch.Size([10000, 64])\n",
            "torch.Size([10000, 10])\n",
            "f1 score: 0.5944\n",
            "Epoch loss: 2.046748\n",
            "Val loss: 2.043468\n",
            "Epoch 146\n"
          ]
        },
        {
          "output_type": "stream",
          "name": "stderr",
          "text": [
            "<ipython-input-10-e44211bf9fb2>:44: UserWarning: Implicit dimension choice for softmax has been deprecated. Change the call to include dim=X as an argument.\n",
            "  z = fn(h)\n"
          ]
        },
        {
          "output_type": "stream",
          "name": "stdout",
          "text": [
            "torch.Size([10000, 64])\n",
            "torch.Size([10000, 10])\n",
            "f1 score: 0.5952\n",
            "Epoch loss: 2.045160\n",
            "Val loss: 2.041868\n",
            "Epoch 147\n"
          ]
        },
        {
          "output_type": "stream",
          "name": "stderr",
          "text": [
            "<ipython-input-10-e44211bf9fb2>:44: UserWarning: Implicit dimension choice for softmax has been deprecated. Change the call to include dim=X as an argument.\n",
            "  z = fn(h)\n"
          ]
        },
        {
          "output_type": "stream",
          "name": "stdout",
          "text": [
            "torch.Size([10000, 64])\n",
            "torch.Size([10000, 10])\n",
            "f1 score: 0.5956\n",
            "Epoch loss: 2.043575\n",
            "Val loss: 2.040271\n",
            "Epoch 148\n"
          ]
        },
        {
          "output_type": "stream",
          "name": "stderr",
          "text": [
            "<ipython-input-10-e44211bf9fb2>:44: UserWarning: Implicit dimension choice for softmax has been deprecated. Change the call to include dim=X as an argument.\n",
            "  z = fn(h)\n"
          ]
        },
        {
          "output_type": "stream",
          "name": "stdout",
          "text": [
            "torch.Size([10000, 64])\n",
            "torch.Size([10000, 10])\n",
            "f1 score: 0.5966\n",
            "Epoch loss: 2.041992\n",
            "Val loss: 2.038677\n",
            "Epoch 149\n"
          ]
        },
        {
          "output_type": "stream",
          "name": "stderr",
          "text": [
            "<ipython-input-10-e44211bf9fb2>:44: UserWarning: Implicit dimension choice for softmax has been deprecated. Change the call to include dim=X as an argument.\n",
            "  z = fn(h)\n"
          ]
        },
        {
          "output_type": "stream",
          "name": "stdout",
          "text": [
            "torch.Size([10000, 64])\n",
            "torch.Size([10000, 10])\n",
            "f1 score: 0.5977\n",
            "Epoch loss: 2.040411\n",
            "Val loss: 2.037084\n"
          ]
        },
        {
          "output_type": "stream",
          "name": "stderr",
          "text": [
            "<ipython-input-10-e44211bf9fb2>:44: UserWarning: Implicit dimension choice for softmax has been deprecated. Change the call to include dim=X as an argument.\n",
            "  z = fn(h)\n"
          ]
        },
        {
          "output_type": "display_data",
          "data": {
            "text/plain": [
              "<Figure size 640x480 with 1 Axes>"
            ],
            "image/png": "[encoded data removed]"
          },
          "metadata": {}
        }
      ]
    },
    {
      "cell_type": "code",
      "source": [
        "x_pred=model3.predict(autoencoder2(test_fts)[0])\n",
        "import numpy as np\n",
        "\n",
        "matches = [1 if a == b else 0 for a, b in zip(x_pred, test_labels)]\n",
        "total_matches = sum(matches)\n",
        "\n",
        "print(f\"Accuracy: {total_matches/10000:.4f}%\")"
      ],
      "metadata": {
        "colab": {
          "base_uri": "https://localhost:8080/"
        },
        "id": "PKDUz2lR0p_y",
        "outputId": "81ce5b76-8a78-4cc4-a3f0-d6a560a5b205"
      },
      "execution_count": 20,
      "outputs": [
        {
          "output_type": "stream",
          "name": "stderr",
          "text": [
            "/usr/local/lib/python3.10/dist-packages/torch/nn/modules/container.py:217: UserWarning: Implicit dimension choice for softmax has been deprecated. Change the call to include dim=X as an argument.\n",
            "  input = module(input)\n"
          ]
        },
        {
          "output_type": "stream",
          "name": "stdout",
          "text": [
            "torch.Size([10000, 64])\n",
            "torch.Size([10000, 10])\n",
            "Accuracy: 0.6099%\n"
          ]
        },
        {
          "output_type": "stream",
          "name": "stderr",
          "text": [
            "<ipython-input-10-e44211bf9fb2>:44: UserWarning: Implicit dimension choice for softmax has been deprecated. Change the call to include dim=X as an argument.\n",
            "  z = fn(h)\n"
          ]
        }
      ]
    },
    {
      "cell_type": "code",
      "source": [
        "#Reduced dimension returns encoded  Encoder 64\n",
        "class Autoencoder1(nn.Module):\n",
        "    def __init__(self, num_input_dims, num_hidden_dims, act_fn=nn.Sigmoid):\n",
        "        super(Autoencoder1, self).__init__()\n",
        "        self.encoder = nn.Linear(num_input_dims, num_hidden_dims)\n",
        "        self.activation = nn.ReLU\n",
        "        self.decoder = nn.Linear(num_hidden_dims, num_input_dims)\n",
        "        self.activation = act_fn()\n",
        "\n",
        "    def forward(self, x):\n",
        "        #x = self.encoder(x)\n",
        "        #x = self.activation(x)\n",
        "        encoded = self.encoder(x)\n",
        "        encoded = self.activation(encoded)\n",
        "        decoded = self.decoder(encoded)\n",
        "        decoded = self.activation(decoded)\n",
        "        return  encoded,decoded\n",
        "        #return x"
      ],
      "metadata": {
        "id": "43N3fmwlACS7"
      },
      "execution_count": 21,
      "outputs": []
    },
    {
      "cell_type": "code",
      "source": [
        "#Back to original returns decoded  Decoder\n",
        "class Autoencoder(nn.Module):\n",
        "    def __init__(self, num_input_dims, num_hidden_dims, act_fn=nn.Sigmoid):\n",
        "        super(Autoencoder, self).__init__()\n",
        "        self.encoder = nn.Linear(num_input_dims, num_hidden_dims)\n",
        "        self.decoder = nn.Linear(num_hidden_dims, num_input_dims)\n",
        "        self.activation = act_fn()\n",
        "\n",
        "    def forward(self, x):\n",
        "        #x = self.encoder(x)\n",
        "        #x = self.activation(x)\n",
        "        encoded = self.encoder(x)\n",
        "        encoded = self.activation(encoded)\n",
        "        decoded = self.decoder(encoded)\n",
        "        decoded = self.activation(decoded)\n",
        "        return  decoded,encoded\n",
        "        #return x"
      ],
      "metadata": {
        "id": "FEfnnkPfToIK"
      },
      "execution_count": 22,
      "outputs": []
    },
    {
      "cell_type": "code",
      "source": [
        "#evaluating after restoring the model\n",
        "autoencoder = Autoencoder(784,64) # intentionally not providing arguments: You fill in!\n",
        "autoencoder_adjuster = torch.optim.Adam(autoencoder.parameters())\n",
        "print(train_fts.shape,\"trainfts\")\n",
        "train(autoencoder, train_fts, train_fts,\n",
        "      loss_fn=nn.BCELoss(), # Same as with the loss function\n",
        "      weight_adjuster=autoencoder_adjuster,val_features=dev_fts,val_labels=dev_fts,\n",
        "      num_epochs=20, batch_size=100)"
      ],
      "metadata": {
        "colab": {
          "base_uri": "https://localhost:8080/",
          "height": 1000
        },
        "id": "ek0wgvUPpaXH",
        "outputId": "86bc8d7c-032d-487c-caeb-876877873418"
      },
      "execution_count": 23,
      "outputs": [
        {
          "output_type": "stream",
          "name": "stdout",
          "text": [
            "torch.Size([50000, 784]) trainfts\n",
            "Epoch 0\n",
            "Epoch loss: 0.281301\n",
            "Val loss: 0.248862\n",
            "Epoch 1\n",
            "Epoch loss: 0.231718\n",
            "Val loss: 0.214655\n",
            "Epoch 2\n",
            "Epoch loss: 0.201857\n",
            "Val loss: 0.190175\n",
            "Epoch 3\n",
            "Epoch loss: 0.181030\n",
            "Val loss: 0.171697\n",
            "Epoch 4\n",
            "Epoch loss: 0.165095\n",
            "Val loss: 0.158641\n",
            "Epoch 5\n",
            "Epoch loss: 0.153961\n",
            "Val loss: 0.149223\n",
            "Epoch 6\n",
            "Epoch loss: 0.145657\n",
            "Val loss: 0.141930\n",
            "Epoch 7\n",
            "Epoch loss: 0.138955\n",
            "Val loss: 0.135686\n",
            "Epoch 8\n",
            "Epoch loss: 0.133128\n",
            "Val loss: 0.130319\n",
            "Epoch 9\n",
            "Epoch loss: 0.128283\n",
            "Val loss: 0.125980\n",
            "Epoch 10\n",
            "Epoch loss: 0.124417\n",
            "Val loss: 0.122540\n",
            "Epoch 11\n",
            "Epoch loss: 0.121346\n",
            "Val loss: 0.119803\n",
            "Epoch 12\n",
            "Epoch loss: 0.118875\n",
            "Val loss: 0.117586\n",
            "Epoch 13\n",
            "Epoch loss: 0.116738\n",
            "Val loss: 0.115490\n",
            "Epoch 14\n",
            "Epoch loss: 0.114611\n",
            "Val loss: 0.113353\n",
            "Epoch 15\n",
            "Epoch loss: 0.112490\n",
            "Val loss: 0.111306\n",
            "Epoch 16\n",
            "Epoch loss: 0.110262\n",
            "Val loss: 0.108841\n",
            "Epoch 17\n",
            "Epoch loss: 0.107371\n",
            "Val loss: 0.105350\n",
            "Epoch 18\n",
            "Epoch loss: 0.103224\n",
            "Val loss: 0.100809\n",
            "Epoch 19\n",
            "Epoch loss: 0.098749\n",
            "Val loss: 0.096552\n"
          ]
        },
        {
          "output_type": "display_data",
          "data": {
            "text/plain": [
              "<Figure size 640x480 with 1 Axes>"
            ],
            "image/png": "[encoded data removed]"
          },
          "metadata": {}
        }
      ]
    },
    {
      "cell_type": "code",
      "source": [
        "autoencoderRelu = Autoencoder(784,64,nn.Softmax) # intentionally not providing arguments: You fill in!\n",
        "autoencoder_adjuster = torch.optim.Adam(autoencoderRelu.parameters(),0.001)\n",
        "train(autoencoderRelu, train_fts, train_fts,\n",
        "      loss_fn=nn.BCELoss(), # Same as with the loss function\n",
        "      weight_adjuster=autoencoder_adjuster,val_features=dev_fts,val_labels=dev_fts,\n",
        "      num_epochs=20, batch_size=100)"
      ],
      "metadata": {
        "colab": {
          "base_uri": "https://localhost:8080/",
          "height": 1000
        },
        "id": "Q1MkMlkXHMR_",
        "outputId": "1440f311-a806-4aa5-f4ff-409d8390b622"
      },
      "execution_count": 24,
      "outputs": [
        {
          "output_type": "stream",
          "name": "stdout",
          "text": [
            "Epoch 0\n"
          ]
        },
        {
          "output_type": "stream",
          "name": "stderr",
          "text": [
            "<ipython-input-22-400b3ad21ccd>:13: UserWarning: Implicit dimension choice for softmax has been deprecated. Change the call to include dim=X as an argument.\n",
            "  encoded = self.activation(encoded)\n",
            "<ipython-input-22-400b3ad21ccd>:15: UserWarning: Implicit dimension choice for softmax has been deprecated. Change the call to include dim=X as an argument.\n",
            "  decoded = self.activation(decoded)\n"
          ]
        },
        {
          "output_type": "stream",
          "name": "stdout",
          "text": [
            "Epoch loss: 0.815294\n",
            "Val loss: 0.779320\n",
            "Epoch 1\n",
            "Epoch loss: 0.767872\n",
            "Val loss: 0.758838\n",
            "Epoch 2\n",
            "Epoch loss: 0.755636\n",
            "Val loss: 0.751550\n",
            "Epoch 3\n",
            "Epoch loss: 0.750348\n",
            "Val loss: 0.747760\n",
            "Epoch 4\n",
            "Epoch loss: 0.747410\n",
            "Val loss: 0.745483\n",
            "Epoch 5\n",
            "Epoch loss: 0.745557\n",
            "Val loss: 0.743970\n",
            "Epoch 6\n",
            "Epoch loss: 0.744275\n",
            "Val loss: 0.742888\n",
            "Epoch 7\n",
            "Epoch loss: 0.743330\n",
            "Val loss: 0.742070\n",
            "Epoch 8\n",
            "Epoch loss: 0.742600\n",
            "Val loss: 0.741430\n",
            "Epoch 9\n",
            "Epoch loss: 0.742019\n",
            "Val loss: 0.740913\n",
            "Epoch 10\n",
            "Epoch loss: 0.741546\n",
            "Val loss: 0.740487\n",
            "Epoch 11\n",
            "Epoch loss: 0.741153\n",
            "Val loss: 0.740130\n",
            "Epoch 12\n",
            "Epoch loss: 0.740823\n",
            "Val loss: 0.739829\n",
            "Epoch 13\n",
            "Epoch loss: 0.740543\n",
            "Val loss: 0.739563\n",
            "Epoch 14\n",
            "Epoch loss: 0.738233\n",
            "Val loss: 0.735351\n",
            "Epoch 15\n",
            "Epoch loss: 0.735379\n",
            "Val loss: 0.733605\n",
            "Epoch 16\n",
            "Epoch loss: 0.734108\n",
            "Val loss: 0.732629\n",
            "Epoch 17\n",
            "Epoch loss: 0.733306\n",
            "Val loss: 0.731947\n",
            "Epoch 18\n",
            "Epoch loss: 0.732716\n",
            "Val loss: 0.731419\n",
            "Epoch 19\n",
            "Epoch loss: 0.732246\n",
            "Val loss: 0.730989\n"
          ]
        },
        {
          "output_type": "display_data",
          "data": {
            "text/plain": [
              "<Figure size 640x480 with 1 Axes>"
            ],
            "image/png": "[encoded data removed]"
          },
          "metadata": {}
        }
      ]
    },
    {
      "cell_type": "code",
      "source": [
        "autoencoder1 = Autoencoder1(784,64) # intentionally not providing arguments: You fill in!\n",
        "autoencoder_adjuster1 = torch.optim.Adam(autoencoder1.parameters())\n",
        "with torch.no_grad():\n",
        "  autoencoder_train_fts = autoencoder1(train_fts)[0]\n",
        "  autoencoder_dev_fts = autoencoder1(dev_fts)[0]\n",
        "print(autoencoder_train_fts.shape)\n",
        "print(train_fts)"
      ],
      "metadata": {
        "colab": {
          "base_uri": "https://localhost:8080/"
        },
        "id": "9V3s2B1RpcdF",
        "outputId": "f33f5510-0e9f-4c74-a313-b7967a49c983"
      },
      "execution_count": 25,
      "outputs": [
        {
          "output_type": "stream",
          "name": "stdout",
          "text": [
            "torch.Size([50000, 64])\n",
            "tensor([[0., 0., 0.,  ..., 0., 0., 0.],\n",
            "        [0., 0., 0.,  ..., 0., 0., 0.],\n",
            "        [0., 0., 0.,  ..., 0., 0., 0.],\n",
            "        ...,\n",
            "        [0., 0., 0.,  ..., 0., 0., 0.],\n",
            "        [0., 0., 0.,  ..., 0., 0., 0.],\n",
            "        [0., 0., 0.,  ..., 0., 0., 0.]])\n"
          ]
        }
      ]
    },
    {
      "cell_type": "code",
      "source": [
        "#AFter reducing dimensionality using Autoencoder1\n",
        "model2 = MyMLP(num_input_dims=autoencoder_train_fts.shape[1], \n",
        "               num_neurons=[],\n",
        "               num_classes=num_labels)\n",
        "weight_adjuster2 = torch.optim.Adam(model2.parameters())\n",
        "train(model2, autoencoder_train_fts, train_labels, val_features=autoencoder_dev_fts,val_labels=dev_labels,\n",
        "      weight_adjuster=weight_adjuster2,\n",
        "      num_epochs=100, batch_size=80,\n",
        "      epoch_callback=predict_callback(actual=dev_labels,\n",
        "                                      input_fts=autoencoder_dev_fts,\n",
        "                                      model=model2))"
      ],
      "metadata": {
        "colab": {
          "base_uri": "https://localhost:8080/",
          "height": 1000
        },
        "id": "M5CgF673pjKY",
        "outputId": "3e3cd016-1fbc-4c2d-b22e-dec6b1e0e95e"
      },
      "execution_count": 26,
      "outputs": [
        {
          "output_type": "stream",
          "name": "stdout",
          "text": [
            "[64]\n",
            "[10]\n",
            "[10] outs\n",
            "64 :i o: 10\n",
            "Epoch 0\n"
          ]
        },
        {
          "output_type": "stream",
          "name": "stderr",
          "text": [
            "<ipython-input-10-e44211bf9fb2>:44: UserWarning: Implicit dimension choice for softmax has been deprecated. Change the call to include dim=X as an argument.\n",
            "  z = fn(h)\n"
          ]
        },
        {
          "output_type": "stream",
          "name": "stdout",
          "text": [
            "torch.Size([10000, 64])\n",
            "torch.Size([10000, 10])\n",
            "f1 score: 0.2881\n",
            "Epoch loss: 2.270973\n",
            "Val loss: 2.238735\n",
            "Epoch 1\n"
          ]
        },
        {
          "output_type": "stream",
          "name": "stderr",
          "text": [
            "<ipython-input-10-e44211bf9fb2>:44: UserWarning: Implicit dimension choice for softmax has been deprecated. Change the call to include dim=X as an argument.\n",
            "  z = fn(h)\n"
          ]
        },
        {
          "output_type": "stream",
          "name": "stdout",
          "text": [
            "torch.Size([10000, 64])\n",
            "torch.Size([10000, 10])\n",
            "f1 score: 0.4683\n",
            "Epoch loss: 2.212757\n",
            "Val loss: 2.181941\n",
            "Epoch 2\n"
          ]
        },
        {
          "output_type": "stream",
          "name": "stderr",
          "text": [
            "<ipython-input-10-e44211bf9fb2>:44: UserWarning: Implicit dimension choice for softmax has been deprecated. Change the call to include dim=X as an argument.\n",
            "  z = fn(h)\n"
          ]
        },
        {
          "output_type": "stream",
          "name": "stdout",
          "text": [
            "torch.Size([10000, 64])\n",
            "torch.Size([10000, 10])\n",
            "f1 score: 0.5513\n",
            "Epoch loss: 2.157313\n",
            "Val loss: 2.127524\n",
            "Epoch 3\n"
          ]
        },
        {
          "output_type": "stream",
          "name": "stderr",
          "text": [
            "<ipython-input-10-e44211bf9fb2>:44: UserWarning: Implicit dimension choice for softmax has been deprecated. Change the call to include dim=X as an argument.\n",
            "  z = fn(h)\n"
          ]
        },
        {
          "output_type": "stream",
          "name": "stdout",
          "text": [
            "torch.Size([10000, 64])\n",
            "torch.Size([10000, 10])\n",
            "f1 score: 0.5887\n",
            "Epoch loss: 2.104196\n",
            "Val loss: 2.075404\n",
            "Epoch 4\n"
          ]
        },
        {
          "output_type": "stream",
          "name": "stderr",
          "text": [
            "<ipython-input-10-e44211bf9fb2>:44: UserWarning: Implicit dimension choice for softmax has been deprecated. Change the call to include dim=X as an argument.\n",
            "  z = fn(h)\n"
          ]
        },
        {
          "output_type": "stream",
          "name": "stdout",
          "text": [
            "torch.Size([10000, 64])\n",
            "torch.Size([10000, 10])\n",
            "f1 score: 0.6088\n",
            "Epoch loss: 2.053325\n",
            "Val loss: 2.025497\n",
            "Epoch 5\n"
          ]
        },
        {
          "output_type": "stream",
          "name": "stderr",
          "text": [
            "<ipython-input-10-e44211bf9fb2>:44: UserWarning: Implicit dimension choice for softmax has been deprecated. Change the call to include dim=X as an argument.\n",
            "  z = fn(h)\n"
          ]
        },
        {
          "output_type": "stream",
          "name": "stdout",
          "text": [
            "torch.Size([10000, 64])\n",
            "torch.Size([10000, 10])\n",
            "f1 score: 0.6232\n",
            "Epoch loss: 2.004619\n",
            "Val loss: 1.977721\n",
            "Epoch 6\n"
          ]
        },
        {
          "output_type": "stream",
          "name": "stderr",
          "text": [
            "<ipython-input-10-e44211bf9fb2>:44: UserWarning: Implicit dimension choice for softmax has been deprecated. Change the call to include dim=X as an argument.\n",
            "  z = fn(h)\n"
          ]
        },
        {
          "output_type": "stream",
          "name": "stdout",
          "text": [
            "torch.Size([10000, 64])\n",
            "torch.Size([10000, 10])\n",
            "f1 score: 0.6343\n",
            "Epoch loss: 1.957999\n",
            "Val loss: 1.932002\n",
            "Epoch 7\n"
          ]
        },
        {
          "output_type": "stream",
          "name": "stderr",
          "text": [
            "<ipython-input-10-e44211bf9fb2>:44: UserWarning: Implicit dimension choice for softmax has been deprecated. Change the call to include dim=X as an argument.\n",
            "  z = fn(h)\n"
          ]
        },
        {
          "output_type": "stream",
          "name": "stdout",
          "text": [
            "torch.Size([10000, 64])\n",
            "torch.Size([10000, 10])\n",
            "f1 score: 0.6434\n",
            "Epoch loss: 1.913391\n",
            "Val loss: 1.888263\n",
            "Epoch 8\n"
          ]
        },
        {
          "output_type": "stream",
          "name": "stderr",
          "text": [
            "<ipython-input-10-e44211bf9fb2>:44: UserWarning: Implicit dimension choice for softmax has been deprecated. Change the call to include dim=X as an argument.\n",
            "  z = fn(h)\n"
          ]
        },
        {
          "output_type": "stream",
          "name": "stdout",
          "text": [
            "torch.Size([10000, 64])\n",
            "torch.Size([10000, 10])\n",
            "f1 score: 0.6507\n",
            "Epoch loss: 1.870722\n",
            "Val loss: 1.846433\n",
            "Epoch 9\n"
          ]
        },
        {
          "output_type": "stream",
          "name": "stderr",
          "text": [
            "<ipython-input-10-e44211bf9fb2>:44: UserWarning: Implicit dimension choice for softmax has been deprecated. Change the call to include dim=X as an argument.\n",
            "  z = fn(h)\n"
          ]
        },
        {
          "output_type": "stream",
          "name": "stdout",
          "text": [
            "torch.Size([10000, 64])\n",
            "torch.Size([10000, 10])\n",
            "f1 score: 0.658\n",
            "Epoch loss: 1.829920\n",
            "Val loss: 1.806437\n",
            "Epoch 10\n"
          ]
        },
        {
          "output_type": "stream",
          "name": "stderr",
          "text": [
            "<ipython-input-10-e44211bf9fb2>:44: UserWarning: Implicit dimension choice for softmax has been deprecated. Change the call to include dim=X as an argument.\n",
            "  z = fn(h)\n"
          ]
        },
        {
          "output_type": "stream",
          "name": "stdout",
          "text": [
            "torch.Size([10000, 64])\n",
            "torch.Size([10000, 10])\n",
            "f1 score: 0.6628\n",
            "Epoch loss: 1.790913\n",
            "Val loss: 1.768204\n",
            "Epoch 11\n"
          ]
        },
        {
          "output_type": "stream",
          "name": "stderr",
          "text": [
            "<ipython-input-10-e44211bf9fb2>:44: UserWarning: Implicit dimension choice for softmax has been deprecated. Change the call to include dim=X as an argument.\n",
            "  z = fn(h)\n"
          ]
        },
        {
          "output_type": "stream",
          "name": "stdout",
          "text": [
            "torch.Size([10000, 64])\n",
            "torch.Size([10000, 10])\n",
            "f1 score: 0.6665\n",
            "Epoch loss: 1.753630\n",
            "Val loss: 1.731662\n",
            "Epoch 12\n"
          ]
        },
        {
          "output_type": "stream",
          "name": "stderr",
          "text": [
            "<ipython-input-10-e44211bf9fb2>:44: UserWarning: Implicit dimension choice for softmax has been deprecated. Change the call to include dim=X as an argument.\n",
            "  z = fn(h)\n"
          ]
        },
        {
          "output_type": "stream",
          "name": "stdout",
          "text": [
            "torch.Size([10000, 64])\n",
            "torch.Size([10000, 10])\n",
            "f1 score: 0.6716\n",
            "Epoch loss: 1.718001\n",
            "Val loss: 1.696741\n",
            "Epoch 13\n"
          ]
        },
        {
          "output_type": "stream",
          "name": "stderr",
          "text": [
            "<ipython-input-10-e44211bf9fb2>:44: UserWarning: Implicit dimension choice for softmax has been deprecated. Change the call to include dim=X as an argument.\n",
            "  z = fn(h)\n"
          ]
        },
        {
          "output_type": "stream",
          "name": "stdout",
          "text": [
            "torch.Size([10000, 64])\n",
            "torch.Size([10000, 10])\n",
            "f1 score: 0.6749\n",
            "Epoch loss: 1.683954\n",
            "Val loss: 1.663368\n",
            "Epoch 14\n"
          ]
        },
        {
          "output_type": "stream",
          "name": "stderr",
          "text": [
            "<ipython-input-10-e44211bf9fb2>:44: UserWarning: Implicit dimension choice for softmax has been deprecated. Change the call to include dim=X as an argument.\n",
            "  z = fn(h)\n"
          ]
        },
        {
          "output_type": "stream",
          "name": "stdout",
          "text": [
            "torch.Size([10000, 64])\n",
            "torch.Size([10000, 10])\n",
            "f1 score: 0.6784\n",
            "Epoch loss: 1.651420\n",
            "Val loss: 1.631477\n",
            "Epoch 15\n"
          ]
        },
        {
          "output_type": "stream",
          "name": "stderr",
          "text": [
            "<ipython-input-10-e44211bf9fb2>:44: UserWarning: Implicit dimension choice for softmax has been deprecated. Change the call to include dim=X as an argument.\n",
            "  z = fn(h)\n"
          ]
        },
        {
          "output_type": "stream",
          "name": "stdout",
          "text": [
            "torch.Size([10000, 64])\n",
            "torch.Size([10000, 10])\n",
            "f1 score: 0.6822\n",
            "Epoch loss: 1.620330\n",
            "Val loss: 1.600997\n",
            "Epoch 16\n"
          ]
        },
        {
          "output_type": "stream",
          "name": "stderr",
          "text": [
            "<ipython-input-10-e44211bf9fb2>:44: UserWarning: Implicit dimension choice for softmax has been deprecated. Change the call to include dim=X as an argument.\n",
            "  z = fn(h)\n"
          ]
        },
        {
          "output_type": "stream",
          "name": "stdout",
          "text": [
            "torch.Size([10000, 64])\n",
            "torch.Size([10000, 10])\n",
            "f1 score: 0.6853\n",
            "Epoch loss: 1.590618\n",
            "Val loss: 1.571863\n",
            "Epoch 17\n"
          ]
        },
        {
          "output_type": "stream",
          "name": "stderr",
          "text": [
            "<ipython-input-10-e44211bf9fb2>:44: UserWarning: Implicit dimension choice for softmax has been deprecated. Change the call to include dim=X as an argument.\n",
            "  z = fn(h)\n"
          ]
        },
        {
          "output_type": "stream",
          "name": "stdout",
          "text": [
            "torch.Size([10000, 64])\n",
            "torch.Size([10000, 10])\n",
            "f1 score: 0.6883\n",
            "Epoch loss: 1.562218\n",
            "Val loss: 1.544011\n",
            "Epoch 18\n"
          ]
        },
        {
          "output_type": "stream",
          "name": "stderr",
          "text": [
            "<ipython-input-10-e44211bf9fb2>:44: UserWarning: Implicit dimension choice for softmax has been deprecated. Change the call to include dim=X as an argument.\n",
            "  z = fn(h)\n"
          ]
        },
        {
          "output_type": "stream",
          "name": "stdout",
          "text": [
            "torch.Size([10000, 64])\n",
            "torch.Size([10000, 10])\n",
            "f1 score: 0.6922\n",
            "Epoch loss: 1.535067\n",
            "Val loss: 1.517378\n",
            "Epoch 19\n"
          ]
        },
        {
          "output_type": "stream",
          "name": "stderr",
          "text": [
            "<ipython-input-10-e44211bf9fb2>:44: UserWarning: Implicit dimension choice for softmax has been deprecated. Change the call to include dim=X as an argument.\n",
            "  z = fn(h)\n"
          ]
        },
        {
          "output_type": "stream",
          "name": "stdout",
          "text": [
            "torch.Size([10000, 64])\n",
            "torch.Size([10000, 10])\n",
            "f1 score: 0.695\n",
            "Epoch loss: 1.509104\n",
            "Val loss: 1.491903\n",
            "Epoch 20\n"
          ]
        },
        {
          "output_type": "stream",
          "name": "stderr",
          "text": [
            "<ipython-input-10-e44211bf9fb2>:44: UserWarning: Implicit dimension choice for softmax has been deprecated. Change the call to include dim=X as an argument.\n",
            "  z = fn(h)\n"
          ]
        },
        {
          "output_type": "stream",
          "name": "stdout",
          "text": [
            "torch.Size([10000, 64])\n",
            "torch.Size([10000, 10])\n",
            "f1 score: 0.6976\n",
            "Epoch loss: 1.484270\n",
            "Val loss: 1.467531\n",
            "Epoch 21\n"
          ]
        },
        {
          "output_type": "stream",
          "name": "stderr",
          "text": [
            "<ipython-input-10-e44211bf9fb2>:44: UserWarning: Implicit dimension choice for softmax has been deprecated. Change the call to include dim=X as an argument.\n",
            "  z = fn(h)\n"
          ]
        },
        {
          "output_type": "stream",
          "name": "stdout",
          "text": [
            "torch.Size([10000, 64])\n",
            "torch.Size([10000, 10])\n",
            "f1 score: 0.7007\n",
            "Epoch loss: 1.460508\n",
            "Val loss: 1.444203\n",
            "Epoch 22\n"
          ]
        },
        {
          "output_type": "stream",
          "name": "stderr",
          "text": [
            "<ipython-input-10-e44211bf9fb2>:44: UserWarning: Implicit dimension choice for softmax has been deprecated. Change the call to include dim=X as an argument.\n",
            "  z = fn(h)\n"
          ]
        },
        {
          "output_type": "stream",
          "name": "stdout",
          "text": [
            "torch.Size([10000, 64])\n",
            "torch.Size([10000, 10])\n",
            "f1 score: 0.7028\n",
            "Epoch loss: 1.437765\n",
            "Val loss: 1.421870\n",
            "Epoch 23\n"
          ]
        },
        {
          "output_type": "stream",
          "name": "stderr",
          "text": [
            "<ipython-input-10-e44211bf9fb2>:44: UserWarning: Implicit dimension choice for softmax has been deprecated. Change the call to include dim=X as an argument.\n",
            "  z = fn(h)\n"
          ]
        },
        {
          "output_type": "stream",
          "name": "stdout",
          "text": [
            "torch.Size([10000, 64])\n",
            "torch.Size([10000, 10])\n",
            "f1 score: 0.7052\n",
            "Epoch loss: 1.415988\n",
            "Val loss: 1.400478\n",
            "Epoch 24\n"
          ]
        },
        {
          "output_type": "stream",
          "name": "stderr",
          "text": [
            "<ipython-input-10-e44211bf9fb2>:44: UserWarning: Implicit dimension choice for softmax has been deprecated. Change the call to include dim=X as an argument.\n",
            "  z = fn(h)\n"
          ]
        },
        {
          "output_type": "stream",
          "name": "stdout",
          "text": [
            "torch.Size([10000, 64])\n",
            "torch.Size([10000, 10])\n",
            "f1 score: 0.7073\n",
            "Epoch loss: 1.395128\n",
            "Val loss: 1.379980\n",
            "Epoch 25\n"
          ]
        },
        {
          "output_type": "stream",
          "name": "stderr",
          "text": [
            "<ipython-input-10-e44211bf9fb2>:44: UserWarning: Implicit dimension choice for softmax has been deprecated. Change the call to include dim=X as an argument.\n",
            "  z = fn(h)\n"
          ]
        },
        {
          "output_type": "stream",
          "name": "stdout",
          "text": [
            "torch.Size([10000, 64])\n",
            "torch.Size([10000, 10])\n",
            "f1 score: 0.7095\n",
            "Epoch loss: 1.375138\n",
            "Val loss: 1.360331\n",
            "Epoch 26\n"
          ]
        },
        {
          "output_type": "stream",
          "name": "stderr",
          "text": [
            "<ipython-input-10-e44211bf9fb2>:44: UserWarning: Implicit dimension choice for softmax has been deprecated. Change the call to include dim=X as an argument.\n",
            "  z = fn(h)\n"
          ]
        },
        {
          "output_type": "stream",
          "name": "stdout",
          "text": [
            "torch.Size([10000, 64])\n",
            "torch.Size([10000, 10])\n",
            "f1 score: 0.7111\n",
            "Epoch loss: 1.355974\n",
            "Val loss: 1.341486\n",
            "Epoch 27\n"
          ]
        },
        {
          "output_type": "stream",
          "name": "stderr",
          "text": [
            "<ipython-input-10-e44211bf9fb2>:44: UserWarning: Implicit dimension choice for softmax has been deprecated. Change the call to include dim=X as an argument.\n",
            "  z = fn(h)\n"
          ]
        },
        {
          "output_type": "stream",
          "name": "stdout",
          "text": [
            "torch.Size([10000, 64])\n",
            "torch.Size([10000, 10])\n",
            "f1 score: 0.7127\n",
            "Epoch loss: 1.337593\n",
            "Val loss: 1.323405\n",
            "Epoch 28\n"
          ]
        },
        {
          "output_type": "stream",
          "name": "stderr",
          "text": [
            "<ipython-input-10-e44211bf9fb2>:44: UserWarning: Implicit dimension choice for softmax has been deprecated. Change the call to include dim=X as an argument.\n",
            "  z = fn(h)\n"
          ]
        },
        {
          "output_type": "stream",
          "name": "stdout",
          "text": [
            "torch.Size([10000, 64])\n",
            "torch.Size([10000, 10])\n",
            "f1 score: 0.7146\n",
            "Epoch loss: 1.319955\n",
            "Val loss: 1.306048\n",
            "Epoch 29\n"
          ]
        },
        {
          "output_type": "stream",
          "name": "stderr",
          "text": [
            "<ipython-input-10-e44211bf9fb2>:44: UserWarning: Implicit dimension choice for softmax has been deprecated. Change the call to include dim=X as an argument.\n",
            "  z = fn(h)\n"
          ]
        },
        {
          "output_type": "stream",
          "name": "stdout",
          "text": [
            "torch.Size([10000, 64])\n",
            "torch.Size([10000, 10])\n",
            "f1 score: 0.7158999999999999\n",
            "Epoch loss: 1.303021\n",
            "Val loss: 1.289378\n",
            "Epoch 30\n"
          ]
        },
        {
          "output_type": "stream",
          "name": "stderr",
          "text": [
            "<ipython-input-10-e44211bf9fb2>:44: UserWarning: Implicit dimension choice for softmax has been deprecated. Change the call to include dim=X as an argument.\n",
            "  z = fn(h)\n"
          ]
        },
        {
          "output_type": "stream",
          "name": "stdout",
          "text": [
            "torch.Size([10000, 64])\n",
            "torch.Size([10000, 10])\n",
            "f1 score: 0.7173\n",
            "Epoch loss: 1.286756\n",
            "Val loss: 1.273360\n",
            "Epoch 31\n"
          ]
        },
        {
          "output_type": "stream",
          "name": "stderr",
          "text": [
            "<ipython-input-10-e44211bf9fb2>:44: UserWarning: Implicit dimension choice for softmax has been deprecated. Change the call to include dim=X as an argument.\n",
            "  z = fn(h)\n"
          ]
        },
        {
          "output_type": "stream",
          "name": "stdout",
          "text": [
            "torch.Size([10000, 64])\n",
            "torch.Size([10000, 10])\n",
            "f1 score: 0.7189000000000001\n",
            "Epoch loss: 1.271125\n",
            "Val loss: 1.257961\n",
            "Epoch 32\n"
          ]
        },
        {
          "output_type": "stream",
          "name": "stderr",
          "text": [
            "<ipython-input-10-e44211bf9fb2>:44: UserWarning: Implicit dimension choice for softmax has been deprecated. Change the call to include dim=X as an argument.\n",
            "  z = fn(h)\n"
          ]
        },
        {
          "output_type": "stream",
          "name": "stdout",
          "text": [
            "torch.Size([10000, 64])\n",
            "torch.Size([10000, 10])\n",
            "f1 score: 0.72\n",
            "Epoch loss: 1.256096\n",
            "Val loss: 1.243150\n",
            "Epoch 33\n"
          ]
        },
        {
          "output_type": "stream",
          "name": "stderr",
          "text": [
            "<ipython-input-10-e44211bf9fb2>:44: UserWarning: Implicit dimension choice for softmax has been deprecated. Change the call to include dim=X as an argument.\n",
            "  z = fn(h)\n"
          ]
        },
        {
          "output_type": "stream",
          "name": "stdout",
          "text": [
            "torch.Size([10000, 64])\n",
            "torch.Size([10000, 10])\n",
            "f1 score: 0.7213000000000002\n",
            "Epoch loss: 1.241639\n",
            "Val loss: 1.228896\n",
            "Epoch 34\n"
          ]
        },
        {
          "output_type": "stream",
          "name": "stderr",
          "text": [
            "<ipython-input-10-e44211bf9fb2>:44: UserWarning: Implicit dimension choice for softmax has been deprecated. Change the call to include dim=X as an argument.\n",
            "  z = fn(h)\n"
          ]
        },
        {
          "output_type": "stream",
          "name": "stdout",
          "text": [
            "torch.Size([10000, 64])\n",
            "torch.Size([10000, 10])\n",
            "f1 score: 0.7229\n",
            "Epoch loss: 1.227724\n",
            "Val loss: 1.215172\n",
            "Epoch 35\n"
          ]
        },
        {
          "output_type": "stream",
          "name": "stderr",
          "text": [
            "<ipython-input-10-e44211bf9fb2>:44: UserWarning: Implicit dimension choice for softmax has been deprecated. Change the call to include dim=X as an argument.\n",
            "  z = fn(h)\n"
          ]
        },
        {
          "output_type": "stream",
          "name": "stdout",
          "text": [
            "torch.Size([10000, 64])\n",
            "torch.Size([10000, 10])\n",
            "f1 score: 0.7247\n",
            "Epoch loss: 1.214325\n",
            "Val loss: 1.201951\n",
            "Epoch 36\n"
          ]
        },
        {
          "output_type": "stream",
          "name": "stderr",
          "text": [
            "<ipython-input-10-e44211bf9fb2>:44: UserWarning: Implicit dimension choice for softmax has been deprecated. Change the call to include dim=X as an argument.\n",
            "  z = fn(h)\n"
          ]
        },
        {
          "output_type": "stream",
          "name": "stdout",
          "text": [
            "torch.Size([10000, 64])\n",
            "torch.Size([10000, 10])\n",
            "f1 score: 0.7261000000000001\n",
            "Epoch loss: 1.201415\n",
            "Val loss: 1.189208\n",
            "Epoch 37\n"
          ]
        },
        {
          "output_type": "stream",
          "name": "stderr",
          "text": [
            "<ipython-input-10-e44211bf9fb2>:44: UserWarning: Implicit dimension choice for softmax has been deprecated. Change the call to include dim=X as an argument.\n",
            "  z = fn(h)\n"
          ]
        },
        {
          "output_type": "stream",
          "name": "stdout",
          "text": [
            "torch.Size([10000, 64])\n",
            "torch.Size([10000, 10])\n",
            "f1 score: 0.7276\n",
            "Epoch loss: 1.188972\n",
            "Val loss: 1.176920\n",
            "Epoch 38\n"
          ]
        },
        {
          "output_type": "stream",
          "name": "stderr",
          "text": [
            "<ipython-input-10-e44211bf9fb2>:44: UserWarning: Implicit dimension choice for softmax has been deprecated. Change the call to include dim=X as an argument.\n",
            "  z = fn(h)\n"
          ]
        },
        {
          "output_type": "stream",
          "name": "stdout",
          "text": [
            "torch.Size([10000, 64])\n",
            "torch.Size([10000, 10])\n",
            "f1 score: 0.7296\n",
            "Epoch loss: 1.176970\n",
            "Val loss: 1.165064\n",
            "Epoch 39\n"
          ]
        },
        {
          "output_type": "stream",
          "name": "stderr",
          "text": [
            "<ipython-input-10-e44211bf9fb2>:44: UserWarning: Implicit dimension choice for softmax has been deprecated. Change the call to include dim=X as an argument.\n",
            "  z = fn(h)\n"
          ]
        },
        {
          "output_type": "stream",
          "name": "stdout",
          "text": [
            "torch.Size([10000, 64])\n",
            "torch.Size([10000, 10])\n",
            "f1 score: 0.7312\n",
            "Epoch loss: 1.165390\n",
            "Val loss: 1.153620\n",
            "Epoch 40\n"
          ]
        },
        {
          "output_type": "stream",
          "name": "stderr",
          "text": [
            "<ipython-input-10-e44211bf9fb2>:44: UserWarning: Implicit dimension choice for softmax has been deprecated. Change the call to include dim=X as an argument.\n",
            "  z = fn(h)\n"
          ]
        },
        {
          "output_type": "stream",
          "name": "stdout",
          "text": [
            "torch.Size([10000, 64])\n",
            "torch.Size([10000, 10])\n",
            "f1 score: 0.7324\n",
            "Epoch loss: 1.154210\n",
            "Val loss: 1.142567\n",
            "Epoch 41\n"
          ]
        },
        {
          "output_type": "stream",
          "name": "stderr",
          "text": [
            "<ipython-input-10-e44211bf9fb2>:44: UserWarning: Implicit dimension choice for softmax has been deprecated. Change the call to include dim=X as an argument.\n",
            "  z = fn(h)\n"
          ]
        },
        {
          "output_type": "stream",
          "name": "stdout",
          "text": [
            "torch.Size([10000, 64])\n",
            "torch.Size([10000, 10])\n",
            "f1 score: 0.7333\n",
            "Epoch loss: 1.143412\n",
            "Val loss: 1.131887\n",
            "Epoch 42\n"
          ]
        },
        {
          "output_type": "stream",
          "name": "stderr",
          "text": [
            "<ipython-input-10-e44211bf9fb2>:44: UserWarning: Implicit dimension choice for softmax has been deprecated. Change the call to include dim=X as an argument.\n",
            "  z = fn(h)\n"
          ]
        },
        {
          "output_type": "stream",
          "name": "stdout",
          "text": [
            "torch.Size([10000, 64])\n",
            "torch.Size([10000, 10])\n",
            "f1 score: 0.7345\n",
            "Epoch loss: 1.132977\n",
            "Val loss: 1.121562\n",
            "Epoch 43\n"
          ]
        },
        {
          "output_type": "stream",
          "name": "stderr",
          "text": [
            "<ipython-input-10-e44211bf9fb2>:44: UserWarning: Implicit dimension choice for softmax has been deprecated. Change the call to include dim=X as an argument.\n",
            "  z = fn(h)\n"
          ]
        },
        {
          "output_type": "stream",
          "name": "stdout",
          "text": [
            "torch.Size([10000, 64])\n",
            "torch.Size([10000, 10])\n",
            "f1 score: 0.7357\n",
            "Epoch loss: 1.122887\n",
            "Val loss: 1.111576\n",
            "Epoch 44\n"
          ]
        },
        {
          "output_type": "stream",
          "name": "stderr",
          "text": [
            "<ipython-input-10-e44211bf9fb2>:44: UserWarning: Implicit dimension choice for softmax has been deprecated. Change the call to include dim=X as an argument.\n",
            "  z = fn(h)\n"
          ]
        },
        {
          "output_type": "stream",
          "name": "stdout",
          "text": [
            "torch.Size([10000, 64])\n",
            "torch.Size([10000, 10])\n",
            "f1 score: 0.7373\n",
            "Epoch loss: 1.113128\n",
            "Val loss: 1.101912\n",
            "Epoch 45\n"
          ]
        },
        {
          "output_type": "stream",
          "name": "stderr",
          "text": [
            "<ipython-input-10-e44211bf9fb2>:44: UserWarning: Implicit dimension choice for softmax has been deprecated. Change the call to include dim=X as an argument.\n",
            "  z = fn(h)\n"
          ]
        },
        {
          "output_type": "stream",
          "name": "stdout",
          "text": [
            "torch.Size([10000, 64])\n",
            "torch.Size([10000, 10])\n",
            "f1 score: 0.7384\n",
            "Epoch loss: 1.103683\n",
            "Val loss: 1.092556\n",
            "Epoch 46\n"
          ]
        },
        {
          "output_type": "stream",
          "name": "stderr",
          "text": [
            "<ipython-input-10-e44211bf9fb2>:44: UserWarning: Implicit dimension choice for softmax has been deprecated. Change the call to include dim=X as an argument.\n",
            "  z = fn(h)\n"
          ]
        },
        {
          "output_type": "stream",
          "name": "stdout",
          "text": [
            "torch.Size([10000, 64])\n",
            "torch.Size([10000, 10])\n",
            "f1 score: 0.7391\n",
            "Epoch loss: 1.094538\n",
            "Val loss: 1.083494\n",
            "Epoch 47\n"
          ]
        },
        {
          "output_type": "stream",
          "name": "stderr",
          "text": [
            "<ipython-input-10-e44211bf9fb2>:44: UserWarning: Implicit dimension choice for softmax has been deprecated. Change the call to include dim=X as an argument.\n",
            "  z = fn(h)\n"
          ]
        },
        {
          "output_type": "stream",
          "name": "stdout",
          "text": [
            "torch.Size([10000, 64])\n",
            "torch.Size([10000, 10])\n",
            "f1 score: 0.7402\n",
            "Epoch loss: 1.085680\n",
            "Val loss: 1.074713\n",
            "Epoch 48\n"
          ]
        },
        {
          "output_type": "stream",
          "name": "stderr",
          "text": [
            "<ipython-input-10-e44211bf9fb2>:44: UserWarning: Implicit dimension choice for softmax has been deprecated. Change the call to include dim=X as an argument.\n",
            "  z = fn(h)\n"
          ]
        },
        {
          "output_type": "stream",
          "name": "stdout",
          "text": [
            "torch.Size([10000, 64])\n",
            "torch.Size([10000, 10])\n",
            "f1 score: 0.7417\n",
            "Epoch loss: 1.077095\n",
            "Val loss: 1.066200\n",
            "Epoch 49\n"
          ]
        },
        {
          "output_type": "stream",
          "name": "stderr",
          "text": [
            "<ipython-input-10-e44211bf9fb2>:44: UserWarning: Implicit dimension choice for softmax has been deprecated. Change the call to include dim=X as an argument.\n",
            "  z = fn(h)\n"
          ]
        },
        {
          "output_type": "stream",
          "name": "stdout",
          "text": [
            "torch.Size([10000, 64])\n",
            "torch.Size([10000, 10])\n",
            "f1 score: 0.7427\n",
            "Epoch loss: 1.068771\n",
            "Val loss: 1.057942\n",
            "Epoch 50\n"
          ]
        },
        {
          "output_type": "stream",
          "name": "stderr",
          "text": [
            "<ipython-input-10-e44211bf9fb2>:44: UserWarning: Implicit dimension choice for softmax has been deprecated. Change the call to include dim=X as an argument.\n",
            "  z = fn(h)\n"
          ]
        },
        {
          "output_type": "stream",
          "name": "stdout",
          "text": [
            "torch.Size([10000, 64])\n",
            "torch.Size([10000, 10])\n",
            "f1 score: 0.7433\n",
            "Epoch loss: 1.060697\n",
            "Val loss: 1.049930\n",
            "Epoch 51\n"
          ]
        },
        {
          "output_type": "stream",
          "name": "stderr",
          "text": [
            "<ipython-input-10-e44211bf9fb2>:44: UserWarning: Implicit dimension choice for softmax has been deprecated. Change the call to include dim=X as an argument.\n",
            "  z = fn(h)\n"
          ]
        },
        {
          "output_type": "stream",
          "name": "stdout",
          "text": [
            "torch.Size([10000, 64])\n",
            "torch.Size([10000, 10])\n",
            "f1 score: 0.7447\n",
            "Epoch loss: 1.052862\n",
            "Val loss: 1.042151\n",
            "Epoch 52\n"
          ]
        },
        {
          "output_type": "stream",
          "name": "stderr",
          "text": [
            "<ipython-input-10-e44211bf9fb2>:44: UserWarning: Implicit dimension choice for softmax has been deprecated. Change the call to include dim=X as an argument.\n",
            "  z = fn(h)\n"
          ]
        },
        {
          "output_type": "stream",
          "name": "stdout",
          "text": [
            "torch.Size([10000, 64])\n",
            "torch.Size([10000, 10])\n",
            "f1 score: 0.7451\n",
            "Epoch loss: 1.045256\n",
            "Val loss: 1.034598\n",
            "Epoch 53\n"
          ]
        },
        {
          "output_type": "stream",
          "name": "stderr",
          "text": [
            "<ipython-input-10-e44211bf9fb2>:44: UserWarning: Implicit dimension choice for softmax has been deprecated. Change the call to include dim=X as an argument.\n",
            "  z = fn(h)\n"
          ]
        },
        {
          "output_type": "stream",
          "name": "stdout",
          "text": [
            "torch.Size([10000, 64])\n",
            "torch.Size([10000, 10])\n",
            "f1 score: 0.746\n",
            "Epoch loss: 1.037868\n",
            "Val loss: 1.027258\n",
            "Epoch 54\n"
          ]
        },
        {
          "output_type": "stream",
          "name": "stderr",
          "text": [
            "<ipython-input-10-e44211bf9fb2>:44: UserWarning: Implicit dimension choice for softmax has been deprecated. Change the call to include dim=X as an argument.\n",
            "  z = fn(h)\n"
          ]
        },
        {
          "output_type": "stream",
          "name": "stdout",
          "text": [
            "torch.Size([10000, 64])\n",
            "torch.Size([10000, 10])\n",
            "f1 score: 0.7471\n",
            "Epoch loss: 1.030690\n",
            "Val loss: 1.020125\n",
            "Epoch 55\n"
          ]
        },
        {
          "output_type": "stream",
          "name": "stderr",
          "text": [
            "<ipython-input-10-e44211bf9fb2>:44: UserWarning: Implicit dimension choice for softmax has been deprecated. Change the call to include dim=X as an argument.\n",
            "  z = fn(h)\n"
          ]
        },
        {
          "output_type": "stream",
          "name": "stdout",
          "text": [
            "torch.Size([10000, 64])\n",
            "torch.Size([10000, 10])\n",
            "f1 score: 0.7482\n",
            "Epoch loss: 1.023713\n",
            "Val loss: 1.013188\n",
            "Epoch 56\n"
          ]
        },
        {
          "output_type": "stream",
          "name": "stderr",
          "text": [
            "<ipython-input-10-e44211bf9fb2>:44: UserWarning: Implicit dimension choice for softmax has been deprecated. Change the call to include dim=X as an argument.\n",
            "  z = fn(h)\n"
          ]
        },
        {
          "output_type": "stream",
          "name": "stdout",
          "text": [
            "torch.Size([10000, 64])\n",
            "torch.Size([10000, 10])\n",
            "f1 score: 0.7493\n",
            "Epoch loss: 1.016928\n",
            "Val loss: 1.006440\n",
            "Epoch 57\n"
          ]
        },
        {
          "output_type": "stream",
          "name": "stderr",
          "text": [
            "<ipython-input-10-e44211bf9fb2>:44: UserWarning: Implicit dimension choice for softmax has been deprecated. Change the call to include dim=X as an argument.\n",
            "  z = fn(h)\n"
          ]
        },
        {
          "output_type": "stream",
          "name": "stdout",
          "text": [
            "torch.Size([10000, 64])\n",
            "torch.Size([10000, 10])\n",
            "f1 score: 0.7505\n",
            "Epoch loss: 1.010327\n",
            "Val loss: 0.999874\n",
            "Epoch 58\n"
          ]
        },
        {
          "output_type": "stream",
          "name": "stderr",
          "text": [
            "<ipython-input-10-e44211bf9fb2>:44: UserWarning: Implicit dimension choice for softmax has been deprecated. Change the call to include dim=X as an argument.\n",
            "  z = fn(h)\n"
          ]
        },
        {
          "output_type": "stream",
          "name": "stdout",
          "text": [
            "torch.Size([10000, 64])\n",
            "torch.Size([10000, 10])\n",
            "f1 score: 0.7512\n",
            "Epoch loss: 1.003904\n",
            "Val loss: 0.993482\n",
            "Epoch 59\n"
          ]
        },
        {
          "output_type": "stream",
          "name": "stderr",
          "text": [
            "<ipython-input-10-e44211bf9fb2>:44: UserWarning: Implicit dimension choice for softmax has been deprecated. Change the call to include dim=X as an argument.\n",
            "  z = fn(h)\n"
          ]
        },
        {
          "output_type": "stream",
          "name": "stdout",
          "text": [
            "torch.Size([10000, 64])\n",
            "torch.Size([10000, 10])\n",
            "f1 score: 0.752\n",
            "Epoch loss: 0.997651\n",
            "Val loss: 0.987257\n",
            "Epoch 60\n"
          ]
        },
        {
          "output_type": "stream",
          "name": "stderr",
          "text": [
            "<ipython-input-10-e44211bf9fb2>:44: UserWarning: Implicit dimension choice for softmax has been deprecated. Change the call to include dim=X as an argument.\n",
            "  z = fn(h)\n"
          ]
        },
        {
          "output_type": "stream",
          "name": "stdout",
          "text": [
            "torch.Size([10000, 64])\n",
            "torch.Size([10000, 10])\n",
            "f1 score: 0.7532\n",
            "Epoch loss: 0.991561\n",
            "Val loss: 0.981193\n",
            "Epoch 61\n"
          ]
        },
        {
          "output_type": "stream",
          "name": "stderr",
          "text": [
            "<ipython-input-10-e44211bf9fb2>:44: UserWarning: Implicit dimension choice for softmax has been deprecated. Change the call to include dim=X as an argument.\n",
            "  z = fn(h)\n"
          ]
        },
        {
          "output_type": "stream",
          "name": "stdout",
          "text": [
            "torch.Size([10000, 64])\n",
            "torch.Size([10000, 10])\n",
            "f1 score: 0.7548\n",
            "Epoch loss: 0.985629\n",
            "Val loss: 0.975283\n",
            "Epoch 62\n"
          ]
        },
        {
          "output_type": "stream",
          "name": "stderr",
          "text": [
            "<ipython-input-10-e44211bf9fb2>:44: UserWarning: Implicit dimension choice for softmax has been deprecated. Change the call to include dim=X as an argument.\n",
            "  z = fn(h)\n"
          ]
        },
        {
          "output_type": "stream",
          "name": "stdout",
          "text": [
            "torch.Size([10000, 64])\n",
            "torch.Size([10000, 10])\n",
            "f1 score: 0.7559000000000001\n",
            "Epoch loss: 0.979847\n",
            "Val loss: 0.969521\n",
            "Epoch 63\n"
          ]
        },
        {
          "output_type": "stream",
          "name": "stderr",
          "text": [
            "<ipython-input-10-e44211bf9fb2>:44: UserWarning: Implicit dimension choice for softmax has been deprecated. Change the call to include dim=X as an argument.\n",
            "  z = fn(h)\n"
          ]
        },
        {
          "output_type": "stream",
          "name": "stdout",
          "text": [
            "torch.Size([10000, 64])\n",
            "torch.Size([10000, 10])\n",
            "f1 score: 0.757\n",
            "Epoch loss: 0.974210\n",
            "Val loss: 0.963903\n",
            "Epoch 64\n"
          ]
        },
        {
          "output_type": "stream",
          "name": "stderr",
          "text": [
            "<ipython-input-10-e44211bf9fb2>:44: UserWarning: Implicit dimension choice for softmax has been deprecated. Change the call to include dim=X as an argument.\n",
            "  z = fn(h)\n"
          ]
        },
        {
          "output_type": "stream",
          "name": "stdout",
          "text": [
            "torch.Size([10000, 64])\n",
            "torch.Size([10000, 10])\n",
            "f1 score: 0.7578999999999999\n",
            "Epoch loss: 0.968712\n",
            "Val loss: 0.958421\n",
            "Epoch 65\n"
          ]
        },
        {
          "output_type": "stream",
          "name": "stderr",
          "text": [
            "<ipython-input-10-e44211bf9fb2>:44: UserWarning: Implicit dimension choice for softmax has been deprecated. Change the call to include dim=X as an argument.\n",
            "  z = fn(h)\n"
          ]
        },
        {
          "output_type": "stream",
          "name": "stdout",
          "text": [
            "torch.Size([10000, 64])\n",
            "torch.Size([10000, 10])\n",
            "f1 score: 0.7590000000000001\n",
            "Epoch loss: 0.963349\n",
            "Val loss: 0.953072\n",
            "Epoch 66\n"
          ]
        },
        {
          "output_type": "stream",
          "name": "stderr",
          "text": [
            "<ipython-input-10-e44211bf9fb2>:44: UserWarning: Implicit dimension choice for softmax has been deprecated. Change the call to include dim=X as an argument.\n",
            "  z = fn(h)\n"
          ]
        },
        {
          "output_type": "stream",
          "name": "stdout",
          "text": [
            "torch.Size([10000, 64])\n",
            "torch.Size([10000, 10])\n",
            "f1 score: 0.7596\n",
            "Epoch loss: 0.958116\n",
            "Val loss: 0.947851\n",
            "Epoch 67\n"
          ]
        },
        {
          "output_type": "stream",
          "name": "stderr",
          "text": [
            "<ipython-input-10-e44211bf9fb2>:44: UserWarning: Implicit dimension choice for softmax has been deprecated. Change the call to include dim=X as an argument.\n",
            "  z = fn(h)\n"
          ]
        },
        {
          "output_type": "stream",
          "name": "stdout",
          "text": [
            "torch.Size([10000, 64])\n",
            "torch.Size([10000, 10])\n",
            "f1 score: 0.7602\n",
            "Epoch loss: 0.953006\n",
            "Val loss: 0.942752\n",
            "Epoch 68\n"
          ]
        },
        {
          "output_type": "stream",
          "name": "stderr",
          "text": [
            "<ipython-input-10-e44211bf9fb2>:44: UserWarning: Implicit dimension choice for softmax has been deprecated. Change the call to include dim=X as an argument.\n",
            "  z = fn(h)\n"
          ]
        },
        {
          "output_type": "stream",
          "name": "stdout",
          "text": [
            "torch.Size([10000, 64])\n",
            "torch.Size([10000, 10])\n",
            "f1 score: 0.7607999999999999\n",
            "Epoch loss: 0.948018\n",
            "Val loss: 0.937772\n",
            "Epoch 69\n"
          ]
        },
        {
          "output_type": "stream",
          "name": "stderr",
          "text": [
            "<ipython-input-10-e44211bf9fb2>:44: UserWarning: Implicit dimension choice for softmax has been deprecated. Change the call to include dim=X as an argument.\n",
            "  z = fn(h)\n"
          ]
        },
        {
          "output_type": "stream",
          "name": "stdout",
          "text": [
            "torch.Size([10000, 64])\n",
            "torch.Size([10000, 10])\n",
            "f1 score: 0.7612\n",
            "Epoch loss: 0.943144\n",
            "Val loss: 0.932906\n",
            "Epoch 70\n"
          ]
        },
        {
          "output_type": "stream",
          "name": "stderr",
          "text": [
            "<ipython-input-10-e44211bf9fb2>:44: UserWarning: Implicit dimension choice for softmax has been deprecated. Change the call to include dim=X as an argument.\n",
            "  z = fn(h)\n"
          ]
        },
        {
          "output_type": "stream",
          "name": "stdout",
          "text": [
            "torch.Size([10000, 64])\n",
            "torch.Size([10000, 10])\n",
            "f1 score: 0.7619\n",
            "Epoch loss: 0.938383\n",
            "Val loss: 0.928150\n",
            "Epoch 71\n"
          ]
        },
        {
          "output_type": "stream",
          "name": "stderr",
          "text": [
            "<ipython-input-10-e44211bf9fb2>:44: UserWarning: Implicit dimension choice for softmax has been deprecated. Change the call to include dim=X as an argument.\n",
            "  z = fn(h)\n"
          ]
        },
        {
          "output_type": "stream",
          "name": "stdout",
          "text": [
            "torch.Size([10000, 64])\n",
            "torch.Size([10000, 10])\n",
            "f1 score: 0.7624\n",
            "Epoch loss: 0.933729\n",
            "Val loss: 0.923500\n",
            "Epoch 72\n"
          ]
        },
        {
          "output_type": "stream",
          "name": "stderr",
          "text": [
            "<ipython-input-10-e44211bf9fb2>:44: UserWarning: Implicit dimension choice for softmax has been deprecated. Change the call to include dim=X as an argument.\n",
            "  z = fn(h)\n"
          ]
        },
        {
          "output_type": "stream",
          "name": "stdout",
          "text": [
            "torch.Size([10000, 64])\n",
            "torch.Size([10000, 10])\n",
            "f1 score: 0.7631000000000001\n",
            "Epoch loss: 0.929180\n",
            "Val loss: 0.918953\n",
            "Epoch 73\n"
          ]
        },
        {
          "output_type": "stream",
          "name": "stderr",
          "text": [
            "<ipython-input-10-e44211bf9fb2>:44: UserWarning: Implicit dimension choice for softmax has been deprecated. Change the call to include dim=X as an argument.\n",
            "  z = fn(h)\n"
          ]
        },
        {
          "output_type": "stream",
          "name": "stdout",
          "text": [
            "torch.Size([10000, 64])\n",
            "torch.Size([10000, 10])\n",
            "f1 score: 0.7635\n",
            "Epoch loss: 0.924731\n",
            "Val loss: 0.914506\n",
            "Epoch 74\n"
          ]
        },
        {
          "output_type": "stream",
          "name": "stderr",
          "text": [
            "<ipython-input-10-e44211bf9fb2>:44: UserWarning: Implicit dimension choice for softmax has been deprecated. Change the call to include dim=X as an argument.\n",
            "  z = fn(h)\n"
          ]
        },
        {
          "output_type": "stream",
          "name": "stdout",
          "text": [
            "torch.Size([10000, 64])\n",
            "torch.Size([10000, 10])\n",
            "f1 score: 0.7645\n",
            "Epoch loss: 0.920379\n",
            "Val loss: 0.910154\n",
            "Epoch 75\n"
          ]
        },
        {
          "output_type": "stream",
          "name": "stderr",
          "text": [
            "<ipython-input-10-e44211bf9fb2>:44: UserWarning: Implicit dimension choice for softmax has been deprecated. Change the call to include dim=X as an argument.\n",
            "  z = fn(h)\n"
          ]
        },
        {
          "output_type": "stream",
          "name": "stdout",
          "text": [
            "torch.Size([10000, 64])\n",
            "torch.Size([10000, 10])\n",
            "f1 score: 0.7651\n",
            "Epoch loss: 0.916120\n",
            "Val loss: 0.905895\n",
            "Epoch 76\n"
          ]
        },
        {
          "output_type": "stream",
          "name": "stderr",
          "text": [
            "<ipython-input-10-e44211bf9fb2>:44: UserWarning: Implicit dimension choice for softmax has been deprecated. Change the call to include dim=X as an argument.\n",
            "  z = fn(h)\n"
          ]
        },
        {
          "output_type": "stream",
          "name": "stdout",
          "text": [
            "torch.Size([10000, 64])\n",
            "torch.Size([10000, 10])\n",
            "f1 score: 0.7658000000000001\n",
            "Epoch loss: 0.911953\n",
            "Val loss: 0.901725\n",
            "Epoch 77\n"
          ]
        },
        {
          "output_type": "stream",
          "name": "stderr",
          "text": [
            "<ipython-input-10-e44211bf9fb2>:44: UserWarning: Implicit dimension choice for softmax has been deprecated. Change the call to include dim=X as an argument.\n",
            "  z = fn(h)\n"
          ]
        },
        {
          "output_type": "stream",
          "name": "stdout",
          "text": [
            "torch.Size([10000, 64])\n",
            "torch.Size([10000, 10])\n",
            "f1 score: 0.7662\n",
            "Epoch loss: 0.907873\n",
            "Val loss: 0.897643\n",
            "Epoch 78\n"
          ]
        },
        {
          "output_type": "stream",
          "name": "stderr",
          "text": [
            "<ipython-input-10-e44211bf9fb2>:44: UserWarning: Implicit dimension choice for softmax has been deprecated. Change the call to include dim=X as an argument.\n",
            "  z = fn(h)\n"
          ]
        },
        {
          "output_type": "stream",
          "name": "stdout",
          "text": [
            "torch.Size([10000, 64])\n",
            "torch.Size([10000, 10])\n",
            "f1 score: 0.7668000000000001\n",
            "Epoch loss: 0.903878\n",
            "Val loss: 0.893644\n",
            "Epoch 79\n"
          ]
        },
        {
          "output_type": "stream",
          "name": "stderr",
          "text": [
            "<ipython-input-10-e44211bf9fb2>:44: UserWarning: Implicit dimension choice for softmax has been deprecated. Change the call to include dim=X as an argument.\n",
            "  z = fn(h)\n"
          ]
        },
        {
          "output_type": "stream",
          "name": "stdout",
          "text": [
            "torch.Size([10000, 64])\n",
            "torch.Size([10000, 10])\n",
            "f1 score: 0.768\n",
            "Epoch loss: 0.899966\n",
            "Val loss: 0.889727\n",
            "Epoch 80\n"
          ]
        },
        {
          "output_type": "stream",
          "name": "stderr",
          "text": [
            "<ipython-input-10-e44211bf9fb2>:44: UserWarning: Implicit dimension choice for softmax has been deprecated. Change the call to include dim=X as an argument.\n",
            "  z = fn(h)\n"
          ]
        },
        {
          "output_type": "stream",
          "name": "stdout",
          "text": [
            "torch.Size([10000, 64])\n",
            "torch.Size([10000, 10])\n",
            "f1 score: 0.7693\n",
            "Epoch loss: 0.896132\n",
            "Val loss: 0.885888\n",
            "Epoch 81\n"
          ]
        },
        {
          "output_type": "stream",
          "name": "stderr",
          "text": [
            "<ipython-input-10-e44211bf9fb2>:44: UserWarning: Implicit dimension choice for softmax has been deprecated. Change the call to include dim=X as an argument.\n",
            "  z = fn(h)\n"
          ]
        },
        {
          "output_type": "stream",
          "name": "stdout",
          "text": [
            "torch.Size([10000, 64])\n",
            "torch.Size([10000, 10])\n",
            "f1 score: 0.7701\n",
            "Epoch loss: 0.892376\n",
            "Val loss: 0.882125\n",
            "Epoch 82\n"
          ]
        },
        {
          "output_type": "stream",
          "name": "stderr",
          "text": [
            "<ipython-input-10-e44211bf9fb2>:44: UserWarning: Implicit dimension choice for softmax has been deprecated. Change the call to include dim=X as an argument.\n",
            "  z = fn(h)\n"
          ]
        },
        {
          "output_type": "stream",
          "name": "stdout",
          "text": [
            "torch.Size([10000, 64])\n",
            "torch.Size([10000, 10])\n",
            "f1 score: 0.7708\n",
            "Epoch loss: 0.888695\n",
            "Val loss: 0.878437\n",
            "Epoch 83\n"
          ]
        },
        {
          "output_type": "stream",
          "name": "stderr",
          "text": [
            "<ipython-input-10-e44211bf9fb2>:44: UserWarning: Implicit dimension choice for softmax has been deprecated. Change the call to include dim=X as an argument.\n",
            "  z = fn(h)\n"
          ]
        },
        {
          "output_type": "stream",
          "name": "stdout",
          "text": [
            "torch.Size([10000, 64])\n",
            "torch.Size([10000, 10])\n",
            "f1 score: 0.7715000000000001\n",
            "Epoch loss: 0.885085\n",
            "Val loss: 0.874820\n",
            "Epoch 84\n"
          ]
        },
        {
          "output_type": "stream",
          "name": "stderr",
          "text": [
            "<ipython-input-10-e44211bf9fb2>:44: UserWarning: Implicit dimension choice for softmax has been deprecated. Change the call to include dim=X as an argument.\n",
            "  z = fn(h)\n"
          ]
        },
        {
          "output_type": "stream",
          "name": "stdout",
          "text": [
            "torch.Size([10000, 64])\n",
            "torch.Size([10000, 10])\n",
            "f1 score: 0.772\n",
            "Epoch loss: 0.881546\n",
            "Val loss: 0.871272\n",
            "Epoch 85\n"
          ]
        },
        {
          "output_type": "stream",
          "name": "stderr",
          "text": [
            "<ipython-input-10-e44211bf9fb2>:44: UserWarning: Implicit dimension choice for softmax has been deprecated. Change the call to include dim=X as an argument.\n",
            "  z = fn(h)\n"
          ]
        },
        {
          "output_type": "stream",
          "name": "stdout",
          "text": [
            "torch.Size([10000, 64])\n",
            "torch.Size([10000, 10])\n",
            "f1 score: 0.7724\n",
            "Epoch loss: 0.878075\n",
            "Val loss: 0.867792\n",
            "Epoch 86\n"
          ]
        },
        {
          "output_type": "stream",
          "name": "stderr",
          "text": [
            "<ipython-input-10-e44211bf9fb2>:44: UserWarning: Implicit dimension choice for softmax has been deprecated. Change the call to include dim=X as an argument.\n",
            "  z = fn(h)\n"
          ]
        },
        {
          "output_type": "stream",
          "name": "stdout",
          "text": [
            "torch.Size([10000, 64])\n",
            "torch.Size([10000, 10])\n",
            "f1 score: 0.7727\n",
            "Epoch loss: 0.874670\n",
            "Val loss: 0.864377\n",
            "Epoch 87\n"
          ]
        },
        {
          "output_type": "stream",
          "name": "stderr",
          "text": [
            "<ipython-input-10-e44211bf9fb2>:44: UserWarning: Implicit dimension choice for softmax has been deprecated. Change the call to include dim=X as an argument.\n",
            "  z = fn(h)\n"
          ]
        },
        {
          "output_type": "stream",
          "name": "stdout",
          "text": [
            "torch.Size([10000, 64])\n",
            "torch.Size([10000, 10])\n",
            "f1 score: 0.7733\n",
            "Epoch loss: 0.871329\n",
            "Val loss: 0.861026\n",
            "Epoch 88\n"
          ]
        },
        {
          "output_type": "stream",
          "name": "stderr",
          "text": [
            "<ipython-input-10-e44211bf9fb2>:44: UserWarning: Implicit dimension choice for softmax has been deprecated. Change the call to include dim=X as an argument.\n",
            "  z = fn(h)\n"
          ]
        },
        {
          "output_type": "stream",
          "name": "stdout",
          "text": [
            "torch.Size([10000, 64])\n",
            "torch.Size([10000, 10])\n",
            "f1 score: 0.7732\n",
            "Epoch loss: 0.868050\n",
            "Val loss: 0.857737\n",
            "Epoch 89\n"
          ]
        },
        {
          "output_type": "stream",
          "name": "stderr",
          "text": [
            "<ipython-input-10-e44211bf9fb2>:44: UserWarning: Implicit dimension choice for softmax has been deprecated. Change the call to include dim=X as an argument.\n",
            "  z = fn(h)\n"
          ]
        },
        {
          "output_type": "stream",
          "name": "stdout",
          "text": [
            "torch.Size([10000, 64])\n",
            "torch.Size([10000, 10])\n",
            "f1 score: 0.7736\n",
            "Epoch loss: 0.864832\n",
            "Val loss: 0.854507\n",
            "Epoch 90\n"
          ]
        },
        {
          "output_type": "stream",
          "name": "stderr",
          "text": [
            "<ipython-input-10-e44211bf9fb2>:44: UserWarning: Implicit dimension choice for softmax has been deprecated. Change the call to include dim=X as an argument.\n",
            "  z = fn(h)\n"
          ]
        },
        {
          "output_type": "stream",
          "name": "stdout",
          "text": [
            "torch.Size([10000, 64])\n",
            "torch.Size([10000, 10])\n",
            "f1 score: 0.7739\n",
            "Epoch loss: 0.861672\n",
            "Val loss: 0.851335\n",
            "Epoch 91\n"
          ]
        },
        {
          "output_type": "stream",
          "name": "stderr",
          "text": [
            "<ipython-input-10-e44211bf9fb2>:44: UserWarning: Implicit dimension choice for softmax has been deprecated. Change the call to include dim=X as an argument.\n",
            "  z = fn(h)\n"
          ]
        },
        {
          "output_type": "stream",
          "name": "stdout",
          "text": [
            "torch.Size([10000, 64])\n",
            "torch.Size([10000, 10])\n",
            "f1 score: 0.7746999999999999\n",
            "Epoch loss: 0.858569\n",
            "Val loss: 0.848220\n",
            "Epoch 92\n"
          ]
        },
        {
          "output_type": "stream",
          "name": "stderr",
          "text": [
            "<ipython-input-10-e44211bf9fb2>:44: UserWarning: Implicit dimension choice for softmax has been deprecated. Change the call to include dim=X as an argument.\n",
            "  z = fn(h)\n"
          ]
        },
        {
          "output_type": "stream",
          "name": "stdout",
          "text": [
            "torch.Size([10000, 64])\n",
            "torch.Size([10000, 10])\n",
            "f1 score: 0.7746999999999999\n",
            "Epoch loss: 0.855521\n",
            "Val loss: 0.845160\n",
            "Epoch 93\n"
          ]
        },
        {
          "output_type": "stream",
          "name": "stderr",
          "text": [
            "<ipython-input-10-e44211bf9fb2>:44: UserWarning: Implicit dimension choice for softmax has been deprecated. Change the call to include dim=X as an argument.\n",
            "  z = fn(h)\n"
          ]
        },
        {
          "output_type": "stream",
          "name": "stdout",
          "text": [
            "torch.Size([10000, 64])\n",
            "torch.Size([10000, 10])\n",
            "f1 score: 0.7753\n",
            "Epoch loss: 0.852527\n",
            "Val loss: 0.842154\n",
            "Epoch 94\n"
          ]
        },
        {
          "output_type": "stream",
          "name": "stderr",
          "text": [
            "<ipython-input-10-e44211bf9fb2>:44: UserWarning: Implicit dimension choice for softmax has been deprecated. Change the call to include dim=X as an argument.\n",
            "  z = fn(h)\n"
          ]
        },
        {
          "output_type": "stream",
          "name": "stdout",
          "text": [
            "torch.Size([10000, 64])\n",
            "torch.Size([10000, 10])\n",
            "f1 score: 0.7755\n",
            "Epoch loss: 0.849586\n",
            "Val loss: 0.839199\n",
            "Epoch 95\n"
          ]
        },
        {
          "output_type": "stream",
          "name": "stderr",
          "text": [
            "<ipython-input-10-e44211bf9fb2>:44: UserWarning: Implicit dimension choice for softmax has been deprecated. Change the call to include dim=X as an argument.\n",
            "  z = fn(h)\n"
          ]
        },
        {
          "output_type": "stream",
          "name": "stdout",
          "text": [
            "torch.Size([10000, 64])\n",
            "torch.Size([10000, 10])\n",
            "f1 score: 0.7763\n",
            "Epoch loss: 0.846695\n",
            "Val loss: 0.836295\n",
            "Epoch 96\n"
          ]
        },
        {
          "output_type": "stream",
          "name": "stderr",
          "text": [
            "<ipython-input-10-e44211bf9fb2>:44: UserWarning: Implicit dimension choice for softmax has been deprecated. Change the call to include dim=X as an argument.\n",
            "  z = fn(h)\n"
          ]
        },
        {
          "output_type": "stream",
          "name": "stdout",
          "text": [
            "torch.Size([10000, 64])\n",
            "torch.Size([10000, 10])\n",
            "f1 score: 0.777\n",
            "Epoch loss: 0.843854\n",
            "Val loss: 0.833440\n",
            "Epoch 97\n"
          ]
        },
        {
          "output_type": "stream",
          "name": "stderr",
          "text": [
            "<ipython-input-10-e44211bf9fb2>:44: UserWarning: Implicit dimension choice for softmax has been deprecated. Change the call to include dim=X as an argument.\n",
            "  z = fn(h)\n"
          ]
        },
        {
          "output_type": "stream",
          "name": "stdout",
          "text": [
            "torch.Size([10000, 64])\n",
            "torch.Size([10000, 10])\n",
            "f1 score: 0.7778\n",
            "Epoch loss: 0.841061\n",
            "Val loss: 0.830633\n",
            "Epoch 98\n"
          ]
        },
        {
          "output_type": "stream",
          "name": "stderr",
          "text": [
            "<ipython-input-10-e44211bf9fb2>:44: UserWarning: Implicit dimension choice for softmax has been deprecated. Change the call to include dim=X as an argument.\n",
            "  z = fn(h)\n"
          ]
        },
        {
          "output_type": "stream",
          "name": "stdout",
          "text": [
            "torch.Size([10000, 64])\n",
            "torch.Size([10000, 10])\n",
            "f1 score: 0.778\n",
            "Epoch loss: 0.838315\n",
            "Val loss: 0.827873\n",
            "Epoch 99\n"
          ]
        },
        {
          "output_type": "stream",
          "name": "stderr",
          "text": [
            "<ipython-input-10-e44211bf9fb2>:44: UserWarning: Implicit dimension choice for softmax has been deprecated. Change the call to include dim=X as an argument.\n",
            "  z = fn(h)\n"
          ]
        },
        {
          "output_type": "stream",
          "name": "stdout",
          "text": [
            "torch.Size([10000, 64])\n",
            "torch.Size([10000, 10])\n",
            "f1 score: 0.7787000000000001\n",
            "Epoch loss: 0.835614\n",
            "Val loss: 0.825158\n"
          ]
        },
        {
          "output_type": "stream",
          "name": "stderr",
          "text": [
            "<ipython-input-10-e44211bf9fb2>:44: UserWarning: Implicit dimension choice for softmax has been deprecated. Change the call to include dim=X as an argument.\n",
            "  z = fn(h)\n"
          ]
        },
        {
          "output_type": "display_data",
          "data": {
            "text/plain": [
              "<Figure size 640x480 with 1 Axes>"
            ],
            "image/png": "[encoded data removed]"
          },
          "metadata": {}
        }
      ]
    },
    {
      "cell_type": "code",
      "source": [
        "x_pred=model2.predict(autoencoder1(test_fts)[0])\n",
        "import numpy as np\n",
        "\n",
        "matches = [1 if a == b else 0 for a, b in zip(x_pred, test_labels)]\n",
        "total_matches = sum(matches)\n",
        "\n",
        "print(f\"Accuracy: {total_matches/10000:.4f}%\")"
      ],
      "metadata": {
        "colab": {
          "base_uri": "https://localhost:8080/"
        },
        "id": "_obzZcKt1ghE",
        "outputId": "56a0b645-f0aa-4773-c2a1-5c5d5875a80c"
      },
      "execution_count": 27,
      "outputs": [
        {
          "output_type": "stream",
          "name": "stderr",
          "text": [
            "<ipython-input-10-e44211bf9fb2>:44: UserWarning: Implicit dimension choice for softmax has been deprecated. Change the call to include dim=X as an argument.\n",
            "  z = fn(h)\n"
          ]
        },
        {
          "output_type": "stream",
          "name": "stdout",
          "text": [
            "torch.Size([10000, 64])\n",
            "torch.Size([10000, 10])\n",
            "Accuracy: 0.7872%\n"
          ]
        }
      ]
    },
    {
      "cell_type": "code",
      "source": [
        "#config with tanh 64\n",
        "autoencoder11 = Autoencoder1(784,64,nn.Tanh ) # intentionally not providing arguments: You fill in!\n",
        "autoencoder_adjuster11 = torch.optim.Adam(autoencoder11.parameters())\n",
        "with torch.no_grad():\n",
        "  autoencoder_train_fts = autoencoder11(train_fts)[0]\n",
        "  autoencoder_dev_fts = autoencoder11(dev_fts)[0]\n"
      ],
      "metadata": {
        "id": "E8M3IbkXWOoW"
      },
      "execution_count": 28,
      "outputs": []
    },
    {
      "cell_type": "code",
      "source": [
        "#tanh\n",
        "model22 = MyMLP(num_input_dims=autoencoder_train_fts.shape[1], \n",
        "               num_neurons=[],\n",
        "               num_classes=num_labels)\n",
        "weight_adjuster2 = torch.optim.Adam(model22.parameters())\n",
        "train(model22, autoencoder_train_fts, train_labels, val_features=autoencoder_dev_fts,val_labels=dev_labels,\n",
        "      weight_adjuster=weight_adjuster2,\n",
        "      num_epochs=100, batch_size=80,\n",
        "      epoch_callback=predict_callback(actual=dev_labels.unsqueeze(1),\n",
        "                                      input_fts=autoencoder_dev_fts,\n",
        "                                      model=model22))"
      ],
      "metadata": {
        "colab": {
          "base_uri": "https://localhost:8080/",
          "height": 1000
        },
        "id": "1hEEw3jYWyhK",
        "outputId": "b54372bb-c60f-4489-873a-a3f7d07b7ff1"
      },
      "execution_count": 29,
      "outputs": [
        {
          "output_type": "stream",
          "name": "stdout",
          "text": [
            "[64]\n",
            "[10]\n",
            "[10] outs\n",
            "64 :i o: 10\n",
            "Epoch 0\n"
          ]
        },
        {
          "output_type": "stream",
          "name": "stderr",
          "text": [
            "<ipython-input-10-e44211bf9fb2>:44: UserWarning: Implicit dimension choice for softmax has been deprecated. Change the call to include dim=X as an argument.\n",
            "  z = fn(h)\n"
          ]
        },
        {
          "output_type": "stream",
          "name": "stdout",
          "text": [
            "torch.Size([10000, 64])\n",
            "torch.Size([10000, 10])\n",
            "f1 score: 0.7452\n",
            "Epoch loss: 1.778062\n",
            "Val loss: 1.393979\n",
            "Epoch 1\n"
          ]
        },
        {
          "output_type": "stream",
          "name": "stderr",
          "text": [
            "<ipython-input-10-e44211bf9fb2>:44: UserWarning: Implicit dimension choice for softmax has been deprecated. Change the call to include dim=X as an argument.\n",
            "  z = fn(h)\n"
          ]
        },
        {
          "output_type": "stream",
          "name": "stdout",
          "text": [
            "torch.Size([10000, 64])\n",
            "torch.Size([10000, 10])\n",
            "f1 score: 0.7807\n",
            "Epoch loss: 1.198341\n",
            "Val loss: 1.041522\n",
            "Epoch 2\n"
          ]
        },
        {
          "output_type": "stream",
          "name": "stderr",
          "text": [
            "<ipython-input-10-e44211bf9fb2>:44: UserWarning: Implicit dimension choice for softmax has been deprecated. Change the call to include dim=X as an argument.\n",
            "  z = fn(h)\n"
          ]
        },
        {
          "output_type": "stream",
          "name": "stdout",
          "text": [
            "torch.Size([10000, 64])\n",
            "torch.Size([10000, 10])\n",
            "f1 score: 0.7974\n",
            "Epoch loss: 0.954629\n",
            "Val loss: 0.872083\n",
            "Epoch 3\n"
          ]
        },
        {
          "output_type": "stream",
          "name": "stderr",
          "text": [
            "<ipython-input-10-e44211bf9fb2>:44: UserWarning: Implicit dimension choice for softmax has been deprecated. Change the call to include dim=X as an argument.\n",
            "  z = fn(h)\n"
          ]
        },
        {
          "output_type": "stream",
          "name": "stdout",
          "text": [
            "torch.Size([10000, 64])\n",
            "torch.Size([10000, 10])\n",
            "f1 score: 0.8079\n",
            "Epoch loss: 0.826181\n",
            "Val loss: 0.773644\n",
            "Epoch 4\n"
          ]
        },
        {
          "output_type": "stream",
          "name": "stderr",
          "text": [
            "<ipython-input-10-e44211bf9fb2>:44: UserWarning: Implicit dimension choice for softmax has been deprecated. Change the call to include dim=X as an argument.\n",
            "  z = fn(h)\n"
          ]
        },
        {
          "output_type": "stream",
          "name": "stdout",
          "text": [
            "torch.Size([10000, 64])\n",
            "torch.Size([10000, 10])\n",
            "f1 score: 0.8159\n",
            "Epoch loss: 0.746949\n",
            "Val loss: 0.709422\n",
            "Epoch 5\n"
          ]
        },
        {
          "output_type": "stream",
          "name": "stderr",
          "text": [
            "<ipython-input-10-e44211bf9fb2>:44: UserWarning: Implicit dimension choice for softmax has been deprecated. Change the call to include dim=X as an argument.\n",
            "  z = fn(h)\n"
          ]
        },
        {
          "output_type": "stream",
          "name": "stdout",
          "text": [
            "torch.Size([10000, 64])\n",
            "torch.Size([10000, 10])\n",
            "f1 score: 0.8239000000000001\n",
            "Epoch loss: 0.693189\n",
            "Val loss: 0.664373\n",
            "Epoch 6\n"
          ]
        },
        {
          "output_type": "stream",
          "name": "stderr",
          "text": [
            "<ipython-input-10-e44211bf9fb2>:44: UserWarning: Implicit dimension choice for softmax has been deprecated. Change the call to include dim=X as an argument.\n",
            "  z = fn(h)\n"
          ]
        },
        {
          "output_type": "stream",
          "name": "stdout",
          "text": [
            "torch.Size([10000, 64])\n",
            "torch.Size([10000, 10])\n",
            "f1 score: 0.8285\n",
            "Epoch loss: 0.654431\n",
            "Val loss: 0.631213\n",
            "Epoch 7\n"
          ]
        },
        {
          "output_type": "stream",
          "name": "stderr",
          "text": [
            "<ipython-input-10-e44211bf9fb2>:44: UserWarning: Implicit dimension choice for softmax has been deprecated. Change the call to include dim=X as an argument.\n",
            "  z = fn(h)\n"
          ]
        },
        {
          "output_type": "stream",
          "name": "stdout",
          "text": [
            "torch.Size([10000, 64])\n",
            "torch.Size([10000, 10])\n",
            "f1 score: 0.8318\n",
            "Epoch loss: 0.625313\n",
            "Val loss: 0.605954\n",
            "Epoch 8\n"
          ]
        },
        {
          "output_type": "stream",
          "name": "stderr",
          "text": [
            "<ipython-input-10-e44211bf9fb2>:44: UserWarning: Implicit dimension choice for softmax has been deprecated. Change the call to include dim=X as an argument.\n",
            "  z = fn(h)\n"
          ]
        },
        {
          "output_type": "stream",
          "name": "stdout",
          "text": [
            "torch.Size([10000, 64])\n",
            "torch.Size([10000, 10])\n",
            "f1 score: 0.8359\n",
            "Epoch loss: 0.602776\n",
            "Val loss: 0.586208\n",
            "Epoch 9\n"
          ]
        },
        {
          "output_type": "stream",
          "name": "stderr",
          "text": [
            "<ipython-input-10-e44211bf9fb2>:44: UserWarning: Implicit dimension choice for softmax has been deprecated. Change the call to include dim=X as an argument.\n",
            "  z = fn(h)\n"
          ]
        },
        {
          "output_type": "stream",
          "name": "stdout",
          "text": [
            "torch.Size([10000, 64])\n",
            "torch.Size([10000, 10])\n",
            "f1 score: 0.8395000000000001\n",
            "Epoch loss: 0.584922\n",
            "Val loss: 0.570444\n",
            "Epoch 10\n"
          ]
        },
        {
          "output_type": "stream",
          "name": "stderr",
          "text": [
            "<ipython-input-10-e44211bf9fb2>:44: UserWarning: Implicit dimension choice for softmax has been deprecated. Change the call to include dim=X as an argument.\n",
            "  z = fn(h)\n"
          ]
        },
        {
          "output_type": "stream",
          "name": "stdout",
          "text": [
            "torch.Size([10000, 64])\n",
            "torch.Size([10000, 10])\n",
            "f1 score: 0.8427\n",
            "Epoch loss: 0.570506\n",
            "Val loss: 0.557631\n",
            "Epoch 11\n"
          ]
        },
        {
          "output_type": "stream",
          "name": "stderr",
          "text": [
            "<ipython-input-10-e44211bf9fb2>:44: UserWarning: Implicit dimension choice for softmax has been deprecated. Change the call to include dim=X as an argument.\n",
            "  z = fn(h)\n"
          ]
        },
        {
          "output_type": "stream",
          "name": "stdout",
          "text": [
            "torch.Size([10000, 64])\n",
            "torch.Size([10000, 10])\n",
            "f1 score: 0.845\n",
            "Epoch loss: 0.558671\n",
            "Val loss: 0.547052\n",
            "Epoch 12\n"
          ]
        },
        {
          "output_type": "stream",
          "name": "stderr",
          "text": [
            "<ipython-input-10-e44211bf9fb2>:44: UserWarning: Implicit dimension choice for softmax has been deprecated. Change the call to include dim=X as an argument.\n",
            "  z = fn(h)\n"
          ]
        },
        {
          "output_type": "stream",
          "name": "stdout",
          "text": [
            "torch.Size([10000, 64])\n",
            "torch.Size([10000, 10])\n",
            "f1 score: 0.8459999999999999\n",
            "Epoch loss: 0.548813\n",
            "Val loss: 0.538195\n",
            "Epoch 13\n"
          ]
        },
        {
          "output_type": "stream",
          "name": "stderr",
          "text": [
            "<ipython-input-10-e44211bf9fb2>:44: UserWarning: Implicit dimension choice for softmax has been deprecated. Change the call to include dim=X as an argument.\n",
            "  z = fn(h)\n"
          ]
        },
        {
          "output_type": "stream",
          "name": "stdout",
          "text": [
            "torch.Size([10000, 64])\n",
            "torch.Size([10000, 10])\n",
            "f1 score: 0.8474\n",
            "Epoch loss: 0.540495\n",
            "Val loss: 0.530687\n",
            "Epoch 14\n"
          ]
        },
        {
          "output_type": "stream",
          "name": "stderr",
          "text": [
            "<ipython-input-10-e44211bf9fb2>:44: UserWarning: Implicit dimension choice for softmax has been deprecated. Change the call to include dim=X as an argument.\n",
            "  z = fn(h)\n"
          ]
        },
        {
          "output_type": "stream",
          "name": "stdout",
          "text": [
            "torch.Size([10000, 64])\n",
            "torch.Size([10000, 10])\n",
            "f1 score: 0.8492\n",
            "Epoch loss: 0.533393\n",
            "Val loss: 0.524253\n",
            "Epoch 15\n"
          ]
        },
        {
          "output_type": "stream",
          "name": "stderr",
          "text": [
            "<ipython-input-10-e44211bf9fb2>:44: UserWarning: Implicit dimension choice for softmax has been deprecated. Change the call to include dim=X as an argument.\n",
            "  z = fn(h)\n"
          ]
        },
        {
          "output_type": "stream",
          "name": "stdout",
          "text": [
            "torch.Size([10000, 64])\n",
            "torch.Size([10000, 10])\n",
            "f1 score: 0.8502\n",
            "Epoch loss: 0.527267\n",
            "Val loss: 0.518685\n",
            "Epoch 16\n"
          ]
        },
        {
          "output_type": "stream",
          "name": "stderr",
          "text": [
            "<ipython-input-10-e44211bf9fb2>:44: UserWarning: Implicit dimension choice for softmax has been deprecated. Change the call to include dim=X as an argument.\n",
            "  z = fn(h)\n"
          ]
        },
        {
          "output_type": "stream",
          "name": "stdout",
          "text": [
            "torch.Size([10000, 64])\n",
            "torch.Size([10000, 10])\n",
            "f1 score: 0.8513\n",
            "Epoch loss: 0.521934\n",
            "Val loss: 0.513823\n",
            "Epoch 17\n"
          ]
        },
        {
          "output_type": "stream",
          "name": "stderr",
          "text": [
            "<ipython-input-10-e44211bf9fb2>:44: UserWarning: Implicit dimension choice for softmax has been deprecated. Change the call to include dim=X as an argument.\n",
            "  z = fn(h)\n"
          ]
        },
        {
          "output_type": "stream",
          "name": "stdout",
          "text": [
            "torch.Size([10000, 64])\n",
            "torch.Size([10000, 10])\n",
            "f1 score: 0.8518000000000001\n",
            "Epoch loss: 0.517253\n",
            "Val loss: 0.509546\n",
            "Epoch 18\n"
          ]
        },
        {
          "output_type": "stream",
          "name": "stderr",
          "text": [
            "<ipython-input-10-e44211bf9fb2>:44: UserWarning: Implicit dimension choice for softmax has been deprecated. Change the call to include dim=X as an argument.\n",
            "  z = fn(h)\n"
          ]
        },
        {
          "output_type": "stream",
          "name": "stdout",
          "text": [
            "torch.Size([10000, 64])\n",
            "torch.Size([10000, 10])\n",
            "f1 score: 0.8526\n",
            "Epoch loss: 0.513113\n",
            "Val loss: 0.505756\n",
            "Epoch 19\n"
          ]
        },
        {
          "output_type": "stream",
          "name": "stderr",
          "text": [
            "<ipython-input-10-e44211bf9fb2>:44: UserWarning: Implicit dimension choice for softmax has been deprecated. Change the call to include dim=X as an argument.\n",
            "  z = fn(h)\n"
          ]
        },
        {
          "output_type": "stream",
          "name": "stdout",
          "text": [
            "torch.Size([10000, 64])\n",
            "torch.Size([10000, 10])\n",
            "f1 score: 0.8527\n",
            "Epoch loss: 0.509427\n",
            "Val loss: 0.502378\n",
            "Epoch 20\n"
          ]
        },
        {
          "output_type": "stream",
          "name": "stderr",
          "text": [
            "<ipython-input-10-e44211bf9fb2>:44: UserWarning: Implicit dimension choice for softmax has been deprecated. Change the call to include dim=X as an argument.\n",
            "  z = fn(h)\n"
          ]
        },
        {
          "output_type": "stream",
          "name": "stdout",
          "text": [
            "torch.Size([10000, 64])\n",
            "torch.Size([10000, 10])\n",
            "f1 score: 0.8532\n",
            "Epoch loss: 0.506127\n",
            "Val loss: 0.499350\n",
            "Epoch 21\n"
          ]
        },
        {
          "output_type": "stream",
          "name": "stderr",
          "text": [
            "<ipython-input-10-e44211bf9fb2>:44: UserWarning: Implicit dimension choice for softmax has been deprecated. Change the call to include dim=X as an argument.\n",
            "  z = fn(h)\n"
          ]
        },
        {
          "output_type": "stream",
          "name": "stdout",
          "text": [
            "torch.Size([10000, 64])\n",
            "torch.Size([10000, 10])\n",
            "f1 score: 0.8537\n",
            "Epoch loss: 0.503156\n",
            "Val loss: 0.496622\n",
            "Epoch 22\n"
          ]
        },
        {
          "output_type": "stream",
          "name": "stderr",
          "text": [
            "<ipython-input-10-e44211bf9fb2>:44: UserWarning: Implicit dimension choice for softmax has been deprecated. Change the call to include dim=X as an argument.\n",
            "  z = fn(h)\n"
          ]
        },
        {
          "output_type": "stream",
          "name": "stdout",
          "text": [
            "torch.Size([10000, 64])\n",
            "torch.Size([10000, 10])\n",
            "f1 score: 0.8544\n",
            "Epoch loss: 0.500467\n",
            "Val loss: 0.494153\n",
            "Epoch 23\n"
          ]
        },
        {
          "output_type": "stream",
          "name": "stderr",
          "text": [
            "<ipython-input-10-e44211bf9fb2>:44: UserWarning: Implicit dimension choice for softmax has been deprecated. Change the call to include dim=X as an argument.\n",
            "  z = fn(h)\n"
          ]
        },
        {
          "output_type": "stream",
          "name": "stdout",
          "text": [
            "torch.Size([10000, 64])\n",
            "torch.Size([10000, 10])\n",
            "f1 score: 0.8547\n",
            "Epoch loss: 0.498024\n",
            "Val loss: 0.491909\n",
            "Epoch 24\n"
          ]
        },
        {
          "output_type": "stream",
          "name": "stderr",
          "text": [
            "<ipython-input-10-e44211bf9fb2>:44: UserWarning: Implicit dimension choice for softmax has been deprecated. Change the call to include dim=X as an argument.\n",
            "  z = fn(h)\n"
          ]
        },
        {
          "output_type": "stream",
          "name": "stdout",
          "text": [
            "torch.Size([10000, 64])\n",
            "torch.Size([10000, 10])\n",
            "f1 score: 0.8546\n",
            "Epoch loss: 0.495795\n",
            "Val loss: 0.489862\n",
            "Epoch 25\n"
          ]
        },
        {
          "output_type": "stream",
          "name": "stderr",
          "text": [
            "<ipython-input-10-e44211bf9fb2>:44: UserWarning: Implicit dimension choice for softmax has been deprecated. Change the call to include dim=X as an argument.\n",
            "  z = fn(h)\n"
          ]
        },
        {
          "output_type": "stream",
          "name": "stdout",
          "text": [
            "torch.Size([10000, 64])\n",
            "torch.Size([10000, 10])\n",
            "f1 score: 0.855\n",
            "Epoch loss: 0.493753\n",
            "Val loss: 0.487989\n",
            "Epoch 26\n"
          ]
        },
        {
          "output_type": "stream",
          "name": "stderr",
          "text": [
            "<ipython-input-10-e44211bf9fb2>:44: UserWarning: Implicit dimension choice for softmax has been deprecated. Change the call to include dim=X as an argument.\n",
            "  z = fn(h)\n"
          ]
        },
        {
          "output_type": "stream",
          "name": "stdout",
          "text": [
            "torch.Size([10000, 64])\n",
            "torch.Size([10000, 10])\n",
            "f1 score: 0.8557\n",
            "Epoch loss: 0.491877\n",
            "Val loss: 0.486268\n",
            "Epoch 27\n"
          ]
        },
        {
          "output_type": "stream",
          "name": "stderr",
          "text": [
            "<ipython-input-10-e44211bf9fb2>:44: UserWarning: Implicit dimension choice for softmax has been deprecated. Change the call to include dim=X as an argument.\n",
            "  z = fn(h)\n"
          ]
        },
        {
          "output_type": "stream",
          "name": "stdout",
          "text": [
            "torch.Size([10000, 64])\n",
            "torch.Size([10000, 10])\n",
            "f1 score: 0.856\n",
            "Epoch loss: 0.490147\n",
            "Val loss: 0.484682\n",
            "Epoch 28\n"
          ]
        },
        {
          "output_type": "stream",
          "name": "stderr",
          "text": [
            "<ipython-input-10-e44211bf9fb2>:44: UserWarning: Implicit dimension choice for softmax has been deprecated. Change the call to include dim=X as an argument.\n",
            "  z = fn(h)\n"
          ]
        },
        {
          "output_type": "stream",
          "name": "stdout",
          "text": [
            "torch.Size([10000, 64])\n",
            "torch.Size([10000, 10])\n",
            "f1 score: 0.8568\n",
            "Epoch loss: 0.488548\n",
            "Val loss: 0.483218\n",
            "Epoch 29\n"
          ]
        },
        {
          "output_type": "stream",
          "name": "stderr",
          "text": [
            "<ipython-input-10-e44211bf9fb2>:44: UserWarning: Implicit dimension choice for softmax has been deprecated. Change the call to include dim=X as an argument.\n",
            "  z = fn(h)\n"
          ]
        },
        {
          "output_type": "stream",
          "name": "stdout",
          "text": [
            "torch.Size([10000, 64])\n",
            "torch.Size([10000, 10])\n",
            "f1 score: 0.8568\n",
            "Epoch loss: 0.487065\n",
            "Val loss: 0.481862\n",
            "Epoch 30\n"
          ]
        },
        {
          "output_type": "stream",
          "name": "stderr",
          "text": [
            "<ipython-input-10-e44211bf9fb2>:44: UserWarning: Implicit dimension choice for softmax has been deprecated. Change the call to include dim=X as an argument.\n",
            "  z = fn(h)\n"
          ]
        },
        {
          "output_type": "stream",
          "name": "stdout",
          "text": [
            "torch.Size([10000, 64])\n",
            "torch.Size([10000, 10])\n",
            "f1 score: 0.8574\n",
            "Epoch loss: 0.485687\n",
            "Val loss: 0.480604\n",
            "Epoch 31\n"
          ]
        },
        {
          "output_type": "stream",
          "name": "stderr",
          "text": [
            "<ipython-input-10-e44211bf9fb2>:44: UserWarning: Implicit dimension choice for softmax has been deprecated. Change the call to include dim=X as an argument.\n",
            "  z = fn(h)\n"
          ]
        },
        {
          "output_type": "stream",
          "name": "stdout",
          "text": [
            "torch.Size([10000, 64])\n",
            "torch.Size([10000, 10])\n",
            "f1 score: 0.8572\n",
            "Epoch loss: 0.484403\n",
            "Val loss: 0.479433\n",
            "Epoch 32\n"
          ]
        },
        {
          "output_type": "stream",
          "name": "stderr",
          "text": [
            "<ipython-input-10-e44211bf9fb2>:44: UserWarning: Implicit dimension choice for softmax has been deprecated. Change the call to include dim=X as an argument.\n",
            "  z = fn(h)\n"
          ]
        },
        {
          "output_type": "stream",
          "name": "stdout",
          "text": [
            "torch.Size([10000, 64])\n",
            "torch.Size([10000, 10])\n",
            "f1 score: 0.8576\n",
            "Epoch loss: 0.483204\n",
            "Val loss: 0.478341\n",
            "Epoch 33\n"
          ]
        },
        {
          "output_type": "stream",
          "name": "stderr",
          "text": [
            "<ipython-input-10-e44211bf9fb2>:44: UserWarning: Implicit dimension choice for softmax has been deprecated. Change the call to include dim=X as an argument.\n",
            "  z = fn(h)\n"
          ]
        },
        {
          "output_type": "stream",
          "name": "stdout",
          "text": [
            "torch.Size([10000, 64])\n",
            "torch.Size([10000, 10])\n",
            "f1 score: 0.858\n",
            "Epoch loss: 0.482082\n",
            "Val loss: 0.477322\n",
            "Epoch 34\n"
          ]
        },
        {
          "output_type": "stream",
          "name": "stderr",
          "text": [
            "<ipython-input-10-e44211bf9fb2>:44: UserWarning: Implicit dimension choice for softmax has been deprecated. Change the call to include dim=X as an argument.\n",
            "  z = fn(h)\n"
          ]
        },
        {
          "output_type": "stream",
          "name": "stdout",
          "text": [
            "torch.Size([10000, 64])\n",
            "torch.Size([10000, 10])\n",
            "f1 score: 0.8586\n",
            "Epoch loss: 0.481030\n",
            "Val loss: 0.476367\n",
            "Epoch 35\n"
          ]
        },
        {
          "output_type": "stream",
          "name": "stderr",
          "text": [
            "<ipython-input-10-e44211bf9fb2>:44: UserWarning: Implicit dimension choice for softmax has been deprecated. Change the call to include dim=X as an argument.\n",
            "  z = fn(h)\n"
          ]
        },
        {
          "output_type": "stream",
          "name": "stdout",
          "text": [
            "torch.Size([10000, 64])\n",
            "torch.Size([10000, 10])\n",
            "f1 score: 0.8591\n",
            "Epoch loss: 0.480043\n",
            "Val loss: 0.475473\n",
            "Epoch 36\n"
          ]
        },
        {
          "output_type": "stream",
          "name": "stderr",
          "text": [
            "<ipython-input-10-e44211bf9fb2>:44: UserWarning: Implicit dimension choice for softmax has been deprecated. Change the call to include dim=X as an argument.\n",
            "  z = fn(h)\n"
          ]
        },
        {
          "output_type": "stream",
          "name": "stdout",
          "text": [
            "torch.Size([10000, 64])\n",
            "torch.Size([10000, 10])\n",
            "f1 score: 0.8596\n",
            "Epoch loss: 0.479113\n",
            "Val loss: 0.474633\n",
            "Epoch 37\n"
          ]
        },
        {
          "output_type": "stream",
          "name": "stderr",
          "text": [
            "<ipython-input-10-e44211bf9fb2>:44: UserWarning: Implicit dimension choice for softmax has been deprecated. Change the call to include dim=X as an argument.\n",
            "  z = fn(h)\n"
          ]
        },
        {
          "output_type": "stream",
          "name": "stdout",
          "text": [
            "torch.Size([10000, 64])\n",
            "torch.Size([10000, 10])\n",
            "f1 score: 0.8598\n",
            "Epoch loss: 0.478238\n",
            "Val loss: 0.473842\n",
            "Epoch 38\n"
          ]
        },
        {
          "output_type": "stream",
          "name": "stderr",
          "text": [
            "<ipython-input-10-e44211bf9fb2>:44: UserWarning: Implicit dimension choice for softmax has been deprecated. Change the call to include dim=X as an argument.\n",
            "  z = fn(h)\n"
          ]
        },
        {
          "output_type": "stream",
          "name": "stdout",
          "text": [
            "torch.Size([10000, 64])\n",
            "torch.Size([10000, 10])\n",
            "f1 score: 0.8601\n",
            "Epoch loss: 0.477411\n",
            "Val loss: 0.473098\n",
            "Epoch 39\n"
          ]
        },
        {
          "output_type": "stream",
          "name": "stderr",
          "text": [
            "<ipython-input-10-e44211bf9fb2>:44: UserWarning: Implicit dimension choice for softmax has been deprecated. Change the call to include dim=X as an argument.\n",
            "  z = fn(h)\n"
          ]
        },
        {
          "output_type": "stream",
          "name": "stdout",
          "text": [
            "torch.Size([10000, 64])\n",
            "torch.Size([10000, 10])\n",
            "f1 score: 0.8601\n",
            "Epoch loss: 0.476630\n",
            "Val loss: 0.472396\n",
            "Epoch 40\n"
          ]
        },
        {
          "output_type": "stream",
          "name": "stderr",
          "text": [
            "<ipython-input-10-e44211bf9fb2>:44: UserWarning: Implicit dimension choice for softmax has been deprecated. Change the call to include dim=X as an argument.\n",
            "  z = fn(h)\n"
          ]
        },
        {
          "output_type": "stream",
          "name": "stdout",
          "text": [
            "torch.Size([10000, 64])\n",
            "torch.Size([10000, 10])\n",
            "f1 score: 0.8599999999999999\n",
            "Epoch loss: 0.475891\n",
            "Val loss: 0.471733\n",
            "Epoch 41\n"
          ]
        },
        {
          "output_type": "stream",
          "name": "stderr",
          "text": [
            "<ipython-input-10-e44211bf9fb2>:44: UserWarning: Implicit dimension choice for softmax has been deprecated. Change the call to include dim=X as an argument.\n",
            "  z = fn(h)\n"
          ]
        },
        {
          "output_type": "stream",
          "name": "stdout",
          "text": [
            "torch.Size([10000, 64])\n",
            "torch.Size([10000, 10])\n",
            "f1 score: 0.8601\n",
            "Epoch loss: 0.475190\n",
            "Val loss: 0.471106\n",
            "Epoch 42\n"
          ]
        },
        {
          "output_type": "stream",
          "name": "stderr",
          "text": [
            "<ipython-input-10-e44211bf9fb2>:44: UserWarning: Implicit dimension choice for softmax has been deprecated. Change the call to include dim=X as an argument.\n",
            "  z = fn(h)\n"
          ]
        },
        {
          "output_type": "stream",
          "name": "stdout",
          "text": [
            "torch.Size([10000, 64])\n",
            "torch.Size([10000, 10])\n",
            "f1 score: 0.8603\n",
            "Epoch loss: 0.474526\n",
            "Val loss: 0.470512\n",
            "Epoch 43\n"
          ]
        },
        {
          "output_type": "stream",
          "name": "stderr",
          "text": [
            "<ipython-input-10-e44211bf9fb2>:44: UserWarning: Implicit dimension choice for softmax has been deprecated. Change the call to include dim=X as an argument.\n",
            "  z = fn(h)\n"
          ]
        },
        {
          "output_type": "stream",
          "name": "stdout",
          "text": [
            "torch.Size([10000, 64])\n",
            "torch.Size([10000, 10])\n",
            "f1 score: 0.8605\n",
            "Epoch loss: 0.473894\n",
            "Val loss: 0.469949\n",
            "Epoch 44\n"
          ]
        },
        {
          "output_type": "stream",
          "name": "stderr",
          "text": [
            "<ipython-input-10-e44211bf9fb2>:44: UserWarning: Implicit dimension choice for softmax has been deprecated. Change the call to include dim=X as an argument.\n",
            "  z = fn(h)\n"
          ]
        },
        {
          "output_type": "stream",
          "name": "stdout",
          "text": [
            "torch.Size([10000, 64])\n",
            "torch.Size([10000, 10])\n",
            "f1 score: 0.8609\n",
            "Epoch loss: 0.473294\n",
            "Val loss: 0.469415\n",
            "Epoch 45\n"
          ]
        },
        {
          "output_type": "stream",
          "name": "stderr",
          "text": [
            "<ipython-input-10-e44211bf9fb2>:44: UserWarning: Implicit dimension choice for softmax has been deprecated. Change the call to include dim=X as an argument.\n",
            "  z = fn(h)\n"
          ]
        },
        {
          "output_type": "stream",
          "name": "stdout",
          "text": [
            "torch.Size([10000, 64])\n",
            "torch.Size([10000, 10])\n",
            "f1 score: 0.8609\n",
            "Epoch loss: 0.472722\n",
            "Val loss: 0.468907\n",
            "Epoch 46\n"
          ]
        },
        {
          "output_type": "stream",
          "name": "stderr",
          "text": [
            "<ipython-input-10-e44211bf9fb2>:44: UserWarning: Implicit dimension choice for softmax has been deprecated. Change the call to include dim=X as an argument.\n",
            "  z = fn(h)\n"
          ]
        },
        {
          "output_type": "stream",
          "name": "stdout",
          "text": [
            "torch.Size([10000, 64])\n",
            "torch.Size([10000, 10])\n",
            "f1 score: 0.8612\n",
            "Epoch loss: 0.472177\n",
            "Val loss: 0.468425\n",
            "Epoch 47\n"
          ]
        },
        {
          "output_type": "stream",
          "name": "stderr",
          "text": [
            "<ipython-input-10-e44211bf9fb2>:44: UserWarning: Implicit dimension choice for softmax has been deprecated. Change the call to include dim=X as an argument.\n",
            "  z = fn(h)\n"
          ]
        },
        {
          "output_type": "stream",
          "name": "stdout",
          "text": [
            "torch.Size([10000, 64])\n",
            "torch.Size([10000, 10])\n",
            "f1 score: 0.8612\n",
            "Epoch loss: 0.471657\n",
            "Val loss: 0.467965\n",
            "Epoch 48\n"
          ]
        },
        {
          "output_type": "stream",
          "name": "stderr",
          "text": [
            "<ipython-input-10-e44211bf9fb2>:44: UserWarning: Implicit dimension choice for softmax has been deprecated. Change the call to include dim=X as an argument.\n",
            "  z = fn(h)\n"
          ]
        },
        {
          "output_type": "stream",
          "name": "stdout",
          "text": [
            "torch.Size([10000, 64])\n",
            "torch.Size([10000, 10])\n",
            "f1 score: 0.8612\n",
            "Epoch loss: 0.471160\n",
            "Val loss: 0.467527\n",
            "Epoch 49\n"
          ]
        },
        {
          "output_type": "stream",
          "name": "stderr",
          "text": [
            "<ipython-input-10-e44211bf9fb2>:44: UserWarning: Implicit dimension choice for softmax has been deprecated. Change the call to include dim=X as an argument.\n",
            "  z = fn(h)\n"
          ]
        },
        {
          "output_type": "stream",
          "name": "stdout",
          "text": [
            "torch.Size([10000, 64])\n",
            "torch.Size([10000, 10])\n",
            "f1 score: 0.8611000000000001\n",
            "Epoch loss: 0.470686\n",
            "Val loss: 0.467110\n",
            "Epoch 50\n"
          ]
        },
        {
          "output_type": "stream",
          "name": "stderr",
          "text": [
            "<ipython-input-10-e44211bf9fb2>:44: UserWarning: Implicit dimension choice for softmax has been deprecated. Change the call to include dim=X as an argument.\n",
            "  z = fn(h)\n"
          ]
        },
        {
          "output_type": "stream",
          "name": "stdout",
          "text": [
            "torch.Size([10000, 64])\n",
            "torch.Size([10000, 10])\n",
            "f1 score: 0.8612\n",
            "Epoch loss: 0.470232\n",
            "Val loss: 0.466711\n",
            "Epoch 51\n"
          ]
        },
        {
          "output_type": "stream",
          "name": "stderr",
          "text": [
            "<ipython-input-10-e44211bf9fb2>:44: UserWarning: Implicit dimension choice for softmax has been deprecated. Change the call to include dim=X as an argument.\n",
            "  z = fn(h)\n"
          ]
        },
        {
          "output_type": "stream",
          "name": "stdout",
          "text": [
            "torch.Size([10000, 64])\n",
            "torch.Size([10000, 10])\n",
            "f1 score: 0.8612\n",
            "Epoch loss: 0.469797\n",
            "Val loss: 0.466330\n",
            "Epoch 52\n"
          ]
        },
        {
          "output_type": "stream",
          "name": "stderr",
          "text": [
            "<ipython-input-10-e44211bf9fb2>:44: UserWarning: Implicit dimension choice for softmax has been deprecated. Change the call to include dim=X as an argument.\n",
            "  z = fn(h)\n"
          ]
        },
        {
          "output_type": "stream",
          "name": "stdout",
          "text": [
            "torch.Size([10000, 64])\n",
            "torch.Size([10000, 10])\n",
            "f1 score: 0.8616000000000001\n",
            "Epoch loss: 0.469381\n",
            "Val loss: 0.465966\n",
            "Epoch 53\n"
          ]
        },
        {
          "output_type": "stream",
          "name": "stderr",
          "text": [
            "<ipython-input-10-e44211bf9fb2>:44: UserWarning: Implicit dimension choice for softmax has been deprecated. Change the call to include dim=X as an argument.\n",
            "  z = fn(h)\n"
          ]
        },
        {
          "output_type": "stream",
          "name": "stdout",
          "text": [
            "torch.Size([10000, 64])\n",
            "torch.Size([10000, 10])\n",
            "f1 score: 0.8619\n",
            "Epoch loss: 0.468982\n",
            "Val loss: 0.465618\n",
            "Epoch 54\n"
          ]
        },
        {
          "output_type": "stream",
          "name": "stderr",
          "text": [
            "<ipython-input-10-e44211bf9fb2>:44: UserWarning: Implicit dimension choice for softmax has been deprecated. Change the call to include dim=X as an argument.\n",
            "  z = fn(h)\n"
          ]
        },
        {
          "output_type": "stream",
          "name": "stdout",
          "text": [
            "torch.Size([10000, 64])\n",
            "torch.Size([10000, 10])\n",
            "f1 score: 0.8618\n",
            "Epoch loss: 0.468599\n",
            "Val loss: 0.465284\n",
            "Epoch 55\n"
          ]
        },
        {
          "output_type": "stream",
          "name": "stderr",
          "text": [
            "<ipython-input-10-e44211bf9fb2>:44: UserWarning: Implicit dimension choice for softmax has been deprecated. Change the call to include dim=X as an argument.\n",
            "  z = fn(h)\n"
          ]
        },
        {
          "output_type": "stream",
          "name": "stdout",
          "text": [
            "torch.Size([10000, 64])\n",
            "torch.Size([10000, 10])\n",
            "f1 score: 0.8619\n",
            "Epoch loss: 0.468231\n",
            "Val loss: 0.464965\n",
            "Epoch 56\n"
          ]
        },
        {
          "output_type": "stream",
          "name": "stderr",
          "text": [
            "<ipython-input-10-e44211bf9fb2>:44: UserWarning: Implicit dimension choice for softmax has been deprecated. Change the call to include dim=X as an argument.\n",
            "  z = fn(h)\n"
          ]
        },
        {
          "output_type": "stream",
          "name": "stdout",
          "text": [
            "torch.Size([10000, 64])\n",
            "torch.Size([10000, 10])\n",
            "f1 score: 0.8621\n",
            "Epoch loss: 0.467878\n",
            "Val loss: 0.464658\n",
            "Epoch 57\n"
          ]
        },
        {
          "output_type": "stream",
          "name": "stderr",
          "text": [
            "<ipython-input-10-e44211bf9fb2>:44: UserWarning: Implicit dimension choice for softmax has been deprecated. Change the call to include dim=X as an argument.\n",
            "  z = fn(h)\n"
          ]
        },
        {
          "output_type": "stream",
          "name": "stdout",
          "text": [
            "torch.Size([10000, 64])\n",
            "torch.Size([10000, 10])\n",
            "f1 score: 0.8622\n",
            "Epoch loss: 0.467538\n",
            "Val loss: 0.464364\n",
            "Epoch 58\n"
          ]
        },
        {
          "output_type": "stream",
          "name": "stderr",
          "text": [
            "<ipython-input-10-e44211bf9fb2>:44: UserWarning: Implicit dimension choice for softmax has been deprecated. Change the call to include dim=X as an argument.\n",
            "  z = fn(h)\n"
          ]
        },
        {
          "output_type": "stream",
          "name": "stdout",
          "text": [
            "torch.Size([10000, 64])\n",
            "torch.Size([10000, 10])\n",
            "f1 score: 0.8624\n",
            "Epoch loss: 0.467211\n",
            "Val loss: 0.464082\n",
            "Epoch 59\n"
          ]
        },
        {
          "output_type": "stream",
          "name": "stderr",
          "text": [
            "<ipython-input-10-e44211bf9fb2>:44: UserWarning: Implicit dimension choice for softmax has been deprecated. Change the call to include dim=X as an argument.\n",
            "  z = fn(h)\n"
          ]
        },
        {
          "output_type": "stream",
          "name": "stdout",
          "text": [
            "torch.Size([10000, 64])\n",
            "torch.Size([10000, 10])\n",
            "f1 score: 0.8627\n",
            "Epoch loss: 0.466897\n",
            "Val loss: 0.463811\n",
            "Epoch 60\n"
          ]
        },
        {
          "output_type": "stream",
          "name": "stderr",
          "text": [
            "<ipython-input-10-e44211bf9fb2>:44: UserWarning: Implicit dimension choice for softmax has been deprecated. Change the call to include dim=X as an argument.\n",
            "  z = fn(h)\n"
          ]
        },
        {
          "output_type": "stream",
          "name": "stdout",
          "text": [
            "torch.Size([10000, 64])\n",
            "torch.Size([10000, 10])\n",
            "f1 score: 0.8626\n",
            "Epoch loss: 0.466594\n",
            "Val loss: 0.463550\n",
            "Epoch 61\n"
          ]
        },
        {
          "output_type": "stream",
          "name": "stderr",
          "text": [
            "<ipython-input-10-e44211bf9fb2>:44: UserWarning: Implicit dimension choice for softmax has been deprecated. Change the call to include dim=X as an argument.\n",
            "  z = fn(h)\n"
          ]
        },
        {
          "output_type": "stream",
          "name": "stdout",
          "text": [
            "torch.Size([10000, 64])\n",
            "torch.Size([10000, 10])\n",
            "f1 score: 0.8626\n",
            "Epoch loss: 0.466302\n",
            "Val loss: 0.463299\n",
            "Epoch 62\n"
          ]
        },
        {
          "output_type": "stream",
          "name": "stderr",
          "text": [
            "<ipython-input-10-e44211bf9fb2>:44: UserWarning: Implicit dimension choice for softmax has been deprecated. Change the call to include dim=X as an argument.\n",
            "  z = fn(h)\n"
          ]
        },
        {
          "output_type": "stream",
          "name": "stdout",
          "text": [
            "torch.Size([10000, 64])\n",
            "torch.Size([10000, 10])\n",
            "f1 score: 0.8627\n",
            "Epoch loss: 0.466020\n",
            "Val loss: 0.463057\n",
            "Epoch 63\n"
          ]
        },
        {
          "output_type": "stream",
          "name": "stderr",
          "text": [
            "<ipython-input-10-e44211bf9fb2>:44: UserWarning: Implicit dimension choice for softmax has been deprecated. Change the call to include dim=X as an argument.\n",
            "  z = fn(h)\n"
          ]
        },
        {
          "output_type": "stream",
          "name": "stdout",
          "text": [
            "torch.Size([10000, 64])\n",
            "torch.Size([10000, 10])\n",
            "f1 score: 0.8627\n",
            "Epoch loss: 0.465749\n",
            "Val loss: 0.462825\n",
            "Epoch 64\n"
          ]
        },
        {
          "output_type": "stream",
          "name": "stderr",
          "text": [
            "<ipython-input-10-e44211bf9fb2>:44: UserWarning: Implicit dimension choice for softmax has been deprecated. Change the call to include dim=X as an argument.\n",
            "  z = fn(h)\n"
          ]
        },
        {
          "output_type": "stream",
          "name": "stdout",
          "text": [
            "torch.Size([10000, 64])\n",
            "torch.Size([10000, 10])\n",
            "f1 score: 0.8627\n",
            "Epoch loss: 0.465487\n",
            "Val loss: 0.462601\n",
            "Epoch 65\n"
          ]
        },
        {
          "output_type": "stream",
          "name": "stderr",
          "text": [
            "<ipython-input-10-e44211bf9fb2>:44: UserWarning: Implicit dimension choice for softmax has been deprecated. Change the call to include dim=X as an argument.\n",
            "  z = fn(h)\n"
          ]
        },
        {
          "output_type": "stream",
          "name": "stdout",
          "text": [
            "torch.Size([10000, 64])\n",
            "torch.Size([10000, 10])\n",
            "f1 score: 0.8626\n",
            "Epoch loss: 0.465233\n",
            "Val loss: 0.462385\n",
            "Epoch 66\n"
          ]
        },
        {
          "output_type": "stream",
          "name": "stderr",
          "text": [
            "<ipython-input-10-e44211bf9fb2>:44: UserWarning: Implicit dimension choice for softmax has been deprecated. Change the call to include dim=X as an argument.\n",
            "  z = fn(h)\n"
          ]
        },
        {
          "output_type": "stream",
          "name": "stdout",
          "text": [
            "torch.Size([10000, 64])\n",
            "torch.Size([10000, 10])\n",
            "f1 score: 0.8628\n",
            "Epoch loss: 0.464989\n",
            "Val loss: 0.462177\n",
            "Epoch 67\n"
          ]
        },
        {
          "output_type": "stream",
          "name": "stderr",
          "text": [
            "<ipython-input-10-e44211bf9fb2>:44: UserWarning: Implicit dimension choice for softmax has been deprecated. Change the call to include dim=X as an argument.\n",
            "  z = fn(h)\n"
          ]
        },
        {
          "output_type": "stream",
          "name": "stdout",
          "text": [
            "torch.Size([10000, 64])\n",
            "torch.Size([10000, 10])\n",
            "f1 score: 0.8631\n",
            "Epoch loss: 0.464753\n",
            "Val loss: 0.461976\n",
            "Epoch 68\n"
          ]
        },
        {
          "output_type": "stream",
          "name": "stderr",
          "text": [
            "<ipython-input-10-e44211bf9fb2>:44: UserWarning: Implicit dimension choice for softmax has been deprecated. Change the call to include dim=X as an argument.\n",
            "  z = fn(h)\n"
          ]
        },
        {
          "output_type": "stream",
          "name": "stdout",
          "text": [
            "torch.Size([10000, 64])\n",
            "torch.Size([10000, 10])\n",
            "f1 score: 0.8632\n",
            "Epoch loss: 0.464524\n",
            "Val loss: 0.461782\n",
            "Epoch 69\n"
          ]
        },
        {
          "output_type": "stream",
          "name": "stderr",
          "text": [
            "<ipython-input-10-e44211bf9fb2>:44: UserWarning: Implicit dimension choice for softmax has been deprecated. Change the call to include dim=X as an argument.\n",
            "  z = fn(h)\n"
          ]
        },
        {
          "output_type": "stream",
          "name": "stdout",
          "text": [
            "torch.Size([10000, 64])\n",
            "torch.Size([10000, 10])\n",
            "f1 score: 0.8632\n",
            "Epoch loss: 0.464303\n",
            "Val loss: 0.461595\n",
            "Epoch 70\n"
          ]
        },
        {
          "output_type": "stream",
          "name": "stderr",
          "text": [
            "<ipython-input-10-e44211bf9fb2>:44: UserWarning: Implicit dimension choice for softmax has been deprecated. Change the call to include dim=X as an argument.\n",
            "  z = fn(h)\n"
          ]
        },
        {
          "output_type": "stream",
          "name": "stdout",
          "text": [
            "torch.Size([10000, 64])\n",
            "torch.Size([10000, 10])\n",
            "f1 score: 0.8632\n",
            "Epoch loss: 0.464089\n",
            "Val loss: 0.461414\n",
            "Epoch 71\n"
          ]
        },
        {
          "output_type": "stream",
          "name": "stderr",
          "text": [
            "<ipython-input-10-e44211bf9fb2>:44: UserWarning: Implicit dimension choice for softmax has been deprecated. Change the call to include dim=X as an argument.\n",
            "  z = fn(h)\n"
          ]
        },
        {
          "output_type": "stream",
          "name": "stdout",
          "text": [
            "torch.Size([10000, 64])\n",
            "torch.Size([10000, 10])\n",
            "f1 score: 0.8634\n",
            "Epoch loss: 0.463882\n",
            "Val loss: 0.461239\n",
            "Epoch 72\n"
          ]
        },
        {
          "output_type": "stream",
          "name": "stderr",
          "text": [
            "<ipython-input-10-e44211bf9fb2>:44: UserWarning: Implicit dimension choice for softmax has been deprecated. Change the call to include dim=X as an argument.\n",
            "  z = fn(h)\n"
          ]
        },
        {
          "output_type": "stream",
          "name": "stdout",
          "text": [
            "torch.Size([10000, 64])\n",
            "torch.Size([10000, 10])\n",
            "f1 score: 0.8635\n",
            "Epoch loss: 0.463681\n",
            "Val loss: 0.461070\n",
            "Epoch 73\n"
          ]
        },
        {
          "output_type": "stream",
          "name": "stderr",
          "text": [
            "<ipython-input-10-e44211bf9fb2>:44: UserWarning: Implicit dimension choice for softmax has been deprecated. Change the call to include dim=X as an argument.\n",
            "  z = fn(h)\n"
          ]
        },
        {
          "output_type": "stream",
          "name": "stdout",
          "text": [
            "torch.Size([10000, 64])\n",
            "torch.Size([10000, 10])\n",
            "f1 score: 0.8636\n",
            "Epoch loss: 0.463487\n",
            "Val loss: 0.460907\n",
            "Epoch 74\n"
          ]
        },
        {
          "output_type": "stream",
          "name": "stderr",
          "text": [
            "<ipython-input-10-e44211bf9fb2>:44: UserWarning: Implicit dimension choice for softmax has been deprecated. Change the call to include dim=X as an argument.\n",
            "  z = fn(h)\n"
          ]
        },
        {
          "output_type": "stream",
          "name": "stdout",
          "text": [
            "torch.Size([10000, 64])\n",
            "torch.Size([10000, 10])\n",
            "f1 score: 0.8637\n",
            "Epoch loss: 0.463299\n",
            "Val loss: 0.460749\n",
            "Epoch 75\n"
          ]
        },
        {
          "output_type": "stream",
          "name": "stderr",
          "text": [
            "<ipython-input-10-e44211bf9fb2>:44: UserWarning: Implicit dimension choice for softmax has been deprecated. Change the call to include dim=X as an argument.\n",
            "  z = fn(h)\n"
          ]
        },
        {
          "output_type": "stream",
          "name": "stdout",
          "text": [
            "torch.Size([10000, 64])\n",
            "torch.Size([10000, 10])\n",
            "f1 score: 0.8636\n",
            "Epoch loss: 0.463116\n",
            "Val loss: 0.460595\n",
            "Epoch 76\n"
          ]
        },
        {
          "output_type": "stream",
          "name": "stderr",
          "text": [
            "<ipython-input-10-e44211bf9fb2>:44: UserWarning: Implicit dimension choice for softmax has been deprecated. Change the call to include dim=X as an argument.\n",
            "  z = fn(h)\n"
          ]
        },
        {
          "output_type": "stream",
          "name": "stdout",
          "text": [
            "torch.Size([10000, 64])\n",
            "torch.Size([10000, 10])\n",
            "f1 score: 0.8635\n",
            "Epoch loss: 0.462939\n",
            "Val loss: 0.460447\n",
            "Epoch 77\n"
          ]
        },
        {
          "output_type": "stream",
          "name": "stderr",
          "text": [
            "<ipython-input-10-e44211bf9fb2>:44: UserWarning: Implicit dimension choice for softmax has been deprecated. Change the call to include dim=X as an argument.\n",
            "  z = fn(h)\n"
          ]
        },
        {
          "output_type": "stream",
          "name": "stdout",
          "text": [
            "torch.Size([10000, 64])\n",
            "torch.Size([10000, 10])\n",
            "f1 score: 0.8633\n",
            "Epoch loss: 0.462767\n",
            "Val loss: 0.460303\n",
            "Epoch 78\n"
          ]
        },
        {
          "output_type": "stream",
          "name": "stderr",
          "text": [
            "<ipython-input-10-e44211bf9fb2>:44: UserWarning: Implicit dimension choice for softmax has been deprecated. Change the call to include dim=X as an argument.\n",
            "  z = fn(h)\n"
          ]
        },
        {
          "output_type": "stream",
          "name": "stdout",
          "text": [
            "torch.Size([10000, 64])\n",
            "torch.Size([10000, 10])\n",
            "f1 score: 0.8632\n",
            "Epoch loss: 0.462601\n",
            "Val loss: 0.460164\n",
            "Epoch 79\n"
          ]
        },
        {
          "output_type": "stream",
          "name": "stderr",
          "text": [
            "<ipython-input-10-e44211bf9fb2>:44: UserWarning: Implicit dimension choice for softmax has been deprecated. Change the call to include dim=X as an argument.\n",
            "  z = fn(h)\n"
          ]
        },
        {
          "output_type": "stream",
          "name": "stdout",
          "text": [
            "torch.Size([10000, 64])\n",
            "torch.Size([10000, 10])\n",
            "f1 score: 0.8631\n",
            "Epoch loss: 0.462439\n",
            "Val loss: 0.460029\n",
            "Epoch 80\n"
          ]
        },
        {
          "output_type": "stream",
          "name": "stderr",
          "text": [
            "<ipython-input-10-e44211bf9fb2>:44: UserWarning: Implicit dimension choice for softmax has been deprecated. Change the call to include dim=X as an argument.\n",
            "  z = fn(h)\n"
          ]
        },
        {
          "output_type": "stream",
          "name": "stdout",
          "text": [
            "torch.Size([10000, 64])\n",
            "torch.Size([10000, 10])\n",
            "f1 score: 0.863\n",
            "Epoch loss: 0.462282\n",
            "Val loss: 0.459898\n",
            "Epoch 81\n"
          ]
        },
        {
          "output_type": "stream",
          "name": "stderr",
          "text": [
            "<ipython-input-10-e44211bf9fb2>:44: UserWarning: Implicit dimension choice for softmax has been deprecated. Change the call to include dim=X as an argument.\n",
            "  z = fn(h)\n"
          ]
        },
        {
          "output_type": "stream",
          "name": "stdout",
          "text": [
            "torch.Size([10000, 64])\n",
            "torch.Size([10000, 10])\n",
            "f1 score: 0.863\n",
            "Epoch loss: 0.462129\n",
            "Val loss: 0.459771\n",
            "Epoch 82\n"
          ]
        },
        {
          "output_type": "stream",
          "name": "stderr",
          "text": [
            "<ipython-input-10-e44211bf9fb2>:44: UserWarning: Implicit dimension choice for softmax has been deprecated. Change the call to include dim=X as an argument.\n",
            "  z = fn(h)\n"
          ]
        },
        {
          "output_type": "stream",
          "name": "stdout",
          "text": [
            "torch.Size([10000, 64])\n",
            "torch.Size([10000, 10])\n",
            "f1 score: 0.8631\n",
            "Epoch loss: 0.461981\n",
            "Val loss: 0.459648\n",
            "Epoch 83\n"
          ]
        },
        {
          "output_type": "stream",
          "name": "stderr",
          "text": [
            "<ipython-input-10-e44211bf9fb2>:44: UserWarning: Implicit dimension choice for softmax has been deprecated. Change the call to include dim=X as an argument.\n",
            "  z = fn(h)\n"
          ]
        },
        {
          "output_type": "stream",
          "name": "stdout",
          "text": [
            "torch.Size([10000, 64])\n",
            "torch.Size([10000, 10])\n",
            "f1 score: 0.863\n",
            "Epoch loss: 0.461836\n",
            "Val loss: 0.459528\n",
            "Epoch 84\n"
          ]
        },
        {
          "output_type": "stream",
          "name": "stderr",
          "text": [
            "<ipython-input-10-e44211bf9fb2>:44: UserWarning: Implicit dimension choice for softmax has been deprecated. Change the call to include dim=X as an argument.\n",
            "  z = fn(h)\n"
          ]
        },
        {
          "output_type": "stream",
          "name": "stdout",
          "text": [
            "torch.Size([10000, 64])\n",
            "torch.Size([10000, 10])\n",
            "f1 score: 0.863\n",
            "Epoch loss: 0.461696\n",
            "Val loss: 0.459412\n",
            "Epoch 85\n"
          ]
        },
        {
          "output_type": "stream",
          "name": "stderr",
          "text": [
            "<ipython-input-10-e44211bf9fb2>:44: UserWarning: Implicit dimension choice for softmax has been deprecated. Change the call to include dim=X as an argument.\n",
            "  z = fn(h)\n"
          ]
        },
        {
          "output_type": "stream",
          "name": "stdout",
          "text": [
            "torch.Size([10000, 64])\n",
            "torch.Size([10000, 10])\n",
            "f1 score: 0.8632\n",
            "Epoch loss: 0.461560\n",
            "Val loss: 0.459299\n",
            "Epoch 86\n"
          ]
        },
        {
          "output_type": "stream",
          "name": "stderr",
          "text": [
            "<ipython-input-10-e44211bf9fb2>:44: UserWarning: Implicit dimension choice for softmax has been deprecated. Change the call to include dim=X as an argument.\n",
            "  z = fn(h)\n"
          ]
        },
        {
          "output_type": "stream",
          "name": "stdout",
          "text": [
            "torch.Size([10000, 64])\n",
            "torch.Size([10000, 10])\n",
            "f1 score: 0.8631\n",
            "Epoch loss: 0.461428\n",
            "Val loss: 0.459189\n",
            "Epoch 87\n"
          ]
        },
        {
          "output_type": "stream",
          "name": "stderr",
          "text": [
            "<ipython-input-10-e44211bf9fb2>:44: UserWarning: Implicit dimension choice for softmax has been deprecated. Change the call to include dim=X as an argument.\n",
            "  z = fn(h)\n"
          ]
        },
        {
          "output_type": "stream",
          "name": "stdout",
          "text": [
            "torch.Size([10000, 64])\n",
            "torch.Size([10000, 10])\n",
            "f1 score: 0.863\n",
            "Epoch loss: 0.461299\n",
            "Val loss: 0.459083\n",
            "Epoch 88\n"
          ]
        },
        {
          "output_type": "stream",
          "name": "stderr",
          "text": [
            "<ipython-input-10-e44211bf9fb2>:44: UserWarning: Implicit dimension choice for softmax has been deprecated. Change the call to include dim=X as an argument.\n",
            "  z = fn(h)\n"
          ]
        },
        {
          "output_type": "stream",
          "name": "stdout",
          "text": [
            "torch.Size([10000, 64])\n",
            "torch.Size([10000, 10])\n",
            "f1 score: 0.8633\n",
            "Epoch loss: 0.461173\n",
            "Val loss: 0.458979\n",
            "Epoch 89\n"
          ]
        },
        {
          "output_type": "stream",
          "name": "stderr",
          "text": [
            "<ipython-input-10-e44211bf9fb2>:44: UserWarning: Implicit dimension choice for softmax has been deprecated. Change the call to include dim=X as an argument.\n",
            "  z = fn(h)\n"
          ]
        },
        {
          "output_type": "stream",
          "name": "stdout",
          "text": [
            "torch.Size([10000, 64])\n",
            "torch.Size([10000, 10])\n",
            "f1 score: 0.8633\n",
            "Epoch loss: 0.461051\n",
            "Val loss: 0.458879\n",
            "Epoch 90\n"
          ]
        },
        {
          "output_type": "stream",
          "name": "stderr",
          "text": [
            "<ipython-input-10-e44211bf9fb2>:44: UserWarning: Implicit dimension choice for softmax has been deprecated. Change the call to include dim=X as an argument.\n",
            "  z = fn(h)\n"
          ]
        },
        {
          "output_type": "stream",
          "name": "stdout",
          "text": [
            "torch.Size([10000, 64])\n",
            "torch.Size([10000, 10])\n",
            "f1 score: 0.8631\n",
            "Epoch loss: 0.460932\n",
            "Val loss: 0.458781\n",
            "Epoch 91\n"
          ]
        },
        {
          "output_type": "stream",
          "name": "stderr",
          "text": [
            "<ipython-input-10-e44211bf9fb2>:44: UserWarning: Implicit dimension choice for softmax has been deprecated. Change the call to include dim=X as an argument.\n",
            "  z = fn(h)\n"
          ]
        },
        {
          "output_type": "stream",
          "name": "stdout",
          "text": [
            "torch.Size([10000, 64])\n",
            "torch.Size([10000, 10])\n",
            "f1 score: 0.8632\n",
            "Epoch loss: 0.460816\n",
            "Val loss: 0.458685\n",
            "Epoch 92\n"
          ]
        },
        {
          "output_type": "stream",
          "name": "stderr",
          "text": [
            "<ipython-input-10-e44211bf9fb2>:44: UserWarning: Implicit dimension choice for softmax has been deprecated. Change the call to include dim=X as an argument.\n",
            "  z = fn(h)\n"
          ]
        },
        {
          "output_type": "stream",
          "name": "stdout",
          "text": [
            "torch.Size([10000, 64])\n",
            "torch.Size([10000, 10])\n",
            "f1 score: 0.8632\n",
            "Epoch loss: 0.460704\n",
            "Val loss: 0.458593\n",
            "Epoch 93\n"
          ]
        },
        {
          "output_type": "stream",
          "name": "stderr",
          "text": [
            "<ipython-input-10-e44211bf9fb2>:44: UserWarning: Implicit dimension choice for softmax has been deprecated. Change the call to include dim=X as an argument.\n",
            "  z = fn(h)\n"
          ]
        },
        {
          "output_type": "stream",
          "name": "stdout",
          "text": [
            "torch.Size([10000, 64])\n",
            "torch.Size([10000, 10])\n",
            "f1 score: 0.8634\n",
            "Epoch loss: 0.460594\n",
            "Val loss: 0.458503\n",
            "Epoch 94\n"
          ]
        },
        {
          "output_type": "stream",
          "name": "stderr",
          "text": [
            "<ipython-input-10-e44211bf9fb2>:44: UserWarning: Implicit dimension choice for softmax has been deprecated. Change the call to include dim=X as an argument.\n",
            "  z = fn(h)\n"
          ]
        },
        {
          "output_type": "stream",
          "name": "stdout",
          "text": [
            "torch.Size([10000, 64])\n",
            "torch.Size([10000, 10])\n",
            "f1 score: 0.8636\n",
            "Epoch loss: 0.460487\n",
            "Val loss: 0.458415\n",
            "Epoch 95\n"
          ]
        },
        {
          "output_type": "stream",
          "name": "stderr",
          "text": [
            "<ipython-input-10-e44211bf9fb2>:44: UserWarning: Implicit dimension choice for softmax has been deprecated. Change the call to include dim=X as an argument.\n",
            "  z = fn(h)\n"
          ]
        },
        {
          "output_type": "stream",
          "name": "stdout",
          "text": [
            "torch.Size([10000, 64])\n",
            "torch.Size([10000, 10])\n",
            "f1 score: 0.8636\n",
            "Epoch loss: 0.460382\n",
            "Val loss: 0.458329\n",
            "Epoch 96\n"
          ]
        },
        {
          "output_type": "stream",
          "name": "stderr",
          "text": [
            "<ipython-input-10-e44211bf9fb2>:44: UserWarning: Implicit dimension choice for softmax has been deprecated. Change the call to include dim=X as an argument.\n",
            "  z = fn(h)\n"
          ]
        },
        {
          "output_type": "stream",
          "name": "stdout",
          "text": [
            "torch.Size([10000, 64])\n",
            "torch.Size([10000, 10])\n",
            "f1 score: 0.8636\n",
            "Epoch loss: 0.460281\n",
            "Val loss: 0.458246\n",
            "Epoch 97\n"
          ]
        },
        {
          "output_type": "stream",
          "name": "stderr",
          "text": [
            "<ipython-input-10-e44211bf9fb2>:44: UserWarning: Implicit dimension choice for softmax has been deprecated. Change the call to include dim=X as an argument.\n",
            "  z = fn(h)\n"
          ]
        },
        {
          "output_type": "stream",
          "name": "stdout",
          "text": [
            "torch.Size([10000, 64])\n",
            "torch.Size([10000, 10])\n",
            "f1 score: 0.8636\n",
            "Epoch loss: 0.460182\n",
            "Val loss: 0.458165\n",
            "Epoch 98\n"
          ]
        },
        {
          "output_type": "stream",
          "name": "stderr",
          "text": [
            "<ipython-input-10-e44211bf9fb2>:44: UserWarning: Implicit dimension choice for softmax has been deprecated. Change the call to include dim=X as an argument.\n",
            "  z = fn(h)\n"
          ]
        },
        {
          "output_type": "stream",
          "name": "stdout",
          "text": [
            "torch.Size([10000, 64])\n",
            "torch.Size([10000, 10])\n",
            "f1 score: 0.8635\n",
            "Epoch loss: 0.460085\n",
            "Val loss: 0.458086\n",
            "Epoch 99\n"
          ]
        },
        {
          "output_type": "stream",
          "name": "stderr",
          "text": [
            "<ipython-input-10-e44211bf9fb2>:44: UserWarning: Implicit dimension choice for softmax has been deprecated. Change the call to include dim=X as an argument.\n",
            "  z = fn(h)\n"
          ]
        },
        {
          "output_type": "stream",
          "name": "stdout",
          "text": [
            "torch.Size([10000, 64])\n",
            "torch.Size([10000, 10])\n",
            "f1 score: 0.8634\n",
            "Epoch loss: 0.459991\n",
            "Val loss: 0.458009\n"
          ]
        },
        {
          "output_type": "stream",
          "name": "stderr",
          "text": [
            "<ipython-input-10-e44211bf9fb2>:44: UserWarning: Implicit dimension choice for softmax has been deprecated. Change the call to include dim=X as an argument.\n",
            "  z = fn(h)\n"
          ]
        },
        {
          "output_type": "display_data",
          "data": {
            "text/plain": [
              "<Figure size 640x480 with 1 Axes>"
            ],
            "image/png": "[encoded data removed]"
          },
          "metadata": {}
        }
      ]
    },
    {
      "cell_type": "code",
      "source": [
        "x_pred=model22.predict(autoencoder11(test_fts)[0])\n",
        "import numpy as np\n",
        "\n",
        "matches = [1 if a == b else 0 for a, b in zip(x_pred, test_labels)]\n",
        "total_matches = sum(matches)\n",
        "\n",
        "print(f\"Accuracy: {total_matches/10000:.4f}%\")"
      ],
      "metadata": {
        "colab": {
          "base_uri": "https://localhost:8080/"
        },
        "id": "Dw2Eg74215MY",
        "outputId": "8a92f641-7cee-4e54-acde-cc44095cb64c"
      },
      "execution_count": 30,
      "outputs": [
        {
          "output_type": "stream",
          "name": "stdout",
          "text": [
            "torch.Size([10000, 64])\n",
            "torch.Size([10000, 10])\n",
            "Accuracy: 0.8723%\n"
          ]
        },
        {
          "output_type": "stream",
          "name": "stderr",
          "text": [
            "<ipython-input-10-e44211bf9fb2>:44: UserWarning: Implicit dimension choice for softmax has been deprecated. Change the call to include dim=X as an argument.\n",
            "  z = fn(h)\n"
          ]
        }
      ]
    },
    {
      "cell_type": "code",
      "source": [
        "#changing epochs,learning rate,batch size for tanh\n",
        "model2 = MyMLP(num_input_dims=autoencoder_train_fts.shape[1], \n",
        "               num_neurons=[],\n",
        "               num_classes=num_labels)\n",
        "weight_adjuster2 = torch.optim.Adam(model2.parameters(),lr=0.01)\n",
        "train(model2, autoencoder_train_fts, train_labels, val_features=autoencoder_dev_fts,val_labels=dev_labels,\n",
        "      weight_adjuster=weight_adjuster2,\n",
        "      num_epochs=40, batch_size=60,\n",
        "      epoch_callback=predict_callback(actual=dev_labels,\n",
        "                                      input_fts=autoencoder_dev_fts,\n",
        "                                      model=model2))"
      ],
      "metadata": {
        "colab": {
          "base_uri": "https://localhost:8080/",
          "height": 1000
        },
        "id": "fxdTyvSmG8Dh",
        "outputId": "91e70d1c-c7a9-4fff-bac5-920ee41626e5"
      },
      "execution_count": 34,
      "outputs": [
        {
          "output_type": "stream",
          "name": "stdout",
          "text": [
            "[64]\n",
            "[10]\n",
            "[10] outs\n",
            "64 :i o: 10\n",
            "Epoch 0\n"
          ]
        },
        {
          "output_type": "stream",
          "name": "stderr",
          "text": [
            "<ipython-input-10-e44211bf9fb2>:44: UserWarning: Implicit dimension choice for softmax has been deprecated. Change the call to include dim=X as an argument.\n",
            "  z = fn(h)\n"
          ]
        },
        {
          "output_type": "stream",
          "name": "stdout",
          "text": [
            "torch.Size([10000, 64])\n",
            "torch.Size([10000, 10])\n",
            "f1 score: 0.8401\n",
            "Epoch loss: 0.822783\n",
            "Val loss: 0.566715\n",
            "Epoch 1\n"
          ]
        },
        {
          "output_type": "stream",
          "name": "stderr",
          "text": [
            "<ipython-input-10-e44211bf9fb2>:44: UserWarning: Implicit dimension choice for softmax has been deprecated. Change the call to include dim=X as an argument.\n",
            "  z = fn(h)\n"
          ]
        },
        {
          "output_type": "stream",
          "name": "stdout",
          "text": [
            "torch.Size([10000, 64])\n",
            "torch.Size([10000, 10])\n",
            "f1 score: 0.8505\n",
            "Epoch loss: 0.537886\n",
            "Val loss: 0.504471\n",
            "Epoch 2\n"
          ]
        },
        {
          "output_type": "stream",
          "name": "stderr",
          "text": [
            "<ipython-input-10-e44211bf9fb2>:44: UserWarning: Implicit dimension choice for softmax has been deprecated. Change the call to include dim=X as an argument.\n",
            "  z = fn(h)\n"
          ]
        },
        {
          "output_type": "stream",
          "name": "stdout",
          "text": [
            "torch.Size([10000, 64])\n",
            "torch.Size([10000, 10])\n",
            "f1 score: 0.8545\n",
            "Epoch loss: 0.500628\n",
            "Val loss: 0.483988\n",
            "Epoch 3\n"
          ]
        },
        {
          "output_type": "stream",
          "name": "stderr",
          "text": [
            "<ipython-input-10-e44211bf9fb2>:44: UserWarning: Implicit dimension choice for softmax has been deprecated. Change the call to include dim=X as an argument.\n",
            "  z = fn(h)\n"
          ]
        },
        {
          "output_type": "stream",
          "name": "stdout",
          "text": [
            "torch.Size([10000, 64])\n",
            "torch.Size([10000, 10])\n",
            "f1 score: 0.8578\n",
            "Epoch loss: 0.485759\n",
            "Val loss: 0.474547\n",
            "Epoch 4\n"
          ]
        },
        {
          "output_type": "stream",
          "name": "stderr",
          "text": [
            "<ipython-input-10-e44211bf9fb2>:44: UserWarning: Implicit dimension choice for softmax has been deprecated. Change the call to include dim=X as an argument.\n",
            "  z = fn(h)\n"
          ]
        },
        {
          "output_type": "stream",
          "name": "stdout",
          "text": [
            "torch.Size([10000, 64])\n",
            "torch.Size([10000, 10])\n",
            "f1 score: 0.8589\n",
            "Epoch loss: 0.478077\n",
            "Val loss: 0.469394\n",
            "Epoch 5\n"
          ]
        },
        {
          "output_type": "stream",
          "name": "stderr",
          "text": [
            "<ipython-input-10-e44211bf9fb2>:44: UserWarning: Implicit dimension choice for softmax has been deprecated. Change the call to include dim=X as an argument.\n",
            "  z = fn(h)\n"
          ]
        },
        {
          "output_type": "stream",
          "name": "stdout",
          "text": [
            "torch.Size([10000, 64])\n",
            "torch.Size([10000, 10])\n",
            "f1 score: 0.8607999999999999\n",
            "Epoch loss: 0.473511\n",
            "Val loss: 0.466261\n",
            "Epoch 6\n"
          ]
        },
        {
          "output_type": "stream",
          "name": "stderr",
          "text": [
            "<ipython-input-10-e44211bf9fb2>:44: UserWarning: Implicit dimension choice for softmax has been deprecated. Change the call to include dim=X as an argument.\n",
            "  z = fn(h)\n"
          ]
        },
        {
          "output_type": "stream",
          "name": "stdout",
          "text": [
            "torch.Size([10000, 64])\n",
            "torch.Size([10000, 10])\n",
            "f1 score: 0.8623\n",
            "Epoch loss: 0.470546\n",
            "Val loss: 0.464209\n",
            "Epoch 7\n"
          ]
        },
        {
          "output_type": "stream",
          "name": "stderr",
          "text": [
            "<ipython-input-10-e44211bf9fb2>:44: UserWarning: Implicit dimension choice for softmax has been deprecated. Change the call to include dim=X as an argument.\n",
            "  z = fn(h)\n"
          ]
        },
        {
          "output_type": "stream",
          "name": "stdout",
          "text": [
            "torch.Size([10000, 64])\n",
            "torch.Size([10000, 10])\n",
            "f1 score: 0.8635\n",
            "Epoch loss: 0.468502\n",
            "Val loss: 0.462792\n",
            "Epoch 8\n"
          ]
        },
        {
          "output_type": "stream",
          "name": "stderr",
          "text": [
            "<ipython-input-10-e44211bf9fb2>:44: UserWarning: Implicit dimension choice for softmax has been deprecated. Change the call to include dim=X as an argument.\n",
            "  z = fn(h)\n"
          ]
        },
        {
          "output_type": "stream",
          "name": "stdout",
          "text": [
            "torch.Size([10000, 64])\n",
            "torch.Size([10000, 10])\n",
            "f1 score: 0.8642\n",
            "Epoch loss: 0.467032\n",
            "Val loss: 0.461775\n",
            "Epoch 9\n"
          ]
        },
        {
          "output_type": "stream",
          "name": "stderr",
          "text": [
            "<ipython-input-10-e44211bf9fb2>:44: UserWarning: Implicit dimension choice for softmax has been deprecated. Change the call to include dim=X as an argument.\n",
            "  z = fn(h)\n"
          ]
        },
        {
          "output_type": "stream",
          "name": "stdout",
          "text": [
            "torch.Size([10000, 64])\n",
            "torch.Size([10000, 10])\n",
            "f1 score: 0.8634\n",
            "Epoch loss: 0.465943\n",
            "Val loss: 0.461023\n",
            "Epoch 10\n"
          ]
        },
        {
          "output_type": "stream",
          "name": "stderr",
          "text": [
            "<ipython-input-10-e44211bf9fb2>:44: UserWarning: Implicit dimension choice for softmax has been deprecated. Change the call to include dim=X as an argument.\n",
            "  z = fn(h)\n"
          ]
        },
        {
          "output_type": "stream",
          "name": "stdout",
          "text": [
            "torch.Size([10000, 64])\n",
            "torch.Size([10000, 10])\n",
            "f1 score: 0.8635\n",
            "Epoch loss: 0.465117\n",
            "Val loss: 0.460456\n",
            "Epoch 11\n"
          ]
        },
        {
          "output_type": "stream",
          "name": "stderr",
          "text": [
            "<ipython-input-10-e44211bf9fb2>:44: UserWarning: Implicit dimension choice for softmax has been deprecated. Change the call to include dim=X as an argument.\n",
            "  z = fn(h)\n"
          ]
        },
        {
          "output_type": "stream",
          "name": "stdout",
          "text": [
            "torch.Size([10000, 64])\n",
            "torch.Size([10000, 10])\n",
            "f1 score: 0.8637\n",
            "Epoch loss: 0.464478\n",
            "Val loss: 0.460019\n",
            "Epoch 12\n"
          ]
        },
        {
          "output_type": "stream",
          "name": "stderr",
          "text": [
            "<ipython-input-10-e44211bf9fb2>:44: UserWarning: Implicit dimension choice for softmax has been deprecated. Change the call to include dim=X as an argument.\n",
            "  z = fn(h)\n"
          ]
        },
        {
          "output_type": "stream",
          "name": "stdout",
          "text": [
            "torch.Size([10000, 64])\n",
            "torch.Size([10000, 10])\n",
            "f1 score: 0.8636\n",
            "Epoch loss: 0.463978\n",
            "Val loss: 0.459680\n",
            "Epoch 13\n"
          ]
        },
        {
          "output_type": "stream",
          "name": "stderr",
          "text": [
            "<ipython-input-10-e44211bf9fb2>:44: UserWarning: Implicit dimension choice for softmax has been deprecated. Change the call to include dim=X as an argument.\n",
            "  z = fn(h)\n"
          ]
        },
        {
          "output_type": "stream",
          "name": "stdout",
          "text": [
            "torch.Size([10000, 64])\n",
            "torch.Size([10000, 10])\n",
            "f1 score: 0.8635\n",
            "Epoch loss: 0.463580\n",
            "Val loss: 0.459412\n",
            "Epoch 14\n"
          ]
        },
        {
          "output_type": "stream",
          "name": "stderr",
          "text": [
            "<ipython-input-10-e44211bf9fb2>:44: UserWarning: Implicit dimension choice for softmax has been deprecated. Change the call to include dim=X as an argument.\n",
            "  z = fn(h)\n"
          ]
        },
        {
          "output_type": "stream",
          "name": "stdout",
          "text": [
            "torch.Size([10000, 64])\n",
            "torch.Size([10000, 10])\n",
            "f1 score: 0.8635\n",
            "Epoch loss: 0.463261\n",
            "Val loss: 0.459200\n",
            "Epoch 15\n"
          ]
        },
        {
          "output_type": "stream",
          "name": "stderr",
          "text": [
            "<ipython-input-10-e44211bf9fb2>:44: UserWarning: Implicit dimension choice for softmax has been deprecated. Change the call to include dim=X as an argument.\n",
            "  z = fn(h)\n"
          ]
        },
        {
          "output_type": "stream",
          "name": "stdout",
          "text": [
            "torch.Size([10000, 64])\n",
            "torch.Size([10000, 10])\n",
            "f1 score: 0.8637999999999999\n",
            "Epoch loss: 0.463002\n",
            "Val loss: 0.459030\n",
            "Epoch 16\n"
          ]
        },
        {
          "output_type": "stream",
          "name": "stderr",
          "text": [
            "<ipython-input-10-e44211bf9fb2>:44: UserWarning: Implicit dimension choice for softmax has been deprecated. Change the call to include dim=X as an argument.\n",
            "  z = fn(h)\n"
          ]
        },
        {
          "output_type": "stream",
          "name": "stdout",
          "text": [
            "torch.Size([10000, 64])\n",
            "torch.Size([10000, 10])\n",
            "f1 score: 0.8637\n",
            "Epoch loss: 0.462791\n",
            "Val loss: 0.458893\n",
            "Epoch 17\n"
          ]
        },
        {
          "output_type": "stream",
          "name": "stderr",
          "text": [
            "<ipython-input-10-e44211bf9fb2>:44: UserWarning: Implicit dimension choice for softmax has been deprecated. Change the call to include dim=X as an argument.\n",
            "  z = fn(h)\n"
          ]
        },
        {
          "output_type": "stream",
          "name": "stdout",
          "text": [
            "torch.Size([10000, 64])\n",
            "torch.Size([10000, 10])\n",
            "f1 score: 0.8635\n",
            "Epoch loss: 0.462618\n",
            "Val loss: 0.458782\n",
            "Epoch 18\n"
          ]
        },
        {
          "output_type": "stream",
          "name": "stderr",
          "text": [
            "<ipython-input-10-e44211bf9fb2>:44: UserWarning: Implicit dimension choice for softmax has been deprecated. Change the call to include dim=X as an argument.\n",
            "  z = fn(h)\n"
          ]
        },
        {
          "output_type": "stream",
          "name": "stdout",
          "text": [
            "torch.Size([10000, 64])\n",
            "torch.Size([10000, 10])\n",
            "f1 score: 0.8633\n",
            "Epoch loss: 0.462475\n",
            "Val loss: 0.458693\n",
            "Epoch 19\n"
          ]
        },
        {
          "output_type": "stream",
          "name": "stderr",
          "text": [
            "<ipython-input-10-e44211bf9fb2>:44: UserWarning: Implicit dimension choice for softmax has been deprecated. Change the call to include dim=X as an argument.\n",
            "  z = fn(h)\n"
          ]
        },
        {
          "output_type": "stream",
          "name": "stdout",
          "text": [
            "torch.Size([10000, 64])\n",
            "torch.Size([10000, 10])\n",
            "f1 score: 0.8634\n",
            "Epoch loss: 0.462357\n",
            "Val loss: 0.458619\n",
            "Epoch 20\n"
          ]
        },
        {
          "output_type": "stream",
          "name": "stderr",
          "text": [
            "<ipython-input-10-e44211bf9fb2>:44: UserWarning: Implicit dimension choice for softmax has been deprecated. Change the call to include dim=X as an argument.\n",
            "  z = fn(h)\n"
          ]
        },
        {
          "output_type": "stream",
          "name": "stdout",
          "text": [
            "torch.Size([10000, 64])\n",
            "torch.Size([10000, 10])\n",
            "f1 score: 0.8636\n",
            "Epoch loss: 0.462257\n",
            "Val loss: 0.458560\n",
            "Epoch 21\n"
          ]
        },
        {
          "output_type": "stream",
          "name": "stderr",
          "text": [
            "<ipython-input-10-e44211bf9fb2>:44: UserWarning: Implicit dimension choice for softmax has been deprecated. Change the call to include dim=X as an argument.\n",
            "  z = fn(h)\n"
          ]
        },
        {
          "output_type": "stream",
          "name": "stdout",
          "text": [
            "torch.Size([10000, 64])\n",
            "torch.Size([10000, 10])\n",
            "f1 score: 0.8636\n",
            "Epoch loss: 0.462174\n",
            "Val loss: 0.458511\n",
            "Epoch 22\n"
          ]
        },
        {
          "output_type": "stream",
          "name": "stderr",
          "text": [
            "<ipython-input-10-e44211bf9fb2>:44: UserWarning: Implicit dimension choice for softmax has been deprecated. Change the call to include dim=X as an argument.\n",
            "  z = fn(h)\n"
          ]
        },
        {
          "output_type": "stream",
          "name": "stdout",
          "text": [
            "torch.Size([10000, 64])\n",
            "torch.Size([10000, 10])\n",
            "f1 score: 0.8639\n",
            "Epoch loss: 0.462104\n",
            "Val loss: 0.458470\n",
            "Epoch 23\n"
          ]
        },
        {
          "output_type": "stream",
          "name": "stderr",
          "text": [
            "<ipython-input-10-e44211bf9fb2>:44: UserWarning: Implicit dimension choice for softmax has been deprecated. Change the call to include dim=X as an argument.\n",
            "  z = fn(h)\n"
          ]
        },
        {
          "output_type": "stream",
          "name": "stdout",
          "text": [
            "torch.Size([10000, 64])\n",
            "torch.Size([10000, 10])\n",
            "f1 score: 0.864\n",
            "Epoch loss: 0.462045\n",
            "Val loss: 0.458438\n",
            "Epoch 24\n"
          ]
        },
        {
          "output_type": "stream",
          "name": "stderr",
          "text": [
            "<ipython-input-10-e44211bf9fb2>:44: UserWarning: Implicit dimension choice for softmax has been deprecated. Change the call to include dim=X as an argument.\n",
            "  z = fn(h)\n"
          ]
        },
        {
          "output_type": "stream",
          "name": "stdout",
          "text": [
            "torch.Size([10000, 64])\n",
            "torch.Size([10000, 10])\n",
            "f1 score: 0.8643000000000001\n",
            "Epoch loss: 0.461995\n",
            "Val loss: 0.458411\n",
            "Epoch 25\n"
          ]
        },
        {
          "output_type": "stream",
          "name": "stderr",
          "text": [
            "<ipython-input-10-e44211bf9fb2>:44: UserWarning: Implicit dimension choice for softmax has been deprecated. Change the call to include dim=X as an argument.\n",
            "  z = fn(h)\n"
          ]
        },
        {
          "output_type": "stream",
          "name": "stdout",
          "text": [
            "torch.Size([10000, 64])\n",
            "torch.Size([10000, 10])\n",
            "f1 score: 0.8646\n",
            "Epoch loss: 0.461952\n",
            "Val loss: 0.458388\n",
            "Epoch 26\n"
          ]
        },
        {
          "output_type": "stream",
          "name": "stderr",
          "text": [
            "<ipython-input-10-e44211bf9fb2>:44: UserWarning: Implicit dimension choice for softmax has been deprecated. Change the call to include dim=X as an argument.\n",
            "  z = fn(h)\n"
          ]
        },
        {
          "output_type": "stream",
          "name": "stdout",
          "text": [
            "torch.Size([10000, 64])\n",
            "torch.Size([10000, 10])\n",
            "f1 score: 0.8646\n",
            "Epoch loss: 0.461916\n",
            "Val loss: 0.458370\n",
            "Epoch 27\n"
          ]
        },
        {
          "output_type": "stream",
          "name": "stderr",
          "text": [
            "<ipython-input-10-e44211bf9fb2>:44: UserWarning: Implicit dimension choice for softmax has been deprecated. Change the call to include dim=X as an argument.\n",
            "  z = fn(h)\n"
          ]
        },
        {
          "output_type": "stream",
          "name": "stdout",
          "text": [
            "torch.Size([10000, 64])\n",
            "torch.Size([10000, 10])\n",
            "f1 score: 0.8646999999999999\n",
            "Epoch loss: 0.461885\n",
            "Val loss: 0.458355\n",
            "Epoch 28\n"
          ]
        },
        {
          "output_type": "stream",
          "name": "stderr",
          "text": [
            "<ipython-input-10-e44211bf9fb2>:44: UserWarning: Implicit dimension choice for softmax has been deprecated. Change the call to include dim=X as an argument.\n",
            "  z = fn(h)\n"
          ]
        },
        {
          "output_type": "stream",
          "name": "stdout",
          "text": [
            "torch.Size([10000, 64])\n",
            "torch.Size([10000, 10])\n",
            "f1 score: 0.8646999999999999\n",
            "Epoch loss: 0.461859\n",
            "Val loss: 0.458343\n",
            "Epoch 29\n"
          ]
        },
        {
          "output_type": "stream",
          "name": "stderr",
          "text": [
            "<ipython-input-10-e44211bf9fb2>:44: UserWarning: Implicit dimension choice for softmax has been deprecated. Change the call to include dim=X as an argument.\n",
            "  z = fn(h)\n"
          ]
        },
        {
          "output_type": "stream",
          "name": "stdout",
          "text": [
            "torch.Size([10000, 64])\n",
            "torch.Size([10000, 10])\n",
            "f1 score: 0.8646\n",
            "Epoch loss: 0.461836\n",
            "Val loss: 0.458333\n",
            "Epoch 30\n"
          ]
        },
        {
          "output_type": "stream",
          "name": "stderr",
          "text": [
            "<ipython-input-10-e44211bf9fb2>:44: UserWarning: Implicit dimension choice for softmax has been deprecated. Change the call to include dim=X as an argument.\n",
            "  z = fn(h)\n"
          ]
        },
        {
          "output_type": "stream",
          "name": "stdout",
          "text": [
            "torch.Size([10000, 64])\n",
            "torch.Size([10000, 10])\n",
            "f1 score: 0.8646\n",
            "Epoch loss: 0.461816\n",
            "Val loss: 0.458326\n",
            "Epoch 31\n"
          ]
        },
        {
          "output_type": "stream",
          "name": "stderr",
          "text": [
            "<ipython-input-10-e44211bf9fb2>:44: UserWarning: Implicit dimension choice for softmax has been deprecated. Change the call to include dim=X as an argument.\n",
            "  z = fn(h)\n"
          ]
        },
        {
          "output_type": "stream",
          "name": "stdout",
          "text": [
            "torch.Size([10000, 64])\n",
            "torch.Size([10000, 10])\n",
            "f1 score: 0.8645\n",
            "Epoch loss: 0.461799\n",
            "Val loss: 0.458319\n",
            "Epoch 32\n"
          ]
        },
        {
          "output_type": "stream",
          "name": "stderr",
          "text": [
            "<ipython-input-10-e44211bf9fb2>:44: UserWarning: Implicit dimension choice for softmax has been deprecated. Change the call to include dim=X as an argument.\n",
            "  z = fn(h)\n"
          ]
        },
        {
          "output_type": "stream",
          "name": "stdout",
          "text": [
            "torch.Size([10000, 64])\n",
            "torch.Size([10000, 10])\n",
            "f1 score: 0.8645\n",
            "Epoch loss: 0.461784\n",
            "Val loss: 0.458314\n",
            "Epoch 33\n"
          ]
        },
        {
          "output_type": "stream",
          "name": "stderr",
          "text": [
            "<ipython-input-10-e44211bf9fb2>:44: UserWarning: Implicit dimension choice for softmax has been deprecated. Change the call to include dim=X as an argument.\n",
            "  z = fn(h)\n"
          ]
        },
        {
          "output_type": "stream",
          "name": "stdout",
          "text": [
            "torch.Size([10000, 64])\n",
            "torch.Size([10000, 10])\n",
            "f1 score: 0.8646999999999999\n",
            "Epoch loss: 0.461772\n",
            "Val loss: 0.458310\n",
            "Epoch 34\n"
          ]
        },
        {
          "output_type": "stream",
          "name": "stderr",
          "text": [
            "<ipython-input-10-e44211bf9fb2>:44: UserWarning: Implicit dimension choice for softmax has been deprecated. Change the call to include dim=X as an argument.\n",
            "  z = fn(h)\n"
          ]
        },
        {
          "output_type": "stream",
          "name": "stdout",
          "text": [
            "torch.Size([10000, 64])\n",
            "torch.Size([10000, 10])\n",
            "f1 score: 0.8646999999999999\n",
            "Epoch loss: 0.461761\n",
            "Val loss: 0.458307\n",
            "Epoch 35\n"
          ]
        },
        {
          "output_type": "stream",
          "name": "stderr",
          "text": [
            "<ipython-input-10-e44211bf9fb2>:44: UserWarning: Implicit dimension choice for softmax has been deprecated. Change the call to include dim=X as an argument.\n",
            "  z = fn(h)\n"
          ]
        },
        {
          "output_type": "stream",
          "name": "stdout",
          "text": [
            "torch.Size([10000, 64])\n",
            "torch.Size([10000, 10])\n",
            "f1 score: 0.8648\n",
            "Epoch loss: 0.461751\n",
            "Val loss: 0.458305\n",
            "Epoch 36\n"
          ]
        },
        {
          "output_type": "stream",
          "name": "stderr",
          "text": [
            "<ipython-input-10-e44211bf9fb2>:44: UserWarning: Implicit dimension choice for softmax has been deprecated. Change the call to include dim=X as an argument.\n",
            "  z = fn(h)\n"
          ]
        },
        {
          "output_type": "stream",
          "name": "stdout",
          "text": [
            "torch.Size([10000, 64])\n",
            "torch.Size([10000, 10])\n",
            "f1 score: 0.8648\n",
            "Epoch loss: 0.461743\n",
            "Val loss: 0.458303\n",
            "Epoch 37\n"
          ]
        },
        {
          "output_type": "stream",
          "name": "stderr",
          "text": [
            "<ipython-input-10-e44211bf9fb2>:44: UserWarning: Implicit dimension choice for softmax has been deprecated. Change the call to include dim=X as an argument.\n",
            "  z = fn(h)\n"
          ]
        },
        {
          "output_type": "stream",
          "name": "stdout",
          "text": [
            "torch.Size([10000, 64])\n",
            "torch.Size([10000, 10])\n",
            "f1 score: 0.8646999999999999\n",
            "Epoch loss: 0.461736\n",
            "Val loss: 0.458302\n",
            "Epoch 38\n"
          ]
        },
        {
          "output_type": "stream",
          "name": "stderr",
          "text": [
            "<ipython-input-10-e44211bf9fb2>:44: UserWarning: Implicit dimension choice for softmax has been deprecated. Change the call to include dim=X as an argument.\n",
            "  z = fn(h)\n"
          ]
        },
        {
          "output_type": "stream",
          "name": "stdout",
          "text": [
            "torch.Size([10000, 64])\n",
            "torch.Size([10000, 10])\n",
            "f1 score: 0.8648\n",
            "Epoch loss: 0.461729\n",
            "Val loss: 0.458301\n",
            "Epoch 39\n"
          ]
        },
        {
          "output_type": "stream",
          "name": "stderr",
          "text": [
            "<ipython-input-10-e44211bf9fb2>:44: UserWarning: Implicit dimension choice for softmax has been deprecated. Change the call to include dim=X as an argument.\n",
            "  z = fn(h)\n"
          ]
        },
        {
          "output_type": "stream",
          "name": "stdout",
          "text": [
            "torch.Size([10000, 64])\n",
            "torch.Size([10000, 10])\n",
            "f1 score: 0.8649\n",
            "Epoch loss: 0.461724\n",
            "Val loss: 0.458300\n"
          ]
        },
        {
          "output_type": "stream",
          "name": "stderr",
          "text": [
            "<ipython-input-10-e44211bf9fb2>:44: UserWarning: Implicit dimension choice for softmax has been deprecated. Change the call to include dim=X as an argument.\n",
            "  z = fn(h)\n"
          ]
        },
        {
          "output_type": "display_data",
          "data": {
            "text/plain": [
              "<Figure size 640x480 with 1 Axes>"
            ],
            "image/png": "[encoded data removed]"
          },
          "metadata": {}
        }
      ]
    },
    {
      "cell_type": "code",
      "source": [
        "x_pred=model2.predict(autoencoder1(test_fts)[0])\n",
        "import numpy as np\n",
        "\n",
        "matches = [1 if a == b else 0 for a, b in zip(x_pred, test_labels)]\n",
        "total_matches = sum(matches)\n",
        "\n",
        "print(f\"Accuracy: {total_matches/10000:.4f}%\")"
      ],
      "metadata": {
        "colab": {
          "base_uri": "https://localhost:8080/"
        },
        "id": "KyJcLL-a2d3_",
        "outputId": "b1506324-6f50-480f-d7e2-6861a68873a2"
      },
      "execution_count": 35,
      "outputs": [
        {
          "output_type": "stream",
          "name": "stdout",
          "text": [
            "torch.Size([10000, 64])\n",
            "torch.Size([10000, 10])\n",
            "Accuracy: 0.0958%\n"
          ]
        },
        {
          "output_type": "stream",
          "name": "stderr",
          "text": [
            "<ipython-input-10-e44211bf9fb2>:44: UserWarning: Implicit dimension choice for softmax has been deprecated. Change the call to include dim=X as an argument.\n",
            "  z = fn(h)\n"
          ]
        }
      ]
    },
    {
      "cell_type": "code",
      "source": [
        "#Reduced dimension returns encoded  Encoder 256\n",
        "class Autoencoder3(nn.Module):\n",
        "    def __init__(self, num_input_dims, num_hidden_dims, act_fn=nn.Sigmoid):\n",
        "        super(Autoencoder3, self).__init__()\n",
        "        self.encoder = nn.Linear(num_input_dims, num_hidden_dims)\n",
        "        self.decoder = nn.Linear(num_hidden_dims, num_input_dims)\n",
        "        self.activation = act_fn()\n",
        "\n",
        "    def forward(self, x):\n",
        "        encoded = self.encoder(x)\n",
        "        encoded = self.activation(encoded)\n",
        "        decoded = self.decoder(encoded)\n",
        "        decoded = self.activation(decoded)\n",
        "        return  encoded,decoded\n",
        "        #return x"
      ],
      "metadata": {
        "id": "R4EHrNjCKxNw"
      },
      "execution_count": 36,
      "outputs": []
    },
    {
      "cell_type": "code",
      "source": [
        "autoencoder3 = Autoencoder3(784,256) # intentionally not providing arguments: You fill in!\n",
        "autoencoder_adjuster3 = torch.optim.Adam(autoencoder3.parameters())\n",
        "with torch.no_grad():\n",
        "  autoencoder_train_fts = autoencoder3(train_fts)[0]\n",
        "  autoencoder_dev_fts = autoencoder3(dev_fts)[0]\n",
        "print(autoencoder_train_fts.shape[1])"
      ],
      "metadata": {
        "colab": {
          "base_uri": "https://localhost:8080/"
        },
        "id": "Fpe6wPfuLyhK",
        "outputId": "9c490976-8cc7-4d72-e38e-e4118a395975"
      },
      "execution_count": 37,
      "outputs": [
        {
          "output_type": "stream",
          "name": "stdout",
          "text": [
            "256\n"
          ]
        }
      ]
    },
    {
      "cell_type": "code",
      "source": [
        "#lr=0.001,epoch=40,batch=60\n",
        "model4 = MyMLP(num_input_dims=autoencoder_train_fts.shape[1], \n",
        "               num_neurons=[],\n",
        "               num_classes=num_labels)\n",
        "weight_adjuster2 = torch.optim.Adam(model4.parameters(),lr=0.001)\n",
        "train(model4, autoencoder_train_fts, train_labels, val_features=autoencoder_dev_fts,val_labels=dev_labels,\n",
        "      weight_adjuster=weight_adjuster2,\n",
        "      num_epochs=90, batch_size=60,\n",
        "      epoch_callback=predict_callback(actual=dev_labels,\n",
        "                                      input_fts=autoencoder_dev_fts,\n",
        "                                      model=model4))"
      ],
      "metadata": {
        "colab": {
          "base_uri": "https://localhost:8080/",
          "height": 1000
        },
        "id": "asQGzlmELRuj",
        "outputId": "4b5d7b91-93ea-4785-bb00-d9385079a8ee"
      },
      "execution_count": 38,
      "outputs": [
        {
          "output_type": "stream",
          "name": "stdout",
          "text": [
            "[256]\n",
            "[10]\n",
            "[10] outs\n",
            "256 :i o: 10\n",
            "Epoch 0\n"
          ]
        },
        {
          "output_type": "stream",
          "name": "stderr",
          "text": [
            "<ipython-input-10-e44211bf9fb2>:44: UserWarning: Implicit dimension choice for softmax has been deprecated. Change the call to include dim=X as an argument.\n",
            "  z = fn(h)\n"
          ]
        },
        {
          "output_type": "stream",
          "name": "stdout",
          "text": [
            "torch.Size([10000, 256])\n",
            "torch.Size([10000, 10])\n",
            "f1 score: 0.4099\n",
            "Epoch loss: 2.174300\n",
            "Val loss: 2.041793\n",
            "Epoch 1\n"
          ]
        },
        {
          "output_type": "stream",
          "name": "stderr",
          "text": [
            "<ipython-input-10-e44211bf9fb2>:44: UserWarning: Implicit dimension choice for softmax has been deprecated. Change the call to include dim=X as an argument.\n",
            "  z = fn(h)\n"
          ]
        },
        {
          "output_type": "stream",
          "name": "stdout",
          "text": [
            "torch.Size([10000, 256])\n",
            "torch.Size([10000, 10])\n",
            "f1 score: 0.547\n",
            "Epoch loss: 1.921490\n",
            "Val loss: 1.812129\n",
            "Epoch 2\n"
          ]
        },
        {
          "output_type": "stream",
          "name": "stderr",
          "text": [
            "<ipython-input-10-e44211bf9fb2>:44: UserWarning: Implicit dimension choice for softmax has been deprecated. Change the call to include dim=X as an argument.\n",
            "  z = fn(h)\n"
          ]
        },
        {
          "output_type": "stream",
          "name": "stdout",
          "text": [
            "torch.Size([10000, 256])\n",
            "torch.Size([10000, 10])\n",
            "f1 score: 0.6374\n",
            "Epoch loss: 1.714070\n",
            "Val loss: 1.624069\n",
            "Epoch 3\n"
          ]
        },
        {
          "output_type": "stream",
          "name": "stderr",
          "text": [
            "<ipython-input-10-e44211bf9fb2>:44: UserWarning: Implicit dimension choice for softmax has been deprecated. Change the call to include dim=X as an argument.\n",
            "  z = fn(h)\n"
          ]
        },
        {
          "output_type": "stream",
          "name": "stdout",
          "text": [
            "torch.Size([10000, 256])\n",
            "torch.Size([10000, 10])\n",
            "f1 score: 0.6926\n",
            "Epoch loss: 1.544416\n",
            "Val loss: 1.470106\n",
            "Epoch 4\n"
          ]
        },
        {
          "output_type": "stream",
          "name": "stderr",
          "text": [
            "<ipython-input-10-e44211bf9fb2>:44: UserWarning: Implicit dimension choice for softmax has been deprecated. Change the call to include dim=X as an argument.\n",
            "  z = fn(h)\n"
          ]
        },
        {
          "output_type": "stream",
          "name": "stdout",
          "text": [
            "torch.Size([10000, 256])\n",
            "torch.Size([10000, 10])\n",
            "f1 score: 0.7292\n",
            "Epoch loss: 1.405343\n",
            "Val loss: 1.343456\n",
            "Epoch 5\n"
          ]
        },
        {
          "output_type": "stream",
          "name": "stderr",
          "text": [
            "<ipython-input-10-e44211bf9fb2>:44: UserWarning: Implicit dimension choice for softmax has been deprecated. Change the call to include dim=X as an argument.\n",
            "  z = fn(h)\n"
          ]
        },
        {
          "output_type": "stream",
          "name": "stdout",
          "text": [
            "torch.Size([10000, 256])\n",
            "torch.Size([10000, 10])\n",
            "f1 score: 0.7514\n",
            "Epoch loss: 1.290666\n",
            "Val loss: 1.238527\n",
            "Epoch 6\n"
          ]
        },
        {
          "output_type": "stream",
          "name": "stderr",
          "text": [
            "<ipython-input-10-e44211bf9fb2>:44: UserWarning: Implicit dimension choice for softmax has been deprecated. Change the call to include dim=X as an argument.\n",
            "  z = fn(h)\n"
          ]
        },
        {
          "output_type": "stream",
          "name": "stdout",
          "text": [
            "torch.Size([10000, 256])\n",
            "torch.Size([10000, 10])\n",
            "f1 score: 0.7704\n",
            "Epoch loss: 1.195384\n",
            "Val loss: 1.150880\n",
            "Epoch 7\n"
          ]
        },
        {
          "output_type": "stream",
          "name": "stderr",
          "text": [
            "<ipython-input-10-e44211bf9fb2>:44: UserWarning: Implicit dimension choice for softmax has been deprecated. Change the call to include dim=X as an argument.\n",
            "  z = fn(h)\n"
          ]
        },
        {
          "output_type": "stream",
          "name": "stdout",
          "text": [
            "torch.Size([10000, 256])\n",
            "torch.Size([10000, 10])\n",
            "f1 score: 0.7844\n",
            "Epoch loss: 1.115555\n",
            "Val loss: 1.077041\n",
            "Epoch 8\n"
          ]
        },
        {
          "output_type": "stream",
          "name": "stderr",
          "text": [
            "<ipython-input-10-e44211bf9fb2>:44: UserWarning: Implicit dimension choice for softmax has been deprecated. Change the call to include dim=X as an argument.\n",
            "  z = fn(h)\n"
          ]
        },
        {
          "output_type": "stream",
          "name": "stdout",
          "text": [
            "torch.Size([10000, 256])\n",
            "torch.Size([10000, 10])\n",
            "f1 score: 0.7948\n",
            "Epoch loss: 1.048098\n",
            "Val loss: 1.014304\n",
            "Epoch 9\n"
          ]
        },
        {
          "output_type": "stream",
          "name": "stderr",
          "text": [
            "<ipython-input-10-e44211bf9fb2>:44: UserWarning: Implicit dimension choice for softmax has been deprecated. Change the call to include dim=X as an argument.\n",
            "  z = fn(h)\n"
          ]
        },
        {
          "output_type": "stream",
          "name": "stdout",
          "text": [
            "torch.Size([10000, 256])\n",
            "torch.Size([10000, 10])\n",
            "f1 score: 0.8035\n",
            "Epoch loss: 0.990610\n",
            "Val loss: 0.960556\n",
            "Epoch 10\n"
          ]
        },
        {
          "output_type": "stream",
          "name": "stderr",
          "text": [
            "<ipython-input-10-e44211bf9fb2>:44: UserWarning: Implicit dimension choice for softmax has been deprecated. Change the call to include dim=X as an argument.\n",
            "  z = fn(h)\n"
          ]
        },
        {
          "output_type": "stream",
          "name": "stdout",
          "text": [
            "torch.Size([10000, 256])\n",
            "torch.Size([10000, 10])\n",
            "f1 score: 0.8097999999999999\n",
            "Epoch loss: 0.941211\n",
            "Val loss: 0.914140\n",
            "Epoch 11\n"
          ]
        },
        {
          "output_type": "stream",
          "name": "stderr",
          "text": [
            "<ipython-input-10-e44211bf9fb2>:44: UserWarning: Implicit dimension choice for softmax has been deprecated. Change the call to include dim=X as an argument.\n",
            "  z = fn(h)\n"
          ]
        },
        {
          "output_type": "stream",
          "name": "stdout",
          "text": [
            "torch.Size([10000, 256])\n",
            "torch.Size([10000, 10])\n",
            "f1 score: 0.8145\n",
            "Epoch loss: 0.898427\n",
            "Val loss: 0.873752\n",
            "Epoch 12\n"
          ]
        },
        {
          "output_type": "stream",
          "name": "stderr",
          "text": [
            "<ipython-input-10-e44211bf9fb2>:44: UserWarning: Implicit dimension choice for softmax has been deprecated. Change the call to include dim=X as an argument.\n",
            "  z = fn(h)\n"
          ]
        },
        {
          "output_type": "stream",
          "name": "stdout",
          "text": [
            "torch.Size([10000, 256])\n",
            "torch.Size([10000, 10])\n",
            "f1 score: 0.8198\n",
            "Epoch loss: 0.861093\n",
            "Val loss: 0.838358\n",
            "Epoch 13\n"
          ]
        },
        {
          "output_type": "stream",
          "name": "stderr",
          "text": [
            "<ipython-input-10-e44211bf9fb2>:44: UserWarning: Implicit dimension choice for softmax has been deprecated. Change the call to include dim=X as an argument.\n",
            "  z = fn(h)\n"
          ]
        },
        {
          "output_type": "stream",
          "name": "stdout",
          "text": [
            "torch.Size([10000, 256])\n",
            "torch.Size([10000, 10])\n",
            "f1 score: 0.8244\n",
            "Epoch loss: 0.828286\n",
            "Val loss: 0.807134\n",
            "Epoch 14\n"
          ]
        },
        {
          "output_type": "stream",
          "name": "stderr",
          "text": [
            "<ipython-input-10-e44211bf9fb2>:44: UserWarning: Implicit dimension choice for softmax has been deprecated. Change the call to include dim=X as an argument.\n",
            "  z = fn(h)\n"
          ]
        },
        {
          "output_type": "stream",
          "name": "stdout",
          "text": [
            "torch.Size([10000, 256])\n",
            "torch.Size([10000, 10])\n",
            "f1 score: 0.8285\n",
            "Epoch loss: 0.799267\n",
            "Val loss: 0.779415\n",
            "Epoch 15\n"
          ]
        },
        {
          "output_type": "stream",
          "name": "stderr",
          "text": [
            "<ipython-input-10-e44211bf9fb2>:44: UserWarning: Implicit dimension choice for softmax has been deprecated. Change the call to include dim=X as an argument.\n",
            "  z = fn(h)\n"
          ]
        },
        {
          "output_type": "stream",
          "name": "stdout",
          "text": [
            "torch.Size([10000, 256])\n",
            "torch.Size([10000, 10])\n",
            "f1 score: 0.8327000000000001\n",
            "Epoch loss: 0.773442\n",
            "Val loss: 0.754667\n",
            "Epoch 16\n"
          ]
        },
        {
          "output_type": "stream",
          "name": "stderr",
          "text": [
            "<ipython-input-10-e44211bf9fb2>:44: UserWarning: Implicit dimension choice for softmax has been deprecated. Change the call to include dim=X as an argument.\n",
            "  z = fn(h)\n"
          ]
        },
        {
          "output_type": "stream",
          "name": "stdout",
          "text": [
            "torch.Size([10000, 256])\n",
            "torch.Size([10000, 10])\n",
            "f1 score: 0.8364\n",
            "Epoch loss: 0.750329\n",
            "Val loss: 0.732451\n",
            "Epoch 17\n"
          ]
        },
        {
          "output_type": "stream",
          "name": "stderr",
          "text": [
            "<ipython-input-10-e44211bf9fb2>:44: UserWarning: Implicit dimension choice for softmax has been deprecated. Change the call to include dim=X as an argument.\n",
            "  z = fn(h)\n"
          ]
        },
        {
          "output_type": "stream",
          "name": "stdout",
          "text": [
            "torch.Size([10000, 256])\n",
            "torch.Size([10000, 10])\n",
            "f1 score: 0.8389000000000001\n",
            "Epoch loss: 0.729534\n",
            "Val loss: 0.712410\n",
            "Epoch 18\n"
          ]
        },
        {
          "output_type": "stream",
          "name": "stderr",
          "text": [
            "<ipython-input-10-e44211bf9fb2>:44: UserWarning: Implicit dimension choice for softmax has been deprecated. Change the call to include dim=X as an argument.\n",
            "  z = fn(h)\n"
          ]
        },
        {
          "output_type": "stream",
          "name": "stdout",
          "text": [
            "torch.Size([10000, 256])\n",
            "torch.Size([10000, 10])\n",
            "f1 score: 0.842\n",
            "Epoch loss: 0.710734\n",
            "Val loss: 0.694247\n",
            "Epoch 19\n"
          ]
        },
        {
          "output_type": "stream",
          "name": "stderr",
          "text": [
            "<ipython-input-10-e44211bf9fb2>:44: UserWarning: Implicit dimension choice for softmax has been deprecated. Change the call to include dim=X as an argument.\n",
            "  z = fn(h)\n"
          ]
        },
        {
          "output_type": "stream",
          "name": "stdout",
          "text": [
            "torch.Size([10000, 256])\n",
            "torch.Size([10000, 10])\n",
            "f1 score: 0.844\n",
            "Epoch loss: 0.693661\n",
            "Val loss: 0.677714\n",
            "Epoch 20\n"
          ]
        },
        {
          "output_type": "stream",
          "name": "stderr",
          "text": [
            "<ipython-input-10-e44211bf9fb2>:44: UserWarning: Implicit dimension choice for softmax has been deprecated. Change the call to include dim=X as an argument.\n",
            "  z = fn(h)\n"
          ]
        },
        {
          "output_type": "stream",
          "name": "stdout",
          "text": [
            "torch.Size([10000, 256])\n",
            "torch.Size([10000, 10])\n",
            "f1 score: 0.8457\n",
            "Epoch loss: 0.678091\n",
            "Val loss: 0.662606\n",
            "Epoch 21\n"
          ]
        },
        {
          "output_type": "stream",
          "name": "stderr",
          "text": [
            "<ipython-input-10-e44211bf9fb2>:44: UserWarning: Implicit dimension choice for softmax has been deprecated. Change the call to include dim=X as an argument.\n",
            "  z = fn(h)\n"
          ]
        },
        {
          "output_type": "stream",
          "name": "stdout",
          "text": [
            "torch.Size([10000, 256])\n",
            "torch.Size([10000, 10])\n",
            "f1 score: 0.8479\n",
            "Epoch loss: 0.663836\n",
            "Val loss: 0.648749\n",
            "Epoch 22\n"
          ]
        },
        {
          "output_type": "stream",
          "name": "stderr",
          "text": [
            "<ipython-input-10-e44211bf9fb2>:44: UserWarning: Implicit dimension choice for softmax has been deprecated. Change the call to include dim=X as an argument.\n",
            "  z = fn(h)\n"
          ]
        },
        {
          "output_type": "stream",
          "name": "stdout",
          "text": [
            "torch.Size([10000, 256])\n",
            "torch.Size([10000, 10])\n",
            "f1 score: 0.8497\n",
            "Epoch loss: 0.650739\n",
            "Val loss: 0.635994\n",
            "Epoch 23\n"
          ]
        },
        {
          "output_type": "stream",
          "name": "stderr",
          "text": [
            "<ipython-input-10-e44211bf9fb2>:44: UserWarning: Implicit dimension choice for softmax has been deprecated. Change the call to include dim=X as an argument.\n",
            "  z = fn(h)\n"
          ]
        },
        {
          "output_type": "stream",
          "name": "stdout",
          "text": [
            "torch.Size([10000, 256])\n",
            "torch.Size([10000, 10])\n",
            "f1 score: 0.8515\n",
            "Epoch loss: 0.638664\n",
            "Val loss: 0.624216\n",
            "Epoch 24\n"
          ]
        },
        {
          "output_type": "stream",
          "name": "stderr",
          "text": [
            "<ipython-input-10-e44211bf9fb2>:44: UserWarning: Implicit dimension choice for softmax has been deprecated. Change the call to include dim=X as an argument.\n",
            "  z = fn(h)\n"
          ]
        },
        {
          "output_type": "stream",
          "name": "stdout",
          "text": [
            "torch.Size([10000, 256])\n",
            "torch.Size([10000, 10])\n",
            "f1 score: 0.8531\n",
            "Epoch loss: 0.627497\n",
            "Val loss: 0.613307\n",
            "Epoch 25\n"
          ]
        },
        {
          "output_type": "stream",
          "name": "stderr",
          "text": [
            "<ipython-input-10-e44211bf9fb2>:44: UserWarning: Implicit dimension choice for softmax has been deprecated. Change the call to include dim=X as an argument.\n",
            "  z = fn(h)\n"
          ]
        },
        {
          "output_type": "stream",
          "name": "stdout",
          "text": [
            "torch.Size([10000, 256])\n",
            "torch.Size([10000, 10])\n",
            "f1 score: 0.8550999999999999\n",
            "Epoch loss: 0.617138\n",
            "Val loss: 0.603175\n",
            "Epoch 26\n"
          ]
        },
        {
          "output_type": "stream",
          "name": "stderr",
          "text": [
            "<ipython-input-10-e44211bf9fb2>:44: UserWarning: Implicit dimension choice for softmax has been deprecated. Change the call to include dim=X as an argument.\n",
            "  z = fn(h)\n"
          ]
        },
        {
          "output_type": "stream",
          "name": "stdout",
          "text": [
            "torch.Size([10000, 256])\n",
            "torch.Size([10000, 10])\n",
            "f1 score: 0.8557999999999999\n",
            "Epoch loss: 0.607504\n",
            "Val loss: 0.593738\n",
            "Epoch 27\n"
          ]
        },
        {
          "output_type": "stream",
          "name": "stderr",
          "text": [
            "<ipython-input-10-e44211bf9fb2>:44: UserWarning: Implicit dimension choice for softmax has been deprecated. Change the call to include dim=X as an argument.\n",
            "  z = fn(h)\n"
          ]
        },
        {
          "output_type": "stream",
          "name": "stdout",
          "text": [
            "torch.Size([10000, 256])\n",
            "torch.Size([10000, 10])\n",
            "f1 score: 0.8571000000000001\n",
            "Epoch loss: 0.598520\n",
            "Val loss: 0.584928\n",
            "Epoch 28\n"
          ]
        },
        {
          "output_type": "stream",
          "name": "stderr",
          "text": [
            "<ipython-input-10-e44211bf9fb2>:44: UserWarning: Implicit dimension choice for softmax has been deprecated. Change the call to include dim=X as an argument.\n",
            "  z = fn(h)\n"
          ]
        },
        {
          "output_type": "stream",
          "name": "stdout",
          "text": [
            "torch.Size([10000, 256])\n",
            "torch.Size([10000, 10])\n",
            "f1 score: 0.8586\n",
            "Epoch loss: 0.590121\n",
            "Val loss: 0.576684\n",
            "Epoch 29\n"
          ]
        },
        {
          "output_type": "stream",
          "name": "stderr",
          "text": [
            "<ipython-input-10-e44211bf9fb2>:44: UserWarning: Implicit dimension choice for softmax has been deprecated. Change the call to include dim=X as an argument.\n",
            "  z = fn(h)\n"
          ]
        },
        {
          "output_type": "stream",
          "name": "stdout",
          "text": [
            "torch.Size([10000, 256])\n",
            "torch.Size([10000, 10])\n",
            "f1 score: 0.8596\n",
            "Epoch loss: 0.582252\n",
            "Val loss: 0.568951\n",
            "Epoch 30\n"
          ]
        },
        {
          "output_type": "stream",
          "name": "stderr",
          "text": [
            "<ipython-input-10-e44211bf9fb2>:44: UserWarning: Implicit dimension choice for softmax has been deprecated. Change the call to include dim=X as an argument.\n",
            "  z = fn(h)\n"
          ]
        },
        {
          "output_type": "stream",
          "name": "stdout",
          "text": [
            "torch.Size([10000, 256])\n",
            "torch.Size([10000, 10])\n",
            "f1 score: 0.8614\n",
            "Epoch loss: 0.574864\n",
            "Val loss: 0.561684\n",
            "Epoch 31\n"
          ]
        },
        {
          "output_type": "stream",
          "name": "stderr",
          "text": [
            "<ipython-input-10-e44211bf9fb2>:44: UserWarning: Implicit dimension choice for softmax has been deprecated. Change the call to include dim=X as an argument.\n",
            "  z = fn(h)\n"
          ]
        },
        {
          "output_type": "stream",
          "name": "stdout",
          "text": [
            "torch.Size([10000, 256])\n",
            "torch.Size([10000, 10])\n",
            "f1 score: 0.8626\n",
            "Epoch loss: 0.567912\n",
            "Val loss: 0.554841\n",
            "Epoch 32\n"
          ]
        },
        {
          "output_type": "stream",
          "name": "stderr",
          "text": [
            "<ipython-input-10-e44211bf9fb2>:44: UserWarning: Implicit dimension choice for softmax has been deprecated. Change the call to include dim=X as an argument.\n",
            "  z = fn(h)\n"
          ]
        },
        {
          "output_type": "stream",
          "name": "stdout",
          "text": [
            "torch.Size([10000, 256])\n",
            "torch.Size([10000, 10])\n",
            "f1 score: 0.8632\n",
            "Epoch loss: 0.561359\n",
            "Val loss: 0.548384\n",
            "Epoch 33\n"
          ]
        },
        {
          "output_type": "stream",
          "name": "stderr",
          "text": [
            "<ipython-input-10-e44211bf9fb2>:44: UserWarning: Implicit dimension choice for softmax has been deprecated. Change the call to include dim=X as an argument.\n",
            "  z = fn(h)\n"
          ]
        },
        {
          "output_type": "stream",
          "name": "stdout",
          "text": [
            "torch.Size([10000, 256])\n",
            "torch.Size([10000, 10])\n",
            "f1 score: 0.8643000000000001\n",
            "Epoch loss: 0.555171\n",
            "Val loss: 0.542283\n",
            "Epoch 34\n"
          ]
        },
        {
          "output_type": "stream",
          "name": "stderr",
          "text": [
            "<ipython-input-10-e44211bf9fb2>:44: UserWarning: Implicit dimension choice for softmax has been deprecated. Change the call to include dim=X as an argument.\n",
            "  z = fn(h)\n"
          ]
        },
        {
          "output_type": "stream",
          "name": "stdout",
          "text": [
            "torch.Size([10000, 256])\n",
            "torch.Size([10000, 10])\n",
            "f1 score: 0.8651\n",
            "Epoch loss: 0.549316\n",
            "Val loss: 0.536506\n",
            "Epoch 35\n"
          ]
        },
        {
          "output_type": "stream",
          "name": "stderr",
          "text": [
            "<ipython-input-10-e44211bf9fb2>:44: UserWarning: Implicit dimension choice for softmax has been deprecated. Change the call to include dim=X as an argument.\n",
            "  z = fn(h)\n"
          ]
        },
        {
          "output_type": "stream",
          "name": "stdout",
          "text": [
            "torch.Size([10000, 256])\n",
            "torch.Size([10000, 10])\n",
            "f1 score: 0.8657\n",
            "Epoch loss: 0.543769\n",
            "Val loss: 0.531029\n",
            "Epoch 36\n"
          ]
        },
        {
          "output_type": "stream",
          "name": "stderr",
          "text": [
            "<ipython-input-10-e44211bf9fb2>:44: UserWarning: Implicit dimension choice for softmax has been deprecated. Change the call to include dim=X as an argument.\n",
            "  z = fn(h)\n"
          ]
        },
        {
          "output_type": "stream",
          "name": "stdout",
          "text": [
            "torch.Size([10000, 256])\n",
            "torch.Size([10000, 10])\n",
            "f1 score: 0.8663\n",
            "Epoch loss: 0.538505\n",
            "Val loss: 0.525829\n",
            "Epoch 37\n"
          ]
        },
        {
          "output_type": "stream",
          "name": "stderr",
          "text": [
            "<ipython-input-10-e44211bf9fb2>:44: UserWarning: Implicit dimension choice for softmax has been deprecated. Change the call to include dim=X as an argument.\n",
            "  z = fn(h)\n"
          ]
        },
        {
          "output_type": "stream",
          "name": "stdout",
          "text": [
            "torch.Size([10000, 256])\n",
            "torch.Size([10000, 10])\n",
            "f1 score: 0.8671999999999999\n",
            "Epoch loss: 0.533501\n",
            "Val loss: 0.520884\n",
            "Epoch 38\n"
          ]
        },
        {
          "output_type": "stream",
          "name": "stderr",
          "text": [
            "<ipython-input-10-e44211bf9fb2>:44: UserWarning: Implicit dimension choice for softmax has been deprecated. Change the call to include dim=X as an argument.\n",
            "  z = fn(h)\n"
          ]
        },
        {
          "output_type": "stream",
          "name": "stdout",
          "text": [
            "torch.Size([10000, 256])\n",
            "torch.Size([10000, 10])\n",
            "f1 score: 0.8682\n",
            "Epoch loss: 0.528739\n",
            "Val loss: 0.516174\n",
            "Epoch 39\n"
          ]
        },
        {
          "output_type": "stream",
          "name": "stderr",
          "text": [
            "<ipython-input-10-e44211bf9fb2>:44: UserWarning: Implicit dimension choice for softmax has been deprecated. Change the call to include dim=X as an argument.\n",
            "  z = fn(h)\n"
          ]
        },
        {
          "output_type": "stream",
          "name": "stdout",
          "text": [
            "torch.Size([10000, 256])\n",
            "torch.Size([10000, 10])\n",
            "f1 score: 0.8687\n",
            "Epoch loss: 0.524201\n",
            "Val loss: 0.511685\n",
            "Epoch 40\n"
          ]
        },
        {
          "output_type": "stream",
          "name": "stderr",
          "text": [
            "<ipython-input-10-e44211bf9fb2>:44: UserWarning: Implicit dimension choice for softmax has been deprecated. Change the call to include dim=X as an argument.\n",
            "  z = fn(h)\n"
          ]
        },
        {
          "output_type": "stream",
          "name": "stdout",
          "text": [
            "torch.Size([10000, 256])\n",
            "torch.Size([10000, 10])\n",
            "f1 score: 0.8691000000000001\n",
            "Epoch loss: 0.519871\n",
            "Val loss: 0.507399\n",
            "Epoch 41\n"
          ]
        },
        {
          "output_type": "stream",
          "name": "stderr",
          "text": [
            "<ipython-input-10-e44211bf9fb2>:44: UserWarning: Implicit dimension choice for softmax has been deprecated. Change the call to include dim=X as an argument.\n",
            "  z = fn(h)\n"
          ]
        },
        {
          "output_type": "stream",
          "name": "stdout",
          "text": [
            "torch.Size([10000, 256])\n",
            "torch.Size([10000, 10])\n",
            "f1 score: 0.8692\n",
            "Epoch loss: 0.515734\n",
            "Val loss: 0.503303\n",
            "Epoch 42\n"
          ]
        },
        {
          "output_type": "stream",
          "name": "stderr",
          "text": [
            "<ipython-input-10-e44211bf9fb2>:44: UserWarning: Implicit dimension choice for softmax has been deprecated. Change the call to include dim=X as an argument.\n",
            "  z = fn(h)\n"
          ]
        },
        {
          "output_type": "stream",
          "name": "stdout",
          "text": [
            "torch.Size([10000, 256])\n",
            "torch.Size([10000, 10])\n",
            "f1 score: 0.8697999999999999\n",
            "Epoch loss: 0.511776\n",
            "Val loss: 0.499384\n",
            "Epoch 43\n"
          ]
        },
        {
          "output_type": "stream",
          "name": "stderr",
          "text": [
            "<ipython-input-10-e44211bf9fb2>:44: UserWarning: Implicit dimension choice for softmax has been deprecated. Change the call to include dim=X as an argument.\n",
            "  z = fn(h)\n"
          ]
        },
        {
          "output_type": "stream",
          "name": "stdout",
          "text": [
            "torch.Size([10000, 256])\n",
            "torch.Size([10000, 10])\n",
            "f1 score: 0.8705\n",
            "Epoch loss: 0.507987\n",
            "Val loss: 0.495631\n",
            "Epoch 44\n"
          ]
        },
        {
          "output_type": "stream",
          "name": "stderr",
          "text": [
            "<ipython-input-10-e44211bf9fb2>:44: UserWarning: Implicit dimension choice for softmax has been deprecated. Change the call to include dim=X as an argument.\n",
            "  z = fn(h)\n"
          ]
        },
        {
          "output_type": "stream",
          "name": "stdout",
          "text": [
            "torch.Size([10000, 256])\n",
            "torch.Size([10000, 10])\n",
            "f1 score: 0.8713999999999998\n",
            "Epoch loss: 0.504355\n",
            "Val loss: 0.492032\n",
            "Epoch 45\n"
          ]
        },
        {
          "output_type": "stream",
          "name": "stderr",
          "text": [
            "<ipython-input-10-e44211bf9fb2>:44: UserWarning: Implicit dimension choice for softmax has been deprecated. Change the call to include dim=X as an argument.\n",
            "  z = fn(h)\n"
          ]
        },
        {
          "output_type": "stream",
          "name": "stdout",
          "text": [
            "torch.Size([10000, 256])\n",
            "torch.Size([10000, 10])\n",
            "f1 score: 0.8721\n",
            "Epoch loss: 0.500871\n",
            "Val loss: 0.488578\n",
            "Epoch 46\n"
          ]
        },
        {
          "output_type": "stream",
          "name": "stderr",
          "text": [
            "<ipython-input-10-e44211bf9fb2>:44: UserWarning: Implicit dimension choice for softmax has been deprecated. Change the call to include dim=X as an argument.\n",
            "  z = fn(h)\n"
          ]
        },
        {
          "output_type": "stream",
          "name": "stdout",
          "text": [
            "torch.Size([10000, 256])\n",
            "torch.Size([10000, 10])\n",
            "f1 score: 0.8726\n",
            "Epoch loss: 0.497523\n",
            "Val loss: 0.485260\n",
            "Epoch 47\n"
          ]
        },
        {
          "output_type": "stream",
          "name": "stderr",
          "text": [
            "<ipython-input-10-e44211bf9fb2>:44: UserWarning: Implicit dimension choice for softmax has been deprecated. Change the call to include dim=X as an argument.\n",
            "  z = fn(h)\n"
          ]
        },
        {
          "output_type": "stream",
          "name": "stdout",
          "text": [
            "torch.Size([10000, 256])\n",
            "torch.Size([10000, 10])\n",
            "f1 score: 0.8734\n",
            "Epoch loss: 0.494306\n",
            "Val loss: 0.482070\n",
            "Epoch 48\n"
          ]
        },
        {
          "output_type": "stream",
          "name": "stderr",
          "text": [
            "<ipython-input-10-e44211bf9fb2>:44: UserWarning: Implicit dimension choice for softmax has been deprecated. Change the call to include dim=X as an argument.\n",
            "  z = fn(h)\n"
          ]
        },
        {
          "output_type": "stream",
          "name": "stdout",
          "text": [
            "torch.Size([10000, 256])\n",
            "torch.Size([10000, 10])\n",
            "f1 score: 0.8739\n",
            "Epoch loss: 0.491210\n",
            "Val loss: 0.479000\n",
            "Epoch 49\n"
          ]
        },
        {
          "output_type": "stream",
          "name": "stderr",
          "text": [
            "<ipython-input-10-e44211bf9fb2>:44: UserWarning: Implicit dimension choice for softmax has been deprecated. Change the call to include dim=X as an argument.\n",
            "  z = fn(h)\n"
          ]
        },
        {
          "output_type": "stream",
          "name": "stdout",
          "text": [
            "torch.Size([10000, 256])\n",
            "torch.Size([10000, 10])\n",
            "f1 score: 0.8745\n",
            "Epoch loss: 0.488228\n",
            "Val loss: 0.476044\n",
            "Epoch 50\n"
          ]
        },
        {
          "output_type": "stream",
          "name": "stderr",
          "text": [
            "<ipython-input-10-e44211bf9fb2>:44: UserWarning: Implicit dimension choice for softmax has been deprecated. Change the call to include dim=X as an argument.\n",
            "  z = fn(h)\n"
          ]
        },
        {
          "output_type": "stream",
          "name": "stdout",
          "text": [
            "torch.Size([10000, 256])\n",
            "torch.Size([10000, 10])\n",
            "f1 score: 0.8752\n",
            "Epoch loss: 0.485355\n",
            "Val loss: 0.473194\n",
            "Epoch 51\n"
          ]
        },
        {
          "output_type": "stream",
          "name": "stderr",
          "text": [
            "<ipython-input-10-e44211bf9fb2>:44: UserWarning: Implicit dimension choice for softmax has been deprecated. Change the call to include dim=X as an argument.\n",
            "  z = fn(h)\n"
          ]
        },
        {
          "output_type": "stream",
          "name": "stdout",
          "text": [
            "torch.Size([10000, 256])\n",
            "torch.Size([10000, 10])\n",
            "f1 score: 0.8759999999999999\n",
            "Epoch loss: 0.482583\n",
            "Val loss: 0.470446\n",
            "Epoch 52\n"
          ]
        },
        {
          "output_type": "stream",
          "name": "stderr",
          "text": [
            "<ipython-input-10-e44211bf9fb2>:44: UserWarning: Implicit dimension choice for softmax has been deprecated. Change the call to include dim=X as an argument.\n",
            "  z = fn(h)\n"
          ]
        },
        {
          "output_type": "stream",
          "name": "stdout",
          "text": [
            "torch.Size([10000, 256])\n",
            "torch.Size([10000, 10])\n",
            "f1 score: 0.8767\n",
            "Epoch loss: 0.479907\n",
            "Val loss: 0.467793\n",
            "Epoch 53\n"
          ]
        },
        {
          "output_type": "stream",
          "name": "stderr",
          "text": [
            "<ipython-input-10-e44211bf9fb2>:44: UserWarning: Implicit dimension choice for softmax has been deprecated. Change the call to include dim=X as an argument.\n",
            "  z = fn(h)\n"
          ]
        },
        {
          "output_type": "stream",
          "name": "stdout",
          "text": [
            "torch.Size([10000, 256])\n",
            "torch.Size([10000, 10])\n",
            "f1 score: 0.8774\n",
            "Epoch loss: 0.477323\n",
            "Val loss: 0.465230\n",
            "Epoch 54\n"
          ]
        },
        {
          "output_type": "stream",
          "name": "stderr",
          "text": [
            "<ipython-input-10-e44211bf9fb2>:44: UserWarning: Implicit dimension choice for softmax has been deprecated. Change the call to include dim=X as an argument.\n",
            "  z = fn(h)\n"
          ]
        },
        {
          "output_type": "stream",
          "name": "stdout",
          "text": [
            "torch.Size([10000, 256])\n",
            "torch.Size([10000, 10])\n",
            "f1 score: 0.878\n",
            "Epoch loss: 0.474824\n",
            "Val loss: 0.462752\n",
            "Epoch 55\n"
          ]
        },
        {
          "output_type": "stream",
          "name": "stderr",
          "text": [
            "<ipython-input-10-e44211bf9fb2>:44: UserWarning: Implicit dimension choice for softmax has been deprecated. Change the call to include dim=X as an argument.\n",
            "  z = fn(h)\n"
          ]
        },
        {
          "output_type": "stream",
          "name": "stdout",
          "text": [
            "torch.Size([10000, 256])\n",
            "torch.Size([10000, 10])\n",
            "f1 score: 0.8784\n",
            "Epoch loss: 0.472407\n",
            "Val loss: 0.460356\n",
            "Epoch 56\n"
          ]
        },
        {
          "output_type": "stream",
          "name": "stderr",
          "text": [
            "<ipython-input-10-e44211bf9fb2>:44: UserWarning: Implicit dimension choice for softmax has been deprecated. Change the call to include dim=X as an argument.\n",
            "  z = fn(h)\n"
          ]
        },
        {
          "output_type": "stream",
          "name": "stdout",
          "text": [
            "torch.Size([10000, 256])\n",
            "torch.Size([10000, 10])\n",
            "f1 score: 0.8787\n",
            "Epoch loss: 0.470068\n",
            "Val loss: 0.458037\n",
            "Epoch 57\n"
          ]
        },
        {
          "output_type": "stream",
          "name": "stderr",
          "text": [
            "<ipython-input-10-e44211bf9fb2>:44: UserWarning: Implicit dimension choice for softmax has been deprecated. Change the call to include dim=X as an argument.\n",
            "  z = fn(h)\n"
          ]
        },
        {
          "output_type": "stream",
          "name": "stdout",
          "text": [
            "torch.Size([10000, 256])\n",
            "torch.Size([10000, 10])\n",
            "f1 score: 0.879\n",
            "Epoch loss: 0.467802\n",
            "Val loss: 0.455791\n",
            "Epoch 58\n"
          ]
        },
        {
          "output_type": "stream",
          "name": "stderr",
          "text": [
            "<ipython-input-10-e44211bf9fb2>:44: UserWarning: Implicit dimension choice for softmax has been deprecated. Change the call to include dim=X as an argument.\n",
            "  z = fn(h)\n"
          ]
        },
        {
          "output_type": "stream",
          "name": "stdout",
          "text": [
            "torch.Size([10000, 256])\n",
            "torch.Size([10000, 10])\n",
            "f1 score: 0.8798\n",
            "Epoch loss: 0.465606\n",
            "Val loss: 0.453615\n",
            "Epoch 59\n"
          ]
        },
        {
          "output_type": "stream",
          "name": "stderr",
          "text": [
            "<ipython-input-10-e44211bf9fb2>:44: UserWarning: Implicit dimension choice for softmax has been deprecated. Change the call to include dim=X as an argument.\n",
            "  z = fn(h)\n"
          ]
        },
        {
          "output_type": "stream",
          "name": "stdout",
          "text": [
            "torch.Size([10000, 256])\n",
            "torch.Size([10000, 10])\n",
            "f1 score: 0.8802\n",
            "Epoch loss: 0.463476\n",
            "Val loss: 0.451504\n",
            "Epoch 60\n"
          ]
        },
        {
          "output_type": "stream",
          "name": "stderr",
          "text": [
            "<ipython-input-10-e44211bf9fb2>:44: UserWarning: Implicit dimension choice for softmax has been deprecated. Change the call to include dim=X as an argument.\n",
            "  z = fn(h)\n"
          ]
        },
        {
          "output_type": "stream",
          "name": "stdout",
          "text": [
            "torch.Size([10000, 256])\n",
            "torch.Size([10000, 10])\n",
            "f1 score: 0.8808\n",
            "Epoch loss: 0.461410\n",
            "Val loss: 0.449457\n",
            "Epoch 61\n"
          ]
        },
        {
          "output_type": "stream",
          "name": "stderr",
          "text": [
            "<ipython-input-10-e44211bf9fb2>:44: UserWarning: Implicit dimension choice for softmax has been deprecated. Change the call to include dim=X as an argument.\n",
            "  z = fn(h)\n"
          ]
        },
        {
          "output_type": "stream",
          "name": "stdout",
          "text": [
            "torch.Size([10000, 256])\n",
            "torch.Size([10000, 10])\n",
            "f1 score: 0.8812\n",
            "Epoch loss: 0.459404\n",
            "Val loss: 0.447470\n",
            "Epoch 62\n"
          ]
        },
        {
          "output_type": "stream",
          "name": "stderr",
          "text": [
            "<ipython-input-10-e44211bf9fb2>:44: UserWarning: Implicit dimension choice for softmax has been deprecated. Change the call to include dim=X as an argument.\n",
            "  z = fn(h)\n"
          ]
        },
        {
          "output_type": "stream",
          "name": "stdout",
          "text": [
            "torch.Size([10000, 256])\n",
            "torch.Size([10000, 10])\n",
            "f1 score: 0.8812\n",
            "Epoch loss: 0.457455\n",
            "Val loss: 0.445541\n",
            "Epoch 63\n"
          ]
        },
        {
          "output_type": "stream",
          "name": "stderr",
          "text": [
            "<ipython-input-10-e44211bf9fb2>:44: UserWarning: Implicit dimension choice for softmax has been deprecated. Change the call to include dim=X as an argument.\n",
            "  z = fn(h)\n"
          ]
        },
        {
          "output_type": "stream",
          "name": "stdout",
          "text": [
            "torch.Size([10000, 256])\n",
            "torch.Size([10000, 10])\n",
            "f1 score: 0.8814\n",
            "Epoch loss: 0.455562\n",
            "Val loss: 0.443666\n",
            "Epoch 64\n"
          ]
        },
        {
          "output_type": "stream",
          "name": "stderr",
          "text": [
            "<ipython-input-10-e44211bf9fb2>:44: UserWarning: Implicit dimension choice for softmax has been deprecated. Change the call to include dim=X as an argument.\n",
            "  z = fn(h)\n"
          ]
        },
        {
          "output_type": "stream",
          "name": "stdout",
          "text": [
            "torch.Size([10000, 256])\n",
            "torch.Size([10000, 10])\n",
            "f1 score: 0.8817999999999999\n",
            "Epoch loss: 0.453720\n",
            "Val loss: 0.441844\n",
            "Epoch 65\n"
          ]
        },
        {
          "output_type": "stream",
          "name": "stderr",
          "text": [
            "<ipython-input-10-e44211bf9fb2>:44: UserWarning: Implicit dimension choice for softmax has been deprecated. Change the call to include dim=X as an argument.\n",
            "  z = fn(h)\n"
          ]
        },
        {
          "output_type": "stream",
          "name": "stdout",
          "text": [
            "torch.Size([10000, 256])\n",
            "torch.Size([10000, 10])\n",
            "f1 score: 0.882\n",
            "Epoch loss: 0.451929\n",
            "Val loss: 0.440071\n",
            "Epoch 66\n"
          ]
        },
        {
          "output_type": "stream",
          "name": "stderr",
          "text": [
            "<ipython-input-10-e44211bf9fb2>:44: UserWarning: Implicit dimension choice for softmax has been deprecated. Change the call to include dim=X as an argument.\n",
            "  z = fn(h)\n"
          ]
        },
        {
          "output_type": "stream",
          "name": "stdout",
          "text": [
            "torch.Size([10000, 256])\n",
            "torch.Size([10000, 10])\n",
            "f1 score: 0.8825\n",
            "Epoch loss: 0.450186\n",
            "Val loss: 0.438347\n",
            "Epoch 67\n"
          ]
        },
        {
          "output_type": "stream",
          "name": "stderr",
          "text": [
            "<ipython-input-10-e44211bf9fb2>:44: UserWarning: Implicit dimension choice for softmax has been deprecated. Change the call to include dim=X as an argument.\n",
            "  z = fn(h)\n"
          ]
        },
        {
          "output_type": "stream",
          "name": "stdout",
          "text": [
            "torch.Size([10000, 256])\n",
            "torch.Size([10000, 10])\n",
            "f1 score: 0.8829\n",
            "Epoch loss: 0.448489\n",
            "Val loss: 0.436669\n",
            "Epoch 68\n"
          ]
        },
        {
          "output_type": "stream",
          "name": "stderr",
          "text": [
            "<ipython-input-10-e44211bf9fb2>:44: UserWarning: Implicit dimension choice for softmax has been deprecated. Change the call to include dim=X as an argument.\n",
            "  z = fn(h)\n"
          ]
        },
        {
          "output_type": "stream",
          "name": "stdout",
          "text": [
            "torch.Size([10000, 256])\n",
            "torch.Size([10000, 10])\n",
            "f1 score: 0.8834000000000001\n",
            "Epoch loss: 0.446835\n",
            "Val loss: 0.435034\n",
            "Epoch 69\n"
          ]
        },
        {
          "output_type": "stream",
          "name": "stderr",
          "text": [
            "<ipython-input-10-e44211bf9fb2>:44: UserWarning: Implicit dimension choice for softmax has been deprecated. Change the call to include dim=X as an argument.\n",
            "  z = fn(h)\n"
          ]
        },
        {
          "output_type": "stream",
          "name": "stdout",
          "text": [
            "torch.Size([10000, 256])\n",
            "torch.Size([10000, 10])\n",
            "f1 score: 0.884\n",
            "Epoch loss: 0.445224\n",
            "Val loss: 0.433442\n",
            "Epoch 70\n"
          ]
        },
        {
          "output_type": "stream",
          "name": "stderr",
          "text": [
            "<ipython-input-10-e44211bf9fb2>:44: UserWarning: Implicit dimension choice for softmax has been deprecated. Change the call to include dim=X as an argument.\n",
            "  z = fn(h)\n"
          ]
        },
        {
          "output_type": "stream",
          "name": "stdout",
          "text": [
            "torch.Size([10000, 256])\n",
            "torch.Size([10000, 10])\n",
            "f1 score: 0.8839\n",
            "Epoch loss: 0.443653\n",
            "Val loss: 0.431890\n",
            "Epoch 71\n"
          ]
        },
        {
          "output_type": "stream",
          "name": "stderr",
          "text": [
            "<ipython-input-10-e44211bf9fb2>:44: UserWarning: Implicit dimension choice for softmax has been deprecated. Change the call to include dim=X as an argument.\n",
            "  z = fn(h)\n"
          ]
        },
        {
          "output_type": "stream",
          "name": "stdout",
          "text": [
            "torch.Size([10000, 256])\n",
            "torch.Size([10000, 10])\n",
            "f1 score: 0.8842\n",
            "Epoch loss: 0.442121\n",
            "Val loss: 0.430378\n",
            "Epoch 72\n"
          ]
        },
        {
          "output_type": "stream",
          "name": "stderr",
          "text": [
            "<ipython-input-10-e44211bf9fb2>:44: UserWarning: Implicit dimension choice for softmax has been deprecated. Change the call to include dim=X as an argument.\n",
            "  z = fn(h)\n"
          ]
        },
        {
          "output_type": "stream",
          "name": "stdout",
          "text": [
            "torch.Size([10000, 256])\n",
            "torch.Size([10000, 10])\n",
            "f1 score: 0.8844\n",
            "Epoch loss: 0.440627\n",
            "Val loss: 0.428902\n",
            "Epoch 73\n"
          ]
        },
        {
          "output_type": "stream",
          "name": "stderr",
          "text": [
            "<ipython-input-10-e44211bf9fb2>:44: UserWarning: Implicit dimension choice for softmax has been deprecated. Change the call to include dim=X as an argument.\n",
            "  z = fn(h)\n"
          ]
        },
        {
          "output_type": "stream",
          "name": "stdout",
          "text": [
            "torch.Size([10000, 256])\n",
            "torch.Size([10000, 10])\n",
            "f1 score: 0.8849\n",
            "Epoch loss: 0.439168\n",
            "Val loss: 0.427463\n",
            "Epoch 74\n"
          ]
        },
        {
          "output_type": "stream",
          "name": "stderr",
          "text": [
            "<ipython-input-10-e44211bf9fb2>:44: UserWarning: Implicit dimension choice for softmax has been deprecated. Change the call to include dim=X as an argument.\n",
            "  z = fn(h)\n"
          ]
        },
        {
          "output_type": "stream",
          "name": "stdout",
          "text": [
            "torch.Size([10000, 256])\n",
            "torch.Size([10000, 10])\n",
            "f1 score: 0.8849\n",
            "Epoch loss: 0.437743\n",
            "Val loss: 0.426058\n",
            "Epoch 75\n"
          ]
        },
        {
          "output_type": "stream",
          "name": "stderr",
          "text": [
            "<ipython-input-10-e44211bf9fb2>:44: UserWarning: Implicit dimension choice for softmax has been deprecated. Change the call to include dim=X as an argument.\n",
            "  z = fn(h)\n"
          ]
        },
        {
          "output_type": "stream",
          "name": "stdout",
          "text": [
            "torch.Size([10000, 256])\n",
            "torch.Size([10000, 10])\n",
            "f1 score: 0.8856\n",
            "Epoch loss: 0.436351\n",
            "Val loss: 0.424686\n",
            "Epoch 76\n"
          ]
        },
        {
          "output_type": "stream",
          "name": "stderr",
          "text": [
            "<ipython-input-10-e44211bf9fb2>:44: UserWarning: Implicit dimension choice for softmax has been deprecated. Change the call to include dim=X as an argument.\n",
            "  z = fn(h)\n"
          ]
        },
        {
          "output_type": "stream",
          "name": "stdout",
          "text": [
            "torch.Size([10000, 256])\n",
            "torch.Size([10000, 10])\n",
            "f1 score: 0.8856\n",
            "Epoch loss: 0.434992\n",
            "Val loss: 0.423346\n",
            "Epoch 77\n"
          ]
        },
        {
          "output_type": "stream",
          "name": "stderr",
          "text": [
            "<ipython-input-10-e44211bf9fb2>:44: UserWarning: Implicit dimension choice for softmax has been deprecated. Change the call to include dim=X as an argument.\n",
            "  z = fn(h)\n"
          ]
        },
        {
          "output_type": "stream",
          "name": "stdout",
          "text": [
            "torch.Size([10000, 256])\n",
            "torch.Size([10000, 10])\n",
            "f1 score: 0.8858\n",
            "Epoch loss: 0.433663\n",
            "Val loss: 0.422038\n",
            "Epoch 78\n"
          ]
        },
        {
          "output_type": "stream",
          "name": "stderr",
          "text": [
            "<ipython-input-10-e44211bf9fb2>:44: UserWarning: Implicit dimension choice for softmax has been deprecated. Change the call to include dim=X as an argument.\n",
            "  z = fn(h)\n"
          ]
        },
        {
          "output_type": "stream",
          "name": "stdout",
          "text": [
            "torch.Size([10000, 256])\n",
            "torch.Size([10000, 10])\n",
            "f1 score: 0.8858\n",
            "Epoch loss: 0.432364\n",
            "Val loss: 0.420758\n",
            "Epoch 79\n"
          ]
        },
        {
          "output_type": "stream",
          "name": "stderr",
          "text": [
            "<ipython-input-10-e44211bf9fb2>:44: UserWarning: Implicit dimension choice for softmax has been deprecated. Change the call to include dim=X as an argument.\n",
            "  z = fn(h)\n"
          ]
        },
        {
          "output_type": "stream",
          "name": "stdout",
          "text": [
            "torch.Size([10000, 256])\n",
            "torch.Size([10000, 10])\n",
            "f1 score: 0.886\n",
            "Epoch loss: 0.431093\n",
            "Val loss: 0.419508\n",
            "Epoch 80\n"
          ]
        },
        {
          "output_type": "stream",
          "name": "stderr",
          "text": [
            "<ipython-input-10-e44211bf9fb2>:44: UserWarning: Implicit dimension choice for softmax has been deprecated. Change the call to include dim=X as an argument.\n",
            "  z = fn(h)\n"
          ]
        },
        {
          "output_type": "stream",
          "name": "stdout",
          "text": [
            "torch.Size([10000, 256])\n",
            "torch.Size([10000, 10])\n",
            "f1 score: 0.8859000000000001\n",
            "Epoch loss: 0.429849\n",
            "Val loss: 0.418285\n",
            "Epoch 81\n"
          ]
        },
        {
          "output_type": "stream",
          "name": "stderr",
          "text": [
            "<ipython-input-10-e44211bf9fb2>:44: UserWarning: Implicit dimension choice for softmax has been deprecated. Change the call to include dim=X as an argument.\n",
            "  z = fn(h)\n"
          ]
        },
        {
          "output_type": "stream",
          "name": "stdout",
          "text": [
            "torch.Size([10000, 256])\n",
            "torch.Size([10000, 10])\n",
            "f1 score: 0.8861\n",
            "Epoch loss: 0.428632\n",
            "Val loss: 0.417089\n",
            "Epoch 82\n"
          ]
        },
        {
          "output_type": "stream",
          "name": "stderr",
          "text": [
            "<ipython-input-10-e44211bf9fb2>:44: UserWarning: Implicit dimension choice for softmax has been deprecated. Change the call to include dim=X as an argument.\n",
            "  z = fn(h)\n"
          ]
        },
        {
          "output_type": "stream",
          "name": "stdout",
          "text": [
            "torch.Size([10000, 256])\n",
            "torch.Size([10000, 10])\n",
            "f1 score: 0.8864\n",
            "Epoch loss: 0.427441\n",
            "Val loss: 0.415919\n",
            "Epoch 83\n"
          ]
        },
        {
          "output_type": "stream",
          "name": "stderr",
          "text": [
            "<ipython-input-10-e44211bf9fb2>:44: UserWarning: Implicit dimension choice for softmax has been deprecated. Change the call to include dim=X as an argument.\n",
            "  z = fn(h)\n"
          ]
        },
        {
          "output_type": "stream",
          "name": "stdout",
          "text": [
            "torch.Size([10000, 256])\n",
            "torch.Size([10000, 10])\n",
            "f1 score: 0.8865\n",
            "Epoch loss: 0.426275\n",
            "Val loss: 0.414773\n",
            "Epoch 84\n"
          ]
        },
        {
          "output_type": "stream",
          "name": "stderr",
          "text": [
            "<ipython-input-10-e44211bf9fb2>:44: UserWarning: Implicit dimension choice for softmax has been deprecated. Change the call to include dim=X as an argument.\n",
            "  z = fn(h)\n"
          ]
        },
        {
          "output_type": "stream",
          "name": "stdout",
          "text": [
            "torch.Size([10000, 256])\n",
            "torch.Size([10000, 10])\n",
            "f1 score: 0.8869\n",
            "Epoch loss: 0.425132\n",
            "Val loss: 0.413652\n",
            "Epoch 85\n"
          ]
        },
        {
          "output_type": "stream",
          "name": "stderr",
          "text": [
            "<ipython-input-10-e44211bf9fb2>:44: UserWarning: Implicit dimension choice for softmax has been deprecated. Change the call to include dim=X as an argument.\n",
            "  z = fn(h)\n"
          ]
        },
        {
          "output_type": "stream",
          "name": "stdout",
          "text": [
            "torch.Size([10000, 256])\n",
            "torch.Size([10000, 10])\n",
            "f1 score: 0.887\n",
            "Epoch loss: 0.424013\n",
            "Val loss: 0.412554\n",
            "Epoch 86\n"
          ]
        },
        {
          "output_type": "stream",
          "name": "stderr",
          "text": [
            "<ipython-input-10-e44211bf9fb2>:44: UserWarning: Implicit dimension choice for softmax has been deprecated. Change the call to include dim=X as an argument.\n",
            "  z = fn(h)\n"
          ]
        },
        {
          "output_type": "stream",
          "name": "stdout",
          "text": [
            "torch.Size([10000, 256])\n",
            "torch.Size([10000, 10])\n",
            "f1 score: 0.8872\n",
            "Epoch loss: 0.422916\n",
            "Val loss: 0.411478\n",
            "Epoch 87\n"
          ]
        },
        {
          "output_type": "stream",
          "name": "stderr",
          "text": [
            "<ipython-input-10-e44211bf9fb2>:44: UserWarning: Implicit dimension choice for softmax has been deprecated. Change the call to include dim=X as an argument.\n",
            "  z = fn(h)\n"
          ]
        },
        {
          "output_type": "stream",
          "name": "stdout",
          "text": [
            "torch.Size([10000, 256])\n",
            "torch.Size([10000, 10])\n",
            "f1 score: 0.8875\n",
            "Epoch loss: 0.421840\n",
            "Val loss: 0.410424\n",
            "Epoch 88\n"
          ]
        },
        {
          "output_type": "stream",
          "name": "stderr",
          "text": [
            "<ipython-input-10-e44211bf9fb2>:44: UserWarning: Implicit dimension choice for softmax has been deprecated. Change the call to include dim=X as an argument.\n",
            "  z = fn(h)\n"
          ]
        },
        {
          "output_type": "stream",
          "name": "stdout",
          "text": [
            "torch.Size([10000, 256])\n",
            "torch.Size([10000, 10])\n",
            "f1 score: 0.8878000000000001\n",
            "Epoch loss: 0.420786\n",
            "Val loss: 0.409391\n",
            "Epoch 89\n"
          ]
        },
        {
          "output_type": "stream",
          "name": "stderr",
          "text": [
            "<ipython-input-10-e44211bf9fb2>:44: UserWarning: Implicit dimension choice for softmax has been deprecated. Change the call to include dim=X as an argument.\n",
            "  z = fn(h)\n"
          ]
        },
        {
          "output_type": "stream",
          "name": "stdout",
          "text": [
            "torch.Size([10000, 256])\n",
            "torch.Size([10000, 10])\n",
            "f1 score: 0.888\n",
            "Epoch loss: 0.419751\n",
            "Val loss: 0.408379\n"
          ]
        },
        {
          "output_type": "stream",
          "name": "stderr",
          "text": [
            "<ipython-input-10-e44211bf9fb2>:44: UserWarning: Implicit dimension choice for softmax has been deprecated. Change the call to include dim=X as an argument.\n",
            "  z = fn(h)\n"
          ]
        },
        {
          "output_type": "display_data",
          "data": {
            "text/plain": [
              "<Figure size 640x480 with 1 Axes>"
            ],
            "image/png": "[encoded data removed]"
          },
          "metadata": {}
        }
      ]
    },
    {
      "cell_type": "code",
      "source": [
        "x_pred=model4.predict(autoencoder3(test_fts)[0])\n",
        "import numpy as np\n",
        "\n",
        "matches = [1 if a == b else 0 for a, b in zip(x_pred, test_labels)]\n",
        "total_matches = sum(matches)\n",
        "\n",
        "print(f\"Accuracy: {total_matches/10000:.4f}%\")"
      ],
      "metadata": {
        "colab": {
          "base_uri": "https://localhost:8080/"
        },
        "id": "Yl9FvGsO3JVS",
        "outputId": "6a885735-0d60-4dee-f58d-e5c246b15baf"
      },
      "execution_count": 39,
      "outputs": [
        {
          "output_type": "stream",
          "name": "stdout",
          "text": [
            "torch.Size([10000, 256])\n",
            "torch.Size([10000, 10])\n",
            "Accuracy: 0.8881%\n"
          ]
        },
        {
          "output_type": "stream",
          "name": "stderr",
          "text": [
            "<ipython-input-10-e44211bf9fb2>:44: UserWarning: Implicit dimension choice for softmax has been deprecated. Change the call to include dim=X as an argument.\n",
            "  z = fn(h)\n"
          ]
        }
      ]
    },
    {
      "cell_type": "code",
      "source": [
        "autoencoder3 = Autoencoder3(784,256,nn.Softmax ) # intentionally not providing arguments: You fill in!\n",
        "autoencoder_adjuster3 = torch.optim.Adam(autoencoder3.parameters())\n",
        "with torch.no_grad():\n",
        "  autoencoder_train_fts = autoencoder3(train_fts)[0]\n",
        "  autoencoder_dev_fts = autoencoder3(dev_fts)[0]"
      ],
      "metadata": {
        "colab": {
          "base_uri": "https://localhost:8080/"
        },
        "id": "UJ8C6LlCSCEt",
        "outputId": "d727d97e-2300-4c2b-ea2d-9e721780b032"
      },
      "execution_count": 40,
      "outputs": [
        {
          "output_type": "stream",
          "name": "stderr",
          "text": [
            "<ipython-input-36-fbe069601860>:11: UserWarning: Implicit dimension choice for softmax has been deprecated. Change the call to include dim=X as an argument.\n",
            "  encoded = self.activation(encoded)\n",
            "<ipython-input-36-fbe069601860>:13: UserWarning: Implicit dimension choice for softmax has been deprecated. Change the call to include dim=X as an argument.\n",
            "  decoded = self.activation(decoded)\n"
          ]
        }
      ]
    },
    {
      "cell_type": "code",
      "source": [
        "#lr=0.001,epoch=50,batch=80\n",
        "model5 = MyMLP(num_input_dims=autoencoder_train_fts.shape[1], \n",
        "               num_neurons=[],\n",
        "               num_classes=num_labels)\n",
        "weight_adjuster2 = torch.optim.Adam(model5.parameters(),lr=0.001)\n",
        "train(model5, autoencoder_train_fts, train_labels, val_features=autoencoder_dev_fts,val_labels=dev_labels,\n",
        "      weight_adjuster=weight_adjuster2,\n",
        "      num_epochs=80, batch_size=25,\n",
        "      epoch_callback=predict_callback(actual=dev_labels,\n",
        "                                      input_fts=autoencoder_dev_fts,\n",
        "                                      model=model5))"
      ],
      "metadata": {
        "colab": {
          "base_uri": "https://localhost:8080/",
          "height": 1000
        },
        "id": "QT7VNxklT7K_",
        "outputId": "b02fffe1-a2d4-428c-eb3b-25d26bf55535"
      },
      "execution_count": 41,
      "outputs": [
        {
          "output_type": "stream",
          "name": "stdout",
          "text": [
            "[256]\n",
            "[10]\n",
            "[10] outs\n",
            "256 :i o: 10\n",
            "Epoch 0\n"
          ]
        },
        {
          "output_type": "stream",
          "name": "stderr",
          "text": [
            "<ipython-input-10-e44211bf9fb2>:44: UserWarning: Implicit dimension choice for softmax has been deprecated. Change the call to include dim=X as an argument.\n",
            "  z = fn(h)\n"
          ]
        },
        {
          "output_type": "stream",
          "name": "stdout",
          "text": [
            "torch.Size([10000, 256])\n",
            "torch.Size([10000, 10])\n",
            "f1 score: 0.1147\n",
            "Epoch loss: 2.294332\n",
            "Val loss: 2.286205\n",
            "Epoch 1\n"
          ]
        },
        {
          "output_type": "stream",
          "name": "stderr",
          "text": [
            "<ipython-input-10-e44211bf9fb2>:44: UserWarning: Implicit dimension choice for softmax has been deprecated. Change the call to include dim=X as an argument.\n",
            "  z = fn(h)\n"
          ]
        },
        {
          "output_type": "stream",
          "name": "stdout",
          "text": [
            "torch.Size([10000, 256])\n",
            "torch.Size([10000, 10])\n",
            "f1 score: 0.135\n",
            "Epoch loss: 2.279251\n",
            "Val loss: 2.271292\n",
            "Epoch 2\n"
          ]
        },
        {
          "output_type": "stream",
          "name": "stderr",
          "text": [
            "<ipython-input-10-e44211bf9fb2>:44: UserWarning: Implicit dimension choice for softmax has been deprecated. Change the call to include dim=X as an argument.\n",
            "  z = fn(h)\n"
          ]
        },
        {
          "output_type": "stream",
          "name": "stdout",
          "text": [
            "torch.Size([10000, 256])\n",
            "torch.Size([10000, 10])\n",
            "f1 score: 0.2255\n",
            "Epoch loss: 2.264465\n",
            "Val loss: 2.256500\n",
            "Epoch 3\n"
          ]
        },
        {
          "output_type": "stream",
          "name": "stderr",
          "text": [
            "<ipython-input-10-e44211bf9fb2>:44: UserWarning: Implicit dimension choice for softmax has been deprecated. Change the call to include dim=X as an argument.\n",
            "  z = fn(h)\n"
          ]
        },
        {
          "output_type": "stream",
          "name": "stdout",
          "text": [
            "torch.Size([10000, 256])\n",
            "torch.Size([10000, 10])\n",
            "f1 score: 0.3099\n",
            "Epoch loss: 2.249799\n",
            "Val loss: 2.241828\n",
            "Epoch 4\n"
          ]
        },
        {
          "output_type": "stream",
          "name": "stderr",
          "text": [
            "<ipython-input-10-e44211bf9fb2>:44: UserWarning: Implicit dimension choice for softmax has been deprecated. Change the call to include dim=X as an argument.\n",
            "  z = fn(h)\n"
          ]
        },
        {
          "output_type": "stream",
          "name": "stdout",
          "text": [
            "torch.Size([10000, 256])\n",
            "torch.Size([10000, 10])\n",
            "f1 score: 0.3857\n",
            "Epoch loss: 2.235251\n",
            "Val loss: 2.227273\n",
            "Epoch 5\n"
          ]
        },
        {
          "output_type": "stream",
          "name": "stderr",
          "text": [
            "<ipython-input-10-e44211bf9fb2>:44: UserWarning: Implicit dimension choice for softmax has been deprecated. Change the call to include dim=X as an argument.\n",
            "  z = fn(h)\n"
          ]
        },
        {
          "output_type": "stream",
          "name": "stdout",
          "text": [
            "torch.Size([10000, 256])\n",
            "torch.Size([10000, 10])\n",
            "f1 score: 0.4415\n",
            "Epoch loss: 2.220821\n",
            "Val loss: 2.212837\n",
            "Epoch 6\n"
          ]
        },
        {
          "output_type": "stream",
          "name": "stderr",
          "text": [
            "<ipython-input-10-e44211bf9fb2>:44: UserWarning: Implicit dimension choice for softmax has been deprecated. Change the call to include dim=X as an argument.\n",
            "  z = fn(h)\n"
          ]
        },
        {
          "output_type": "stream",
          "name": "stdout",
          "text": [
            "torch.Size([10000, 256])\n",
            "torch.Size([10000, 10])\n",
            "f1 score: 0.4842\n",
            "Epoch loss: 2.206507\n",
            "Val loss: 2.198518\n",
            "Epoch 7\n"
          ]
        },
        {
          "output_type": "stream",
          "name": "stderr",
          "text": [
            "<ipython-input-10-e44211bf9fb2>:44: UserWarning: Implicit dimension choice for softmax has been deprecated. Change the call to include dim=X as an argument.\n",
            "  z = fn(h)\n"
          ]
        },
        {
          "output_type": "stream",
          "name": "stdout",
          "text": [
            "torch.Size([10000, 256])\n",
            "torch.Size([10000, 10])\n",
            "f1 score: 0.5185\n",
            "Epoch loss: 2.192312\n",
            "Val loss: 2.184317\n",
            "Epoch 8\n"
          ]
        },
        {
          "output_type": "stream",
          "name": "stderr",
          "text": [
            "<ipython-input-10-e44211bf9fb2>:44: UserWarning: Implicit dimension choice for softmax has been deprecated. Change the call to include dim=X as an argument.\n",
            "  z = fn(h)\n"
          ]
        },
        {
          "output_type": "stream",
          "name": "stdout",
          "text": [
            "torch.Size([10000, 256])\n",
            "torch.Size([10000, 10])\n",
            "f1 score: 0.5432\n",
            "Epoch loss: 2.178233\n",
            "Val loss: 2.170233\n",
            "Epoch 9\n"
          ]
        },
        {
          "output_type": "stream",
          "name": "stderr",
          "text": [
            "<ipython-input-10-e44211bf9fb2>:44: UserWarning: Implicit dimension choice for softmax has been deprecated. Change the call to include dim=X as an argument.\n",
            "  z = fn(h)\n"
          ]
        },
        {
          "output_type": "stream",
          "name": "stdout",
          "text": [
            "torch.Size([10000, 256])\n",
            "torch.Size([10000, 10])\n",
            "f1 score: 0.5623\n",
            "Epoch loss: 2.164271\n",
            "Val loss: 2.156268\n",
            "Epoch 10\n"
          ]
        },
        {
          "output_type": "stream",
          "name": "stderr",
          "text": [
            "<ipython-input-10-e44211bf9fb2>:44: UserWarning: Implicit dimension choice for softmax has been deprecated. Change the call to include dim=X as an argument.\n",
            "  z = fn(h)\n"
          ]
        },
        {
          "output_type": "stream",
          "name": "stdout",
          "text": [
            "torch.Size([10000, 256])\n",
            "torch.Size([10000, 10])\n",
            "f1 score: 0.5788\n",
            "Epoch loss: 2.150426\n",
            "Val loss: 2.142420\n",
            "Epoch 11\n"
          ]
        },
        {
          "output_type": "stream",
          "name": "stderr",
          "text": [
            "<ipython-input-10-e44211bf9fb2>:44: UserWarning: Implicit dimension choice for softmax has been deprecated. Change the call to include dim=X as an argument.\n",
            "  z = fn(h)\n"
          ]
        },
        {
          "output_type": "stream",
          "name": "stdout",
          "text": [
            "torch.Size([10000, 256])\n",
            "torch.Size([10000, 10])\n",
            "f1 score: 0.5911\n",
            "Epoch loss: 2.136698\n",
            "Val loss: 2.128688\n",
            "Epoch 12\n"
          ]
        },
        {
          "output_type": "stream",
          "name": "stderr",
          "text": [
            "<ipython-input-10-e44211bf9fb2>:44: UserWarning: Implicit dimension choice for softmax has been deprecated. Change the call to include dim=X as an argument.\n",
            "  z = fn(h)\n"
          ]
        },
        {
          "output_type": "stream",
          "name": "stdout",
          "text": [
            "torch.Size([10000, 256])\n",
            "torch.Size([10000, 10])\n",
            "f1 score: 0.6027\n",
            "Epoch loss: 2.123087\n",
            "Val loss: 2.115074\n",
            "Epoch 13\n"
          ]
        },
        {
          "output_type": "stream",
          "name": "stderr",
          "text": [
            "<ipython-input-10-e44211bf9fb2>:44: UserWarning: Implicit dimension choice for softmax has been deprecated. Change the call to include dim=X as an argument.\n",
            "  z = fn(h)\n"
          ]
        },
        {
          "output_type": "stream",
          "name": "stdout",
          "text": [
            "torch.Size([10000, 256])\n",
            "torch.Size([10000, 10])\n",
            "f1 score: 0.6124\n",
            "Epoch loss: 2.109592\n",
            "Val loss: 2.101577\n",
            "Epoch 14\n"
          ]
        },
        {
          "output_type": "stream",
          "name": "stderr",
          "text": [
            "<ipython-input-10-e44211bf9fb2>:44: UserWarning: Implicit dimension choice for softmax has been deprecated. Change the call to include dim=X as an argument.\n",
            "  z = fn(h)\n"
          ]
        },
        {
          "output_type": "stream",
          "name": "stdout",
          "text": [
            "torch.Size([10000, 256])\n",
            "torch.Size([10000, 10])\n",
            "f1 score: 0.6211\n",
            "Epoch loss: 2.096213\n",
            "Val loss: 2.088197\n",
            "Epoch 15\n"
          ]
        },
        {
          "output_type": "stream",
          "name": "stderr",
          "text": [
            "<ipython-input-10-e44211bf9fb2>:44: UserWarning: Implicit dimension choice for softmax has been deprecated. Change the call to include dim=X as an argument.\n",
            "  z = fn(h)\n"
          ]
        },
        {
          "output_type": "stream",
          "name": "stdout",
          "text": [
            "torch.Size([10000, 256])\n",
            "torch.Size([10000, 10])\n",
            "f1 score: 0.628\n",
            "Epoch loss: 2.082950\n",
            "Val loss: 2.074932\n",
            "Epoch 16\n"
          ]
        },
        {
          "output_type": "stream",
          "name": "stderr",
          "text": [
            "<ipython-input-10-e44211bf9fb2>:44: UserWarning: Implicit dimension choice for softmax has been deprecated. Change the call to include dim=X as an argument.\n",
            "  z = fn(h)\n"
          ]
        },
        {
          "output_type": "stream",
          "name": "stdout",
          "text": [
            "torch.Size([10000, 256])\n",
            "torch.Size([10000, 10])\n",
            "f1 score: 0.6336\n",
            "Epoch loss: 2.069803\n",
            "Val loss: 2.061785\n",
            "Epoch 17\n"
          ]
        },
        {
          "output_type": "stream",
          "name": "stderr",
          "text": [
            "<ipython-input-10-e44211bf9fb2>:44: UserWarning: Implicit dimension choice for softmax has been deprecated. Change the call to include dim=X as an argument.\n",
            "  z = fn(h)\n"
          ]
        },
        {
          "output_type": "stream",
          "name": "stdout",
          "text": [
            "torch.Size([10000, 256])\n",
            "torch.Size([10000, 10])\n",
            "f1 score: 0.6397\n",
            "Epoch loss: 2.056772\n",
            "Val loss: 2.048753\n",
            "Epoch 18\n"
          ]
        },
        {
          "output_type": "stream",
          "name": "stderr",
          "text": [
            "<ipython-input-10-e44211bf9fb2>:44: UserWarning: Implicit dimension choice for softmax has been deprecated. Change the call to include dim=X as an argument.\n",
            "  z = fn(h)\n"
          ]
        },
        {
          "output_type": "stream",
          "name": "stdout",
          "text": [
            "torch.Size([10000, 256])\n",
            "torch.Size([10000, 10])\n",
            "f1 score: 0.644\n",
            "Epoch loss: 2.043855\n",
            "Val loss: 2.035836\n",
            "Epoch 19\n"
          ]
        },
        {
          "output_type": "stream",
          "name": "stderr",
          "text": [
            "<ipython-input-10-e44211bf9fb2>:44: UserWarning: Implicit dimension choice for softmax has been deprecated. Change the call to include dim=X as an argument.\n",
            "  z = fn(h)\n"
          ]
        },
        {
          "output_type": "stream",
          "name": "stdout",
          "text": [
            "torch.Size([10000, 256])\n",
            "torch.Size([10000, 10])\n",
            "f1 score: 0.6483\n",
            "Epoch loss: 2.031054\n",
            "Val loss: 2.023036\n",
            "Epoch 20\n"
          ]
        },
        {
          "output_type": "stream",
          "name": "stderr",
          "text": [
            "<ipython-input-10-e44211bf9fb2>:44: UserWarning: Implicit dimension choice for softmax has been deprecated. Change the call to include dim=X as an argument.\n",
            "  z = fn(h)\n"
          ]
        },
        {
          "output_type": "stream",
          "name": "stdout",
          "text": [
            "torch.Size([10000, 256])\n",
            "torch.Size([10000, 10])\n",
            "f1 score: 0.6522\n",
            "Epoch loss: 2.018368\n",
            "Val loss: 2.010350\n",
            "Epoch 21\n"
          ]
        },
        {
          "output_type": "stream",
          "name": "stderr",
          "text": [
            "<ipython-input-10-e44211bf9fb2>:44: UserWarning: Implicit dimension choice for softmax has been deprecated. Change the call to include dim=X as an argument.\n",
            "  z = fn(h)\n"
          ]
        },
        {
          "output_type": "stream",
          "name": "stdout",
          "text": [
            "torch.Size([10000, 256])\n",
            "torch.Size([10000, 10])\n",
            "f1 score: 0.6565\n",
            "Epoch loss: 2.005796\n",
            "Val loss: 1.997779\n",
            "Epoch 22\n"
          ]
        },
        {
          "output_type": "stream",
          "name": "stderr",
          "text": [
            "<ipython-input-10-e44211bf9fb2>:44: UserWarning: Implicit dimension choice for softmax has been deprecated. Change the call to include dim=X as an argument.\n",
            "  z = fn(h)\n"
          ]
        },
        {
          "output_type": "stream",
          "name": "stdout",
          "text": [
            "torch.Size([10000, 256])\n",
            "torch.Size([10000, 10])\n",
            "f1 score: 0.6598\n",
            "Epoch loss: 1.993338\n",
            "Val loss: 1.985323\n",
            "Epoch 23\n"
          ]
        },
        {
          "output_type": "stream",
          "name": "stderr",
          "text": [
            "<ipython-input-10-e44211bf9fb2>:44: UserWarning: Implicit dimension choice for softmax has been deprecated. Change the call to include dim=X as an argument.\n",
            "  z = fn(h)\n"
          ]
        },
        {
          "output_type": "stream",
          "name": "stdout",
          "text": [
            "torch.Size([10000, 256])\n",
            "torch.Size([10000, 10])\n",
            "f1 score: 0.663\n",
            "Epoch loss: 1.980994\n",
            "Val loss: 1.972981\n",
            "Epoch 24\n"
          ]
        },
        {
          "output_type": "stream",
          "name": "stderr",
          "text": [
            "<ipython-input-10-e44211bf9fb2>:44: UserWarning: Implicit dimension choice for softmax has been deprecated. Change the call to include dim=X as an argument.\n",
            "  z = fn(h)\n"
          ]
        },
        {
          "output_type": "stream",
          "name": "stdout",
          "text": [
            "torch.Size([10000, 256])\n",
            "torch.Size([10000, 10])\n",
            "f1 score: 0.6661\n",
            "Epoch loss: 1.968763\n",
            "Val loss: 1.960752\n",
            "Epoch 25\n"
          ]
        },
        {
          "output_type": "stream",
          "name": "stderr",
          "text": [
            "<ipython-input-10-e44211bf9fb2>:44: UserWarning: Implicit dimension choice for softmax has been deprecated. Change the call to include dim=X as an argument.\n",
            "  z = fn(h)\n"
          ]
        },
        {
          "output_type": "stream",
          "name": "stdout",
          "text": [
            "torch.Size([10000, 256])\n",
            "torch.Size([10000, 10])\n",
            "f1 score: 0.6697\n",
            "Epoch loss: 1.956646\n",
            "Val loss: 1.948637\n",
            "Epoch 26\n"
          ]
        },
        {
          "output_type": "stream",
          "name": "stderr",
          "text": [
            "<ipython-input-10-e44211bf9fb2>:44: UserWarning: Implicit dimension choice for softmax has been deprecated. Change the call to include dim=X as an argument.\n",
            "  z = fn(h)\n"
          ]
        },
        {
          "output_type": "stream",
          "name": "stdout",
          "text": [
            "torch.Size([10000, 256])\n",
            "torch.Size([10000, 10])\n",
            "f1 score: 0.6731\n",
            "Epoch loss: 1.944641\n",
            "Val loss: 1.936634\n",
            "Epoch 27\n"
          ]
        },
        {
          "output_type": "stream",
          "name": "stderr",
          "text": [
            "<ipython-input-10-e44211bf9fb2>:44: UserWarning: Implicit dimension choice for softmax has been deprecated. Change the call to include dim=X as an argument.\n",
            "  z = fn(h)\n"
          ]
        },
        {
          "output_type": "stream",
          "name": "stdout",
          "text": [
            "torch.Size([10000, 256])\n",
            "torch.Size([10000, 10])\n",
            "f1 score: 0.6756\n",
            "Epoch loss: 1.932748\n",
            "Val loss: 1.924745\n",
            "Epoch 28\n"
          ]
        },
        {
          "output_type": "stream",
          "name": "stderr",
          "text": [
            "<ipython-input-10-e44211bf9fb2>:44: UserWarning: Implicit dimension choice for softmax has been deprecated. Change the call to include dim=X as an argument.\n",
            "  z = fn(h)\n"
          ]
        },
        {
          "output_type": "stream",
          "name": "stdout",
          "text": [
            "torch.Size([10000, 256])\n",
            "torch.Size([10000, 10])\n",
            "f1 score: 0.6776\n",
            "Epoch loss: 1.920967\n",
            "Val loss: 1.912967\n",
            "Epoch 29\n"
          ]
        },
        {
          "output_type": "stream",
          "name": "stderr",
          "text": [
            "<ipython-input-10-e44211bf9fb2>:44: UserWarning: Implicit dimension choice for softmax has been deprecated. Change the call to include dim=X as an argument.\n",
            "  z = fn(h)\n"
          ]
        },
        {
          "output_type": "stream",
          "name": "stdout",
          "text": [
            "torch.Size([10000, 256])\n",
            "torch.Size([10000, 10])\n",
            "f1 score: 0.6799\n",
            "Epoch loss: 1.909297\n",
            "Val loss: 1.901301\n",
            "Epoch 30\n"
          ]
        },
        {
          "output_type": "stream",
          "name": "stderr",
          "text": [
            "<ipython-input-10-e44211bf9fb2>:44: UserWarning: Implicit dimension choice for softmax has been deprecated. Change the call to include dim=X as an argument.\n",
            "  z = fn(h)\n"
          ]
        },
        {
          "output_type": "stream",
          "name": "stdout",
          "text": [
            "torch.Size([10000, 256])\n",
            "torch.Size([10000, 10])\n",
            "f1 score: 0.682\n",
            "Epoch loss: 1.897738\n",
            "Val loss: 1.889746\n",
            "Epoch 31\n"
          ]
        },
        {
          "output_type": "stream",
          "name": "stderr",
          "text": [
            "<ipython-input-10-e44211bf9fb2>:44: UserWarning: Implicit dimension choice for softmax has been deprecated. Change the call to include dim=X as an argument.\n",
            "  z = fn(h)\n"
          ]
        },
        {
          "output_type": "stream",
          "name": "stdout",
          "text": [
            "torch.Size([10000, 256])\n",
            "torch.Size([10000, 10])\n",
            "f1 score: 0.6836\n",
            "Epoch loss: 1.886289\n",
            "Val loss: 1.878301\n",
            "Epoch 32\n"
          ]
        },
        {
          "output_type": "stream",
          "name": "stderr",
          "text": [
            "<ipython-input-10-e44211bf9fb2>:44: UserWarning: Implicit dimension choice for softmax has been deprecated. Change the call to include dim=X as an argument.\n",
            "  z = fn(h)\n"
          ]
        },
        {
          "output_type": "stream",
          "name": "stdout",
          "text": [
            "torch.Size([10000, 256])\n",
            "torch.Size([10000, 10])\n",
            "f1 score: 0.685\n",
            "Epoch loss: 1.874951\n",
            "Val loss: 1.866967\n",
            "Epoch 33\n"
          ]
        },
        {
          "output_type": "stream",
          "name": "stderr",
          "text": [
            "<ipython-input-10-e44211bf9fb2>:44: UserWarning: Implicit dimension choice for softmax has been deprecated. Change the call to include dim=X as an argument.\n",
            "  z = fn(h)\n"
          ]
        },
        {
          "output_type": "stream",
          "name": "stdout",
          "text": [
            "torch.Size([10000, 256])\n",
            "torch.Size([10000, 10])\n",
            "f1 score: 0.6865\n",
            "Epoch loss: 1.863721\n",
            "Val loss: 1.855742\n",
            "Epoch 34\n"
          ]
        },
        {
          "output_type": "stream",
          "name": "stderr",
          "text": [
            "<ipython-input-10-e44211bf9fb2>:44: UserWarning: Implicit dimension choice for softmax has been deprecated. Change the call to include dim=X as an argument.\n",
            "  z = fn(h)\n"
          ]
        },
        {
          "output_type": "stream",
          "name": "stdout",
          "text": [
            "torch.Size([10000, 256])\n",
            "torch.Size([10000, 10])\n",
            "f1 score: 0.689\n",
            "Epoch loss: 1.852601\n",
            "Val loss: 1.844626\n",
            "Epoch 35\n"
          ]
        },
        {
          "output_type": "stream",
          "name": "stderr",
          "text": [
            "<ipython-input-10-e44211bf9fb2>:44: UserWarning: Implicit dimension choice for softmax has been deprecated. Change the call to include dim=X as an argument.\n",
            "  z = fn(h)\n"
          ]
        },
        {
          "output_type": "stream",
          "name": "stdout",
          "text": [
            "torch.Size([10000, 256])\n",
            "torch.Size([10000, 10])\n",
            "f1 score: 0.6911\n",
            "Epoch loss: 1.841589\n",
            "Val loss: 1.833619\n",
            "Epoch 36\n"
          ]
        },
        {
          "output_type": "stream",
          "name": "stderr",
          "text": [
            "<ipython-input-10-e44211bf9fb2>:44: UserWarning: Implicit dimension choice for softmax has been deprecated. Change the call to include dim=X as an argument.\n",
            "  z = fn(h)\n"
          ]
        },
        {
          "output_type": "stream",
          "name": "stdout",
          "text": [
            "torch.Size([10000, 256])\n",
            "torch.Size([10000, 10])\n",
            "f1 score: 0.6926\n",
            "Epoch loss: 1.830685\n",
            "Val loss: 1.822720\n",
            "Epoch 37\n"
          ]
        },
        {
          "output_type": "stream",
          "name": "stderr",
          "text": [
            "<ipython-input-10-e44211bf9fb2>:44: UserWarning: Implicit dimension choice for softmax has been deprecated. Change the call to include dim=X as an argument.\n",
            "  z = fn(h)\n"
          ]
        },
        {
          "output_type": "stream",
          "name": "stdout",
          "text": [
            "torch.Size([10000, 256])\n",
            "torch.Size([10000, 10])\n",
            "f1 score: 0.6943\n",
            "Epoch loss: 1.819887\n",
            "Val loss: 1.811928\n",
            "Epoch 38\n"
          ]
        },
        {
          "output_type": "stream",
          "name": "stderr",
          "text": [
            "<ipython-input-10-e44211bf9fb2>:44: UserWarning: Implicit dimension choice for softmax has been deprecated. Change the call to include dim=X as an argument.\n",
            "  z = fn(h)\n"
          ]
        },
        {
          "output_type": "stream",
          "name": "stdout",
          "text": [
            "torch.Size([10000, 256])\n",
            "torch.Size([10000, 10])\n",
            "f1 score: 0.6963\n",
            "Epoch loss: 1.809197\n",
            "Val loss: 1.801242\n",
            "Epoch 39\n"
          ]
        },
        {
          "output_type": "stream",
          "name": "stderr",
          "text": [
            "<ipython-input-10-e44211bf9fb2>:44: UserWarning: Implicit dimension choice for softmax has been deprecated. Change the call to include dim=X as an argument.\n",
            "  z = fn(h)\n"
          ]
        },
        {
          "output_type": "stream",
          "name": "stdout",
          "text": [
            "torch.Size([10000, 256])\n",
            "torch.Size([10000, 10])\n",
            "f1 score: 0.6977\n",
            "Epoch loss: 1.798612\n",
            "Val loss: 1.790663\n",
            "Epoch 40\n"
          ]
        },
        {
          "output_type": "stream",
          "name": "stderr",
          "text": [
            "<ipython-input-10-e44211bf9fb2>:44: UserWarning: Implicit dimension choice for softmax has been deprecated. Change the call to include dim=X as an argument.\n",
            "  z = fn(h)\n"
          ]
        },
        {
          "output_type": "stream",
          "name": "stdout",
          "text": [
            "torch.Size([10000, 256])\n",
            "torch.Size([10000, 10])\n",
            "f1 score: 0.7005\n",
            "Epoch loss: 1.788132\n",
            "Val loss: 1.780189\n",
            "Epoch 41\n"
          ]
        },
        {
          "output_type": "stream",
          "name": "stderr",
          "text": [
            "<ipython-input-10-e44211bf9fb2>:44: UserWarning: Implicit dimension choice for softmax has been deprecated. Change the call to include dim=X as an argument.\n",
            "  z = fn(h)\n"
          ]
        },
        {
          "output_type": "stream",
          "name": "stdout",
          "text": [
            "torch.Size([10000, 256])\n",
            "torch.Size([10000, 10])\n",
            "f1 score: 0.7026\n",
            "Epoch loss: 1.777758\n",
            "Val loss: 1.769820\n",
            "Epoch 42\n"
          ]
        },
        {
          "output_type": "stream",
          "name": "stderr",
          "text": [
            "<ipython-input-10-e44211bf9fb2>:44: UserWarning: Implicit dimension choice for softmax has been deprecated. Change the call to include dim=X as an argument.\n",
            "  z = fn(h)\n"
          ]
        },
        {
          "output_type": "stream",
          "name": "stdout",
          "text": [
            "torch.Size([10000, 256])\n",
            "torch.Size([10000, 10])\n",
            "f1 score: 0.7045\n",
            "Epoch loss: 1.767487\n",
            "Val loss: 1.759555\n",
            "Epoch 43\n"
          ]
        },
        {
          "output_type": "stream",
          "name": "stderr",
          "text": [
            "<ipython-input-10-e44211bf9fb2>:44: UserWarning: Implicit dimension choice for softmax has been deprecated. Change the call to include dim=X as an argument.\n",
            "  z = fn(h)\n"
          ]
        },
        {
          "output_type": "stream",
          "name": "stdout",
          "text": [
            "torch.Size([10000, 256])\n",
            "torch.Size([10000, 10])\n",
            "f1 score: 0.7061\n",
            "Epoch loss: 1.757320\n",
            "Val loss: 1.749394\n",
            "Epoch 44\n"
          ]
        },
        {
          "output_type": "stream",
          "name": "stderr",
          "text": [
            "<ipython-input-10-e44211bf9fb2>:44: UserWarning: Implicit dimension choice for softmax has been deprecated. Change the call to include dim=X as an argument.\n",
            "  z = fn(h)\n"
          ]
        },
        {
          "output_type": "stream",
          "name": "stdout",
          "text": [
            "torch.Size([10000, 256])\n",
            "torch.Size([10000, 10])\n",
            "f1 score: 0.7076\n",
            "Epoch loss: 1.747255\n",
            "Val loss: 1.739335\n",
            "Epoch 45\n"
          ]
        },
        {
          "output_type": "stream",
          "name": "stderr",
          "text": [
            "<ipython-input-10-e44211bf9fb2>:44: UserWarning: Implicit dimension choice for softmax has been deprecated. Change the call to include dim=X as an argument.\n",
            "  z = fn(h)\n"
          ]
        },
        {
          "output_type": "stream",
          "name": "stdout",
          "text": [
            "torch.Size([10000, 256])\n",
            "torch.Size([10000, 10])\n",
            "f1 score: 0.7093\n",
            "Epoch loss: 1.737293\n",
            "Val loss: 1.729378\n",
            "Epoch 46\n"
          ]
        },
        {
          "output_type": "stream",
          "name": "stderr",
          "text": [
            "<ipython-input-10-e44211bf9fb2>:44: UserWarning: Implicit dimension choice for softmax has been deprecated. Change the call to include dim=X as an argument.\n",
            "  z = fn(h)\n"
          ]
        },
        {
          "output_type": "stream",
          "name": "stdout",
          "text": [
            "torch.Size([10000, 256])\n",
            "torch.Size([10000, 10])\n",
            "f1 score: 0.7114\n",
            "Epoch loss: 1.727431\n",
            "Val loss: 1.719523\n",
            "Epoch 47\n"
          ]
        },
        {
          "output_type": "stream",
          "name": "stderr",
          "text": [
            "<ipython-input-10-e44211bf9fb2>:44: UserWarning: Implicit dimension choice for softmax has been deprecated. Change the call to include dim=X as an argument.\n",
            "  z = fn(h)\n"
          ]
        },
        {
          "output_type": "stream",
          "name": "stdout",
          "text": [
            "torch.Size([10000, 256])\n",
            "torch.Size([10000, 10])\n",
            "f1 score: 0.7126\n",
            "Epoch loss: 1.717671\n",
            "Val loss: 1.709769\n",
            "Epoch 48\n"
          ]
        },
        {
          "output_type": "stream",
          "name": "stderr",
          "text": [
            "<ipython-input-10-e44211bf9fb2>:44: UserWarning: Implicit dimension choice for softmax has been deprecated. Change the call to include dim=X as an argument.\n",
            "  z = fn(h)\n"
          ]
        },
        {
          "output_type": "stream",
          "name": "stdout",
          "text": [
            "torch.Size([10000, 256])\n",
            "torch.Size([10000, 10])\n",
            "f1 score: 0.714\n",
            "Epoch loss: 1.708010\n",
            "Val loss: 1.700114\n",
            "Epoch 49\n"
          ]
        },
        {
          "output_type": "stream",
          "name": "stderr",
          "text": [
            "<ipython-input-10-e44211bf9fb2>:44: UserWarning: Implicit dimension choice for softmax has been deprecated. Change the call to include dim=X as an argument.\n",
            "  z = fn(h)\n"
          ]
        },
        {
          "output_type": "stream",
          "name": "stdout",
          "text": [
            "torch.Size([10000, 256])\n",
            "torch.Size([10000, 10])\n",
            "f1 score: 0.7153\n",
            "Epoch loss: 1.698448\n",
            "Val loss: 1.690558\n",
            "Epoch 50\n"
          ]
        },
        {
          "output_type": "stream",
          "name": "stderr",
          "text": [
            "<ipython-input-10-e44211bf9fb2>:44: UserWarning: Implicit dimension choice for softmax has been deprecated. Change the call to include dim=X as an argument.\n",
            "  z = fn(h)\n"
          ]
        },
        {
          "output_type": "stream",
          "name": "stdout",
          "text": [
            "torch.Size([10000, 256])\n",
            "torch.Size([10000, 10])\n",
            "f1 score: 0.7162\n",
            "Epoch loss: 1.688985\n",
            "Val loss: 1.681101\n",
            "Epoch 51\n"
          ]
        },
        {
          "output_type": "stream",
          "name": "stderr",
          "text": [
            "<ipython-input-10-e44211bf9fb2>:44: UserWarning: Implicit dimension choice for softmax has been deprecated. Change the call to include dim=X as an argument.\n",
            "  z = fn(h)\n"
          ]
        },
        {
          "output_type": "stream",
          "name": "stdout",
          "text": [
            "torch.Size([10000, 256])\n",
            "torch.Size([10000, 10])\n",
            "f1 score: 0.7172\n",
            "Epoch loss: 1.679619\n",
            "Val loss: 1.671741\n",
            "Epoch 52\n"
          ]
        },
        {
          "output_type": "stream",
          "name": "stderr",
          "text": [
            "<ipython-input-10-e44211bf9fb2>:44: UserWarning: Implicit dimension choice for softmax has been deprecated. Change the call to include dim=X as an argument.\n",
            "  z = fn(h)\n"
          ]
        },
        {
          "output_type": "stream",
          "name": "stdout",
          "text": [
            "torch.Size([10000, 256])\n",
            "torch.Size([10000, 10])\n",
            "f1 score: 0.7186\n",
            "Epoch loss: 1.670350\n",
            "Val loss: 1.662479\n",
            "Epoch 53\n"
          ]
        },
        {
          "output_type": "stream",
          "name": "stderr",
          "text": [
            "<ipython-input-10-e44211bf9fb2>:44: UserWarning: Implicit dimension choice for softmax has been deprecated. Change the call to include dim=X as an argument.\n",
            "  z = fn(h)\n"
          ]
        },
        {
          "output_type": "stream",
          "name": "stdout",
          "text": [
            "torch.Size([10000, 256])\n",
            "torch.Size([10000, 10])\n",
            "f1 score: 0.7201\n",
            "Epoch loss: 1.661177\n",
            "Val loss: 1.653312\n",
            "Epoch 54\n"
          ]
        },
        {
          "output_type": "stream",
          "name": "stderr",
          "text": [
            "<ipython-input-10-e44211bf9fb2>:44: UserWarning: Implicit dimension choice for softmax has been deprecated. Change the call to include dim=X as an argument.\n",
            "  z = fn(h)\n"
          ]
        },
        {
          "output_type": "stream",
          "name": "stdout",
          "text": [
            "torch.Size([10000, 256])\n",
            "torch.Size([10000, 10])\n",
            "f1 score: 0.7219\n",
            "Epoch loss: 1.652100\n",
            "Val loss: 1.644240\n",
            "Epoch 55\n"
          ]
        },
        {
          "output_type": "stream",
          "name": "stderr",
          "text": [
            "<ipython-input-10-e44211bf9fb2>:44: UserWarning: Implicit dimension choice for softmax has been deprecated. Change the call to include dim=X as an argument.\n",
            "  z = fn(h)\n"
          ]
        },
        {
          "output_type": "stream",
          "name": "stdout",
          "text": [
            "torch.Size([10000, 256])\n",
            "torch.Size([10000, 10])\n",
            "f1 score: 0.7233\n",
            "Epoch loss: 1.643117\n",
            "Val loss: 1.635263\n",
            "Epoch 56\n"
          ]
        },
        {
          "output_type": "stream",
          "name": "stderr",
          "text": [
            "<ipython-input-10-e44211bf9fb2>:44: UserWarning: Implicit dimension choice for softmax has been deprecated. Change the call to include dim=X as an argument.\n",
            "  z = fn(h)\n"
          ]
        },
        {
          "output_type": "stream",
          "name": "stdout",
          "text": [
            "torch.Size([10000, 256])\n",
            "torch.Size([10000, 10])\n",
            "f1 score: 0.7246\n",
            "Epoch loss: 1.634228\n",
            "Val loss: 1.626380\n",
            "Epoch 57\n"
          ]
        },
        {
          "output_type": "stream",
          "name": "stderr",
          "text": [
            "<ipython-input-10-e44211bf9fb2>:44: UserWarning: Implicit dimension choice for softmax has been deprecated. Change the call to include dim=X as an argument.\n",
            "  z = fn(h)\n"
          ]
        },
        {
          "output_type": "stream",
          "name": "stdout",
          "text": [
            "torch.Size([10000, 256])\n",
            "torch.Size([10000, 10])\n",
            "f1 score: 0.7257\n",
            "Epoch loss: 1.625431\n",
            "Val loss: 1.617590\n",
            "Epoch 58\n"
          ]
        },
        {
          "output_type": "stream",
          "name": "stderr",
          "text": [
            "<ipython-input-10-e44211bf9fb2>:44: UserWarning: Implicit dimension choice for softmax has been deprecated. Change the call to include dim=X as an argument.\n",
            "  z = fn(h)\n"
          ]
        },
        {
          "output_type": "stream",
          "name": "stdout",
          "text": [
            "torch.Size([10000, 256])\n",
            "torch.Size([10000, 10])\n",
            "f1 score: 0.7267\n",
            "Epoch loss: 1.616727\n",
            "Val loss: 1.608891\n",
            "Epoch 59\n"
          ]
        },
        {
          "output_type": "stream",
          "name": "stderr",
          "text": [
            "<ipython-input-10-e44211bf9fb2>:44: UserWarning: Implicit dimension choice for softmax has been deprecated. Change the call to include dim=X as an argument.\n",
            "  z = fn(h)\n"
          ]
        },
        {
          "output_type": "stream",
          "name": "stdout",
          "text": [
            "torch.Size([10000, 256])\n",
            "torch.Size([10000, 10])\n",
            "f1 score: 0.7279\n",
            "Epoch loss: 1.608114\n",
            "Val loss: 1.600284\n",
            "Epoch 60\n"
          ]
        },
        {
          "output_type": "stream",
          "name": "stderr",
          "text": [
            "<ipython-input-10-e44211bf9fb2>:44: UserWarning: Implicit dimension choice for softmax has been deprecated. Change the call to include dim=X as an argument.\n",
            "  z = fn(h)\n"
          ]
        },
        {
          "output_type": "stream",
          "name": "stdout",
          "text": [
            "torch.Size([10000, 256])\n",
            "torch.Size([10000, 10])\n",
            "f1 score: 0.7283999999999999\n",
            "Epoch loss: 1.599592\n",
            "Val loss: 1.591767\n",
            "Epoch 61\n"
          ]
        },
        {
          "output_type": "stream",
          "name": "stderr",
          "text": [
            "<ipython-input-10-e44211bf9fb2>:44: UserWarning: Implicit dimension choice for softmax has been deprecated. Change the call to include dim=X as an argument.\n",
            "  z = fn(h)\n"
          ]
        },
        {
          "output_type": "stream",
          "name": "stdout",
          "text": [
            "torch.Size([10000, 256])\n",
            "torch.Size([10000, 10])\n",
            "f1 score: 0.7296\n",
            "Epoch loss: 1.591159\n",
            "Val loss: 1.583340\n",
            "Epoch 62\n"
          ]
        },
        {
          "output_type": "stream",
          "name": "stderr",
          "text": [
            "<ipython-input-10-e44211bf9fb2>:44: UserWarning: Implicit dimension choice for softmax has been deprecated. Change the call to include dim=X as an argument.\n",
            "  z = fn(h)\n"
          ]
        },
        {
          "output_type": "stream",
          "name": "stdout",
          "text": [
            "torch.Size([10000, 256])\n",
            "torch.Size([10000, 10])\n",
            "f1 score: 0.7305\n",
            "Epoch loss: 1.582815\n",
            "Val loss: 1.575001\n",
            "Epoch 63\n"
          ]
        },
        {
          "output_type": "stream",
          "name": "stderr",
          "text": [
            "<ipython-input-10-e44211bf9fb2>:44: UserWarning: Implicit dimension choice for softmax has been deprecated. Change the call to include dim=X as an argument.\n",
            "  z = fn(h)\n"
          ]
        },
        {
          "output_type": "stream",
          "name": "stdout",
          "text": [
            "torch.Size([10000, 256])\n",
            "torch.Size([10000, 10])\n",
            "f1 score: 0.7315\n",
            "Epoch loss: 1.574559\n",
            "Val loss: 1.566751\n",
            "Epoch 64\n"
          ]
        },
        {
          "output_type": "stream",
          "name": "stderr",
          "text": [
            "<ipython-input-10-e44211bf9fb2>:44: UserWarning: Implicit dimension choice for softmax has been deprecated. Change the call to include dim=X as an argument.\n",
            "  z = fn(h)\n"
          ]
        },
        {
          "output_type": "stream",
          "name": "stdout",
          "text": [
            "torch.Size([10000, 256])\n",
            "torch.Size([10000, 10])\n",
            "f1 score: 0.7333999999999999\n",
            "Epoch loss: 1.566390\n",
            "Val loss: 1.558587\n",
            "Epoch 65\n"
          ]
        },
        {
          "output_type": "stream",
          "name": "stderr",
          "text": [
            "<ipython-input-10-e44211bf9fb2>:44: UserWarning: Implicit dimension choice for softmax has been deprecated. Change the call to include dim=X as an argument.\n",
            "  z = fn(h)\n"
          ]
        },
        {
          "output_type": "stream",
          "name": "stdout",
          "text": [
            "torch.Size([10000, 256])\n",
            "torch.Size([10000, 10])\n",
            "f1 score: 0.7346\n",
            "Epoch loss: 1.558307\n",
            "Val loss: 1.550510\n",
            "Epoch 66\n"
          ]
        },
        {
          "output_type": "stream",
          "name": "stderr",
          "text": [
            "<ipython-input-10-e44211bf9fb2>:44: UserWarning: Implicit dimension choice for softmax has been deprecated. Change the call to include dim=X as an argument.\n",
            "  z = fn(h)\n"
          ]
        },
        {
          "output_type": "stream",
          "name": "stdout",
          "text": [
            "torch.Size([10000, 256])\n",
            "torch.Size([10000, 10])\n",
            "f1 score: 0.7354000000000002\n",
            "Epoch loss: 1.550310\n",
            "Val loss: 1.542518\n",
            "Epoch 67\n"
          ]
        },
        {
          "output_type": "stream",
          "name": "stderr",
          "text": [
            "<ipython-input-10-e44211bf9fb2>:44: UserWarning: Implicit dimension choice for softmax has been deprecated. Change the call to include dim=X as an argument.\n",
            "  z = fn(h)\n"
          ]
        },
        {
          "output_type": "stream",
          "name": "stdout",
          "text": [
            "torch.Size([10000, 256])\n",
            "torch.Size([10000, 10])\n",
            "f1 score: 0.7367000000000001\n",
            "Epoch loss: 1.542397\n",
            "Val loss: 1.534610\n",
            "Epoch 68\n"
          ]
        },
        {
          "output_type": "stream",
          "name": "stderr",
          "text": [
            "<ipython-input-10-e44211bf9fb2>:44: UserWarning: Implicit dimension choice for softmax has been deprecated. Change the call to include dim=X as an argument.\n",
            "  z = fn(h)\n"
          ]
        },
        {
          "output_type": "stream",
          "name": "stdout",
          "text": [
            "torch.Size([10000, 256])\n",
            "torch.Size([10000, 10])\n",
            "f1 score: 0.7372\n",
            "Epoch loss: 1.534569\n",
            "Val loss: 1.526787\n",
            "Epoch 69\n"
          ]
        },
        {
          "output_type": "stream",
          "name": "stderr",
          "text": [
            "<ipython-input-10-e44211bf9fb2>:44: UserWarning: Implicit dimension choice for softmax has been deprecated. Change the call to include dim=X as an argument.\n",
            "  z = fn(h)\n"
          ]
        },
        {
          "output_type": "stream",
          "name": "stdout",
          "text": [
            "torch.Size([10000, 256])\n",
            "torch.Size([10000, 10])\n",
            "f1 score: 0.7384\n",
            "Epoch loss: 1.526823\n",
            "Val loss: 1.519046\n",
            "Epoch 70\n"
          ]
        },
        {
          "output_type": "stream",
          "name": "stderr",
          "text": [
            "<ipython-input-10-e44211bf9fb2>:44: UserWarning: Implicit dimension choice for softmax has been deprecated. Change the call to include dim=X as an argument.\n",
            "  z = fn(h)\n"
          ]
        },
        {
          "output_type": "stream",
          "name": "stdout",
          "text": [
            "torch.Size([10000, 256])\n",
            "torch.Size([10000, 10])\n",
            "f1 score: 0.7396\n",
            "Epoch loss: 1.519159\n",
            "Val loss: 1.511387\n",
            "Epoch 71\n"
          ]
        },
        {
          "output_type": "stream",
          "name": "stderr",
          "text": [
            "<ipython-input-10-e44211bf9fb2>:44: UserWarning: Implicit dimension choice for softmax has been deprecated. Change the call to include dim=X as an argument.\n",
            "  z = fn(h)\n"
          ]
        },
        {
          "output_type": "stream",
          "name": "stdout",
          "text": [
            "torch.Size([10000, 256])\n",
            "torch.Size([10000, 10])\n",
            "f1 score: 0.7408\n",
            "Epoch loss: 1.511577\n",
            "Val loss: 1.503809\n",
            "Epoch 72\n"
          ]
        },
        {
          "output_type": "stream",
          "name": "stderr",
          "text": [
            "<ipython-input-10-e44211bf9fb2>:44: UserWarning: Implicit dimension choice for softmax has been deprecated. Change the call to include dim=X as an argument.\n",
            "  z = fn(h)\n"
          ]
        },
        {
          "output_type": "stream",
          "name": "stdout",
          "text": [
            "torch.Size([10000, 256])\n",
            "torch.Size([10000, 10])\n",
            "f1 score: 0.7417\n",
            "Epoch loss: 1.504075\n",
            "Val loss: 1.496311\n",
            "Epoch 73\n"
          ]
        },
        {
          "output_type": "stream",
          "name": "stderr",
          "text": [
            "<ipython-input-10-e44211bf9fb2>:44: UserWarning: Implicit dimension choice for softmax has been deprecated. Change the call to include dim=X as an argument.\n",
            "  z = fn(h)\n"
          ]
        },
        {
          "output_type": "stream",
          "name": "stdout",
          "text": [
            "torch.Size([10000, 256])\n",
            "torch.Size([10000, 10])\n",
            "f1 score: 0.7426\n",
            "Epoch loss: 1.496653\n",
            "Val loss: 1.488893\n",
            "Epoch 74\n"
          ]
        },
        {
          "output_type": "stream",
          "name": "stderr",
          "text": [
            "<ipython-input-10-e44211bf9fb2>:44: UserWarning: Implicit dimension choice for softmax has been deprecated. Change the call to include dim=X as an argument.\n",
            "  z = fn(h)\n"
          ]
        },
        {
          "output_type": "stream",
          "name": "stdout",
          "text": [
            "torch.Size([10000, 256])\n",
            "torch.Size([10000, 10])\n",
            "f1 score: 0.7434\n",
            "Epoch loss: 1.489309\n",
            "Val loss: 1.481553\n",
            "Epoch 75\n"
          ]
        },
        {
          "output_type": "stream",
          "name": "stderr",
          "text": [
            "<ipython-input-10-e44211bf9fb2>:44: UserWarning: Implicit dimension choice for softmax has been deprecated. Change the call to include dim=X as an argument.\n",
            "  z = fn(h)\n"
          ]
        },
        {
          "output_type": "stream",
          "name": "stdout",
          "text": [
            "torch.Size([10000, 256])\n",
            "torch.Size([10000, 10])\n",
            "f1 score: 0.7441000000000001\n",
            "Epoch loss: 1.482043\n",
            "Val loss: 1.474291\n",
            "Epoch 76\n"
          ]
        },
        {
          "output_type": "stream",
          "name": "stderr",
          "text": [
            "<ipython-input-10-e44211bf9fb2>:44: UserWarning: Implicit dimension choice for softmax has been deprecated. Change the call to include dim=X as an argument.\n",
            "  z = fn(h)\n"
          ]
        },
        {
          "output_type": "stream",
          "name": "stdout",
          "text": [
            "torch.Size([10000, 256])\n",
            "torch.Size([10000, 10])\n",
            "f1 score: 0.7451\n",
            "Epoch loss: 1.474854\n",
            "Val loss: 1.467106\n",
            "Epoch 77\n"
          ]
        },
        {
          "output_type": "stream",
          "name": "stderr",
          "text": [
            "<ipython-input-10-e44211bf9fb2>:44: UserWarning: Implicit dimension choice for softmax has been deprecated. Change the call to include dim=X as an argument.\n",
            "  z = fn(h)\n"
          ]
        },
        {
          "output_type": "stream",
          "name": "stdout",
          "text": [
            "torch.Size([10000, 256])\n",
            "torch.Size([10000, 10])\n",
            "f1 score: 0.7465\n",
            "Epoch loss: 1.467741\n",
            "Val loss: 1.459997\n",
            "Epoch 78\n"
          ]
        },
        {
          "output_type": "stream",
          "name": "stderr",
          "text": [
            "<ipython-input-10-e44211bf9fb2>:44: UserWarning: Implicit dimension choice for softmax has been deprecated. Change the call to include dim=X as an argument.\n",
            "  z = fn(h)\n"
          ]
        },
        {
          "output_type": "stream",
          "name": "stdout",
          "text": [
            "torch.Size([10000, 256])\n",
            "torch.Size([10000, 10])\n",
            "f1 score: 0.7467\n",
            "Epoch loss: 1.460704\n",
            "Val loss: 1.452964\n",
            "Epoch 79\n"
          ]
        },
        {
          "output_type": "stream",
          "name": "stderr",
          "text": [
            "<ipython-input-10-e44211bf9fb2>:44: UserWarning: Implicit dimension choice for softmax has been deprecated. Change the call to include dim=X as an argument.\n",
            "  z = fn(h)\n"
          ]
        },
        {
          "output_type": "stream",
          "name": "stdout",
          "text": [
            "torch.Size([10000, 256])\n",
            "torch.Size([10000, 10])\n",
            "f1 score: 0.7472\n",
            "Epoch loss: 1.453742\n",
            "Val loss: 1.446004\n"
          ]
        },
        {
          "output_type": "stream",
          "name": "stderr",
          "text": [
            "<ipython-input-10-e44211bf9fb2>:44: UserWarning: Implicit dimension choice for softmax has been deprecated. Change the call to include dim=X as an argument.\n",
            "  z = fn(h)\n"
          ]
        },
        {
          "output_type": "display_data",
          "data": {
            "text/plain": [
              "<Figure size 640x480 with 1 Axes>"
            ],
            "image/png": "[encoded data removed]"
          },
          "metadata": {}
        }
      ]
    },
    {
      "cell_type": "code",
      "source": [
        "x_pred=model5.predict(autoencoder3(test_fts)[0])\n",
        "import numpy as np\n",
        "\n",
        "matches = [1 if a == b else 0 for a, b in zip(x_pred, test_labels)]\n",
        "total_matches = sum(matches)\n",
        "\n",
        "print(f\"Accuracy: {total_matches/10000:.4f}%\")"
      ],
      "metadata": {
        "colab": {
          "base_uri": "https://localhost:8080/"
        },
        "id": "qSxRZIMr3bgA",
        "outputId": "40791b12-3af0-4013-8536-496a4d5cacd5"
      },
      "execution_count": 42,
      "outputs": [
        {
          "output_type": "stream",
          "name": "stderr",
          "text": [
            "<ipython-input-36-fbe069601860>:11: UserWarning: Implicit dimension choice for softmax has been deprecated. Change the call to include dim=X as an argument.\n",
            "  encoded = self.activation(encoded)\n",
            "<ipython-input-36-fbe069601860>:13: UserWarning: Implicit dimension choice for softmax has been deprecated. Change the call to include dim=X as an argument.\n",
            "  decoded = self.activation(decoded)\n",
            "<ipython-input-10-e44211bf9fb2>:44: UserWarning: Implicit dimension choice for softmax has been deprecated. Change the call to include dim=X as an argument.\n",
            "  z = fn(h)\n"
          ]
        },
        {
          "output_type": "stream",
          "name": "stdout",
          "text": [
            "torch.Size([10000, 256])\n",
            "torch.Size([10000, 10])\n",
            "Accuracy: 0.7531%\n"
          ]
        }
      ]
    },
    {
      "cell_type": "code",
      "source": [
        "autoencoder3 = Autoencoder3(784,256,nn.Tanh ) # intentionally not providing arguments: You fill in!\n",
        "autoencoder_adjuster3 = torch.optim.Adam(autoencoder3.parameters())\n",
        "with torch.no_grad():\n",
        "  autoencoder_train_fts = autoencoder3(train_fts)[0]\n",
        "  autoencoder_dev_fts = autoencoder3(dev_fts)[0]\n",
        "\n",
        "\n",
        "\n",
        "model4 = MyMLP(num_input_dims=autoencoder_train_fts.shape[1], \n",
        "               num_neurons=[],\n",
        "               num_classes=num_labels)\n",
        "weight_adjuster2 = torch.optim.Adam(model4.parameters(),lr=0.001)\n",
        "train(model4, autoencoder_train_fts, train_labels, val_features=autoencoder_dev_fts,val_labels=dev_labels,\n",
        "      weight_adjuster=weight_adjuster2,\n",
        "      num_epochs=90, batch_size=60,\n",
        "      epoch_callback=predict_callback(actual=dev_labels,\n",
        "                                      input_fts=autoencoder_dev_fts,\n",
        "                                      model=model4))"
      ],
      "metadata": {
        "colab": {
          "base_uri": "https://localhost:8080/",
          "height": 1000
        },
        "id": "iPl_nAMPnR2_",
        "outputId": "a4c89b90-b980-4127-cd1e-92a87f1ba1d4"
      },
      "execution_count": 43,
      "outputs": [
        {
          "output_type": "stream",
          "name": "stdout",
          "text": [
            "[256]\n",
            "[10]\n",
            "[10] outs\n",
            "256 :i o: 10\n",
            "Epoch 0\n"
          ]
        },
        {
          "output_type": "stream",
          "name": "stderr",
          "text": [
            "<ipython-input-10-e44211bf9fb2>:44: UserWarning: Implicit dimension choice for softmax has been deprecated. Change the call to include dim=X as an argument.\n",
            "  z = fn(h)\n"
          ]
        },
        {
          "output_type": "stream",
          "name": "stdout",
          "text": [
            "torch.Size([10000, 256])\n",
            "torch.Size([10000, 10])\n",
            "f1 score: 0.857\n",
            "Epoch loss: 1.003365\n",
            "Val loss: 0.596847\n",
            "Epoch 1\n"
          ]
        },
        {
          "output_type": "stream",
          "name": "stderr",
          "text": [
            "<ipython-input-10-e44211bf9fb2>:44: UserWarning: Implicit dimension choice for softmax has been deprecated. Change the call to include dim=X as an argument.\n",
            "  z = fn(h)\n"
          ]
        },
        {
          "output_type": "stream",
          "name": "stdout",
          "text": [
            "torch.Size([10000, 256])\n",
            "torch.Size([10000, 10])\n",
            "f1 score: 0.8744\n",
            "Epoch loss: 0.526099\n",
            "Val loss: 0.463103\n",
            "Epoch 2\n"
          ]
        },
        {
          "output_type": "stream",
          "name": "stderr",
          "text": [
            "<ipython-input-10-e44211bf9fb2>:44: UserWarning: Implicit dimension choice for softmax has been deprecated. Change the call to include dim=X as an argument.\n",
            "  z = fn(h)\n"
          ]
        },
        {
          "output_type": "stream",
          "name": "stdout",
          "text": [
            "torch.Size([10000, 256])\n",
            "torch.Size([10000, 10])\n",
            "f1 score: 0.8841\n",
            "Epoch loss: 0.443067\n",
            "Val loss: 0.411914\n",
            "Epoch 3\n"
          ]
        },
        {
          "output_type": "stream",
          "name": "stderr",
          "text": [
            "<ipython-input-10-e44211bf9fb2>:44: UserWarning: Implicit dimension choice for softmax has been deprecated. Change the call to include dim=X as an argument.\n",
            "  z = fn(h)\n"
          ]
        },
        {
          "output_type": "stream",
          "name": "stdout",
          "text": [
            "torch.Size([10000, 256])\n",
            "torch.Size([10000, 10])\n",
            "f1 score: 0.8895\n",
            "Epoch loss: 0.404720\n",
            "Val loss: 0.383945\n",
            "Epoch 4\n"
          ]
        },
        {
          "output_type": "stream",
          "name": "stderr",
          "text": [
            "<ipython-input-10-e44211bf9fb2>:44: UserWarning: Implicit dimension choice for softmax has been deprecated. Change the call to include dim=X as an argument.\n",
            "  z = fn(h)\n"
          ]
        },
        {
          "output_type": "stream",
          "name": "stdout",
          "text": [
            "torch.Size([10000, 256])\n",
            "torch.Size([10000, 10])\n",
            "f1 score: 0.8937\n",
            "Epoch loss: 0.381952\n",
            "Val loss: 0.366150\n",
            "Epoch 5\n"
          ]
        },
        {
          "output_type": "stream",
          "name": "stderr",
          "text": [
            "<ipython-input-10-e44211bf9fb2>:44: UserWarning: Implicit dimension choice for softmax has been deprecated. Change the call to include dim=X as an argument.\n",
            "  z = fn(h)\n"
          ]
        },
        {
          "output_type": "stream",
          "name": "stdout",
          "text": [
            "torch.Size([10000, 256])\n",
            "torch.Size([10000, 10])\n",
            "f1 score: 0.8977\n",
            "Epoch loss: 0.366687\n",
            "Val loss: 0.353803\n",
            "Epoch 6\n"
          ]
        },
        {
          "output_type": "stream",
          "name": "stderr",
          "text": [
            "<ipython-input-10-e44211bf9fb2>:44: UserWarning: Implicit dimension choice for softmax has been deprecated. Change the call to include dim=X as an argument.\n",
            "  z = fn(h)\n"
          ]
        },
        {
          "output_type": "stream",
          "name": "stdout",
          "text": [
            "torch.Size([10000, 256])\n",
            "torch.Size([10000, 10])\n",
            "f1 score: 0.9004\n",
            "Epoch loss: 0.355661\n",
            "Val loss: 0.344726\n",
            "Epoch 7\n"
          ]
        },
        {
          "output_type": "stream",
          "name": "stderr",
          "text": [
            "<ipython-input-10-e44211bf9fb2>:44: UserWarning: Implicit dimension choice for softmax has been deprecated. Change the call to include dim=X as an argument.\n",
            "  z = fn(h)\n"
          ]
        },
        {
          "output_type": "stream",
          "name": "stdout",
          "text": [
            "torch.Size([10000, 256])\n",
            "torch.Size([10000, 10])\n",
            "f1 score: 0.9027\n",
            "Epoch loss: 0.347275\n",
            "Val loss: 0.337766\n",
            "Epoch 8\n"
          ]
        },
        {
          "output_type": "stream",
          "name": "stderr",
          "text": [
            "<ipython-input-10-e44211bf9fb2>:44: UserWarning: Implicit dimension choice for softmax has been deprecated. Change the call to include dim=X as an argument.\n",
            "  z = fn(h)\n"
          ]
        },
        {
          "output_type": "stream",
          "name": "stdout",
          "text": [
            "torch.Size([10000, 256])\n",
            "torch.Size([10000, 10])\n",
            "f1 score: 0.9037\n",
            "Epoch loss: 0.340650\n",
            "Val loss: 0.332256\n",
            "Epoch 9\n"
          ]
        },
        {
          "output_type": "stream",
          "name": "stderr",
          "text": [
            "<ipython-input-10-e44211bf9fb2>:44: UserWarning: Implicit dimension choice for softmax has been deprecated. Change the call to include dim=X as an argument.\n",
            "  z = fn(h)\n"
          ]
        },
        {
          "output_type": "stream",
          "name": "stdout",
          "text": [
            "torch.Size([10000, 256])\n",
            "torch.Size([10000, 10])\n",
            "f1 score: 0.9048\n",
            "Epoch loss: 0.335259\n",
            "Val loss: 0.327782\n",
            "Epoch 10\n"
          ]
        },
        {
          "output_type": "stream",
          "name": "stderr",
          "text": [
            "<ipython-input-10-e44211bf9fb2>:44: UserWarning: Implicit dimension choice for softmax has been deprecated. Change the call to include dim=X as an argument.\n",
            "  z = fn(h)\n"
          ]
        },
        {
          "output_type": "stream",
          "name": "stdout",
          "text": [
            "torch.Size([10000, 256])\n",
            "torch.Size([10000, 10])\n",
            "f1 score: 0.9056\n",
            "Epoch loss: 0.330768\n",
            "Val loss: 0.324076\n",
            "Epoch 11\n"
          ]
        },
        {
          "output_type": "stream",
          "name": "stderr",
          "text": [
            "<ipython-input-10-e44211bf9fb2>:44: UserWarning: Implicit dimension choice for softmax has been deprecated. Change the call to include dim=X as an argument.\n",
            "  z = fn(h)\n"
          ]
        },
        {
          "output_type": "stream",
          "name": "stdout",
          "text": [
            "torch.Size([10000, 256])\n",
            "torch.Size([10000, 10])\n",
            "f1 score: 0.9064999999999999\n",
            "Epoch loss: 0.326957\n",
            "Val loss: 0.320954\n",
            "Epoch 12\n"
          ]
        },
        {
          "output_type": "stream",
          "name": "stderr",
          "text": [
            "<ipython-input-10-e44211bf9fb2>:44: UserWarning: Implicit dimension choice for softmax has been deprecated. Change the call to include dim=X as an argument.\n",
            "  z = fn(h)\n"
          ]
        },
        {
          "output_type": "stream",
          "name": "stdout",
          "text": [
            "torch.Size([10000, 256])\n",
            "torch.Size([10000, 10])\n",
            "f1 score: 0.907\n",
            "Epoch loss: 0.323670\n",
            "Val loss: 0.318287\n",
            "Epoch 13\n"
          ]
        },
        {
          "output_type": "stream",
          "name": "stderr",
          "text": [
            "<ipython-input-10-e44211bf9fb2>:44: UserWarning: Implicit dimension choice for softmax has been deprecated. Change the call to include dim=X as an argument.\n",
            "  z = fn(h)\n"
          ]
        },
        {
          "output_type": "stream",
          "name": "stdout",
          "text": [
            "torch.Size([10000, 256])\n",
            "torch.Size([10000, 10])\n",
            "f1 score: 0.9078\n",
            "Epoch loss: 0.320799\n",
            "Val loss: 0.315982\n",
            "Epoch 14\n"
          ]
        },
        {
          "output_type": "stream",
          "name": "stderr",
          "text": [
            "<ipython-input-10-e44211bf9fb2>:44: UserWarning: Implicit dimension choice for softmax has been deprecated. Change the call to include dim=X as an argument.\n",
            "  z = fn(h)\n"
          ]
        },
        {
          "output_type": "stream",
          "name": "stdout",
          "text": [
            "torch.Size([10000, 256])\n",
            "torch.Size([10000, 10])\n",
            "f1 score: 0.9086\n",
            "Epoch loss: 0.318261\n",
            "Val loss: 0.313969\n",
            "Epoch 15\n"
          ]
        },
        {
          "output_type": "stream",
          "name": "stderr",
          "text": [
            "<ipython-input-10-e44211bf9fb2>:44: UserWarning: Implicit dimension choice for softmax has been deprecated. Change the call to include dim=X as an argument.\n",
            "  z = fn(h)\n"
          ]
        },
        {
          "output_type": "stream",
          "name": "stdout",
          "text": [
            "torch.Size([10000, 256])\n",
            "torch.Size([10000, 10])\n",
            "f1 score: 0.9085\n",
            "Epoch loss: 0.315997\n",
            "Val loss: 0.312196\n",
            "Epoch 16\n"
          ]
        },
        {
          "output_type": "stream",
          "name": "stderr",
          "text": [
            "<ipython-input-10-e44211bf9fb2>:44: UserWarning: Implicit dimension choice for softmax has been deprecated. Change the call to include dim=X as an argument.\n",
            "  z = fn(h)\n"
          ]
        },
        {
          "output_type": "stream",
          "name": "stdout",
          "text": [
            "torch.Size([10000, 256])\n",
            "torch.Size([10000, 10])\n",
            "f1 score: 0.9087\n",
            "Epoch loss: 0.313960\n",
            "Val loss: 0.310622\n",
            "Epoch 17\n"
          ]
        },
        {
          "output_type": "stream",
          "name": "stderr",
          "text": [
            "<ipython-input-10-e44211bf9fb2>:44: UserWarning: Implicit dimension choice for softmax has been deprecated. Change the call to include dim=X as an argument.\n",
            "  z = fn(h)\n"
          ]
        },
        {
          "output_type": "stream",
          "name": "stdout",
          "text": [
            "torch.Size([10000, 256])\n",
            "torch.Size([10000, 10])\n",
            "f1 score: 0.9092\n",
            "Epoch loss: 0.312114\n",
            "Val loss: 0.309215\n",
            "Epoch 18\n"
          ]
        },
        {
          "output_type": "stream",
          "name": "stderr",
          "text": [
            "<ipython-input-10-e44211bf9fb2>:44: UserWarning: Implicit dimension choice for softmax has been deprecated. Change the call to include dim=X as an argument.\n",
            "  z = fn(h)\n"
          ]
        },
        {
          "output_type": "stream",
          "name": "stdout",
          "text": [
            "torch.Size([10000, 256])\n",
            "torch.Size([10000, 10])\n",
            "f1 score: 0.9097\n",
            "Epoch loss: 0.310430\n",
            "Val loss: 0.307950\n",
            "Epoch 19\n"
          ]
        },
        {
          "output_type": "stream",
          "name": "stderr",
          "text": [
            "<ipython-input-10-e44211bf9fb2>:44: UserWarning: Implicit dimension choice for softmax has been deprecated. Change the call to include dim=X as an argument.\n",
            "  z = fn(h)\n"
          ]
        },
        {
          "output_type": "stream",
          "name": "stdout",
          "text": [
            "torch.Size([10000, 256])\n",
            "torch.Size([10000, 10])\n",
            "f1 score: 0.9101\n",
            "Epoch loss: 0.308885\n",
            "Val loss: 0.306805\n",
            "Epoch 20\n"
          ]
        },
        {
          "output_type": "stream",
          "name": "stderr",
          "text": [
            "<ipython-input-10-e44211bf9fb2>:44: UserWarning: Implicit dimension choice for softmax has been deprecated. Change the call to include dim=X as an argument.\n",
            "  z = fn(h)\n"
          ]
        },
        {
          "output_type": "stream",
          "name": "stdout",
          "text": [
            "torch.Size([10000, 256])\n",
            "torch.Size([10000, 10])\n",
            "f1 score: 0.9103999999999999\n",
            "Epoch loss: 0.307461\n",
            "Val loss: 0.305765\n",
            "Epoch 21\n"
          ]
        },
        {
          "output_type": "stream",
          "name": "stderr",
          "text": [
            "<ipython-input-10-e44211bf9fb2>:44: UserWarning: Implicit dimension choice for softmax has been deprecated. Change the call to include dim=X as an argument.\n",
            "  z = fn(h)\n"
          ]
        },
        {
          "output_type": "stream",
          "name": "stdout",
          "text": [
            "torch.Size([10000, 256])\n",
            "torch.Size([10000, 10])\n",
            "f1 score: 0.9111000000000001\n",
            "Epoch loss: 0.306142\n",
            "Val loss: 0.304815\n",
            "Epoch 22\n"
          ]
        },
        {
          "output_type": "stream",
          "name": "stderr",
          "text": [
            "<ipython-input-10-e44211bf9fb2>:44: UserWarning: Implicit dimension choice for softmax has been deprecated. Change the call to include dim=X as an argument.\n",
            "  z = fn(h)\n"
          ]
        },
        {
          "output_type": "stream",
          "name": "stdout",
          "text": [
            "torch.Size([10000, 256])\n",
            "torch.Size([10000, 10])\n",
            "f1 score: 0.9114\n",
            "Epoch loss: 0.304915\n",
            "Val loss: 0.303944\n",
            "Epoch 23\n"
          ]
        },
        {
          "output_type": "stream",
          "name": "stderr",
          "text": [
            "<ipython-input-10-e44211bf9fb2>:44: UserWarning: Implicit dimension choice for softmax has been deprecated. Change the call to include dim=X as an argument.\n",
            "  z = fn(h)\n"
          ]
        },
        {
          "output_type": "stream",
          "name": "stdout",
          "text": [
            "torch.Size([10000, 256])\n",
            "torch.Size([10000, 10])\n",
            "f1 score: 0.9118\n",
            "Epoch loss: 0.303770\n",
            "Val loss: 0.303142\n",
            "Epoch 24\n"
          ]
        },
        {
          "output_type": "stream",
          "name": "stderr",
          "text": [
            "<ipython-input-10-e44211bf9fb2>:44: UserWarning: Implicit dimension choice for softmax has been deprecated. Change the call to include dim=X as an argument.\n",
            "  z = fn(h)\n"
          ]
        },
        {
          "output_type": "stream",
          "name": "stdout",
          "text": [
            "torch.Size([10000, 256])\n",
            "torch.Size([10000, 10])\n",
            "f1 score: 0.9119\n",
            "Epoch loss: 0.302698\n",
            "Val loss: 0.302401\n",
            "Epoch 25\n"
          ]
        },
        {
          "output_type": "stream",
          "name": "stderr",
          "text": [
            "<ipython-input-10-e44211bf9fb2>:44: UserWarning: Implicit dimension choice for softmax has been deprecated. Change the call to include dim=X as an argument.\n",
            "  z = fn(h)\n"
          ]
        },
        {
          "output_type": "stream",
          "name": "stdout",
          "text": [
            "torch.Size([10000, 256])\n",
            "torch.Size([10000, 10])\n",
            "f1 score: 0.912\n",
            "Epoch loss: 0.301690\n",
            "Val loss: 0.301715\n",
            "Epoch 26\n"
          ]
        },
        {
          "output_type": "stream",
          "name": "stderr",
          "text": [
            "<ipython-input-10-e44211bf9fb2>:44: UserWarning: Implicit dimension choice for softmax has been deprecated. Change the call to include dim=X as an argument.\n",
            "  z = fn(h)\n"
          ]
        },
        {
          "output_type": "stream",
          "name": "stdout",
          "text": [
            "torch.Size([10000, 256])\n",
            "torch.Size([10000, 10])\n",
            "f1 score: 0.9123\n",
            "Epoch loss: 0.300741\n",
            "Val loss: 0.301077\n",
            "Epoch 27\n"
          ]
        },
        {
          "output_type": "stream",
          "name": "stderr",
          "text": [
            "<ipython-input-10-e44211bf9fb2>:44: UserWarning: Implicit dimension choice for softmax has been deprecated. Change the call to include dim=X as an argument.\n",
            "  z = fn(h)\n"
          ]
        },
        {
          "output_type": "stream",
          "name": "stdout",
          "text": [
            "torch.Size([10000, 256])\n",
            "torch.Size([10000, 10])\n",
            "f1 score: 0.9127\n",
            "Epoch loss: 0.299845\n",
            "Val loss: 0.300483\n",
            "Epoch 28\n"
          ]
        },
        {
          "output_type": "stream",
          "name": "stderr",
          "text": [
            "<ipython-input-10-e44211bf9fb2>:44: UserWarning: Implicit dimension choice for softmax has been deprecated. Change the call to include dim=X as an argument.\n",
            "  z = fn(h)\n"
          ]
        },
        {
          "output_type": "stream",
          "name": "stdout",
          "text": [
            "torch.Size([10000, 256])\n",
            "torch.Size([10000, 10])\n",
            "f1 score: 0.9128\n",
            "Epoch loss: 0.298996\n",
            "Val loss: 0.299927\n",
            "Epoch 29\n"
          ]
        },
        {
          "output_type": "stream",
          "name": "stderr",
          "text": [
            "<ipython-input-10-e44211bf9fb2>:44: UserWarning: Implicit dimension choice for softmax has been deprecated. Change the call to include dim=X as an argument.\n",
            "  z = fn(h)\n"
          ]
        },
        {
          "output_type": "stream",
          "name": "stdout",
          "text": [
            "torch.Size([10000, 256])\n",
            "torch.Size([10000, 10])\n",
            "f1 score: 0.9133\n",
            "Epoch loss: 0.298191\n",
            "Val loss: 0.299407\n",
            "Epoch 30\n"
          ]
        },
        {
          "output_type": "stream",
          "name": "stderr",
          "text": [
            "<ipython-input-10-e44211bf9fb2>:44: UserWarning: Implicit dimension choice for softmax has been deprecated. Change the call to include dim=X as an argument.\n",
            "  z = fn(h)\n"
          ]
        },
        {
          "output_type": "stream",
          "name": "stdout",
          "text": [
            "torch.Size([10000, 256])\n",
            "torch.Size([10000, 10])\n",
            "f1 score: 0.9130000000000001\n",
            "Epoch loss: 0.297426\n",
            "Val loss: 0.298918\n",
            "Epoch 31\n"
          ]
        },
        {
          "output_type": "stream",
          "name": "stderr",
          "text": [
            "<ipython-input-10-e44211bf9fb2>:44: UserWarning: Implicit dimension choice for softmax has been deprecated. Change the call to include dim=X as an argument.\n",
            "  z = fn(h)\n"
          ]
        },
        {
          "output_type": "stream",
          "name": "stdout",
          "text": [
            "torch.Size([10000, 256])\n",
            "torch.Size([10000, 10])\n",
            "f1 score: 0.9131\n",
            "Epoch loss: 0.296698\n",
            "Val loss: 0.298458\n",
            "Epoch 32\n"
          ]
        },
        {
          "output_type": "stream",
          "name": "stderr",
          "text": [
            "<ipython-input-10-e44211bf9fb2>:44: UserWarning: Implicit dimension choice for softmax has been deprecated. Change the call to include dim=X as an argument.\n",
            "  z = fn(h)\n"
          ]
        },
        {
          "output_type": "stream",
          "name": "stdout",
          "text": [
            "torch.Size([10000, 256])\n",
            "torch.Size([10000, 10])\n",
            "f1 score: 0.9133\n",
            "Epoch loss: 0.296003\n",
            "Val loss: 0.298025\n",
            "Epoch 33\n"
          ]
        },
        {
          "output_type": "stream",
          "name": "stderr",
          "text": [
            "<ipython-input-10-e44211bf9fb2>:44: UserWarning: Implicit dimension choice for softmax has been deprecated. Change the call to include dim=X as an argument.\n",
            "  z = fn(h)\n"
          ]
        },
        {
          "output_type": "stream",
          "name": "stdout",
          "text": [
            "torch.Size([10000, 256])\n",
            "torch.Size([10000, 10])\n",
            "f1 score: 0.9135\n",
            "Epoch loss: 0.295339\n",
            "Val loss: 0.297616\n",
            "Epoch 34\n"
          ]
        },
        {
          "output_type": "stream",
          "name": "stderr",
          "text": [
            "<ipython-input-10-e44211bf9fb2>:44: UserWarning: Implicit dimension choice for softmax has been deprecated. Change the call to include dim=X as an argument.\n",
            "  z = fn(h)\n"
          ]
        },
        {
          "output_type": "stream",
          "name": "stdout",
          "text": [
            "torch.Size([10000, 256])\n",
            "torch.Size([10000, 10])\n",
            "f1 score: 0.914\n",
            "Epoch loss: 0.294703\n",
            "Val loss: 0.297229\n",
            "Epoch 35\n"
          ]
        },
        {
          "output_type": "stream",
          "name": "stderr",
          "text": [
            "<ipython-input-10-e44211bf9fb2>:44: UserWarning: Implicit dimension choice for softmax has been deprecated. Change the call to include dim=X as an argument.\n",
            "  z = fn(h)\n"
          ]
        },
        {
          "output_type": "stream",
          "name": "stdout",
          "text": [
            "torch.Size([10000, 256])\n",
            "torch.Size([10000, 10])\n",
            "f1 score: 0.9141\n",
            "Epoch loss: 0.294094\n",
            "Val loss: 0.296862\n",
            "Epoch 36\n"
          ]
        },
        {
          "output_type": "stream",
          "name": "stderr",
          "text": [
            "<ipython-input-10-e44211bf9fb2>:44: UserWarning: Implicit dimension choice for softmax has been deprecated. Change the call to include dim=X as an argument.\n",
            "  z = fn(h)\n"
          ]
        },
        {
          "output_type": "stream",
          "name": "stdout",
          "text": [
            "torch.Size([10000, 256])\n",
            "torch.Size([10000, 10])\n",
            "f1 score: 0.9145\n",
            "Epoch loss: 0.293510\n",
            "Val loss: 0.296514\n",
            "Epoch 37\n"
          ]
        },
        {
          "output_type": "stream",
          "name": "stderr",
          "text": [
            "<ipython-input-10-e44211bf9fb2>:44: UserWarning: Implicit dimension choice for softmax has been deprecated. Change the call to include dim=X as an argument.\n",
            "  z = fn(h)\n"
          ]
        },
        {
          "output_type": "stream",
          "name": "stdout",
          "text": [
            "torch.Size([10000, 256])\n",
            "torch.Size([10000, 10])\n",
            "f1 score: 0.915\n",
            "Epoch loss: 0.292949\n",
            "Val loss: 0.296183\n",
            "Epoch 38\n"
          ]
        },
        {
          "output_type": "stream",
          "name": "stderr",
          "text": [
            "<ipython-input-10-e44211bf9fb2>:44: UserWarning: Implicit dimension choice for softmax has been deprecated. Change the call to include dim=X as an argument.\n",
            "  z = fn(h)\n"
          ]
        },
        {
          "output_type": "stream",
          "name": "stdout",
          "text": [
            "torch.Size([10000, 256])\n",
            "torch.Size([10000, 10])\n",
            "f1 score: 0.9149\n",
            "Epoch loss: 0.292410\n",
            "Val loss: 0.295868\n",
            "Epoch 39\n"
          ]
        },
        {
          "output_type": "stream",
          "name": "stderr",
          "text": [
            "<ipython-input-10-e44211bf9fb2>:44: UserWarning: Implicit dimension choice for softmax has been deprecated. Change the call to include dim=X as an argument.\n",
            "  z = fn(h)\n"
          ]
        },
        {
          "output_type": "stream",
          "name": "stdout",
          "text": [
            "torch.Size([10000, 256])\n",
            "torch.Size([10000, 10])\n",
            "f1 score: 0.9151\n",
            "Epoch loss: 0.291890\n",
            "Val loss: 0.295568\n",
            "Epoch 40\n"
          ]
        },
        {
          "output_type": "stream",
          "name": "stderr",
          "text": [
            "<ipython-input-10-e44211bf9fb2>:44: UserWarning: Implicit dimension choice for softmax has been deprecated. Change the call to include dim=X as an argument.\n",
            "  z = fn(h)\n"
          ]
        },
        {
          "output_type": "stream",
          "name": "stdout",
          "text": [
            "torch.Size([10000, 256])\n",
            "torch.Size([10000, 10])\n",
            "f1 score: 0.9151\n",
            "Epoch loss: 0.291389\n",
            "Val loss: 0.295281\n",
            "Epoch 41\n"
          ]
        },
        {
          "output_type": "stream",
          "name": "stderr",
          "text": [
            "<ipython-input-10-e44211bf9fb2>:44: UserWarning: Implicit dimension choice for softmax has been deprecated. Change the call to include dim=X as an argument.\n",
            "  z = fn(h)\n"
          ]
        },
        {
          "output_type": "stream",
          "name": "stdout",
          "text": [
            "torch.Size([10000, 256])\n",
            "torch.Size([10000, 10])\n",
            "f1 score: 0.9151\n",
            "Epoch loss: 0.290906\n",
            "Val loss: 0.295008\n",
            "Epoch 42\n"
          ]
        },
        {
          "output_type": "stream",
          "name": "stderr",
          "text": [
            "<ipython-input-10-e44211bf9fb2>:44: UserWarning: Implicit dimension choice for softmax has been deprecated. Change the call to include dim=X as an argument.\n",
            "  z = fn(h)\n"
          ]
        },
        {
          "output_type": "stream",
          "name": "stdout",
          "text": [
            "torch.Size([10000, 256])\n",
            "torch.Size([10000, 10])\n",
            "f1 score: 0.9148\n",
            "Epoch loss: 0.290440\n",
            "Val loss: 0.294746\n",
            "Epoch 43\n"
          ]
        },
        {
          "output_type": "stream",
          "name": "stderr",
          "text": [
            "<ipython-input-10-e44211bf9fb2>:44: UserWarning: Implicit dimension choice for softmax has been deprecated. Change the call to include dim=X as an argument.\n",
            "  z = fn(h)\n"
          ]
        },
        {
          "output_type": "stream",
          "name": "stdout",
          "text": [
            "torch.Size([10000, 256])\n",
            "torch.Size([10000, 10])\n",
            "f1 score: 0.9147\n",
            "Epoch loss: 0.289989\n",
            "Val loss: 0.294496\n",
            "Epoch 44\n"
          ]
        },
        {
          "output_type": "stream",
          "name": "stderr",
          "text": [
            "<ipython-input-10-e44211bf9fb2>:44: UserWarning: Implicit dimension choice for softmax has been deprecated. Change the call to include dim=X as an argument.\n",
            "  z = fn(h)\n"
          ]
        },
        {
          "output_type": "stream",
          "name": "stdout",
          "text": [
            "torch.Size([10000, 256])\n",
            "torch.Size([10000, 10])\n",
            "f1 score: 0.915\n",
            "Epoch loss: 0.289553\n",
            "Val loss: 0.294256\n",
            "Epoch 45\n"
          ]
        },
        {
          "output_type": "stream",
          "name": "stderr",
          "text": [
            "<ipython-input-10-e44211bf9fb2>:44: UserWarning: Implicit dimension choice for softmax has been deprecated. Change the call to include dim=X as an argument.\n",
            "  z = fn(h)\n"
          ]
        },
        {
          "output_type": "stream",
          "name": "stdout",
          "text": [
            "torch.Size([10000, 256])\n",
            "torch.Size([10000, 10])\n",
            "f1 score: 0.9151\n",
            "Epoch loss: 0.289131\n",
            "Val loss: 0.294026\n",
            "Epoch 46\n"
          ]
        },
        {
          "output_type": "stream",
          "name": "stderr",
          "text": [
            "<ipython-input-10-e44211bf9fb2>:44: UserWarning: Implicit dimension choice for softmax has been deprecated. Change the call to include dim=X as an argument.\n",
            "  z = fn(h)\n"
          ]
        },
        {
          "output_type": "stream",
          "name": "stdout",
          "text": [
            "torch.Size([10000, 256])\n",
            "torch.Size([10000, 10])\n",
            "f1 score: 0.9154\n",
            "Epoch loss: 0.288722\n",
            "Val loss: 0.293805\n",
            "Epoch 47\n"
          ]
        },
        {
          "output_type": "stream",
          "name": "stderr",
          "text": [
            "<ipython-input-10-e44211bf9fb2>:44: UserWarning: Implicit dimension choice for softmax has been deprecated. Change the call to include dim=X as an argument.\n",
            "  z = fn(h)\n"
          ]
        },
        {
          "output_type": "stream",
          "name": "stdout",
          "text": [
            "torch.Size([10000, 256])\n",
            "torch.Size([10000, 10])\n",
            "f1 score: 0.9154\n",
            "Epoch loss: 0.288326\n",
            "Val loss: 0.293593\n",
            "Epoch 48\n"
          ]
        },
        {
          "output_type": "stream",
          "name": "stderr",
          "text": [
            "<ipython-input-10-e44211bf9fb2>:44: UserWarning: Implicit dimension choice for softmax has been deprecated. Change the call to include dim=X as an argument.\n",
            "  z = fn(h)\n"
          ]
        },
        {
          "output_type": "stream",
          "name": "stdout",
          "text": [
            "torch.Size([10000, 256])\n",
            "torch.Size([10000, 10])\n",
            "f1 score: 0.9155\n",
            "Epoch loss: 0.287942\n",
            "Val loss: 0.293389\n",
            "Epoch 49\n"
          ]
        },
        {
          "output_type": "stream",
          "name": "stderr",
          "text": [
            "<ipython-input-10-e44211bf9fb2>:44: UserWarning: Implicit dimension choice for softmax has been deprecated. Change the call to include dim=X as an argument.\n",
            "  z = fn(h)\n"
          ]
        },
        {
          "output_type": "stream",
          "name": "stdout",
          "text": [
            "torch.Size([10000, 256])\n",
            "torch.Size([10000, 10])\n",
            "f1 score: 0.9157\n",
            "Epoch loss: 0.287568\n",
            "Val loss: 0.293192\n",
            "Epoch 50\n"
          ]
        },
        {
          "output_type": "stream",
          "name": "stderr",
          "text": [
            "<ipython-input-10-e44211bf9fb2>:44: UserWarning: Implicit dimension choice for softmax has been deprecated. Change the call to include dim=X as an argument.\n",
            "  z = fn(h)\n"
          ]
        },
        {
          "output_type": "stream",
          "name": "stdout",
          "text": [
            "torch.Size([10000, 256])\n",
            "torch.Size([10000, 10])\n",
            "f1 score: 0.9157\n",
            "Epoch loss: 0.287206\n",
            "Val loss: 0.293003\n",
            "Epoch 51\n"
          ]
        },
        {
          "output_type": "stream",
          "name": "stderr",
          "text": [
            "<ipython-input-10-e44211bf9fb2>:44: UserWarning: Implicit dimension choice for softmax has been deprecated. Change the call to include dim=X as an argument.\n",
            "  z = fn(h)\n"
          ]
        },
        {
          "output_type": "stream",
          "name": "stdout",
          "text": [
            "torch.Size([10000, 256])\n",
            "torch.Size([10000, 10])\n",
            "f1 score: 0.9159\n",
            "Epoch loss: 0.286853\n",
            "Val loss: 0.292821\n",
            "Epoch 52\n"
          ]
        },
        {
          "output_type": "stream",
          "name": "stderr",
          "text": [
            "<ipython-input-10-e44211bf9fb2>:44: UserWarning: Implicit dimension choice for softmax has been deprecated. Change the call to include dim=X as an argument.\n",
            "  z = fn(h)\n"
          ]
        },
        {
          "output_type": "stream",
          "name": "stdout",
          "text": [
            "torch.Size([10000, 256])\n",
            "torch.Size([10000, 10])\n",
            "f1 score: 0.916\n",
            "Epoch loss: 0.286511\n",
            "Val loss: 0.292646\n",
            "Epoch 53\n"
          ]
        },
        {
          "output_type": "stream",
          "name": "stderr",
          "text": [
            "<ipython-input-10-e44211bf9fb2>:44: UserWarning: Implicit dimension choice for softmax has been deprecated. Change the call to include dim=X as an argument.\n",
            "  z = fn(h)\n"
          ]
        },
        {
          "output_type": "stream",
          "name": "stdout",
          "text": [
            "torch.Size([10000, 256])\n",
            "torch.Size([10000, 10])\n",
            "f1 score: 0.916\n",
            "Epoch loss: 0.286177\n",
            "Val loss: 0.292476\n",
            "Epoch 54\n"
          ]
        },
        {
          "output_type": "stream",
          "name": "stderr",
          "text": [
            "<ipython-input-10-e44211bf9fb2>:44: UserWarning: Implicit dimension choice for softmax has been deprecated. Change the call to include dim=X as an argument.\n",
            "  z = fn(h)\n"
          ]
        },
        {
          "output_type": "stream",
          "name": "stdout",
          "text": [
            "torch.Size([10000, 256])\n",
            "torch.Size([10000, 10])\n",
            "f1 score: 0.9162\n",
            "Epoch loss: 0.285853\n",
            "Val loss: 0.292313\n",
            "Epoch 55\n"
          ]
        },
        {
          "output_type": "stream",
          "name": "stderr",
          "text": [
            "<ipython-input-10-e44211bf9fb2>:44: UserWarning: Implicit dimension choice for softmax has been deprecated. Change the call to include dim=X as an argument.\n",
            "  z = fn(h)\n"
          ]
        },
        {
          "output_type": "stream",
          "name": "stdout",
          "text": [
            "torch.Size([10000, 256])\n",
            "torch.Size([10000, 10])\n",
            "f1 score: 0.9163\n",
            "Epoch loss: 0.285536\n",
            "Val loss: 0.292155\n",
            "Epoch 56\n"
          ]
        },
        {
          "output_type": "stream",
          "name": "stderr",
          "text": [
            "<ipython-input-10-e44211bf9fb2>:44: UserWarning: Implicit dimension choice for softmax has been deprecated. Change the call to include dim=X as an argument.\n",
            "  z = fn(h)\n"
          ]
        },
        {
          "output_type": "stream",
          "name": "stdout",
          "text": [
            "torch.Size([10000, 256])\n",
            "torch.Size([10000, 10])\n",
            "f1 score: 0.9163\n",
            "Epoch loss: 0.285228\n",
            "Val loss: 0.292002\n",
            "Epoch 57\n"
          ]
        },
        {
          "output_type": "stream",
          "name": "stderr",
          "text": [
            "<ipython-input-10-e44211bf9fb2>:44: UserWarning: Implicit dimension choice for softmax has been deprecated. Change the call to include dim=X as an argument.\n",
            "  z = fn(h)\n"
          ]
        },
        {
          "output_type": "stream",
          "name": "stdout",
          "text": [
            "torch.Size([10000, 256])\n",
            "torch.Size([10000, 10])\n",
            "f1 score: 0.9163\n",
            "Epoch loss: 0.284928\n",
            "Val loss: 0.291854\n",
            "Epoch 58\n"
          ]
        },
        {
          "output_type": "stream",
          "name": "stderr",
          "text": [
            "<ipython-input-10-e44211bf9fb2>:44: UserWarning: Implicit dimension choice for softmax has been deprecated. Change the call to include dim=X as an argument.\n",
            "  z = fn(h)\n"
          ]
        },
        {
          "output_type": "stream",
          "name": "stdout",
          "text": [
            "torch.Size([10000, 256])\n",
            "torch.Size([10000, 10])\n",
            "f1 score: 0.9163\n",
            "Epoch loss: 0.284634\n",
            "Val loss: 0.291711\n",
            "Epoch 59\n"
          ]
        },
        {
          "output_type": "stream",
          "name": "stderr",
          "text": [
            "<ipython-input-10-e44211bf9fb2>:44: UserWarning: Implicit dimension choice for softmax has been deprecated. Change the call to include dim=X as an argument.\n",
            "  z = fn(h)\n"
          ]
        },
        {
          "output_type": "stream",
          "name": "stdout",
          "text": [
            "torch.Size([10000, 256])\n",
            "torch.Size([10000, 10])\n",
            "f1 score: 0.9162\n",
            "Epoch loss: 0.284348\n",
            "Val loss: 0.291573\n",
            "Epoch 60\n"
          ]
        },
        {
          "output_type": "stream",
          "name": "stderr",
          "text": [
            "<ipython-input-10-e44211bf9fb2>:44: UserWarning: Implicit dimension choice for softmax has been deprecated. Change the call to include dim=X as an argument.\n",
            "  z = fn(h)\n"
          ]
        },
        {
          "output_type": "stream",
          "name": "stdout",
          "text": [
            "torch.Size([10000, 256])\n",
            "torch.Size([10000, 10])\n",
            "f1 score: 0.9165\n",
            "Epoch loss: 0.284069\n",
            "Val loss: 0.291439\n",
            "Epoch 61\n"
          ]
        },
        {
          "output_type": "stream",
          "name": "stderr",
          "text": [
            "<ipython-input-10-e44211bf9fb2>:44: UserWarning: Implicit dimension choice for softmax has been deprecated. Change the call to include dim=X as an argument.\n",
            "  z = fn(h)\n"
          ]
        },
        {
          "output_type": "stream",
          "name": "stdout",
          "text": [
            "torch.Size([10000, 256])\n",
            "torch.Size([10000, 10])\n",
            "f1 score: 0.9166\n",
            "Epoch loss: 0.283796\n",
            "Val loss: 0.291309\n",
            "Epoch 62\n"
          ]
        },
        {
          "output_type": "stream",
          "name": "stderr",
          "text": [
            "<ipython-input-10-e44211bf9fb2>:44: UserWarning: Implicit dimension choice for softmax has been deprecated. Change the call to include dim=X as an argument.\n",
            "  z = fn(h)\n"
          ]
        },
        {
          "output_type": "stream",
          "name": "stdout",
          "text": [
            "torch.Size([10000, 256])\n",
            "torch.Size([10000, 10])\n",
            "f1 score: 0.9166\n",
            "Epoch loss: 0.283530\n",
            "Val loss: 0.291183\n",
            "Epoch 63\n"
          ]
        },
        {
          "output_type": "stream",
          "name": "stderr",
          "text": [
            "<ipython-input-10-e44211bf9fb2>:44: UserWarning: Implicit dimension choice for softmax has been deprecated. Change the call to include dim=X as an argument.\n",
            "  z = fn(h)\n"
          ]
        },
        {
          "output_type": "stream",
          "name": "stdout",
          "text": [
            "torch.Size([10000, 256])\n",
            "torch.Size([10000, 10])\n",
            "f1 score: 0.9167\n",
            "Epoch loss: 0.283269\n",
            "Val loss: 0.291061\n",
            "Epoch 64\n"
          ]
        },
        {
          "output_type": "stream",
          "name": "stderr",
          "text": [
            "<ipython-input-10-e44211bf9fb2>:44: UserWarning: Implicit dimension choice for softmax has been deprecated. Change the call to include dim=X as an argument.\n",
            "  z = fn(h)\n"
          ]
        },
        {
          "output_type": "stream",
          "name": "stdout",
          "text": [
            "torch.Size([10000, 256])\n",
            "torch.Size([10000, 10])\n",
            "f1 score: 0.9168\n",
            "Epoch loss: 0.283014\n",
            "Val loss: 0.290943\n",
            "Epoch 65\n"
          ]
        },
        {
          "output_type": "stream",
          "name": "stderr",
          "text": [
            "<ipython-input-10-e44211bf9fb2>:44: UserWarning: Implicit dimension choice for softmax has been deprecated. Change the call to include dim=X as an argument.\n",
            "  z = fn(h)\n"
          ]
        },
        {
          "output_type": "stream",
          "name": "stdout",
          "text": [
            "torch.Size([10000, 256])\n",
            "torch.Size([10000, 10])\n",
            "f1 score: 0.9169\n",
            "Epoch loss: 0.282765\n",
            "Val loss: 0.290828\n",
            "Epoch 66\n"
          ]
        },
        {
          "output_type": "stream",
          "name": "stderr",
          "text": [
            "<ipython-input-10-e44211bf9fb2>:44: UserWarning: Implicit dimension choice for softmax has been deprecated. Change the call to include dim=X as an argument.\n",
            "  z = fn(h)\n"
          ]
        },
        {
          "output_type": "stream",
          "name": "stdout",
          "text": [
            "torch.Size([10000, 256])\n",
            "torch.Size([10000, 10])\n",
            "f1 score: 0.9171000000000001\n",
            "Epoch loss: 0.282521\n",
            "Val loss: 0.290716\n",
            "Epoch 67\n"
          ]
        },
        {
          "output_type": "stream",
          "name": "stderr",
          "text": [
            "<ipython-input-10-e44211bf9fb2>:44: UserWarning: Implicit dimension choice for softmax has been deprecated. Change the call to include dim=X as an argument.\n",
            "  z = fn(h)\n"
          ]
        },
        {
          "output_type": "stream",
          "name": "stdout",
          "text": [
            "torch.Size([10000, 256])\n",
            "torch.Size([10000, 10])\n",
            "f1 score: 0.9171999999999999\n",
            "Epoch loss: 0.282282\n",
            "Val loss: 0.290608\n",
            "Epoch 68\n"
          ]
        },
        {
          "output_type": "stream",
          "name": "stderr",
          "text": [
            "<ipython-input-10-e44211bf9fb2>:44: UserWarning: Implicit dimension choice for softmax has been deprecated. Change the call to include dim=X as an argument.\n",
            "  z = fn(h)\n"
          ]
        },
        {
          "output_type": "stream",
          "name": "stdout",
          "text": [
            "torch.Size([10000, 256])\n",
            "torch.Size([10000, 10])\n",
            "f1 score: 0.917\n",
            "Epoch loss: 0.282048\n",
            "Val loss: 0.290503\n",
            "Epoch 69\n"
          ]
        },
        {
          "output_type": "stream",
          "name": "stderr",
          "text": [
            "<ipython-input-10-e44211bf9fb2>:44: UserWarning: Implicit dimension choice for softmax has been deprecated. Change the call to include dim=X as an argument.\n",
            "  z = fn(h)\n"
          ]
        },
        {
          "output_type": "stream",
          "name": "stdout",
          "text": [
            "torch.Size([10000, 256])\n",
            "torch.Size([10000, 10])\n",
            "f1 score: 0.9171000000000001\n",
            "Epoch loss: 0.281819\n",
            "Val loss: 0.290401\n",
            "Epoch 70\n"
          ]
        },
        {
          "output_type": "stream",
          "name": "stderr",
          "text": [
            "<ipython-input-10-e44211bf9fb2>:44: UserWarning: Implicit dimension choice for softmax has been deprecated. Change the call to include dim=X as an argument.\n",
            "  z = fn(h)\n"
          ]
        },
        {
          "output_type": "stream",
          "name": "stdout",
          "text": [
            "torch.Size([10000, 256])\n",
            "torch.Size([10000, 10])\n",
            "f1 score: 0.917\n",
            "Epoch loss: 0.281595\n",
            "Val loss: 0.290301\n",
            "Epoch 71\n"
          ]
        },
        {
          "output_type": "stream",
          "name": "stderr",
          "text": [
            "<ipython-input-10-e44211bf9fb2>:44: UserWarning: Implicit dimension choice for softmax has been deprecated. Change the call to include dim=X as an argument.\n",
            "  z = fn(h)\n"
          ]
        },
        {
          "output_type": "stream",
          "name": "stdout",
          "text": [
            "torch.Size([10000, 256])\n",
            "torch.Size([10000, 10])\n",
            "f1 score: 0.9169\n",
            "Epoch loss: 0.281375\n",
            "Val loss: 0.290205\n",
            "Epoch 72\n"
          ]
        },
        {
          "output_type": "stream",
          "name": "stderr",
          "text": [
            "<ipython-input-10-e44211bf9fb2>:44: UserWarning: Implicit dimension choice for softmax has been deprecated. Change the call to include dim=X as an argument.\n",
            "  z = fn(h)\n"
          ]
        },
        {
          "output_type": "stream",
          "name": "stdout",
          "text": [
            "torch.Size([10000, 256])\n",
            "torch.Size([10000, 10])\n",
            "f1 score: 0.9171000000000001\n",
            "Epoch loss: 0.281159\n",
            "Val loss: 0.290111\n",
            "Epoch 73\n"
          ]
        },
        {
          "output_type": "stream",
          "name": "stderr",
          "text": [
            "<ipython-input-10-e44211bf9fb2>:44: UserWarning: Implicit dimension choice for softmax has been deprecated. Change the call to include dim=X as an argument.\n",
            "  z = fn(h)\n"
          ]
        },
        {
          "output_type": "stream",
          "name": "stdout",
          "text": [
            "torch.Size([10000, 256])\n",
            "torch.Size([10000, 10])\n",
            "f1 score: 0.917\n",
            "Epoch loss: 0.280948\n",
            "Val loss: 0.290019\n",
            "Epoch 74\n"
          ]
        },
        {
          "output_type": "stream",
          "name": "stderr",
          "text": [
            "<ipython-input-10-e44211bf9fb2>:44: UserWarning: Implicit dimension choice for softmax has been deprecated. Change the call to include dim=X as an argument.\n",
            "  z = fn(h)\n"
          ]
        },
        {
          "output_type": "stream",
          "name": "stdout",
          "text": [
            "torch.Size([10000, 256])\n",
            "torch.Size([10000, 10])\n",
            "f1 score: 0.9169\n",
            "Epoch loss: 0.280740\n",
            "Val loss: 0.289930\n",
            "Epoch 75\n"
          ]
        },
        {
          "output_type": "stream",
          "name": "stderr",
          "text": [
            "<ipython-input-10-e44211bf9fb2>:44: UserWarning: Implicit dimension choice for softmax has been deprecated. Change the call to include dim=X as an argument.\n",
            "  z = fn(h)\n"
          ]
        },
        {
          "output_type": "stream",
          "name": "stdout",
          "text": [
            "torch.Size([10000, 256])\n",
            "torch.Size([10000, 10])\n",
            "f1 score: 0.9169\n",
            "Epoch loss: 0.280537\n",
            "Val loss: 0.289843\n",
            "Epoch 76\n"
          ]
        },
        {
          "output_type": "stream",
          "name": "stderr",
          "text": [
            "<ipython-input-10-e44211bf9fb2>:44: UserWarning: Implicit dimension choice for softmax has been deprecated. Change the call to include dim=X as an argument.\n",
            "  z = fn(h)\n"
          ]
        },
        {
          "output_type": "stream",
          "name": "stdout",
          "text": [
            "torch.Size([10000, 256])\n",
            "torch.Size([10000, 10])\n",
            "f1 score: 0.9169\n",
            "Epoch loss: 0.280337\n",
            "Val loss: 0.289759\n",
            "Epoch 77\n"
          ]
        },
        {
          "output_type": "stream",
          "name": "stderr",
          "text": [
            "<ipython-input-10-e44211bf9fb2>:44: UserWarning: Implicit dimension choice for softmax has been deprecated. Change the call to include dim=X as an argument.\n",
            "  z = fn(h)\n"
          ]
        },
        {
          "output_type": "stream",
          "name": "stdout",
          "text": [
            "torch.Size([10000, 256])\n",
            "torch.Size([10000, 10])\n",
            "f1 score: 0.917\n",
            "Epoch loss: 0.280141\n",
            "Val loss: 0.289677\n",
            "Epoch 78\n"
          ]
        },
        {
          "output_type": "stream",
          "name": "stderr",
          "text": [
            "<ipython-input-10-e44211bf9fb2>:44: UserWarning: Implicit dimension choice for softmax has been deprecated. Change the call to include dim=X as an argument.\n",
            "  z = fn(h)\n"
          ]
        },
        {
          "output_type": "stream",
          "name": "stdout",
          "text": [
            "torch.Size([10000, 256])\n",
            "torch.Size([10000, 10])\n",
            "f1 score: 0.9171999999999999\n",
            "Epoch loss: 0.279948\n",
            "Val loss: 0.289597\n",
            "Epoch 79\n"
          ]
        },
        {
          "output_type": "stream",
          "name": "stderr",
          "text": [
            "<ipython-input-10-e44211bf9fb2>:44: UserWarning: Implicit dimension choice for softmax has been deprecated. Change the call to include dim=X as an argument.\n",
            "  z = fn(h)\n"
          ]
        },
        {
          "output_type": "stream",
          "name": "stdout",
          "text": [
            "torch.Size([10000, 256])\n",
            "torch.Size([10000, 10])\n",
            "f1 score: 0.9174\n",
            "Epoch loss: 0.279759\n",
            "Val loss: 0.289519\n",
            "Epoch 80\n"
          ]
        },
        {
          "output_type": "stream",
          "name": "stderr",
          "text": [
            "<ipython-input-10-e44211bf9fb2>:44: UserWarning: Implicit dimension choice for softmax has been deprecated. Change the call to include dim=X as an argument.\n",
            "  z = fn(h)\n"
          ]
        },
        {
          "output_type": "stream",
          "name": "stdout",
          "text": [
            "torch.Size([10000, 256])\n",
            "torch.Size([10000, 10])\n",
            "f1 score: 0.9173000000000001\n",
            "Epoch loss: 0.279573\n",
            "Val loss: 0.289443\n",
            "Epoch 81\n"
          ]
        },
        {
          "output_type": "stream",
          "name": "stderr",
          "text": [
            "<ipython-input-10-e44211bf9fb2>:44: UserWarning: Implicit dimension choice for softmax has been deprecated. Change the call to include dim=X as an argument.\n",
            "  z = fn(h)\n"
          ]
        },
        {
          "output_type": "stream",
          "name": "stdout",
          "text": [
            "torch.Size([10000, 256])\n",
            "torch.Size([10000, 10])\n",
            "f1 score: 0.9173000000000001\n",
            "Epoch loss: 0.279390\n",
            "Val loss: 0.289368\n",
            "Epoch 82\n"
          ]
        },
        {
          "output_type": "stream",
          "name": "stderr",
          "text": [
            "<ipython-input-10-e44211bf9fb2>:44: UserWarning: Implicit dimension choice for softmax has been deprecated. Change the call to include dim=X as an argument.\n",
            "  z = fn(h)\n"
          ]
        },
        {
          "output_type": "stream",
          "name": "stdout",
          "text": [
            "torch.Size([10000, 256])\n",
            "torch.Size([10000, 10])\n",
            "f1 score: 0.9171999999999999\n",
            "Epoch loss: 0.279211\n",
            "Val loss: 0.289296\n",
            "Epoch 83\n"
          ]
        },
        {
          "output_type": "stream",
          "name": "stderr",
          "text": [
            "<ipython-input-10-e44211bf9fb2>:44: UserWarning: Implicit dimension choice for softmax has been deprecated. Change the call to include dim=X as an argument.\n",
            "  z = fn(h)\n"
          ]
        },
        {
          "output_type": "stream",
          "name": "stdout",
          "text": [
            "torch.Size([10000, 256])\n",
            "torch.Size([10000, 10])\n",
            "f1 score: 0.9173000000000001\n",
            "Epoch loss: 0.279034\n",
            "Val loss: 0.289225\n",
            "Epoch 84\n"
          ]
        },
        {
          "output_type": "stream",
          "name": "stderr",
          "text": [
            "<ipython-input-10-e44211bf9fb2>:44: UserWarning: Implicit dimension choice for softmax has been deprecated. Change the call to include dim=X as an argument.\n",
            "  z = fn(h)\n"
          ]
        },
        {
          "output_type": "stream",
          "name": "stdout",
          "text": [
            "torch.Size([10000, 256])\n",
            "torch.Size([10000, 10])\n",
            "f1 score: 0.9173000000000001\n",
            "Epoch loss: 0.278861\n",
            "Val loss: 0.289157\n",
            "Epoch 85\n"
          ]
        },
        {
          "output_type": "stream",
          "name": "stderr",
          "text": [
            "<ipython-input-10-e44211bf9fb2>:44: UserWarning: Implicit dimension choice for softmax has been deprecated. Change the call to include dim=X as an argument.\n",
            "  z = fn(h)\n"
          ]
        },
        {
          "output_type": "stream",
          "name": "stdout",
          "text": [
            "torch.Size([10000, 256])\n",
            "torch.Size([10000, 10])\n",
            "f1 score: 0.9174\n",
            "Epoch loss: 0.278690\n",
            "Val loss: 0.289089\n",
            "Epoch 86\n"
          ]
        },
        {
          "output_type": "stream",
          "name": "stderr",
          "text": [
            "<ipython-input-10-e44211bf9fb2>:44: UserWarning: Implicit dimension choice for softmax has been deprecated. Change the call to include dim=X as an argument.\n",
            "  z = fn(h)\n"
          ]
        },
        {
          "output_type": "stream",
          "name": "stdout",
          "text": [
            "torch.Size([10000, 256])\n",
            "torch.Size([10000, 10])\n",
            "f1 score: 0.9174\n",
            "Epoch loss: 0.278522\n",
            "Val loss: 0.289024\n",
            "Epoch 87\n"
          ]
        },
        {
          "output_type": "stream",
          "name": "stderr",
          "text": [
            "<ipython-input-10-e44211bf9fb2>:44: UserWarning: Implicit dimension choice for softmax has been deprecated. Change the call to include dim=X as an argument.\n",
            "  z = fn(h)\n"
          ]
        },
        {
          "output_type": "stream",
          "name": "stdout",
          "text": [
            "torch.Size([10000, 256])\n",
            "torch.Size([10000, 10])\n",
            "f1 score: 0.9174\n",
            "Epoch loss: 0.278357\n",
            "Val loss: 0.288960\n",
            "Epoch 88\n"
          ]
        },
        {
          "output_type": "stream",
          "name": "stderr",
          "text": [
            "<ipython-input-10-e44211bf9fb2>:44: UserWarning: Implicit dimension choice for softmax has been deprecated. Change the call to include dim=X as an argument.\n",
            "  z = fn(h)\n"
          ]
        },
        {
          "output_type": "stream",
          "name": "stdout",
          "text": [
            "torch.Size([10000, 256])\n",
            "torch.Size([10000, 10])\n",
            "f1 score: 0.9174\n",
            "Epoch loss: 0.278194\n",
            "Val loss: 0.288897\n",
            "Epoch 89\n"
          ]
        },
        {
          "output_type": "stream",
          "name": "stderr",
          "text": [
            "<ipython-input-10-e44211bf9fb2>:44: UserWarning: Implicit dimension choice for softmax has been deprecated. Change the call to include dim=X as an argument.\n",
            "  z = fn(h)\n"
          ]
        },
        {
          "output_type": "stream",
          "name": "stdout",
          "text": [
            "torch.Size([10000, 256])\n",
            "torch.Size([10000, 10])\n",
            "f1 score: 0.9171999999999999\n",
            "Epoch loss: 0.278034\n",
            "Val loss: 0.288836\n"
          ]
        },
        {
          "output_type": "stream",
          "name": "stderr",
          "text": [
            "<ipython-input-10-e44211bf9fb2>:44: UserWarning: Implicit dimension choice for softmax has been deprecated. Change the call to include dim=X as an argument.\n",
            "  z = fn(h)\n"
          ]
        },
        {
          "output_type": "display_data",
          "data": {
            "text/plain": [
              "<Figure size 640x480 with 1 Axes>"
            ],
            "image/png": "[encoded data removed]"
          },
          "metadata": {}
        }
      ]
    },
    {
      "cell_type": "code",
      "source": [
        "x_pred=model4.predict(autoencoder3(test_fts)[0])\n",
        "import numpy as np\n",
        "\n",
        "matches = [1 if a == b else 0 for a, b in zip(x_pred, test_labels)]\n",
        "total_matches = sum(matches)\n",
        "\n",
        "print(f\"Accuracy: {total_matches/10000:.4f}%\")"
      ],
      "metadata": {
        "colab": {
          "base_uri": "https://localhost:8080/"
        },
        "id": "oPI-R7M5oJza",
        "outputId": "047acb08-990d-4969-c244-f4ac163c293b"
      },
      "execution_count": 44,
      "outputs": [
        {
          "output_type": "stream",
          "name": "stderr",
          "text": [
            "<ipython-input-10-e44211bf9fb2>:44: UserWarning: Implicit dimension choice for softmax has been deprecated. Change the call to include dim=X as an argument.\n",
            "  z = fn(h)\n"
          ]
        },
        {
          "output_type": "stream",
          "name": "stdout",
          "text": [
            "torch.Size([10000, 256])\n",
            "torch.Size([10000, 10])\n",
            "Accuracy: 0.9190%\n"
          ]
        }
      ]
    },
    {
      "cell_type": "code",
      "source": [
        "from sklearn.linear_model import LogisticRegression\n",
        "from sklearn.metrics import accuracy_score\n",
        "\n",
        "LoR = LogisticRegression(random_state=42)\n",
        "LoR.fit(train_fts, train_labels)\n",
        "\n",
        "y_pred = LoR.predict(test_fts)\n",
        "accuracy = accuracy_score(test_labels, y_pred)\n",
        "print(f\"Accuracy: {accuracy}\")\n"
      ],
      "metadata": {
        "colab": {
          "base_uri": "https://localhost:8080/"
        },
        "id": "rIOmTULIdCFL",
        "outputId": "0ab61773-341c-4f49-f579-6fa465d48a7f"
      },
      "execution_count": 45,
      "outputs": [
        {
          "output_type": "stream",
          "name": "stdout",
          "text": [
            "Accuracy: 0.9256\n"
          ]
        },
        {
          "output_type": "stream",
          "name": "stderr",
          "text": [
            "/usr/local/lib/python3.10/dist-packages/sklearn/linear_model/_logistic.py:458: ConvergenceWarning: lbfgs failed to converge (status=1):\n",
            "STOP: TOTAL NO. of ITERATIONS REACHED LIMIT.\n",
            "\n",
            "Increase the number of iterations (max_iter) or scale the data as shown in:\n",
            "    https://scikit-learn.org/stable/modules/preprocessing.html\n",
            "Please also refer to the documentation for alternative solver options:\n",
            "    https://scikit-learn.org/stable/modules/linear_model.html#logistic-regression\n",
            "  n_iter_i = _check_optimize_result(\n"
          ]
        }
      ]
    },
    {
      "cell_type": "markdown",
      "source": [
        "3."
      ],
      "metadata": {
        "id": "YGkou4b6AR_j"
      }
    },
    {
      "cell_type": "code",
      "source": [
        "def train(model, data_features, data_labels, weight_adjuster,val_features, val_labels,\n",
        "          loss_fn = nn.CrossEntropyLoss(),loss_fn2=nn.BCELoss(),\n",
        "          batch_size=100,\n",
        "          num_epochs=5,\n",
        "          epoch_callback=None):\n",
        "  #loss_fn=nn.BCELoss();\n",
        "  loss_values = []\n",
        "  val_loss_values = []\n",
        "  #data_labels = torch.nn.functional.one_hot(data_labels, num_classes=10).float()\n",
        "  for epoch in range(num_epochs):\n",
        "    print(\"Epoch %d\" % epoch)\n",
        "    epoch_loss = 0.0\n",
        "    batch_start = 0\n",
        "    batch_end = min(batch_size, data_features.shape[0])\n",
        "    num_batches = int(numpy.ceil(data_features.shape[0] / batch_size))\n",
        "    for batch_idx, batch in enumerate(range(num_batches)):\n",
        "      batch = data_features[batch_start:batch_end,:]\n",
        "      weight_adjuster.zero_grad()\n",
        "      #print(batch.shape,\":batch\")\n",
        "      logits = model(batch)\n",
        "\n",
        "      #print(\"logits\",logits.shape,\"logits[0]:\",logits[0].shape)\n",
        "      labels = data_labels[batch_start:batch_end]\n",
        "      import torch.nn.functional as F\n",
        "\n",
        "      labels_one_hot = F.one_hot(labels, num_classes=10)\n",
        "      loss1 = loss_fn2(input=logits[1], target=labels_one_hot.float())\n",
        "      #print(len(logits[0]),\"logits[0]\")\n",
        "      #print(len(logits[1]),\"logits[1]\")\n",
        "      #loss1=loss_fn2(input=logits,target=labels)\n",
        "      #logits_sigmoid = torch.sigmoid(_)\n",
        "      #loss1 = loss_fn2(input=logits_sigmoid, target=data_labels[batch_start:batch_end,:])#labels.float())\n",
        "      loss = loss_fn(input=logits[0],#.float(),\n",
        "                    target=labels)\n",
        "      loss=loss+loss1\n",
        "      #print(\"labels.shape\")\n",
        "      loss.backward()\n",
        "      weight_adjuster.step()\n",
        "\n",
        "      epoch_loss += loss.item()\n",
        "\n",
        "      batch_start = batch_end\n",
        "      batch_end = batch_end+batch_size\n",
        "      batch_end = min(batch_end, data_features.shape[0])\n",
        "\n",
        "    if epoch_callback is not None:\n",
        "      epoch_callback()\n",
        "\n",
        "    epoch_loss /= num_batches # average the epoch loss over all batches\n",
        "    loss_values.append(epoch_loss)\n",
        "    print(\"Epoch loss: %f\" % epoch_loss)\n",
        "\n",
        "    with torch.no_grad():\n",
        "      val_logits = model(val_features)\n",
        "      val_loss = loss_fn(input=val_logits[0], target=val_labels)\n",
        "      val_loss_values.append(val_loss.item())\n",
        "      print(\"Val loss: %f\" % val_loss.item())\n",
        "\n",
        "  # plot the loss values\n",
        "  plt.plot(loss_values,label='train loss')\n",
        "  plt.plot(val_loss_values, label='Val loss')\n",
        "  plt.xlabel('Epoch')\n",
        "  plt.ylabel('Loss')\n",
        "  plt.title('Loss function')\n",
        "  plt.legend()\n",
        "  plt.show()"
      ],
      "metadata": {
        "id": "X32Vs7IqEQ-k"
      },
      "execution_count": 124,
      "outputs": []
    },
    {
      "cell_type": "code",
      "source": [
        "class Autoencoder_3(nn.Module):\n",
        "    def __init__(self, num_input_dims, num_hidden_dims, act_fn=nn.Sigmoid):\n",
        "        super(Autoencoder_3, self).__init__()\n",
        "        self.encoder = nn.Linear(num_input_dims, num_hidden_dims)\n",
        "        self.decoder = nn.Linear(num_hidden_dims, num_input_dims)\n",
        "        self.activation = act_fn()\n",
        "\n",
        "    def forward(self, x):\n",
        "        #x = self.encoder(x)\n",
        "        #x = self.activation(x)\n",
        "        encoded = self.encoder(x)\n",
        "        encoded = self.activation(encoded)\n",
        "        decoded = self.decoder(encoded)\n",
        "        decoded = self.activation(decoded)\n",
        "        return  encoded,decoded"
      ],
      "metadata": {
        "id": "o8hKtmBPXsh4"
      },
      "execution_count": 126,
      "outputs": []
    },
    {
      "cell_type": "code",
      "source": [
        "autoencoder3task = Autoencoder_3(784,256,nn.Tanh)\n",
        "autoencoder_adjuster3 = torch.optim.Adam(autoencoder3task.parameters())\n",
        "\n",
        "with torch.no_grad():\n",
        "    autoencoder_train_fts = autoencoder3task(train_fts)[0]\n",
        "    autoencoder_dev_fts = autoencoder3task(dev_fts)[0]\n",
        "\n",
        "print(autoencoder_train_fts.shape[1],\"au\")\n",
        "\n",
        "model_3 = MyMLP(num_input_dims=autoencoder_train_fts.shape[1], \n",
        "                num_neurons=[],\n",
        "                num_classes=num_labels)\n",
        "\n",
        "weight_adjuster33 = torch.optim.Adam(model_3.parameters(), lr=0.001)\n",
        "'''\n",
        "\n",
        "train1(model_3,autoencoder3task, data_features=train_fts, data_labels=train_labels, \n",
        "       weight_adjuster=weight_adjuster33,\n",
        "       num_epochs=40, batch_size=70, val_features=dev_fts, val_labels=dev_labels,\n",
        "       epoch_callback=predict_callback(actual=dev_labels,\n",
        "                                       input_fts=dev_fts,\n",
        "                                       model=model_3))\n",
        "\n",
        "'''\n",
        "train(model_3, data_features=autoencoder_train_fts, data_labels=train_labels, \n",
        "       weight_adjuster=weight_adjuster33,\n",
        "       num_epochs=80, batch_size=100, val_features=autoencoder_dev_fts, val_labels=dev_labels,\n",
        "       epoch_callback=predict_callback(actual=dev_labels,\n",
        "                                       input_fts=autoencoder_dev_fts,\n",
        "                                       model=model_3))\n"
      ],
      "metadata": {
        "colab": {
          "base_uri": "https://localhost:8080/",
          "height": 1000
        },
        "id": "4oLW0S6PcbE2",
        "outputId": "ad23556d-43cb-4ec5-e45c-0ac2d3af136b"
      },
      "execution_count": 129,
      "outputs": [
        {
          "output_type": "stream",
          "name": "stdout",
          "text": [
            "256 au\n",
            "[256]\n",
            "[10]\n",
            "[10] outs\n",
            "256 :i o: 10\n",
            "Epoch 0\n"
          ]
        },
        {
          "output_type": "stream",
          "name": "stderr",
          "text": [
            "<ipython-input-10-e44211bf9fb2>:44: UserWarning: Implicit dimension choice for softmax has been deprecated. Change the call to include dim=X as an argument.\n",
            "  z = fn(h)\n"
          ]
        },
        {
          "output_type": "stream",
          "name": "stdout",
          "text": [
            "torch.Size([10000, 256])\n",
            "torch.Size([10000, 10])\n",
            "f1 score: 0.8409\n",
            "Epoch loss: 1.370155\n",
            "Val loss: 0.721099\n",
            "Epoch 1\n"
          ]
        },
        {
          "output_type": "stream",
          "name": "stderr",
          "text": [
            "<ipython-input-10-e44211bf9fb2>:44: UserWarning: Implicit dimension choice for softmax has been deprecated. Change the call to include dim=X as an argument.\n",
            "  z = fn(h)\n"
          ]
        },
        {
          "output_type": "stream",
          "name": "stdout",
          "text": [
            "torch.Size([10000, 256])\n",
            "torch.Size([10000, 10])\n",
            "f1 score: 0.8686\n",
            "Epoch loss: 0.716115\n",
            "Val loss: 0.530772\n",
            "Epoch 2\n"
          ]
        },
        {
          "output_type": "stream",
          "name": "stderr",
          "text": [
            "<ipython-input-10-e44211bf9fb2>:44: UserWarning: Implicit dimension choice for softmax has been deprecated. Change the call to include dim=X as an argument.\n",
            "  z = fn(h)\n"
          ]
        },
        {
          "output_type": "stream",
          "name": "stdout",
          "text": [
            "torch.Size([10000, 256])\n",
            "torch.Size([10000, 10])\n",
            "f1 score: 0.8799\n",
            "Epoch loss: 0.579515\n",
            "Val loss: 0.458480\n",
            "Epoch 3\n"
          ]
        },
        {
          "output_type": "stream",
          "name": "stderr",
          "text": [
            "<ipython-input-10-e44211bf9fb2>:44: UserWarning: Implicit dimension choice for softmax has been deprecated. Change the call to include dim=X as an argument.\n",
            "  z = fn(h)\n"
          ]
        },
        {
          "output_type": "stream",
          "name": "stdout",
          "text": [
            "torch.Size([10000, 256])\n",
            "torch.Size([10000, 10])\n",
            "f1 score: 0.8871\n",
            "Epoch loss: 0.517102\n",
            "Val loss: 0.419618\n",
            "Epoch 4\n"
          ]
        },
        {
          "output_type": "stream",
          "name": "stderr",
          "text": [
            "<ipython-input-10-e44211bf9fb2>:44: UserWarning: Implicit dimension choice for softmax has been deprecated. Change the call to include dim=X as an argument.\n",
            "  z = fn(h)\n"
          ]
        },
        {
          "output_type": "stream",
          "name": "stdout",
          "text": [
            "torch.Size([10000, 256])\n",
            "torch.Size([10000, 10])\n",
            "f1 score: 0.8903\n",
            "Epoch loss: 0.480620\n",
            "Val loss: 0.395203\n",
            "Epoch 5\n"
          ]
        },
        {
          "output_type": "stream",
          "name": "stderr",
          "text": [
            "<ipython-input-10-e44211bf9fb2>:44: UserWarning: Implicit dimension choice for softmax has been deprecated. Change the call to include dim=X as an argument.\n",
            "  z = fn(h)\n"
          ]
        },
        {
          "output_type": "stream",
          "name": "stdout",
          "text": [
            "torch.Size([10000, 256])\n",
            "torch.Size([10000, 10])\n",
            "f1 score: 0.8932\n",
            "Epoch loss: 0.456511\n",
            "Val loss: 0.378441\n",
            "Epoch 6\n"
          ]
        },
        {
          "output_type": "stream",
          "name": "stderr",
          "text": [
            "<ipython-input-10-e44211bf9fb2>:44: UserWarning: Implicit dimension choice for softmax has been deprecated. Change the call to include dim=X as an argument.\n",
            "  z = fn(h)\n"
          ]
        },
        {
          "output_type": "stream",
          "name": "stdout",
          "text": [
            "torch.Size([10000, 256])\n",
            "torch.Size([10000, 10])\n",
            "f1 score: 0.8952000000000001\n",
            "Epoch loss: 0.439335\n",
            "Val loss: 0.366245\n",
            "Epoch 7\n"
          ]
        },
        {
          "output_type": "stream",
          "name": "stderr",
          "text": [
            "<ipython-input-10-e44211bf9fb2>:44: UserWarning: Implicit dimension choice for softmax has been deprecated. Change the call to include dim=X as an argument.\n",
            "  z = fn(h)\n"
          ]
        },
        {
          "output_type": "stream",
          "name": "stdout",
          "text": [
            "torch.Size([10000, 256])\n",
            "torch.Size([10000, 10])\n",
            "f1 score: 0.8982\n",
            "Epoch loss: 0.426449\n",
            "Val loss: 0.356994\n",
            "Epoch 8\n"
          ]
        },
        {
          "output_type": "stream",
          "name": "stderr",
          "text": [
            "<ipython-input-10-e44211bf9fb2>:44: UserWarning: Implicit dimension choice for softmax has been deprecated. Change the call to include dim=X as an argument.\n",
            "  z = fn(h)\n"
          ]
        },
        {
          "output_type": "stream",
          "name": "stdout",
          "text": [
            "torch.Size([10000, 256])\n",
            "torch.Size([10000, 10])\n",
            "f1 score: 0.9007\n",
            "Epoch loss: 0.416404\n",
            "Val loss: 0.349747\n",
            "Epoch 9\n"
          ]
        },
        {
          "output_type": "stream",
          "name": "stderr",
          "text": [
            "<ipython-input-10-e44211bf9fb2>:44: UserWarning: Implicit dimension choice for softmax has been deprecated. Change the call to include dim=X as an argument.\n",
            "  z = fn(h)\n"
          ]
        },
        {
          "output_type": "stream",
          "name": "stdout",
          "text": [
            "torch.Size([10000, 256])\n",
            "torch.Size([10000, 10])\n",
            "f1 score: 0.9025\n",
            "Epoch loss: 0.408335\n",
            "Val loss: 0.343922\n",
            "Epoch 10\n"
          ]
        },
        {
          "output_type": "stream",
          "name": "stderr",
          "text": [
            "<ipython-input-10-e44211bf9fb2>:44: UserWarning: Implicit dimension choice for softmax has been deprecated. Change the call to include dim=X as an argument.\n",
            "  z = fn(h)\n"
          ]
        },
        {
          "output_type": "stream",
          "name": "stdout",
          "text": [
            "torch.Size([10000, 256])\n",
            "torch.Size([10000, 10])\n",
            "f1 score: 0.9035\n",
            "Epoch loss: 0.401696\n",
            "Val loss: 0.339139\n",
            "Epoch 11\n"
          ]
        },
        {
          "output_type": "stream",
          "name": "stderr",
          "text": [
            "<ipython-input-10-e44211bf9fb2>:44: UserWarning: Implicit dimension choice for softmax has been deprecated. Change the call to include dim=X as an argument.\n",
            "  z = fn(h)\n"
          ]
        },
        {
          "output_type": "stream",
          "name": "stdout",
          "text": [
            "torch.Size([10000, 256])\n",
            "torch.Size([10000, 10])\n",
            "f1 score: 0.905\n",
            "Epoch loss: 0.396120\n",
            "Val loss: 0.335139\n",
            "Epoch 12\n"
          ]
        },
        {
          "output_type": "stream",
          "name": "stderr",
          "text": [
            "<ipython-input-10-e44211bf9fb2>:44: UserWarning: Implicit dimension choice for softmax has been deprecated. Change the call to include dim=X as an argument.\n",
            "  z = fn(h)\n"
          ]
        },
        {
          "output_type": "stream",
          "name": "stdout",
          "text": [
            "torch.Size([10000, 256])\n",
            "torch.Size([10000, 10])\n",
            "f1 score: 0.9057\n",
            "Epoch loss: 0.391359\n",
            "Val loss: 0.331743\n",
            "Epoch 13\n"
          ]
        },
        {
          "output_type": "stream",
          "name": "stderr",
          "text": [
            "<ipython-input-10-e44211bf9fb2>:44: UserWarning: Implicit dimension choice for softmax has been deprecated. Change the call to include dim=X as an argument.\n",
            "  z = fn(h)\n"
          ]
        },
        {
          "output_type": "stream",
          "name": "stdout",
          "text": [
            "torch.Size([10000, 256])\n",
            "torch.Size([10000, 10])\n",
            "f1 score: 0.9066\n",
            "Epoch loss: 0.387235\n",
            "Val loss: 0.328820\n",
            "Epoch 14\n"
          ]
        },
        {
          "output_type": "stream",
          "name": "stderr",
          "text": [
            "<ipython-input-10-e44211bf9fb2>:44: UserWarning: Implicit dimension choice for softmax has been deprecated. Change the call to include dim=X as an argument.\n",
            "  z = fn(h)\n"
          ]
        },
        {
          "output_type": "stream",
          "name": "stdout",
          "text": [
            "torch.Size([10000, 256])\n",
            "torch.Size([10000, 10])\n",
            "f1 score: 0.907\n",
            "Epoch loss: 0.383617\n",
            "Val loss: 0.326276\n",
            "Epoch 15\n"
          ]
        },
        {
          "output_type": "stream",
          "name": "stderr",
          "text": [
            "<ipython-input-10-e44211bf9fb2>:44: UserWarning: Implicit dimension choice for softmax has been deprecated. Change the call to include dim=X as an argument.\n",
            "  z = fn(h)\n"
          ]
        },
        {
          "output_type": "stream",
          "name": "stdout",
          "text": [
            "torch.Size([10000, 256])\n",
            "torch.Size([10000, 10])\n",
            "f1 score: 0.9074\n",
            "Epoch loss: 0.380409\n",
            "Val loss: 0.324039\n",
            "Epoch 16\n"
          ]
        },
        {
          "output_type": "stream",
          "name": "stderr",
          "text": [
            "<ipython-input-10-e44211bf9fb2>:44: UserWarning: Implicit dimension choice for softmax has been deprecated. Change the call to include dim=X as an argument.\n",
            "  z = fn(h)\n"
          ]
        },
        {
          "output_type": "stream",
          "name": "stdout",
          "text": [
            "torch.Size([10000, 256])\n",
            "torch.Size([10000, 10])\n",
            "f1 score: 0.9076999999999998\n",
            "Epoch loss: 0.377540\n",
            "Val loss: 0.322055\n",
            "Epoch 17\n"
          ]
        },
        {
          "output_type": "stream",
          "name": "stderr",
          "text": [
            "<ipython-input-10-e44211bf9fb2>:44: UserWarning: Implicit dimension choice for softmax has been deprecated. Change the call to include dim=X as an argument.\n",
            "  z = fn(h)\n"
          ]
        },
        {
          "output_type": "stream",
          "name": "stdout",
          "text": [
            "torch.Size([10000, 256])\n",
            "torch.Size([10000, 10])\n",
            "f1 score: 0.9081999999999999\n",
            "Epoch loss: 0.374953\n",
            "Val loss: 0.320283\n",
            "Epoch 18\n"
          ]
        },
        {
          "output_type": "stream",
          "name": "stderr",
          "text": [
            "<ipython-input-10-e44211bf9fb2>:44: UserWarning: Implicit dimension choice for softmax has been deprecated. Change the call to include dim=X as an argument.\n",
            "  z = fn(h)\n"
          ]
        },
        {
          "output_type": "stream",
          "name": "stdout",
          "text": [
            "torch.Size([10000, 256])\n",
            "torch.Size([10000, 10])\n",
            "f1 score: 0.9092\n",
            "Epoch loss: 0.372603\n",
            "Val loss: 0.318687\n",
            "Epoch 19\n"
          ]
        },
        {
          "output_type": "stream",
          "name": "stderr",
          "text": [
            "<ipython-input-10-e44211bf9fb2>:44: UserWarning: Implicit dimension choice for softmax has been deprecated. Change the call to include dim=X as an argument.\n",
            "  z = fn(h)\n"
          ]
        },
        {
          "output_type": "stream",
          "name": "stdout",
          "text": [
            "torch.Size([10000, 256])\n",
            "torch.Size([10000, 10])\n",
            "f1 score: 0.9094\n",
            "Epoch loss: 0.370456\n",
            "Val loss: 0.317243\n",
            "Epoch 20\n"
          ]
        },
        {
          "output_type": "stream",
          "name": "stderr",
          "text": [
            "<ipython-input-10-e44211bf9fb2>:44: UserWarning: Implicit dimension choice for softmax has been deprecated. Change the call to include dim=X as an argument.\n",
            "  z = fn(h)\n"
          ]
        },
        {
          "output_type": "stream",
          "name": "stdout",
          "text": [
            "torch.Size([10000, 256])\n",
            "torch.Size([10000, 10])\n",
            "f1 score: 0.9102000000000001\n",
            "Epoch loss: 0.368483\n",
            "Val loss: 0.315929\n",
            "Epoch 21\n"
          ]
        },
        {
          "output_type": "stream",
          "name": "stderr",
          "text": [
            "<ipython-input-10-e44211bf9fb2>:44: UserWarning: Implicit dimension choice for softmax has been deprecated. Change the call to include dim=X as an argument.\n",
            "  z = fn(h)\n"
          ]
        },
        {
          "output_type": "stream",
          "name": "stdout",
          "text": [
            "torch.Size([10000, 256])\n",
            "torch.Size([10000, 10])\n",
            "f1 score: 0.9113\n",
            "Epoch loss: 0.366662\n",
            "Val loss: 0.314728\n",
            "Epoch 22\n"
          ]
        },
        {
          "output_type": "stream",
          "name": "stderr",
          "text": [
            "<ipython-input-10-e44211bf9fb2>:44: UserWarning: Implicit dimension choice for softmax has been deprecated. Change the call to include dim=X as an argument.\n",
            "  z = fn(h)\n"
          ]
        },
        {
          "output_type": "stream",
          "name": "stdout",
          "text": [
            "torch.Size([10000, 256])\n",
            "torch.Size([10000, 10])\n",
            "f1 score: 0.9118\n",
            "Epoch loss: 0.364973\n",
            "Val loss: 0.313624\n",
            "Epoch 23\n"
          ]
        },
        {
          "output_type": "stream",
          "name": "stderr",
          "text": [
            "<ipython-input-10-e44211bf9fb2>:44: UserWarning: Implicit dimension choice for softmax has been deprecated. Change the call to include dim=X as an argument.\n",
            "  z = fn(h)\n"
          ]
        },
        {
          "output_type": "stream",
          "name": "stdout",
          "text": [
            "torch.Size([10000, 256])\n",
            "torch.Size([10000, 10])\n",
            "f1 score: 0.9123\n",
            "Epoch loss: 0.363401\n",
            "Val loss: 0.312607\n",
            "Epoch 24\n"
          ]
        },
        {
          "output_type": "stream",
          "name": "stderr",
          "text": [
            "<ipython-input-10-e44211bf9fb2>:44: UserWarning: Implicit dimension choice for softmax has been deprecated. Change the call to include dim=X as an argument.\n",
            "  z = fn(h)\n"
          ]
        },
        {
          "output_type": "stream",
          "name": "stdout",
          "text": [
            "torch.Size([10000, 256])\n",
            "torch.Size([10000, 10])\n",
            "f1 score: 0.9125\n",
            "Epoch loss: 0.361933\n",
            "Val loss: 0.311666\n",
            "Epoch 25\n"
          ]
        },
        {
          "output_type": "stream",
          "name": "stderr",
          "text": [
            "<ipython-input-10-e44211bf9fb2>:44: UserWarning: Implicit dimension choice for softmax has been deprecated. Change the call to include dim=X as an argument.\n",
            "  z = fn(h)\n"
          ]
        },
        {
          "output_type": "stream",
          "name": "stdout",
          "text": [
            "torch.Size([10000, 256])\n",
            "torch.Size([10000, 10])\n",
            "f1 score: 0.9127\n",
            "Epoch loss: 0.360557\n",
            "Val loss: 0.310792\n",
            "Epoch 26\n"
          ]
        },
        {
          "output_type": "stream",
          "name": "stderr",
          "text": [
            "<ipython-input-10-e44211bf9fb2>:44: UserWarning: Implicit dimension choice for softmax has been deprecated. Change the call to include dim=X as an argument.\n",
            "  z = fn(h)\n"
          ]
        },
        {
          "output_type": "stream",
          "name": "stdout",
          "text": [
            "torch.Size([10000, 256])\n",
            "torch.Size([10000, 10])\n",
            "f1 score: 0.9127\n",
            "Epoch loss: 0.359264\n",
            "Val loss: 0.309979\n",
            "Epoch 27\n"
          ]
        },
        {
          "output_type": "stream",
          "name": "stderr",
          "text": [
            "<ipython-input-10-e44211bf9fb2>:44: UserWarning: Implicit dimension choice for softmax has been deprecated. Change the call to include dim=X as an argument.\n",
            "  z = fn(h)\n"
          ]
        },
        {
          "output_type": "stream",
          "name": "stdout",
          "text": [
            "torch.Size([10000, 256])\n",
            "torch.Size([10000, 10])\n",
            "f1 score: 0.9131\n",
            "Epoch loss: 0.358045\n",
            "Val loss: 0.309220\n",
            "Epoch 28\n"
          ]
        },
        {
          "output_type": "stream",
          "name": "stderr",
          "text": [
            "<ipython-input-10-e44211bf9fb2>:44: UserWarning: Implicit dimension choice for softmax has been deprecated. Change the call to include dim=X as an argument.\n",
            "  z = fn(h)\n"
          ]
        },
        {
          "output_type": "stream",
          "name": "stdout",
          "text": [
            "torch.Size([10000, 256])\n",
            "torch.Size([10000, 10])\n",
            "f1 score: 0.9134\n",
            "Epoch loss: 0.356894\n",
            "Val loss: 0.308509\n",
            "Epoch 29\n"
          ]
        },
        {
          "output_type": "stream",
          "name": "stderr",
          "text": [
            "<ipython-input-10-e44211bf9fb2>:44: UserWarning: Implicit dimension choice for softmax has been deprecated. Change the call to include dim=X as an argument.\n",
            "  z = fn(h)\n"
          ]
        },
        {
          "output_type": "stream",
          "name": "stdout",
          "text": [
            "torch.Size([10000, 256])\n",
            "torch.Size([10000, 10])\n",
            "f1 score: 0.9138\n",
            "Epoch loss: 0.355804\n",
            "Val loss: 0.307842\n",
            "Epoch 30\n"
          ]
        },
        {
          "output_type": "stream",
          "name": "stderr",
          "text": [
            "<ipython-input-10-e44211bf9fb2>:44: UserWarning: Implicit dimension choice for softmax has been deprecated. Change the call to include dim=X as an argument.\n",
            "  z = fn(h)\n"
          ]
        },
        {
          "output_type": "stream",
          "name": "stdout",
          "text": [
            "torch.Size([10000, 256])\n",
            "torch.Size([10000, 10])\n",
            "f1 score: 0.9141\n",
            "Epoch loss: 0.354769\n",
            "Val loss: 0.307216\n",
            "Epoch 31\n"
          ]
        },
        {
          "output_type": "stream",
          "name": "stderr",
          "text": [
            "<ipython-input-10-e44211bf9fb2>:44: UserWarning: Implicit dimension choice for softmax has been deprecated. Change the call to include dim=X as an argument.\n",
            "  z = fn(h)\n"
          ]
        },
        {
          "output_type": "stream",
          "name": "stdout",
          "text": [
            "torch.Size([10000, 256])\n",
            "torch.Size([10000, 10])\n",
            "f1 score: 0.9139\n",
            "Epoch loss: 0.353786\n",
            "Val loss: 0.306625\n",
            "Epoch 32\n"
          ]
        },
        {
          "output_type": "stream",
          "name": "stderr",
          "text": [
            "<ipython-input-10-e44211bf9fb2>:44: UserWarning: Implicit dimension choice for softmax has been deprecated. Change the call to include dim=X as an argument.\n",
            "  z = fn(h)\n"
          ]
        },
        {
          "output_type": "stream",
          "name": "stdout",
          "text": [
            "torch.Size([10000, 256])\n",
            "torch.Size([10000, 10])\n",
            "f1 score: 0.9141\n",
            "Epoch loss: 0.352850\n",
            "Val loss: 0.306067\n",
            "Epoch 33\n"
          ]
        },
        {
          "output_type": "stream",
          "name": "stderr",
          "text": [
            "<ipython-input-10-e44211bf9fb2>:44: UserWarning: Implicit dimension choice for softmax has been deprecated. Change the call to include dim=X as an argument.\n",
            "  z = fn(h)\n"
          ]
        },
        {
          "output_type": "stream",
          "name": "stdout",
          "text": [
            "torch.Size([10000, 256])\n",
            "torch.Size([10000, 10])\n",
            "f1 score: 0.9141\n",
            "Epoch loss: 0.351957\n",
            "Val loss: 0.305540\n",
            "Epoch 34\n"
          ]
        },
        {
          "output_type": "stream",
          "name": "stderr",
          "text": [
            "<ipython-input-10-e44211bf9fb2>:44: UserWarning: Implicit dimension choice for softmax has been deprecated. Change the call to include dim=X as an argument.\n",
            "  z = fn(h)\n"
          ]
        },
        {
          "output_type": "stream",
          "name": "stdout",
          "text": [
            "torch.Size([10000, 256])\n",
            "torch.Size([10000, 10])\n",
            "f1 score: 0.9143\n",
            "Epoch loss: 0.351104\n",
            "Val loss: 0.305041\n",
            "Epoch 35\n"
          ]
        },
        {
          "output_type": "stream",
          "name": "stderr",
          "text": [
            "<ipython-input-10-e44211bf9fb2>:44: UserWarning: Implicit dimension choice for softmax has been deprecated. Change the call to include dim=X as an argument.\n",
            "  z = fn(h)\n"
          ]
        },
        {
          "output_type": "stream",
          "name": "stdout",
          "text": [
            "torch.Size([10000, 256])\n",
            "torch.Size([10000, 10])\n",
            "f1 score: 0.9143\n",
            "Epoch loss: 0.350288\n",
            "Val loss: 0.304567\n",
            "Epoch 36\n"
          ]
        },
        {
          "output_type": "stream",
          "name": "stderr",
          "text": [
            "<ipython-input-10-e44211bf9fb2>:44: UserWarning: Implicit dimension choice for softmax has been deprecated. Change the call to include dim=X as an argument.\n",
            "  z = fn(h)\n"
          ]
        },
        {
          "output_type": "stream",
          "name": "stdout",
          "text": [
            "torch.Size([10000, 256])\n",
            "torch.Size([10000, 10])\n",
            "f1 score: 0.914\n",
            "Epoch loss: 0.349506\n",
            "Val loss: 0.304117\n",
            "Epoch 37\n"
          ]
        },
        {
          "output_type": "stream",
          "name": "stderr",
          "text": [
            "<ipython-input-10-e44211bf9fb2>:44: UserWarning: Implicit dimension choice for softmax has been deprecated. Change the call to include dim=X as an argument.\n",
            "  z = fn(h)\n"
          ]
        },
        {
          "output_type": "stream",
          "name": "stdout",
          "text": [
            "torch.Size([10000, 256])\n",
            "torch.Size([10000, 10])\n",
            "f1 score: 0.914\n",
            "Epoch loss: 0.348755\n",
            "Val loss: 0.303688\n",
            "Epoch 38\n"
          ]
        },
        {
          "output_type": "stream",
          "name": "stderr",
          "text": [
            "<ipython-input-10-e44211bf9fb2>:44: UserWarning: Implicit dimension choice for softmax has been deprecated. Change the call to include dim=X as an argument.\n",
            "  z = fn(h)\n"
          ]
        },
        {
          "output_type": "stream",
          "name": "stdout",
          "text": [
            "torch.Size([10000, 256])\n",
            "torch.Size([10000, 10])\n",
            "f1 score: 0.9141\n",
            "Epoch loss: 0.348035\n",
            "Val loss: 0.303280\n",
            "Epoch 39\n"
          ]
        },
        {
          "output_type": "stream",
          "name": "stderr",
          "text": [
            "<ipython-input-10-e44211bf9fb2>:44: UserWarning: Implicit dimension choice for softmax has been deprecated. Change the call to include dim=X as an argument.\n",
            "  z = fn(h)\n"
          ]
        },
        {
          "output_type": "stream",
          "name": "stdout",
          "text": [
            "torch.Size([10000, 256])\n",
            "torch.Size([10000, 10])\n",
            "f1 score: 0.9141\n",
            "Epoch loss: 0.347342\n",
            "Val loss: 0.302891\n",
            "Epoch 40\n"
          ]
        },
        {
          "output_type": "stream",
          "name": "stderr",
          "text": [
            "<ipython-input-10-e44211bf9fb2>:44: UserWarning: Implicit dimension choice for softmax has been deprecated. Change the call to include dim=X as an argument.\n",
            "  z = fn(h)\n"
          ]
        },
        {
          "output_type": "stream",
          "name": "stdout",
          "text": [
            "torch.Size([10000, 256])\n",
            "torch.Size([10000, 10])\n",
            "f1 score: 0.9146\n",
            "Epoch loss: 0.346674\n",
            "Val loss: 0.302519\n",
            "Epoch 41\n"
          ]
        },
        {
          "output_type": "stream",
          "name": "stderr",
          "text": [
            "<ipython-input-10-e44211bf9fb2>:44: UserWarning: Implicit dimension choice for softmax has been deprecated. Change the call to include dim=X as an argument.\n",
            "  z = fn(h)\n"
          ]
        },
        {
          "output_type": "stream",
          "name": "stdout",
          "text": [
            "torch.Size([10000, 256])\n",
            "torch.Size([10000, 10])\n",
            "f1 score: 0.9146\n",
            "Epoch loss: 0.346032\n",
            "Val loss: 0.302164\n",
            "Epoch 42\n"
          ]
        },
        {
          "output_type": "stream",
          "name": "stderr",
          "text": [
            "<ipython-input-10-e44211bf9fb2>:44: UserWarning: Implicit dimension choice for softmax has been deprecated. Change the call to include dim=X as an argument.\n",
            "  z = fn(h)\n"
          ]
        },
        {
          "output_type": "stream",
          "name": "stdout",
          "text": [
            "torch.Size([10000, 256])\n",
            "torch.Size([10000, 10])\n",
            "f1 score: 0.9145\n",
            "Epoch loss: 0.345412\n",
            "Val loss: 0.301823\n",
            "Epoch 43\n"
          ]
        },
        {
          "output_type": "stream",
          "name": "stderr",
          "text": [
            "<ipython-input-10-e44211bf9fb2>:44: UserWarning: Implicit dimension choice for softmax has been deprecated. Change the call to include dim=X as an argument.\n",
            "  z = fn(h)\n"
          ]
        },
        {
          "output_type": "stream",
          "name": "stdout",
          "text": [
            "torch.Size([10000, 256])\n",
            "torch.Size([10000, 10])\n",
            "f1 score: 0.9145\n",
            "Epoch loss: 0.344813\n",
            "Val loss: 0.301497\n",
            "Epoch 44\n"
          ]
        },
        {
          "output_type": "stream",
          "name": "stderr",
          "text": [
            "<ipython-input-10-e44211bf9fb2>:44: UserWarning: Implicit dimension choice for softmax has been deprecated. Change the call to include dim=X as an argument.\n",
            "  z = fn(h)\n"
          ]
        },
        {
          "output_type": "stream",
          "name": "stdout",
          "text": [
            "torch.Size([10000, 256])\n",
            "torch.Size([10000, 10])\n",
            "f1 score: 0.9145\n",
            "Epoch loss: 0.344234\n",
            "Val loss: 0.301184\n",
            "Epoch 45\n"
          ]
        },
        {
          "output_type": "stream",
          "name": "stderr",
          "text": [
            "<ipython-input-10-e44211bf9fb2>:44: UserWarning: Implicit dimension choice for softmax has been deprecated. Change the call to include dim=X as an argument.\n",
            "  z = fn(h)\n"
          ]
        },
        {
          "output_type": "stream",
          "name": "stdout",
          "text": [
            "torch.Size([10000, 256])\n",
            "torch.Size([10000, 10])\n",
            "f1 score: 0.9146\n",
            "Epoch loss: 0.343675\n",
            "Val loss: 0.300884\n",
            "Epoch 46\n"
          ]
        },
        {
          "output_type": "stream",
          "name": "stderr",
          "text": [
            "<ipython-input-10-e44211bf9fb2>:44: UserWarning: Implicit dimension choice for softmax has been deprecated. Change the call to include dim=X as an argument.\n",
            "  z = fn(h)\n"
          ]
        },
        {
          "output_type": "stream",
          "name": "stdout",
          "text": [
            "torch.Size([10000, 256])\n",
            "torch.Size([10000, 10])\n",
            "f1 score: 0.9147\n",
            "Epoch loss: 0.343133\n",
            "Val loss: 0.300595\n",
            "Epoch 47\n"
          ]
        },
        {
          "output_type": "stream",
          "name": "stderr",
          "text": [
            "<ipython-input-10-e44211bf9fb2>:44: UserWarning: Implicit dimension choice for softmax has been deprecated. Change the call to include dim=X as an argument.\n",
            "  z = fn(h)\n"
          ]
        },
        {
          "output_type": "stream",
          "name": "stdout",
          "text": [
            "torch.Size([10000, 256])\n",
            "torch.Size([10000, 10])\n",
            "f1 score: 0.9149\n",
            "Epoch loss: 0.342609\n",
            "Val loss: 0.300318\n",
            "Epoch 48\n"
          ]
        },
        {
          "output_type": "stream",
          "name": "stderr",
          "text": [
            "<ipython-input-10-e44211bf9fb2>:44: UserWarning: Implicit dimension choice for softmax has been deprecated. Change the call to include dim=X as an argument.\n",
            "  z = fn(h)\n"
          ]
        },
        {
          "output_type": "stream",
          "name": "stdout",
          "text": [
            "torch.Size([10000, 256])\n",
            "torch.Size([10000, 10])\n",
            "f1 score: 0.9154\n",
            "Epoch loss: 0.342100\n",
            "Val loss: 0.300051\n",
            "Epoch 49\n"
          ]
        },
        {
          "output_type": "stream",
          "name": "stderr",
          "text": [
            "<ipython-input-10-e44211bf9fb2>:44: UserWarning: Implicit dimension choice for softmax has been deprecated. Change the call to include dim=X as an argument.\n",
            "  z = fn(h)\n"
          ]
        },
        {
          "output_type": "stream",
          "name": "stdout",
          "text": [
            "torch.Size([10000, 256])\n",
            "torch.Size([10000, 10])\n",
            "f1 score: 0.9153\n",
            "Epoch loss: 0.341607\n",
            "Val loss: 0.299794\n",
            "Epoch 50\n"
          ]
        },
        {
          "output_type": "stream",
          "name": "stderr",
          "text": [
            "<ipython-input-10-e44211bf9fb2>:44: UserWarning: Implicit dimension choice for softmax has been deprecated. Change the call to include dim=X as an argument.\n",
            "  z = fn(h)\n"
          ]
        },
        {
          "output_type": "stream",
          "name": "stdout",
          "text": [
            "torch.Size([10000, 256])\n",
            "torch.Size([10000, 10])\n",
            "f1 score: 0.9153\n",
            "Epoch loss: 0.341128\n",
            "Val loss: 0.299546\n",
            "Epoch 51\n"
          ]
        },
        {
          "output_type": "stream",
          "name": "stderr",
          "text": [
            "<ipython-input-10-e44211bf9fb2>:44: UserWarning: Implicit dimension choice for softmax has been deprecated. Change the call to include dim=X as an argument.\n",
            "  z = fn(h)\n"
          ]
        },
        {
          "output_type": "stream",
          "name": "stdout",
          "text": [
            "torch.Size([10000, 256])\n",
            "torch.Size([10000, 10])\n",
            "f1 score: 0.9154\n",
            "Epoch loss: 0.340663\n",
            "Val loss: 0.299306\n",
            "Epoch 52\n"
          ]
        },
        {
          "output_type": "stream",
          "name": "stderr",
          "text": [
            "<ipython-input-10-e44211bf9fb2>:44: UserWarning: Implicit dimension choice for softmax has been deprecated. Change the call to include dim=X as an argument.\n",
            "  z = fn(h)\n"
          ]
        },
        {
          "output_type": "stream",
          "name": "stdout",
          "text": [
            "torch.Size([10000, 256])\n",
            "torch.Size([10000, 10])\n",
            "f1 score: 0.9154\n",
            "Epoch loss: 0.340211\n",
            "Val loss: 0.299076\n",
            "Epoch 53\n"
          ]
        },
        {
          "output_type": "stream",
          "name": "stderr",
          "text": [
            "<ipython-input-10-e44211bf9fb2>:44: UserWarning: Implicit dimension choice for softmax has been deprecated. Change the call to include dim=X as an argument.\n",
            "  z = fn(h)\n"
          ]
        },
        {
          "output_type": "stream",
          "name": "stdout",
          "text": [
            "torch.Size([10000, 256])\n",
            "torch.Size([10000, 10])\n",
            "f1 score: 0.9154\n",
            "Epoch loss: 0.339772\n",
            "Val loss: 0.298853\n",
            "Epoch 54\n"
          ]
        },
        {
          "output_type": "stream",
          "name": "stderr",
          "text": [
            "<ipython-input-10-e44211bf9fb2>:44: UserWarning: Implicit dimension choice for softmax has been deprecated. Change the call to include dim=X as an argument.\n",
            "  z = fn(h)\n"
          ]
        },
        {
          "output_type": "stream",
          "name": "stdout",
          "text": [
            "torch.Size([10000, 256])\n",
            "torch.Size([10000, 10])\n",
            "f1 score: 0.9154\n",
            "Epoch loss: 0.339344\n",
            "Val loss: 0.298637\n",
            "Epoch 55\n"
          ]
        },
        {
          "output_type": "stream",
          "name": "stderr",
          "text": [
            "<ipython-input-10-e44211bf9fb2>:44: UserWarning: Implicit dimension choice for softmax has been deprecated. Change the call to include dim=X as an argument.\n",
            "  z = fn(h)\n"
          ]
        },
        {
          "output_type": "stream",
          "name": "stdout",
          "text": [
            "torch.Size([10000, 256])\n",
            "torch.Size([10000, 10])\n",
            "f1 score: 0.9156\n",
            "Epoch loss: 0.338928\n",
            "Val loss: 0.298429\n",
            "Epoch 56\n"
          ]
        },
        {
          "output_type": "stream",
          "name": "stderr",
          "text": [
            "<ipython-input-10-e44211bf9fb2>:44: UserWarning: Implicit dimension choice for softmax has been deprecated. Change the call to include dim=X as an argument.\n",
            "  z = fn(h)\n"
          ]
        },
        {
          "output_type": "stream",
          "name": "stdout",
          "text": [
            "torch.Size([10000, 256])\n",
            "torch.Size([10000, 10])\n",
            "f1 score: 0.9156\n",
            "Epoch loss: 0.338522\n",
            "Val loss: 0.298227\n",
            "Epoch 57\n"
          ]
        },
        {
          "output_type": "stream",
          "name": "stderr",
          "text": [
            "<ipython-input-10-e44211bf9fb2>:44: UserWarning: Implicit dimension choice for softmax has been deprecated. Change the call to include dim=X as an argument.\n",
            "  z = fn(h)\n"
          ]
        },
        {
          "output_type": "stream",
          "name": "stdout",
          "text": [
            "torch.Size([10000, 256])\n",
            "torch.Size([10000, 10])\n",
            "f1 score: 0.9158\n",
            "Epoch loss: 0.338127\n",
            "Val loss: 0.298032\n",
            "Epoch 58\n"
          ]
        },
        {
          "output_type": "stream",
          "name": "stderr",
          "text": [
            "<ipython-input-10-e44211bf9fb2>:44: UserWarning: Implicit dimension choice for softmax has been deprecated. Change the call to include dim=X as an argument.\n",
            "  z = fn(h)\n"
          ]
        },
        {
          "output_type": "stream",
          "name": "stdout",
          "text": [
            "torch.Size([10000, 256])\n",
            "torch.Size([10000, 10])\n",
            "f1 score: 0.9158\n",
            "Epoch loss: 0.337742\n",
            "Val loss: 0.297843\n",
            "Epoch 59\n"
          ]
        },
        {
          "output_type": "stream",
          "name": "stderr",
          "text": [
            "<ipython-input-10-e44211bf9fb2>:44: UserWarning: Implicit dimension choice for softmax has been deprecated. Change the call to include dim=X as an argument.\n",
            "  z = fn(h)\n"
          ]
        },
        {
          "output_type": "stream",
          "name": "stdout",
          "text": [
            "torch.Size([10000, 256])\n",
            "torch.Size([10000, 10])\n",
            "f1 score: 0.9156\n",
            "Epoch loss: 0.337366\n",
            "Val loss: 0.297660\n",
            "Epoch 60\n"
          ]
        },
        {
          "output_type": "stream",
          "name": "stderr",
          "text": [
            "<ipython-input-10-e44211bf9fb2>:44: UserWarning: Implicit dimension choice for softmax has been deprecated. Change the call to include dim=X as an argument.\n",
            "  z = fn(h)\n"
          ]
        },
        {
          "output_type": "stream",
          "name": "stdout",
          "text": [
            "torch.Size([10000, 256])\n",
            "torch.Size([10000, 10])\n",
            "f1 score: 0.9158\n",
            "Epoch loss: 0.336999\n",
            "Val loss: 0.297483\n",
            "Epoch 61\n"
          ]
        },
        {
          "output_type": "stream",
          "name": "stderr",
          "text": [
            "<ipython-input-10-e44211bf9fb2>:44: UserWarning: Implicit dimension choice for softmax has been deprecated. Change the call to include dim=X as an argument.\n",
            "  z = fn(h)\n"
          ]
        },
        {
          "output_type": "stream",
          "name": "stdout",
          "text": [
            "torch.Size([10000, 256])\n",
            "torch.Size([10000, 10])\n",
            "f1 score: 0.9163\n",
            "Epoch loss: 0.336641\n",
            "Val loss: 0.297310\n",
            "Epoch 62\n"
          ]
        },
        {
          "output_type": "stream",
          "name": "stderr",
          "text": [
            "<ipython-input-10-e44211bf9fb2>:44: UserWarning: Implicit dimension choice for softmax has been deprecated. Change the call to include dim=X as an argument.\n",
            "  z = fn(h)\n"
          ]
        },
        {
          "output_type": "stream",
          "name": "stdout",
          "text": [
            "torch.Size([10000, 256])\n",
            "torch.Size([10000, 10])\n",
            "f1 score: 0.9162\n",
            "Epoch loss: 0.336292\n",
            "Val loss: 0.297143\n",
            "Epoch 63\n"
          ]
        },
        {
          "output_type": "stream",
          "name": "stderr",
          "text": [
            "<ipython-input-10-e44211bf9fb2>:44: UserWarning: Implicit dimension choice for softmax has been deprecated. Change the call to include dim=X as an argument.\n",
            "  z = fn(h)\n"
          ]
        },
        {
          "output_type": "stream",
          "name": "stdout",
          "text": [
            "torch.Size([10000, 256])\n",
            "torch.Size([10000, 10])\n",
            "f1 score: 0.9161\n",
            "Epoch loss: 0.335950\n",
            "Val loss: 0.296981\n",
            "Epoch 64\n"
          ]
        },
        {
          "output_type": "stream",
          "name": "stderr",
          "text": [
            "<ipython-input-10-e44211bf9fb2>:44: UserWarning: Implicit dimension choice for softmax has been deprecated. Change the call to include dim=X as an argument.\n",
            "  z = fn(h)\n"
          ]
        },
        {
          "output_type": "stream",
          "name": "stdout",
          "text": [
            "torch.Size([10000, 256])\n",
            "torch.Size([10000, 10])\n",
            "f1 score: 0.9161\n",
            "Epoch loss: 0.335616\n",
            "Val loss: 0.296823\n",
            "Epoch 65\n"
          ]
        },
        {
          "output_type": "stream",
          "name": "stderr",
          "text": [
            "<ipython-input-10-e44211bf9fb2>:44: UserWarning: Implicit dimension choice for softmax has been deprecated. Change the call to include dim=X as an argument.\n",
            "  z = fn(h)\n"
          ]
        },
        {
          "output_type": "stream",
          "name": "stdout",
          "text": [
            "torch.Size([10000, 256])\n",
            "torch.Size([10000, 10])\n",
            "f1 score: 0.9162\n",
            "Epoch loss: 0.335289\n",
            "Val loss: 0.296670\n",
            "Epoch 66\n"
          ]
        },
        {
          "output_type": "stream",
          "name": "stderr",
          "text": [
            "<ipython-input-10-e44211bf9fb2>:44: UserWarning: Implicit dimension choice for softmax has been deprecated. Change the call to include dim=X as an argument.\n",
            "  z = fn(h)\n"
          ]
        },
        {
          "output_type": "stream",
          "name": "stdout",
          "text": [
            "torch.Size([10000, 256])\n",
            "torch.Size([10000, 10])\n",
            "f1 score: 0.9163\n",
            "Epoch loss: 0.334970\n",
            "Val loss: 0.296522\n",
            "Epoch 67\n"
          ]
        },
        {
          "output_type": "stream",
          "name": "stderr",
          "text": [
            "<ipython-input-10-e44211bf9fb2>:44: UserWarning: Implicit dimension choice for softmax has been deprecated. Change the call to include dim=X as an argument.\n",
            "  z = fn(h)\n"
          ]
        },
        {
          "output_type": "stream",
          "name": "stdout",
          "text": [
            "torch.Size([10000, 256])\n",
            "torch.Size([10000, 10])\n",
            "f1 score: 0.9165\n",
            "Epoch loss: 0.334657\n",
            "Val loss: 0.296377\n",
            "Epoch 68\n"
          ]
        },
        {
          "output_type": "stream",
          "name": "stderr",
          "text": [
            "<ipython-input-10-e44211bf9fb2>:44: UserWarning: Implicit dimension choice for softmax has been deprecated. Change the call to include dim=X as an argument.\n",
            "  z = fn(h)\n"
          ]
        },
        {
          "output_type": "stream",
          "name": "stdout",
          "text": [
            "torch.Size([10000, 256])\n",
            "torch.Size([10000, 10])\n",
            "f1 score: 0.9166\n",
            "Epoch loss: 0.334352\n",
            "Val loss: 0.296236\n",
            "Epoch 69\n"
          ]
        },
        {
          "output_type": "stream",
          "name": "stderr",
          "text": [
            "<ipython-input-10-e44211bf9fb2>:44: UserWarning: Implicit dimension choice for softmax has been deprecated. Change the call to include dim=X as an argument.\n",
            "  z = fn(h)\n"
          ]
        },
        {
          "output_type": "stream",
          "name": "stdout",
          "text": [
            "torch.Size([10000, 256])\n",
            "torch.Size([10000, 10])\n",
            "f1 score: 0.9165\n",
            "Epoch loss: 0.334052\n",
            "Val loss: 0.296099\n",
            "Epoch 70\n"
          ]
        },
        {
          "output_type": "stream",
          "name": "stderr",
          "text": [
            "<ipython-input-10-e44211bf9fb2>:44: UserWarning: Implicit dimension choice for softmax has been deprecated. Change the call to include dim=X as an argument.\n",
            "  z = fn(h)\n"
          ]
        },
        {
          "output_type": "stream",
          "name": "stdout",
          "text": [
            "torch.Size([10000, 256])\n",
            "torch.Size([10000, 10])\n",
            "f1 score: 0.9163\n",
            "Epoch loss: 0.333759\n",
            "Val loss: 0.295966\n",
            "Epoch 71\n"
          ]
        },
        {
          "output_type": "stream",
          "name": "stderr",
          "text": [
            "<ipython-input-10-e44211bf9fb2>:44: UserWarning: Implicit dimension choice for softmax has been deprecated. Change the call to include dim=X as an argument.\n",
            "  z = fn(h)\n"
          ]
        },
        {
          "output_type": "stream",
          "name": "stdout",
          "text": [
            "torch.Size([10000, 256])\n",
            "torch.Size([10000, 10])\n",
            "f1 score: 0.9162\n",
            "Epoch loss: 0.333471\n",
            "Val loss: 0.295836\n",
            "Epoch 72\n"
          ]
        },
        {
          "output_type": "stream",
          "name": "stderr",
          "text": [
            "<ipython-input-10-e44211bf9fb2>:44: UserWarning: Implicit dimension choice for softmax has been deprecated. Change the call to include dim=X as an argument.\n",
            "  z = fn(h)\n"
          ]
        },
        {
          "output_type": "stream",
          "name": "stdout",
          "text": [
            "torch.Size([10000, 256])\n",
            "torch.Size([10000, 10])\n",
            "f1 score: 0.9161\n",
            "Epoch loss: 0.333189\n",
            "Val loss: 0.295710\n",
            "Epoch 73\n"
          ]
        },
        {
          "output_type": "stream",
          "name": "stderr",
          "text": [
            "<ipython-input-10-e44211bf9fb2>:44: UserWarning: Implicit dimension choice for softmax has been deprecated. Change the call to include dim=X as an argument.\n",
            "  z = fn(h)\n"
          ]
        },
        {
          "output_type": "stream",
          "name": "stdout",
          "text": [
            "torch.Size([10000, 256])\n",
            "torch.Size([10000, 10])\n",
            "f1 score: 0.9161\n",
            "Epoch loss: 0.332913\n",
            "Val loss: 0.295587\n",
            "Epoch 74\n"
          ]
        },
        {
          "output_type": "stream",
          "name": "stderr",
          "text": [
            "<ipython-input-10-e44211bf9fb2>:44: UserWarning: Implicit dimension choice for softmax has been deprecated. Change the call to include dim=X as an argument.\n",
            "  z = fn(h)\n"
          ]
        },
        {
          "output_type": "stream",
          "name": "stdout",
          "text": [
            "torch.Size([10000, 256])\n",
            "torch.Size([10000, 10])\n",
            "f1 score: 0.9161\n",
            "Epoch loss: 0.332642\n",
            "Val loss: 0.295467\n",
            "Epoch 75\n"
          ]
        },
        {
          "output_type": "stream",
          "name": "stderr",
          "text": [
            "<ipython-input-10-e44211bf9fb2>:44: UserWarning: Implicit dimension choice for softmax has been deprecated. Change the call to include dim=X as an argument.\n",
            "  z = fn(h)\n"
          ]
        },
        {
          "output_type": "stream",
          "name": "stdout",
          "text": [
            "torch.Size([10000, 256])\n",
            "torch.Size([10000, 10])\n",
            "f1 score: 0.9162\n",
            "Epoch loss: 0.332376\n",
            "Val loss: 0.295350\n",
            "Epoch 76\n"
          ]
        },
        {
          "output_type": "stream",
          "name": "stderr",
          "text": [
            "<ipython-input-10-e44211bf9fb2>:44: UserWarning: Implicit dimension choice for softmax has been deprecated. Change the call to include dim=X as an argument.\n",
            "  z = fn(h)\n"
          ]
        },
        {
          "output_type": "stream",
          "name": "stdout",
          "text": [
            "torch.Size([10000, 256])\n",
            "torch.Size([10000, 10])\n",
            "f1 score: 0.9162\n",
            "Epoch loss: 0.332116\n",
            "Val loss: 0.295236\n",
            "Epoch 77\n"
          ]
        },
        {
          "output_type": "stream",
          "name": "stderr",
          "text": [
            "<ipython-input-10-e44211bf9fb2>:44: UserWarning: Implicit dimension choice for softmax has been deprecated. Change the call to include dim=X as an argument.\n",
            "  z = fn(h)\n"
          ]
        },
        {
          "output_type": "stream",
          "name": "stdout",
          "text": [
            "torch.Size([10000, 256])\n",
            "torch.Size([10000, 10])\n",
            "f1 score: 0.9162\n",
            "Epoch loss: 0.331860\n",
            "Val loss: 0.295125\n",
            "Epoch 78\n"
          ]
        },
        {
          "output_type": "stream",
          "name": "stderr",
          "text": [
            "<ipython-input-10-e44211bf9fb2>:44: UserWarning: Implicit dimension choice for softmax has been deprecated. Change the call to include dim=X as an argument.\n",
            "  z = fn(h)\n"
          ]
        },
        {
          "output_type": "stream",
          "name": "stdout",
          "text": [
            "torch.Size([10000, 256])\n",
            "torch.Size([10000, 10])\n",
            "f1 score: 0.9163\n",
            "Epoch loss: 0.331609\n",
            "Val loss: 0.295016\n",
            "Epoch 79\n"
          ]
        },
        {
          "output_type": "stream",
          "name": "stderr",
          "text": [
            "<ipython-input-10-e44211bf9fb2>:44: UserWarning: Implicit dimension choice for softmax has been deprecated. Change the call to include dim=X as an argument.\n",
            "  z = fn(h)\n"
          ]
        },
        {
          "output_type": "stream",
          "name": "stdout",
          "text": [
            "torch.Size([10000, 256])\n",
            "torch.Size([10000, 10])\n",
            "f1 score: 0.9163\n",
            "Epoch loss: 0.331362\n",
            "Val loss: 0.294911\n"
          ]
        },
        {
          "output_type": "stream",
          "name": "stderr",
          "text": [
            "<ipython-input-10-e44211bf9fb2>:44: UserWarning: Implicit dimension choice for softmax has been deprecated. Change the call to include dim=X as an argument.\n",
            "  z = fn(h)\n"
          ]
        },
        {
          "output_type": "display_data",
          "data": {
            "text/plain": [
              "<Figure size 640x480 with 1 Axes>"
            ],
            "image/png": "[encoded data removed]"
          },
          "metadata": {}
        }
      ]
    },
    {
      "cell_type": "code",
      "source": [
        "x_pred=model_3.predict(autoencoder3task(test_fts)[0])\n",
        "import numpy as np\n",
        "\n",
        "matches = [1 if a == b else 0 for a, b in zip(x_pred, test_labels)]\n",
        "total_matches = sum(matches)\n",
        "\n",
        "print(f\"Accuracy: {total_matches/10000:.4f}%\")"
      ],
      "metadata": {
        "colab": {
          "base_uri": "https://localhost:8080/"
        },
        "id": "zr8oJ-TH-ixg",
        "outputId": "af2afb7b-c486-4562-ea9c-000861d19e15"
      },
      "execution_count": 130,
      "outputs": [
        {
          "output_type": "stream",
          "name": "stdout",
          "text": [
            "torch.Size([10000, 256])\n",
            "torch.Size([10000, 10])\n",
            "Accuracy: 0.9191%\n"
          ]
        },
        {
          "output_type": "stream",
          "name": "stderr",
          "text": [
            "<ipython-input-10-e44211bf9fb2>:44: UserWarning: Implicit dimension choice for softmax has been deprecated. Change the call to include dim=X as an argument.\n",
            "  z = fn(h)\n"
          ]
        }
      ]
    },
    {
      "cell_type": "code",
      "source": [
        "model_3_1 = MyMLP(num_input_dims=train_fts.shape[1], \n",
        "                num_neurons=[],\n",
        "                num_classes=num_labels)\n",
        "\n",
        "weight_adjuster331 = torch.optim.Adam(model_3_1.parameters(), lr=0.001)\n",
        "\n",
        "train(model_3_1, data_features=train_fts, data_labels=train_labels, \n",
        "       weight_adjuster=weight_adjuster331,\n",
        "       num_epochs=80, batch_size=100, val_features=dev_fts, val_labels=dev_labels,\n",
        "       epoch_callback=predict_callback(actual=dev_labels,\n",
        "                                       input_fts=dev_fts,\n",
        "                                       model=model_3_1))"
      ],
      "metadata": {
        "colab": {
          "base_uri": "https://localhost:8080/",
          "height": 1000
        },
        "id": "rp5VCTdk-4uQ",
        "outputId": "cb39bae8-d156-46df-fb40-d5393c681686"
      },
      "execution_count": 131,
      "outputs": [
        {
          "output_type": "stream",
          "name": "stdout",
          "text": [
            "[784]\n",
            "[10]\n",
            "[10] outs\n",
            "784 :i o: 10\n",
            "Epoch 0\n"
          ]
        },
        {
          "output_type": "stream",
          "name": "stderr",
          "text": [
            "<ipython-input-10-e44211bf9fb2>:44: UserWarning: Implicit dimension choice for softmax has been deprecated. Change the call to include dim=X as an argument.\n",
            "  z = fn(h)\n"
          ]
        },
        {
          "output_type": "stream",
          "name": "stdout",
          "text": [
            "torch.Size([10000, 784])\n",
            "torch.Size([10000, 10])\n",
            "f1 score: 0.8994\n",
            "Epoch loss: 0.765043\n",
            "Val loss: 0.389602\n",
            "Epoch 1\n"
          ]
        },
        {
          "output_type": "stream",
          "name": "stderr",
          "text": [
            "<ipython-input-10-e44211bf9fb2>:44: UserWarning: Implicit dimension choice for softmax has been deprecated. Change the call to include dim=X as an argument.\n",
            "  z = fn(h)\n"
          ]
        },
        {
          "output_type": "stream",
          "name": "stdout",
          "text": [
            "torch.Size([10000, 784])\n",
            "torch.Size([10000, 10])\n",
            "f1 score: 0.9130000000000001\n",
            "Epoch loss: 0.420721\n",
            "Val loss: 0.327291\n",
            "Epoch 2\n"
          ]
        },
        {
          "output_type": "stream",
          "name": "stderr",
          "text": [
            "<ipython-input-10-e44211bf9fb2>:44: UserWarning: Implicit dimension choice for softmax has been deprecated. Change the call to include dim=X as an argument.\n",
            "  z = fn(h)\n"
          ]
        },
        {
          "output_type": "stream",
          "name": "stdout",
          "text": [
            "torch.Size([10000, 784])\n",
            "torch.Size([10000, 10])\n",
            "f1 score: 0.9173000000000001\n",
            "Epoch loss: 0.373244\n",
            "Val loss: 0.304289\n",
            "Epoch 3\n"
          ]
        },
        {
          "output_type": "stream",
          "name": "stderr",
          "text": [
            "<ipython-input-10-e44211bf9fb2>:44: UserWarning: Implicit dimension choice for softmax has been deprecated. Change the call to include dim=X as an argument.\n",
            "  z = fn(h)\n"
          ]
        },
        {
          "output_type": "stream",
          "name": "stdout",
          "text": [
            "torch.Size([10000, 784])\n",
            "torch.Size([10000, 10])\n",
            "f1 score: 0.92\n",
            "Epoch loss: 0.350861\n",
            "Val loss: 0.292387\n",
            "Epoch 4\n"
          ]
        },
        {
          "output_type": "stream",
          "name": "stderr",
          "text": [
            "<ipython-input-10-e44211bf9fb2>:44: UserWarning: Implicit dimension choice for softmax has been deprecated. Change the call to include dim=X as an argument.\n",
            "  z = fn(h)\n"
          ]
        },
        {
          "output_type": "stream",
          "name": "stdout",
          "text": [
            "torch.Size([10000, 784])\n",
            "torch.Size([10000, 10])\n",
            "f1 score: 0.9219\n",
            "Epoch loss: 0.337280\n",
            "Val loss: 0.285213\n",
            "Epoch 5\n"
          ]
        },
        {
          "output_type": "stream",
          "name": "stderr",
          "text": [
            "<ipython-input-10-e44211bf9fb2>:44: UserWarning: Implicit dimension choice for softmax has been deprecated. Change the call to include dim=X as an argument.\n",
            "  z = fn(h)\n"
          ]
        },
        {
          "output_type": "stream",
          "name": "stdout",
          "text": [
            "torch.Size([10000, 784])\n",
            "torch.Size([10000, 10])\n",
            "f1 score: 0.9228\n",
            "Epoch loss: 0.327937\n",
            "Val loss: 0.280478\n",
            "Epoch 6\n"
          ]
        },
        {
          "output_type": "stream",
          "name": "stderr",
          "text": [
            "<ipython-input-10-e44211bf9fb2>:44: UserWarning: Implicit dimension choice for softmax has been deprecated. Change the call to include dim=X as an argument.\n",
            "  z = fn(h)\n"
          ]
        },
        {
          "output_type": "stream",
          "name": "stdout",
          "text": [
            "torch.Size([10000, 784])\n",
            "torch.Size([10000, 10])\n",
            "f1 score: 0.924\n",
            "Epoch loss: 0.320992\n",
            "Val loss: 0.277155\n",
            "Epoch 7\n"
          ]
        },
        {
          "output_type": "stream",
          "name": "stderr",
          "text": [
            "<ipython-input-10-e44211bf9fb2>:44: UserWarning: Implicit dimension choice for softmax has been deprecated. Change the call to include dim=X as an argument.\n",
            "  z = fn(h)\n"
          ]
        },
        {
          "output_type": "stream",
          "name": "stdout",
          "text": [
            "torch.Size([10000, 784])\n",
            "torch.Size([10000, 10])\n",
            "f1 score: 0.924\n",
            "Epoch loss: 0.315548\n",
            "Val loss: 0.274718\n",
            "Epoch 8\n"
          ]
        },
        {
          "output_type": "stream",
          "name": "stderr",
          "text": [
            "<ipython-input-10-e44211bf9fb2>:44: UserWarning: Implicit dimension choice for softmax has been deprecated. Change the call to include dim=X as an argument.\n",
            "  z = fn(h)\n"
          ]
        },
        {
          "output_type": "stream",
          "name": "stdout",
          "text": [
            "torch.Size([10000, 784])\n",
            "torch.Size([10000, 10])\n",
            "f1 score: 0.9243999999999999\n",
            "Epoch loss: 0.311116\n",
            "Val loss: 0.272876\n",
            "Epoch 9\n"
          ]
        },
        {
          "output_type": "stream",
          "name": "stderr",
          "text": [
            "<ipython-input-10-e44211bf9fb2>:44: UserWarning: Implicit dimension choice for softmax has been deprecated. Change the call to include dim=X as an argument.\n",
            "  z = fn(h)\n"
          ]
        },
        {
          "output_type": "stream",
          "name": "stdout",
          "text": [
            "torch.Size([10000, 784])\n",
            "torch.Size([10000, 10])\n",
            "f1 score: 0.9248\n",
            "Epoch loss: 0.307405\n",
            "Val loss: 0.271453\n",
            "Epoch 10\n"
          ]
        },
        {
          "output_type": "stream",
          "name": "stderr",
          "text": [
            "<ipython-input-10-e44211bf9fb2>:44: UserWarning: Implicit dimension choice for softmax has been deprecated. Change the call to include dim=X as an argument.\n",
            "  z = fn(h)\n"
          ]
        },
        {
          "output_type": "stream",
          "name": "stdout",
          "text": [
            "torch.Size([10000, 784])\n",
            "torch.Size([10000, 10])\n",
            "f1 score: 0.9254\n",
            "Epoch loss: 0.304228\n",
            "Val loss: 0.270336\n",
            "Epoch 11\n"
          ]
        },
        {
          "output_type": "stream",
          "name": "stderr",
          "text": [
            "<ipython-input-10-e44211bf9fb2>:44: UserWarning: Implicit dimension choice for softmax has been deprecated. Change the call to include dim=X as an argument.\n",
            "  z = fn(h)\n"
          ]
        },
        {
          "output_type": "stream",
          "name": "stdout",
          "text": [
            "torch.Size([10000, 784])\n",
            "torch.Size([10000, 10])\n",
            "f1 score: 0.9258\n",
            "Epoch loss: 0.301464\n",
            "Val loss: 0.269452\n",
            "Epoch 12\n"
          ]
        },
        {
          "output_type": "stream",
          "name": "stderr",
          "text": [
            "<ipython-input-10-e44211bf9fb2>:44: UserWarning: Implicit dimension choice for softmax has been deprecated. Change the call to include dim=X as an argument.\n",
            "  z = fn(h)\n"
          ]
        },
        {
          "output_type": "stream",
          "name": "stdout",
          "text": [
            "torch.Size([10000, 784])\n",
            "torch.Size([10000, 10])\n",
            "f1 score: 0.9266\n",
            "Epoch loss: 0.299026\n",
            "Val loss: 0.268749\n",
            "Epoch 13\n"
          ]
        },
        {
          "output_type": "stream",
          "name": "stderr",
          "text": [
            "<ipython-input-10-e44211bf9fb2>:44: UserWarning: Implicit dimension choice for softmax has been deprecated. Change the call to include dim=X as an argument.\n",
            "  z = fn(h)\n"
          ]
        },
        {
          "output_type": "stream",
          "name": "stdout",
          "text": [
            "torch.Size([10000, 784])\n",
            "torch.Size([10000, 10])\n",
            "f1 score: 0.9269\n",
            "Epoch loss: 0.296850\n",
            "Val loss: 0.268190\n",
            "Epoch 14\n"
          ]
        },
        {
          "output_type": "stream",
          "name": "stderr",
          "text": [
            "<ipython-input-10-e44211bf9fb2>:44: UserWarning: Implicit dimension choice for softmax has been deprecated. Change the call to include dim=X as an argument.\n",
            "  z = fn(h)\n"
          ]
        },
        {
          "output_type": "stream",
          "name": "stdout",
          "text": [
            "torch.Size([10000, 784])\n",
            "torch.Size([10000, 10])\n",
            "f1 score: 0.9271999999999999\n",
            "Epoch loss: 0.294891\n",
            "Val loss: 0.267748\n",
            "Epoch 15\n"
          ]
        },
        {
          "output_type": "stream",
          "name": "stderr",
          "text": [
            "<ipython-input-10-e44211bf9fb2>:44: UserWarning: Implicit dimension choice for softmax has been deprecated. Change the call to include dim=X as an argument.\n",
            "  z = fn(h)\n"
          ]
        },
        {
          "output_type": "stream",
          "name": "stdout",
          "text": [
            "torch.Size([10000, 784])\n",
            "torch.Size([10000, 10])\n",
            "f1 score: 0.9276\n",
            "Epoch loss: 0.293113\n",
            "Val loss: 0.267401\n",
            "Epoch 16\n"
          ]
        },
        {
          "output_type": "stream",
          "name": "stderr",
          "text": [
            "<ipython-input-10-e44211bf9fb2>:44: UserWarning: Implicit dimension choice for softmax has been deprecated. Change the call to include dim=X as an argument.\n",
            "  z = fn(h)\n"
          ]
        },
        {
          "output_type": "stream",
          "name": "stdout",
          "text": [
            "torch.Size([10000, 784])\n",
            "torch.Size([10000, 10])\n",
            "f1 score: 0.9282\n",
            "Epoch loss: 0.291488\n",
            "Val loss: 0.267135\n",
            "Epoch 17\n"
          ]
        },
        {
          "output_type": "stream",
          "name": "stderr",
          "text": [
            "<ipython-input-10-e44211bf9fb2>:44: UserWarning: Implicit dimension choice for softmax has been deprecated. Change the call to include dim=X as an argument.\n",
            "  z = fn(h)\n"
          ]
        },
        {
          "output_type": "stream",
          "name": "stdout",
          "text": [
            "torch.Size([10000, 784])\n",
            "torch.Size([10000, 10])\n",
            "f1 score: 0.928\n",
            "Epoch loss: 0.289994\n",
            "Val loss: 0.266936\n",
            "Epoch 18\n"
          ]
        },
        {
          "output_type": "stream",
          "name": "stderr",
          "text": [
            "<ipython-input-10-e44211bf9fb2>:44: UserWarning: Implicit dimension choice for softmax has been deprecated. Change the call to include dim=X as an argument.\n",
            "  z = fn(h)\n"
          ]
        },
        {
          "output_type": "stream",
          "name": "stdout",
          "text": [
            "torch.Size([10000, 784])\n",
            "torch.Size([10000, 10])\n",
            "f1 score: 0.9278\n",
            "Epoch loss: 0.288614\n",
            "Val loss: 0.266794\n",
            "Epoch 19\n"
          ]
        },
        {
          "output_type": "stream",
          "name": "stderr",
          "text": [
            "<ipython-input-10-e44211bf9fb2>:44: UserWarning: Implicit dimension choice for softmax has been deprecated. Change the call to include dim=X as an argument.\n",
            "  z = fn(h)\n"
          ]
        },
        {
          "output_type": "stream",
          "name": "stdout",
          "text": [
            "torch.Size([10000, 784])\n",
            "torch.Size([10000, 10])\n",
            "f1 score: 0.928\n",
            "Epoch loss: 0.287333\n",
            "Val loss: 0.266701\n",
            "Epoch 20\n"
          ]
        },
        {
          "output_type": "stream",
          "name": "stderr",
          "text": [
            "<ipython-input-10-e44211bf9fb2>:44: UserWarning: Implicit dimension choice for softmax has been deprecated. Change the call to include dim=X as an argument.\n",
            "  z = fn(h)\n"
          ]
        },
        {
          "output_type": "stream",
          "name": "stdout",
          "text": [
            "torch.Size([10000, 784])\n",
            "torch.Size([10000, 10])\n",
            "f1 score: 0.9281000000000001\n",
            "Epoch loss: 0.286139\n",
            "Val loss: 0.266650\n",
            "Epoch 21\n"
          ]
        },
        {
          "output_type": "stream",
          "name": "stderr",
          "text": [
            "<ipython-input-10-e44211bf9fb2>:44: UserWarning: Implicit dimension choice for softmax has been deprecated. Change the call to include dim=X as an argument.\n",
            "  z = fn(h)\n"
          ]
        },
        {
          "output_type": "stream",
          "name": "stdout",
          "text": [
            "torch.Size([10000, 784])\n",
            "torch.Size([10000, 10])\n",
            "f1 score: 0.9283\n",
            "Epoch loss: 0.285022\n",
            "Val loss: 0.266636\n",
            "Epoch 22\n"
          ]
        },
        {
          "output_type": "stream",
          "name": "stderr",
          "text": [
            "<ipython-input-10-e44211bf9fb2>:44: UserWarning: Implicit dimension choice for softmax has been deprecated. Change the call to include dim=X as an argument.\n",
            "  z = fn(h)\n"
          ]
        },
        {
          "output_type": "stream",
          "name": "stdout",
          "text": [
            "torch.Size([10000, 784])\n",
            "torch.Size([10000, 10])\n",
            "f1 score: 0.9281000000000001\n",
            "Epoch loss: 0.283973\n",
            "Val loss: 0.266654\n",
            "Epoch 23\n"
          ]
        },
        {
          "output_type": "stream",
          "name": "stderr",
          "text": [
            "<ipython-input-10-e44211bf9fb2>:44: UserWarning: Implicit dimension choice for softmax has been deprecated. Change the call to include dim=X as an argument.\n",
            "  z = fn(h)\n"
          ]
        },
        {
          "output_type": "stream",
          "name": "stdout",
          "text": [
            "torch.Size([10000, 784])\n",
            "torch.Size([10000, 10])\n",
            "f1 score: 0.9282\n",
            "Epoch loss: 0.282985\n",
            "Val loss: 0.266700\n",
            "Epoch 24\n"
          ]
        },
        {
          "output_type": "stream",
          "name": "stderr",
          "text": [
            "<ipython-input-10-e44211bf9fb2>:44: UserWarning: Implicit dimension choice for softmax has been deprecated. Change the call to include dim=X as an argument.\n",
            "  z = fn(h)\n"
          ]
        },
        {
          "output_type": "stream",
          "name": "stdout",
          "text": [
            "torch.Size([10000, 784])\n",
            "torch.Size([10000, 10])\n",
            "f1 score: 0.9285\n",
            "Epoch loss: 0.282053\n",
            "Val loss: 0.266770\n",
            "Epoch 25\n"
          ]
        },
        {
          "output_type": "stream",
          "name": "stderr",
          "text": [
            "<ipython-input-10-e44211bf9fb2>:44: UserWarning: Implicit dimension choice for softmax has been deprecated. Change the call to include dim=X as an argument.\n",
            "  z = fn(h)\n"
          ]
        },
        {
          "output_type": "stream",
          "name": "stdout",
          "text": [
            "torch.Size([10000, 784])\n",
            "torch.Size([10000, 10])\n",
            "f1 score: 0.9288\n",
            "Epoch loss: 0.281171\n",
            "Val loss: 0.266862\n",
            "Epoch 26\n"
          ]
        },
        {
          "output_type": "stream",
          "name": "stderr",
          "text": [
            "<ipython-input-10-e44211bf9fb2>:44: UserWarning: Implicit dimension choice for softmax has been deprecated. Change the call to include dim=X as an argument.\n",
            "  z = fn(h)\n"
          ]
        },
        {
          "output_type": "stream",
          "name": "stdout",
          "text": [
            "torch.Size([10000, 784])\n",
            "torch.Size([10000, 10])\n",
            "f1 score: 0.9291000000000001\n",
            "Epoch loss: 0.280334\n",
            "Val loss: 0.266973\n",
            "Epoch 27\n"
          ]
        },
        {
          "output_type": "stream",
          "name": "stderr",
          "text": [
            "<ipython-input-10-e44211bf9fb2>:44: UserWarning: Implicit dimension choice for softmax has been deprecated. Change the call to include dim=X as an argument.\n",
            "  z = fn(h)\n"
          ]
        },
        {
          "output_type": "stream",
          "name": "stdout",
          "text": [
            "torch.Size([10000, 784])\n",
            "torch.Size([10000, 10])\n",
            "f1 score: 0.929\n",
            "Epoch loss: 0.279538\n",
            "Val loss: 0.267101\n",
            "Epoch 28\n"
          ]
        },
        {
          "output_type": "stream",
          "name": "stderr",
          "text": [
            "<ipython-input-10-e44211bf9fb2>:44: UserWarning: Implicit dimension choice for softmax has been deprecated. Change the call to include dim=X as an argument.\n",
            "  z = fn(h)\n"
          ]
        },
        {
          "output_type": "stream",
          "name": "stdout",
          "text": [
            "torch.Size([10000, 784])\n",
            "torch.Size([10000, 10])\n",
            "f1 score: 0.9291000000000001\n",
            "Epoch loss: 0.278780\n",
            "Val loss: 0.267244\n",
            "Epoch 29\n"
          ]
        },
        {
          "output_type": "stream",
          "name": "stderr",
          "text": [
            "<ipython-input-10-e44211bf9fb2>:44: UserWarning: Implicit dimension choice for softmax has been deprecated. Change the call to include dim=X as an argument.\n",
            "  z = fn(h)\n"
          ]
        },
        {
          "output_type": "stream",
          "name": "stdout",
          "text": [
            "torch.Size([10000, 784])\n",
            "torch.Size([10000, 10])\n",
            "f1 score: 0.9291000000000001\n",
            "Epoch loss: 0.278056\n",
            "Val loss: 0.267401\n",
            "Epoch 30\n"
          ]
        },
        {
          "output_type": "stream",
          "name": "stderr",
          "text": [
            "<ipython-input-10-e44211bf9fb2>:44: UserWarning: Implicit dimension choice for softmax has been deprecated. Change the call to include dim=X as an argument.\n",
            "  z = fn(h)\n"
          ]
        },
        {
          "output_type": "stream",
          "name": "stdout",
          "text": [
            "torch.Size([10000, 784])\n",
            "torch.Size([10000, 10])\n",
            "f1 score: 0.9291000000000001\n",
            "Epoch loss: 0.277364\n",
            "Val loss: 0.267569\n",
            "Epoch 31\n"
          ]
        },
        {
          "output_type": "stream",
          "name": "stderr",
          "text": [
            "<ipython-input-10-e44211bf9fb2>:44: UserWarning: Implicit dimension choice for softmax has been deprecated. Change the call to include dim=X as an argument.\n",
            "  z = fn(h)\n"
          ]
        },
        {
          "output_type": "stream",
          "name": "stdout",
          "text": [
            "torch.Size([10000, 784])\n",
            "torch.Size([10000, 10])\n",
            "f1 score: 0.9294\n",
            "Epoch loss: 0.276702\n",
            "Val loss: 0.267748\n",
            "Epoch 32\n"
          ]
        },
        {
          "output_type": "stream",
          "name": "stderr",
          "text": [
            "<ipython-input-10-e44211bf9fb2>:44: UserWarning: Implicit dimension choice for softmax has been deprecated. Change the call to include dim=X as an argument.\n",
            "  z = fn(h)\n"
          ]
        },
        {
          "output_type": "stream",
          "name": "stdout",
          "text": [
            "torch.Size([10000, 784])\n",
            "torch.Size([10000, 10])\n",
            "f1 score: 0.9292\n",
            "Epoch loss: 0.276067\n",
            "Val loss: 0.267937\n",
            "Epoch 33\n"
          ]
        },
        {
          "output_type": "stream",
          "name": "stderr",
          "text": [
            "<ipython-input-10-e44211bf9fb2>:44: UserWarning: Implicit dimension choice for softmax has been deprecated. Change the call to include dim=X as an argument.\n",
            "  z = fn(h)\n"
          ]
        },
        {
          "output_type": "stream",
          "name": "stdout",
          "text": [
            "torch.Size([10000, 784])\n",
            "torch.Size([10000, 10])\n",
            "f1 score: 0.9289\n",
            "Epoch loss: 0.275457\n",
            "Val loss: 0.268134\n",
            "Epoch 34\n"
          ]
        },
        {
          "output_type": "stream",
          "name": "stderr",
          "text": [
            "<ipython-input-10-e44211bf9fb2>:44: UserWarning: Implicit dimension choice for softmax has been deprecated. Change the call to include dim=X as an argument.\n",
            "  z = fn(h)\n"
          ]
        },
        {
          "output_type": "stream",
          "name": "stdout",
          "text": [
            "torch.Size([10000, 784])\n",
            "torch.Size([10000, 10])\n",
            "f1 score: 0.9287\n",
            "Epoch loss: 0.274870\n",
            "Val loss: 0.268339\n",
            "Epoch 35\n"
          ]
        },
        {
          "output_type": "stream",
          "name": "stderr",
          "text": [
            "<ipython-input-10-e44211bf9fb2>:44: UserWarning: Implicit dimension choice for softmax has been deprecated. Change the call to include dim=X as an argument.\n",
            "  z = fn(h)\n"
          ]
        },
        {
          "output_type": "stream",
          "name": "stdout",
          "text": [
            "torch.Size([10000, 784])\n",
            "torch.Size([10000, 10])\n",
            "f1 score: 0.9287\n",
            "Epoch loss: 0.274306\n",
            "Val loss: 0.268550\n",
            "Epoch 36\n"
          ]
        },
        {
          "output_type": "stream",
          "name": "stderr",
          "text": [
            "<ipython-input-10-e44211bf9fb2>:44: UserWarning: Implicit dimension choice for softmax has been deprecated. Change the call to include dim=X as an argument.\n",
            "  z = fn(h)\n"
          ]
        },
        {
          "output_type": "stream",
          "name": "stdout",
          "text": [
            "torch.Size([10000, 784])\n",
            "torch.Size([10000, 10])\n",
            "f1 score: 0.9286\n",
            "Epoch loss: 0.273762\n",
            "Val loss: 0.268768\n",
            "Epoch 37\n"
          ]
        },
        {
          "output_type": "stream",
          "name": "stderr",
          "text": [
            "<ipython-input-10-e44211bf9fb2>:44: UserWarning: Implicit dimension choice for softmax has been deprecated. Change the call to include dim=X as an argument.\n",
            "  z = fn(h)\n"
          ]
        },
        {
          "output_type": "stream",
          "name": "stdout",
          "text": [
            "torch.Size([10000, 784])\n",
            "torch.Size([10000, 10])\n",
            "f1 score: 0.9285\n",
            "Epoch loss: 0.273236\n",
            "Val loss: 0.268991\n",
            "Epoch 38\n"
          ]
        },
        {
          "output_type": "stream",
          "name": "stderr",
          "text": [
            "<ipython-input-10-e44211bf9fb2>:44: UserWarning: Implicit dimension choice for softmax has been deprecated. Change the call to include dim=X as an argument.\n",
            "  z = fn(h)\n"
          ]
        },
        {
          "output_type": "stream",
          "name": "stdout",
          "text": [
            "torch.Size([10000, 784])\n",
            "torch.Size([10000, 10])\n",
            "f1 score: 0.9284\n",
            "Epoch loss: 0.272729\n",
            "Val loss: 0.269218\n",
            "Epoch 39\n"
          ]
        },
        {
          "output_type": "stream",
          "name": "stderr",
          "text": [
            "<ipython-input-10-e44211bf9fb2>:44: UserWarning: Implicit dimension choice for softmax has been deprecated. Change the call to include dim=X as an argument.\n",
            "  z = fn(h)\n"
          ]
        },
        {
          "output_type": "stream",
          "name": "stdout",
          "text": [
            "torch.Size([10000, 784])\n",
            "torch.Size([10000, 10])\n",
            "f1 score: 0.9284\n",
            "Epoch loss: 0.272238\n",
            "Val loss: 0.269450\n",
            "Epoch 40\n"
          ]
        },
        {
          "output_type": "stream",
          "name": "stderr",
          "text": [
            "<ipython-input-10-e44211bf9fb2>:44: UserWarning: Implicit dimension choice for softmax has been deprecated. Change the call to include dim=X as an argument.\n",
            "  z = fn(h)\n"
          ]
        },
        {
          "output_type": "stream",
          "name": "stdout",
          "text": [
            "torch.Size([10000, 784])\n",
            "torch.Size([10000, 10])\n",
            "f1 score: 0.9284\n",
            "Epoch loss: 0.271764\n",
            "Val loss: 0.269685\n",
            "Epoch 41\n"
          ]
        },
        {
          "output_type": "stream",
          "name": "stderr",
          "text": [
            "<ipython-input-10-e44211bf9fb2>:44: UserWarning: Implicit dimension choice for softmax has been deprecated. Change the call to include dim=X as an argument.\n",
            "  z = fn(h)\n"
          ]
        },
        {
          "output_type": "stream",
          "name": "stdout",
          "text": [
            "torch.Size([10000, 784])\n",
            "torch.Size([10000, 10])\n",
            "f1 score: 0.9285\n",
            "Epoch loss: 0.271304\n",
            "Val loss: 0.269924\n",
            "Epoch 42\n"
          ]
        },
        {
          "output_type": "stream",
          "name": "stderr",
          "text": [
            "<ipython-input-10-e44211bf9fb2>:44: UserWarning: Implicit dimension choice for softmax has been deprecated. Change the call to include dim=X as an argument.\n",
            "  z = fn(h)\n"
          ]
        },
        {
          "output_type": "stream",
          "name": "stdout",
          "text": [
            "torch.Size([10000, 784])\n",
            "torch.Size([10000, 10])\n",
            "f1 score: 0.9287\n",
            "Epoch loss: 0.270858\n",
            "Val loss: 0.270166\n",
            "Epoch 43\n"
          ]
        },
        {
          "output_type": "stream",
          "name": "stderr",
          "text": [
            "<ipython-input-10-e44211bf9fb2>:44: UserWarning: Implicit dimension choice for softmax has been deprecated. Change the call to include dim=X as an argument.\n",
            "  z = fn(h)\n"
          ]
        },
        {
          "output_type": "stream",
          "name": "stdout",
          "text": [
            "torch.Size([10000, 784])\n",
            "torch.Size([10000, 10])\n",
            "f1 score: 0.9286\n",
            "Epoch loss: 0.270425\n",
            "Val loss: 0.270410\n",
            "Epoch 44\n"
          ]
        },
        {
          "output_type": "stream",
          "name": "stderr",
          "text": [
            "<ipython-input-10-e44211bf9fb2>:44: UserWarning: Implicit dimension choice for softmax has been deprecated. Change the call to include dim=X as an argument.\n",
            "  z = fn(h)\n"
          ]
        },
        {
          "output_type": "stream",
          "name": "stdout",
          "text": [
            "torch.Size([10000, 784])\n",
            "torch.Size([10000, 10])\n",
            "f1 score: 0.9284\n",
            "Epoch loss: 0.270005\n",
            "Val loss: 0.270656\n",
            "Epoch 45\n"
          ]
        },
        {
          "output_type": "stream",
          "name": "stderr",
          "text": [
            "<ipython-input-10-e44211bf9fb2>:44: UserWarning: Implicit dimension choice for softmax has been deprecated. Change the call to include dim=X as an argument.\n",
            "  z = fn(h)\n"
          ]
        },
        {
          "output_type": "stream",
          "name": "stdout",
          "text": [
            "torch.Size([10000, 784])\n",
            "torch.Size([10000, 10])\n",
            "f1 score: 0.9284\n",
            "Epoch loss: 0.269597\n",
            "Val loss: 0.270904\n",
            "Epoch 46\n"
          ]
        },
        {
          "output_type": "stream",
          "name": "stderr",
          "text": [
            "<ipython-input-10-e44211bf9fb2>:44: UserWarning: Implicit dimension choice for softmax has been deprecated. Change the call to include dim=X as an argument.\n",
            "  z = fn(h)\n"
          ]
        },
        {
          "output_type": "stream",
          "name": "stdout",
          "text": [
            "torch.Size([10000, 784])\n",
            "torch.Size([10000, 10])\n",
            "f1 score: 0.9282\n",
            "Epoch loss: 0.269200\n",
            "Val loss: 0.271154\n",
            "Epoch 47\n"
          ]
        },
        {
          "output_type": "stream",
          "name": "stderr",
          "text": [
            "<ipython-input-10-e44211bf9fb2>:44: UserWarning: Implicit dimension choice for softmax has been deprecated. Change the call to include dim=X as an argument.\n",
            "  z = fn(h)\n"
          ]
        },
        {
          "output_type": "stream",
          "name": "stdout",
          "text": [
            "torch.Size([10000, 784])\n",
            "torch.Size([10000, 10])\n",
            "f1 score: 0.9282\n",
            "Epoch loss: 0.268814\n",
            "Val loss: 0.271405\n",
            "Epoch 48\n"
          ]
        },
        {
          "output_type": "stream",
          "name": "stderr",
          "text": [
            "<ipython-input-10-e44211bf9fb2>:44: UserWarning: Implicit dimension choice for softmax has been deprecated. Change the call to include dim=X as an argument.\n",
            "  z = fn(h)\n"
          ]
        },
        {
          "output_type": "stream",
          "name": "stdout",
          "text": [
            "torch.Size([10000, 784])\n",
            "torch.Size([10000, 10])\n",
            "f1 score: 0.9282\n",
            "Epoch loss: 0.268438\n",
            "Val loss: 0.271657\n",
            "Epoch 49\n"
          ]
        },
        {
          "output_type": "stream",
          "name": "stderr",
          "text": [
            "<ipython-input-10-e44211bf9fb2>:44: UserWarning: Implicit dimension choice for softmax has been deprecated. Change the call to include dim=X as an argument.\n",
            "  z = fn(h)\n"
          ]
        },
        {
          "output_type": "stream",
          "name": "stdout",
          "text": [
            "torch.Size([10000, 784])\n",
            "torch.Size([10000, 10])\n",
            "f1 score: 0.9282\n",
            "Epoch loss: 0.268072\n",
            "Val loss: 0.271911\n",
            "Epoch 50\n"
          ]
        },
        {
          "output_type": "stream",
          "name": "stderr",
          "text": [
            "<ipython-input-10-e44211bf9fb2>:44: UserWarning: Implicit dimension choice for softmax has been deprecated. Change the call to include dim=X as an argument.\n",
            "  z = fn(h)\n"
          ]
        },
        {
          "output_type": "stream",
          "name": "stdout",
          "text": [
            "torch.Size([10000, 784])\n",
            "torch.Size([10000, 10])\n",
            "f1 score: 0.9282\n",
            "Epoch loss: 0.267715\n",
            "Val loss: 0.272165\n",
            "Epoch 51\n"
          ]
        },
        {
          "output_type": "stream",
          "name": "stderr",
          "text": [
            "<ipython-input-10-e44211bf9fb2>:44: UserWarning: Implicit dimension choice for softmax has been deprecated. Change the call to include dim=X as an argument.\n",
            "  z = fn(h)\n"
          ]
        },
        {
          "output_type": "stream",
          "name": "stdout",
          "text": [
            "torch.Size([10000, 784])\n",
            "torch.Size([10000, 10])\n",
            "f1 score: 0.928\n",
            "Epoch loss: 0.267366\n",
            "Val loss: 0.272420\n",
            "Epoch 52\n"
          ]
        },
        {
          "output_type": "stream",
          "name": "stderr",
          "text": [
            "<ipython-input-10-e44211bf9fb2>:44: UserWarning: Implicit dimension choice for softmax has been deprecated. Change the call to include dim=X as an argument.\n",
            "  z = fn(h)\n"
          ]
        },
        {
          "output_type": "stream",
          "name": "stdout",
          "text": [
            "torch.Size([10000, 784])\n",
            "torch.Size([10000, 10])\n",
            "f1 score: 0.9279\n",
            "Epoch loss: 0.267026\n",
            "Val loss: 0.272675\n",
            "Epoch 53\n"
          ]
        },
        {
          "output_type": "stream",
          "name": "stderr",
          "text": [
            "<ipython-input-10-e44211bf9fb2>:44: UserWarning: Implicit dimension choice for softmax has been deprecated. Change the call to include dim=X as an argument.\n",
            "  z = fn(h)\n"
          ]
        },
        {
          "output_type": "stream",
          "name": "stdout",
          "text": [
            "torch.Size([10000, 784])\n",
            "torch.Size([10000, 10])\n",
            "f1 score: 0.9278\n",
            "Epoch loss: 0.266695\n",
            "Val loss: 0.272930\n",
            "Epoch 54\n"
          ]
        },
        {
          "output_type": "stream",
          "name": "stderr",
          "text": [
            "<ipython-input-10-e44211bf9fb2>:44: UserWarning: Implicit dimension choice for softmax has been deprecated. Change the call to include dim=X as an argument.\n",
            "  z = fn(h)\n"
          ]
        },
        {
          "output_type": "stream",
          "name": "stdout",
          "text": [
            "torch.Size([10000, 784])\n",
            "torch.Size([10000, 10])\n",
            "f1 score: 0.9276\n",
            "Epoch loss: 0.266370\n",
            "Val loss: 0.273186\n",
            "Epoch 55\n"
          ]
        },
        {
          "output_type": "stream",
          "name": "stderr",
          "text": [
            "<ipython-input-10-e44211bf9fb2>:44: UserWarning: Implicit dimension choice for softmax has been deprecated. Change the call to include dim=X as an argument.\n",
            "  z = fn(h)\n"
          ]
        },
        {
          "output_type": "stream",
          "name": "stdout",
          "text": [
            "torch.Size([10000, 784])\n",
            "torch.Size([10000, 10])\n",
            "f1 score: 0.9276\n",
            "Epoch loss: 0.266054\n",
            "Val loss: 0.273442\n",
            "Epoch 56\n"
          ]
        },
        {
          "output_type": "stream",
          "name": "stderr",
          "text": [
            "<ipython-input-10-e44211bf9fb2>:44: UserWarning: Implicit dimension choice for softmax has been deprecated. Change the call to include dim=X as an argument.\n",
            "  z = fn(h)\n"
          ]
        },
        {
          "output_type": "stream",
          "name": "stdout",
          "text": [
            "torch.Size([10000, 784])\n",
            "torch.Size([10000, 10])\n",
            "f1 score: 0.9276\n",
            "Epoch loss: 0.265744\n",
            "Val loss: 0.273699\n",
            "Epoch 57\n"
          ]
        },
        {
          "output_type": "stream",
          "name": "stderr",
          "text": [
            "<ipython-input-10-e44211bf9fb2>:44: UserWarning: Implicit dimension choice for softmax has been deprecated. Change the call to include dim=X as an argument.\n",
            "  z = fn(h)\n"
          ]
        },
        {
          "output_type": "stream",
          "name": "stdout",
          "text": [
            "torch.Size([10000, 784])\n",
            "torch.Size([10000, 10])\n",
            "f1 score: 0.9275\n",
            "Epoch loss: 0.265441\n",
            "Val loss: 0.273955\n",
            "Epoch 58\n"
          ]
        },
        {
          "output_type": "stream",
          "name": "stderr",
          "text": [
            "<ipython-input-10-e44211bf9fb2>:44: UserWarning: Implicit dimension choice for softmax has been deprecated. Change the call to include dim=X as an argument.\n",
            "  z = fn(h)\n"
          ]
        },
        {
          "output_type": "stream",
          "name": "stdout",
          "text": [
            "torch.Size([10000, 784])\n",
            "torch.Size([10000, 10])\n",
            "f1 score: 0.9274\n",
            "Epoch loss: 0.265144\n",
            "Val loss: 0.274211\n",
            "Epoch 59\n"
          ]
        },
        {
          "output_type": "stream",
          "name": "stderr",
          "text": [
            "<ipython-input-10-e44211bf9fb2>:44: UserWarning: Implicit dimension choice for softmax has been deprecated. Change the call to include dim=X as an argument.\n",
            "  z = fn(h)\n"
          ]
        },
        {
          "output_type": "stream",
          "name": "stdout",
          "text": [
            "torch.Size([10000, 784])\n",
            "torch.Size([10000, 10])\n",
            "f1 score: 0.9276\n",
            "Epoch loss: 0.264854\n",
            "Val loss: 0.274466\n",
            "Epoch 60\n"
          ]
        },
        {
          "output_type": "stream",
          "name": "stderr",
          "text": [
            "<ipython-input-10-e44211bf9fb2>:44: UserWarning: Implicit dimension choice for softmax has been deprecated. Change the call to include dim=X as an argument.\n",
            "  z = fn(h)\n"
          ]
        },
        {
          "output_type": "stream",
          "name": "stdout",
          "text": [
            "torch.Size([10000, 784])\n",
            "torch.Size([10000, 10])\n",
            "f1 score: 0.9274\n",
            "Epoch loss: 0.264570\n",
            "Val loss: 0.274722\n",
            "Epoch 61\n"
          ]
        },
        {
          "output_type": "stream",
          "name": "stderr",
          "text": [
            "<ipython-input-10-e44211bf9fb2>:44: UserWarning: Implicit dimension choice for softmax has been deprecated. Change the call to include dim=X as an argument.\n",
            "  z = fn(h)\n"
          ]
        },
        {
          "output_type": "stream",
          "name": "stdout",
          "text": [
            "torch.Size([10000, 784])\n",
            "torch.Size([10000, 10])\n",
            "f1 score: 0.9273\n",
            "Epoch loss: 0.264292\n",
            "Val loss: 0.274977\n",
            "Epoch 62\n"
          ]
        },
        {
          "output_type": "stream",
          "name": "stderr",
          "text": [
            "<ipython-input-10-e44211bf9fb2>:44: UserWarning: Implicit dimension choice for softmax has been deprecated. Change the call to include dim=X as an argument.\n",
            "  z = fn(h)\n"
          ]
        },
        {
          "output_type": "stream",
          "name": "stdout",
          "text": [
            "torch.Size([10000, 784])\n",
            "torch.Size([10000, 10])\n",
            "f1 score: 0.9274\n",
            "Epoch loss: 0.264019\n",
            "Val loss: 0.275232\n",
            "Epoch 63\n"
          ]
        },
        {
          "output_type": "stream",
          "name": "stderr",
          "text": [
            "<ipython-input-10-e44211bf9fb2>:44: UserWarning: Implicit dimension choice for softmax has been deprecated. Change the call to include dim=X as an argument.\n",
            "  z = fn(h)\n"
          ]
        },
        {
          "output_type": "stream",
          "name": "stdout",
          "text": [
            "torch.Size([10000, 784])\n",
            "torch.Size([10000, 10])\n",
            "f1 score: 0.9274\n",
            "Epoch loss: 0.263751\n",
            "Val loss: 0.275486\n",
            "Epoch 64\n"
          ]
        },
        {
          "output_type": "stream",
          "name": "stderr",
          "text": [
            "<ipython-input-10-e44211bf9fb2>:44: UserWarning: Implicit dimension choice for softmax has been deprecated. Change the call to include dim=X as an argument.\n",
            "  z = fn(h)\n"
          ]
        },
        {
          "output_type": "stream",
          "name": "stdout",
          "text": [
            "torch.Size([10000, 784])\n",
            "torch.Size([10000, 10])\n",
            "f1 score: 0.9273\n",
            "Epoch loss: 0.263489\n",
            "Val loss: 0.275740\n",
            "Epoch 65\n"
          ]
        },
        {
          "output_type": "stream",
          "name": "stderr",
          "text": [
            "<ipython-input-10-e44211bf9fb2>:44: UserWarning: Implicit dimension choice for softmax has been deprecated. Change the call to include dim=X as an argument.\n",
            "  z = fn(h)\n"
          ]
        },
        {
          "output_type": "stream",
          "name": "stdout",
          "text": [
            "torch.Size([10000, 784])\n",
            "torch.Size([10000, 10])\n",
            "f1 score: 0.9271999999999999\n",
            "Epoch loss: 0.263232\n",
            "Val loss: 0.275994\n",
            "Epoch 66\n"
          ]
        },
        {
          "output_type": "stream",
          "name": "stderr",
          "text": [
            "<ipython-input-10-e44211bf9fb2>:44: UserWarning: Implicit dimension choice for softmax has been deprecated. Change the call to include dim=X as an argument.\n",
            "  z = fn(h)\n"
          ]
        },
        {
          "output_type": "stream",
          "name": "stdout",
          "text": [
            "torch.Size([10000, 784])\n",
            "torch.Size([10000, 10])\n",
            "f1 score: 0.9273\n",
            "Epoch loss: 0.262979\n",
            "Val loss: 0.276247\n",
            "Epoch 67\n"
          ]
        },
        {
          "output_type": "stream",
          "name": "stderr",
          "text": [
            "<ipython-input-10-e44211bf9fb2>:44: UserWarning: Implicit dimension choice for softmax has been deprecated. Change the call to include dim=X as an argument.\n",
            "  z = fn(h)\n"
          ]
        },
        {
          "output_type": "stream",
          "name": "stdout",
          "text": [
            "torch.Size([10000, 784])\n",
            "torch.Size([10000, 10])\n",
            "f1 score: 0.9273\n",
            "Epoch loss: 0.262731\n",
            "Val loss: 0.276499\n",
            "Epoch 68\n"
          ]
        },
        {
          "output_type": "stream",
          "name": "stderr",
          "text": [
            "<ipython-input-10-e44211bf9fb2>:44: UserWarning: Implicit dimension choice for softmax has been deprecated. Change the call to include dim=X as an argument.\n",
            "  z = fn(h)\n"
          ]
        },
        {
          "output_type": "stream",
          "name": "stdout",
          "text": [
            "torch.Size([10000, 784])\n",
            "torch.Size([10000, 10])\n",
            "f1 score: 0.9271999999999999\n",
            "Epoch loss: 0.262488\n",
            "Val loss: 0.276751\n",
            "Epoch 69\n"
          ]
        },
        {
          "output_type": "stream",
          "name": "stderr",
          "text": [
            "<ipython-input-10-e44211bf9fb2>:44: UserWarning: Implicit dimension choice for softmax has been deprecated. Change the call to include dim=X as an argument.\n",
            "  z = fn(h)\n"
          ]
        },
        {
          "output_type": "stream",
          "name": "stdout",
          "text": [
            "torch.Size([10000, 784])\n",
            "torch.Size([10000, 10])\n",
            "f1 score: 0.9274\n",
            "Epoch loss: 0.262249\n",
            "Val loss: 0.277002\n",
            "Epoch 70\n"
          ]
        },
        {
          "output_type": "stream",
          "name": "stderr",
          "text": [
            "<ipython-input-10-e44211bf9fb2>:44: UserWarning: Implicit dimension choice for softmax has been deprecated. Change the call to include dim=X as an argument.\n",
            "  z = fn(h)\n"
          ]
        },
        {
          "output_type": "stream",
          "name": "stdout",
          "text": [
            "torch.Size([10000, 784])\n",
            "torch.Size([10000, 10])\n",
            "f1 score: 0.9274\n",
            "Epoch loss: 0.262014\n",
            "Val loss: 0.277252\n",
            "Epoch 71\n"
          ]
        },
        {
          "output_type": "stream",
          "name": "stderr",
          "text": [
            "<ipython-input-10-e44211bf9fb2>:44: UserWarning: Implicit dimension choice for softmax has been deprecated. Change the call to include dim=X as an argument.\n",
            "  z = fn(h)\n"
          ]
        },
        {
          "output_type": "stream",
          "name": "stdout",
          "text": [
            "torch.Size([10000, 784])\n",
            "torch.Size([10000, 10])\n",
            "f1 score: 0.9273\n",
            "Epoch loss: 0.261784\n",
            "Val loss: 0.277502\n",
            "Epoch 72\n"
          ]
        },
        {
          "output_type": "stream",
          "name": "stderr",
          "text": [
            "<ipython-input-10-e44211bf9fb2>:44: UserWarning: Implicit dimension choice for softmax has been deprecated. Change the call to include dim=X as an argument.\n",
            "  z = fn(h)\n"
          ]
        },
        {
          "output_type": "stream",
          "name": "stdout",
          "text": [
            "torch.Size([10000, 784])\n",
            "torch.Size([10000, 10])\n",
            "f1 score: 0.927\n",
            "Epoch loss: 0.261557\n",
            "Val loss: 0.277751\n",
            "Epoch 73\n"
          ]
        },
        {
          "output_type": "stream",
          "name": "stderr",
          "text": [
            "<ipython-input-10-e44211bf9fb2>:44: UserWarning: Implicit dimension choice for softmax has been deprecated. Change the call to include dim=X as an argument.\n",
            "  z = fn(h)\n"
          ]
        },
        {
          "output_type": "stream",
          "name": "stdout",
          "text": [
            "torch.Size([10000, 784])\n",
            "torch.Size([10000, 10])\n",
            "f1 score: 0.927\n",
            "Epoch loss: 0.261334\n",
            "Val loss: 0.278000\n",
            "Epoch 74\n"
          ]
        },
        {
          "output_type": "stream",
          "name": "stderr",
          "text": [
            "<ipython-input-10-e44211bf9fb2>:44: UserWarning: Implicit dimension choice for softmax has been deprecated. Change the call to include dim=X as an argument.\n",
            "  z = fn(h)\n"
          ]
        },
        {
          "output_type": "stream",
          "name": "stdout",
          "text": [
            "torch.Size([10000, 784])\n",
            "torch.Size([10000, 10])\n",
            "f1 score: 0.9268\n",
            "Epoch loss: 0.261115\n",
            "Val loss: 0.278247\n",
            "Epoch 75\n"
          ]
        },
        {
          "output_type": "stream",
          "name": "stderr",
          "text": [
            "<ipython-input-10-e44211bf9fb2>:44: UserWarning: Implicit dimension choice for softmax has been deprecated. Change the call to include dim=X as an argument.\n",
            "  z = fn(h)\n"
          ]
        },
        {
          "output_type": "stream",
          "name": "stdout",
          "text": [
            "torch.Size([10000, 784])\n",
            "torch.Size([10000, 10])\n",
            "f1 score: 0.9267\n",
            "Epoch loss: 0.260899\n",
            "Val loss: 0.278494\n",
            "Epoch 76\n"
          ]
        },
        {
          "output_type": "stream",
          "name": "stderr",
          "text": [
            "<ipython-input-10-e44211bf9fb2>:44: UserWarning: Implicit dimension choice for softmax has been deprecated. Change the call to include dim=X as an argument.\n",
            "  z = fn(h)\n"
          ]
        },
        {
          "output_type": "stream",
          "name": "stdout",
          "text": [
            "torch.Size([10000, 784])\n",
            "torch.Size([10000, 10])\n",
            "f1 score: 0.9265\n",
            "Epoch loss: 0.260687\n",
            "Val loss: 0.278740\n",
            "Epoch 77\n"
          ]
        },
        {
          "output_type": "stream",
          "name": "stderr",
          "text": [
            "<ipython-input-10-e44211bf9fb2>:44: UserWarning: Implicit dimension choice for softmax has been deprecated. Change the call to include dim=X as an argument.\n",
            "  z = fn(h)\n"
          ]
        },
        {
          "output_type": "stream",
          "name": "stdout",
          "text": [
            "torch.Size([10000, 784])\n",
            "torch.Size([10000, 10])\n",
            "f1 score: 0.9264\n",
            "Epoch loss: 0.260478\n",
            "Val loss: 0.278985\n",
            "Epoch 78\n"
          ]
        },
        {
          "output_type": "stream",
          "name": "stderr",
          "text": [
            "<ipython-input-10-e44211bf9fb2>:44: UserWarning: Implicit dimension choice for softmax has been deprecated. Change the call to include dim=X as an argument.\n",
            "  z = fn(h)\n"
          ]
        },
        {
          "output_type": "stream",
          "name": "stdout",
          "text": [
            "torch.Size([10000, 784])\n",
            "torch.Size([10000, 10])\n",
            "f1 score: 0.9265\n",
            "Epoch loss: 0.260273\n",
            "Val loss: 0.279230\n",
            "Epoch 79\n"
          ]
        },
        {
          "output_type": "stream",
          "name": "stderr",
          "text": [
            "<ipython-input-10-e44211bf9fb2>:44: UserWarning: Implicit dimension choice for softmax has been deprecated. Change the call to include dim=X as an argument.\n",
            "  z = fn(h)\n"
          ]
        },
        {
          "output_type": "stream",
          "name": "stdout",
          "text": [
            "torch.Size([10000, 784])\n",
            "torch.Size([10000, 10])\n",
            "f1 score: 0.9264\n",
            "Epoch loss: 0.260071\n",
            "Val loss: 0.279474\n"
          ]
        },
        {
          "output_type": "stream",
          "name": "stderr",
          "text": [
            "<ipython-input-10-e44211bf9fb2>:44: UserWarning: Implicit dimension choice for softmax has been deprecated. Change the call to include dim=X as an argument.\n",
            "  z = fn(h)\n"
          ]
        },
        {
          "output_type": "display_data",
          "data": {
            "text/plain": [
              "<Figure size 640x480 with 1 Axes>"
            ],
            "image/png": "[encoded data removed]"
          },
          "metadata": {}
        }
      ]
    },
    {
      "cell_type": "code",
      "source": [
        "x_pred=model_3_1.predict(test_fts)\n",
        "import numpy as np\n",
        "\n",
        "matches = [1 if a == b else 0 for a, b in zip(x_pred, test_labels)]\n",
        "total_matches = sum(matches)\n",
        "\n",
        "print(f\"Accuracy: {total_matches/10000:.4f}%\")"
      ],
      "metadata": {
        "colab": {
          "base_uri": "https://localhost:8080/"
        },
        "id": "toYtfzGd_pkC",
        "outputId": "e2f680dd-6918-4675-c878-2d57f340e377"
      },
      "execution_count": 132,
      "outputs": [
        {
          "output_type": "stream",
          "name": "stdout",
          "text": [
            "torch.Size([10000, 784])\n",
            "torch.Size([10000, 10])\n",
            "Accuracy: 0.9264%\n"
          ]
        },
        {
          "output_type": "stream",
          "name": "stderr",
          "text": [
            "<ipython-input-10-e44211bf9fb2>:44: UserWarning: Implicit dimension choice for softmax has been deprecated. Change the call to include dim=X as an argument.\n",
            "  z = fn(h)\n"
          ]
        }
      ]
    }
  ]
}